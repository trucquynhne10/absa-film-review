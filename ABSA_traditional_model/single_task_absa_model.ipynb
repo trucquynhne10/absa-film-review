{
  "metadata": {
    "kernelspec": {
      "name": "python3",
      "display_name": "Python 3",
      "language": "python"
    },
    "language_info": {
      "name": "python",
      "version": "3.10.14",
      "mimetype": "text/x-python",
      "codemirror_mode": {
        "name": "ipython",
        "version": 3
      },
      "pygments_lexer": "ipython3",
      "nbconvert_exporter": "python",
      "file_extension": ".py"
    },
    "accelerator": "GPU",
    "colab": {
      "gpuType": "T4",
      "provenance": []
    },
    "kaggle": {
      "accelerator": "nvidiaTeslaT4",
      "dataSources": [
        {
          "sourceId": 10204859,
          "sourceType": "datasetVersion",
          "datasetId": 6306346
        },
        {
          "sourceId": 10206047,
          "sourceType": "datasetVersion",
          "datasetId": 6307222
        }
      ],
      "dockerImageVersionId": 30805,
      "isInternetEnabled": true,
      "language": "python",
      "sourceType": "notebook",
      "isGpuEnabled": true
    }
  },
  "nbformat_minor": 0,
  "nbformat": 4,
  "cells": [
    {
      "cell_type": "code",
      "source": [
        "from google.colab import drive\n",
        "drive.mount('/content/drive')"
      ],
      "metadata": {
        "colab": {
          "base_uri": "https://localhost:8080/"
        },
        "id": "Pb6eF_luByq2",
        "outputId": "55a779be-bfeb-4550-cfaa-57abd35137da"
      },
      "outputs": [
        {
          "output_type": "stream",
          "name": "stdout",
          "text": [
            "Drive already mounted at /content/drive; to attempt to forcibly remount, call drive.mount(\"/content/drive\", force_remount=True).\n"
          ]
        }
      ],
      "execution_count": null
    },
    {
      "cell_type": "code",
      "source": [
        "import pandas as pd\n",
        "import re\n",
        "import numpy as np\n",
        "import tensorflow as tf\n",
        "from tensorflow.keras import Input\n",
        "from keras.layers import Dense, Dropout, Concatenate\n",
        "from keras.layers import LSTM, Embedding, Bidirectional, GRU\n",
        "from keras.layers import SpatialDropout1D, Conv1D, GlobalAveragePooling1D, GlobalMaxPooling1D\n",
        "from sklearn.preprocessing import MinMaxScaler\n",
        "from sklearn.metrics import mean_squared_error\n",
        "from tensorflow import keras\n",
        "import matplotlib.pyplot as plt\n",
        "from keras.initializers import Constant\n",
        "from tensorflow.keras.preprocessing.sequence import pad_sequences\n",
        "from tensorflow.keras.preprocessing.text import Tokenizer\n",
        "from keras.losses import BinaryCrossentropy, CategoricalCrossentropy\n",
        "import pickle\n",
        "from tensorflow.keras.optimizers import Adam\n",
        "from sklearn.metrics import classification_report\n",
        "import collections\n",
        "from sklearn.utils.class_weight import compute_class_weight\n",
        "from gensim import models"
      ],
      "metadata": {
        "id": "hqlBBODHCGQZ",
        "trusted": true,
        "execution": {
          "iopub.status.busy": "2024-12-16T02:51:13.915202Z",
          "iopub.execute_input": "2024-12-16T02:51:13.915571Z",
          "iopub.status.idle": "2024-12-16T02:51:36.879541Z",
          "shell.execute_reply.started": "2024-12-16T02:51:13.915512Z",
          "shell.execute_reply": "2024-12-16T02:51:36.878893Z"
        }
      },
      "outputs": [],
      "execution_count": null
    },
    {
      "cell_type": "code",
      "source": [
        "df_train = pd.read_csv(\"/kaggle/input/datasetfull/DataProcessed-20241215T075659Z-001/DataProcessed/train_processed.csv\")\n",
        "df_val = pd.read_csv(\"/kaggle/input/datasetfull/DataProcessed-20241215T075659Z-001/DataProcessed/dev_processed.csv\")\n",
        "df_test = pd.read_csv(\"/kaggle/input/datasetfull/DataProcessed-20241215T075659Z-001/DataProcessed/test_processed.csv\")"
      ],
      "metadata": {
        "trusted": true,
        "execution": {
          "iopub.status.busy": "2024-12-16T02:51:36.881372Z",
          "iopub.execute_input": "2024-12-16T02:51:36.882312Z",
          "iopub.status.idle": "2024-12-16T02:51:36.990592Z",
          "shell.execute_reply.started": "2024-12-16T02:51:36.882268Z",
          "shell.execute_reply": "2024-12-16T02:51:36.989907Z"
        },
        "id": "VB2n4PpC3w-y"
      },
      "outputs": [],
      "execution_count": null
    },
    {
      "cell_type": "code",
      "source": [
        "# df_val = df_val.drop(columns='Unnamed: 0')\n",
        "df_train = df_train.drop(columns='Unnamed: 0')\n",
        "# df_test = df_test.drop(columns='Unnamed: 0')"
      ],
      "metadata": {
        "trusted": true,
        "execution": {
          "iopub.status.busy": "2024-12-16T02:51:36.991632Z",
          "iopub.execute_input": "2024-12-16T02:51:36.991892Z",
          "iopub.status.idle": "2024-12-16T02:51:37.002889Z",
          "shell.execute_reply.started": "2024-12-16T02:51:36.991867Z",
          "shell.execute_reply": "2024-12-16T02:51:37.001962Z"
        },
        "id": "qJkoqbEm3w-z"
      },
      "outputs": [],
      "execution_count": null
    },
    {
      "cell_type": "code",
      "source": [
        "cmt_train = df_train['processed_cmt'].astype('str').values\n",
        "cmt_val = df_val['processed_cmt'].astype('str').values\n",
        "cmt_test = df_test['processed_cmt'].astype('str').values"
      ],
      "metadata": {
        "trusted": true,
        "execution": {
          "iopub.status.busy": "2024-12-16T02:51:37.004579Z",
          "iopub.execute_input": "2024-12-16T02:51:37.004841Z",
          "iopub.status.idle": "2024-12-16T02:51:37.015266Z",
          "shell.execute_reply.started": "2024-12-16T02:51:37.004816Z",
          "shell.execute_reply": "2024-12-16T02:51:37.014595Z"
        },
        "id": "vi-sOw6O3w-z"
      },
      "outputs": [],
      "execution_count": null
    },
    {
      "cell_type": "markdown",
      "source": [
        "### Load label"
      ],
      "metadata": {
        "id": "oluqXLY13w-z"
      }
    },
    {
      "cell_type": "code",
      "source": [
        "label_sentiment_train = pickle.load(open('/kaggle/input/datasetfull/Label-20241215T075702Z-001/Label/label_sentiment_train.pkl', 'rb'))\n",
        "label_sentiment_val = pickle.load(open('/kaggle/input/labeling/Label/label_sentiment_val.pkl', 'rb'))\n",
        "label_sentiment_test = pickle.load(open('/kaggle/input/datasetfull/Label-20241215T075702Z-001/Label/label_sentiment_test.pkl', 'rb'))\n"
      ],
      "metadata": {
        "trusted": true,
        "execution": {
          "iopub.status.busy": "2024-12-16T03:04:05.379413Z",
          "iopub.execute_input": "2024-12-16T03:04:05.380286Z",
          "iopub.status.idle": "2024-12-16T03:04:05.397762Z",
          "shell.execute_reply.started": "2024-12-16T03:04:05.380252Z",
          "shell.execute_reply": "2024-12-16T03:04:05.397139Z"
        },
        "id": "C-2ExY4A3w-0"
      },
      "outputs": [],
      "execution_count": null
    },
    {
      "cell_type": "code",
      "source": [
        "label_aspect_train = pickle.load(open('/kaggle/input/datasetfull/Label-20241215T075702Z-001/Label/label_aspect_train.pkl', 'rb'))\n",
        "label_aspect_val = pickle.load(open('/kaggle/input/datasetfull/Label-20241215T075702Z-001/Label/label_aspect_val.pkl', 'rb'))\n",
        "label_aspect_test = pickle.load(open('/kaggle/input/datasetfull/Label-20241215T075702Z-001/Label/label_aspect_test.pkl', 'rb'))"
      ],
      "metadata": {
        "trusted": true,
        "execution": {
          "iopub.status.busy": "2024-12-16T03:04:08.397521Z",
          "iopub.execute_input": "2024-12-16T03:04:08.397915Z",
          "iopub.status.idle": "2024-12-16T03:04:08.406182Z",
          "shell.execute_reply.started": "2024-12-16T03:04:08.397883Z",
          "shell.execute_reply": "2024-12-16T03:04:08.405358Z"
        },
        "id": "swmyEUZZ3w-1"
      },
      "outputs": [],
      "execution_count": null
    },
    {
      "cell_type": "code",
      "source": [
        "path = \"/content/drive/MyDrive/ABSA\"\n",
        "path_model = \"/content/drive/MyDrive/ABSA/\""
      ],
      "metadata": {
        "id": "L7r2WUeCC4oD"
      },
      "outputs": [],
      "execution_count": null
    },
    {
      "cell_type": "code",
      "source": [
        "df_train = pd.read_csv(path + \"/DataProcessed/train_processed.csv\")\n",
        "df_test = pd.read_csv(path + \"/DataProcessed/test_processed.csv\")\n",
        "df_val  = pd.read_csv(path + \"/DataProcessed/dev_processed.csv\")"
      ],
      "metadata": {
        "id": "uBkB55nnECM0"
      },
      "outputs": [],
      "execution_count": null
    },
    {
      "cell_type": "code",
      "source": [
        "df_train['character'] = df_train['character'].replace({'P': 2, 'O': 0, 'N': 1, 'X': -1, 'x': -1})\n",
        "df_train['content'] = df_train['content'].replace({'P': 2, 'O': 0, 'N': 1, 'X': -1, 'x': -1})\n",
        "df_train['scene'] = df_train['scene'].replace({'P': 2, 'O': 0, 'N': 1, 'X': -1, 'x': -1})\n",
        "df_train['sound'] = df_train['sound'].replace({'P': 2, 'O': 0, 'N': 1, 'X': -1, 'x': -1})\n",
        "\n",
        "df_test['character'] = df_test['character'].replace({'P': 2, 'O': 0, 'N': 1, 'X': -1})\n",
        "df_test['content'] = df_test['content'].replace({'P': 2, 'O': 0, 'N': 1, 'X': -1})\n",
        "df_test['scene'] = df_test['scene'].replace({'P': 2, 'O': 0, 'N': 1, 'X': -1})\n",
        "df_test['sound'] = df_test['sound'].replace({'P': 2, 'O': 0, 'N': 1, 'X': -1})\n",
        "\n",
        "df_val['character'] = df_val['character'].replace({'P': 2, 'O': 0, 'N': 1, 'X': -1})\n",
        "df_val['content'] = df_val['content'].replace({'P': 2, 'O': 0, 'N': 1, 'X': -1})\n",
        "df_val['scene'] = df_val['scene'].replace({'P': 2, 'O': 0, 'N': 1, 'X': -1})\n",
        "df_val['sound'] = df_val['sound'].replace({'P': 2, 'O': 0, 'N': 1, 'X': -1})\n",
        "\n"
      ],
      "metadata": {
        "id": "YZUgbPkpH3bV",
        "trusted": true,
        "execution": {
          "iopub.status.busy": "2024-12-16T03:05:00.729642Z",
          "iopub.execute_input": "2024-12-16T03:05:00.730012Z",
          "iopub.status.idle": "2024-12-16T03:05:00.757643Z",
          "shell.execute_reply.started": "2024-12-16T03:05:00.729982Z",
          "shell.execute_reply": "2024-12-16T03:05:00.756817Z"
        },
        "outputId": "e13ba939-6d93-4851-8257-e179921333dd"
      },
      "outputs": [
        {
          "name": "stderr",
          "text": "/tmp/ipykernel_23/3817513826.py:1: FutureWarning: Downcasting behavior in `replace` is deprecated and will be removed in a future version. To retain the old behavior, explicitly call `result.infer_objects(copy=False)`. To opt-in to the future behavior, set `pd.set_option('future.no_silent_downcasting', True)`\n  df_train['character'] = df_train['character'].replace({'P': 2, 'O': 0, 'N': 1, 'X': -1, 'x': -1})\n/tmp/ipykernel_23/3817513826.py:2: FutureWarning: Downcasting behavior in `replace` is deprecated and will be removed in a future version. To retain the old behavior, explicitly call `result.infer_objects(copy=False)`. To opt-in to the future behavior, set `pd.set_option('future.no_silent_downcasting', True)`\n  df_train['content'] = df_train['content'].replace({'P': 2, 'O': 0, 'N': 1, 'X': -1, 'x': -1})\n/tmp/ipykernel_23/3817513826.py:3: FutureWarning: Downcasting behavior in `replace` is deprecated and will be removed in a future version. To retain the old behavior, explicitly call `result.infer_objects(copy=False)`. To opt-in to the future behavior, set `pd.set_option('future.no_silent_downcasting', True)`\n  df_train['scene'] = df_train['scene'].replace({'P': 2, 'O': 0, 'N': 1, 'X': -1, 'x': -1})\n/tmp/ipykernel_23/3817513826.py:4: FutureWarning: Downcasting behavior in `replace` is deprecated and will be removed in a future version. To retain the old behavior, explicitly call `result.infer_objects(copy=False)`. To opt-in to the future behavior, set `pd.set_option('future.no_silent_downcasting', True)`\n  df_train['sound'] = df_train['sound'].replace({'P': 2, 'O': 0, 'N': 1, 'X': -1, 'x': -1})\n/tmp/ipykernel_23/3817513826.py:6: FutureWarning: Downcasting behavior in `replace` is deprecated and will be removed in a future version. To retain the old behavior, explicitly call `result.infer_objects(copy=False)`. To opt-in to the future behavior, set `pd.set_option('future.no_silent_downcasting', True)`\n  df_test['character'] = df_test['character'].replace({'P': 2, 'O': 0, 'N': 1, 'X': -1})\n/tmp/ipykernel_23/3817513826.py:7: FutureWarning: Downcasting behavior in `replace` is deprecated and will be removed in a future version. To retain the old behavior, explicitly call `result.infer_objects(copy=False)`. To opt-in to the future behavior, set `pd.set_option('future.no_silent_downcasting', True)`\n  df_test['content'] = df_test['content'].replace({'P': 2, 'O': 0, 'N': 1, 'X': -1})\n/tmp/ipykernel_23/3817513826.py:8: FutureWarning: Downcasting behavior in `replace` is deprecated and will be removed in a future version. To retain the old behavior, explicitly call `result.infer_objects(copy=False)`. To opt-in to the future behavior, set `pd.set_option('future.no_silent_downcasting', True)`\n  df_test['scene'] = df_test['scene'].replace({'P': 2, 'O': 0, 'N': 1, 'X': -1})\n/tmp/ipykernel_23/3817513826.py:9: FutureWarning: Downcasting behavior in `replace` is deprecated and will be removed in a future version. To retain the old behavior, explicitly call `result.infer_objects(copy=False)`. To opt-in to the future behavior, set `pd.set_option('future.no_silent_downcasting', True)`\n  df_test['sound'] = df_test['sound'].replace({'P': 2, 'O': 0, 'N': 1, 'X': -1})\n/tmp/ipykernel_23/3817513826.py:11: FutureWarning: Downcasting behavior in `replace` is deprecated and will be removed in a future version. To retain the old behavior, explicitly call `result.infer_objects(copy=False)`. To opt-in to the future behavior, set `pd.set_option('future.no_silent_downcasting', True)`\n  df_val['character'] = df_val['character'].replace({'P': 2, 'O': 0, 'N': 1, 'X': -1})\n/tmp/ipykernel_23/3817513826.py:12: FutureWarning: Downcasting behavior in `replace` is deprecated and will be removed in a future version. To retain the old behavior, explicitly call `result.infer_objects(copy=False)`. To opt-in to the future behavior, set `pd.set_option('future.no_silent_downcasting', True)`\n  df_val['content'] = df_val['content'].replace({'P': 2, 'O': 0, 'N': 1, 'X': -1})\n/tmp/ipykernel_23/3817513826.py:13: FutureWarning: Downcasting behavior in `replace` is deprecated and will be removed in a future version. To retain the old behavior, explicitly call `result.infer_objects(copy=False)`. To opt-in to the future behavior, set `pd.set_option('future.no_silent_downcasting', True)`\n  df_val['scene'] = df_val['scene'].replace({'P': 2, 'O': 0, 'N': 1, 'X': -1})\n/tmp/ipykernel_23/3817513826.py:14: FutureWarning: Downcasting behavior in `replace` is deprecated and will be removed in a future version. To retain the old behavior, explicitly call `result.infer_objects(copy=False)`. To opt-in to the future behavior, set `pd.set_option('future.no_silent_downcasting', True)`\n  df_val['sound'] = df_val['sound'].replace({'P': 2, 'O': 0, 'N': 1, 'X': -1})\n",
          "output_type": "stream"
        }
      ],
      "execution_count": null
    },
    {
      "cell_type": "markdown",
      "source": [
        "Get label"
      ],
      "metadata": {
        "id": "B06XwlhOEl1C"
      }
    },
    {
      "cell_type": "code",
      "source": [
        "def get_label_stage_1(df):\n",
        "  # input: dataframe contains label encoded 0, 1, 2, 3\n",
        "  # output:\n",
        "  # 1: a binary array to show whether contains that aspect\n",
        "  # 2: a three dimension array to show the sentiment of that aspect\n",
        "\n",
        "  # label 1, detect xem co\n",
        "  # detect xem co aspect do trong cau hay khong.\n",
        "  is_character = df.character.replace({-1:0, 2:1, 0:1})\n",
        "  is_content = df.content.replace({-1:0, 2:1, 0:1})\n",
        "  is_scene = df.scene.replace({-1:0, 2:1, 0:1})\n",
        "  is_sound = df.sound.replace({-1:0, 2:1, 0:1})\n",
        "\n",
        "\n",
        "  dict = {\n",
        "          'is_character': is_character,\n",
        "          'is_content': is_content,\n",
        "          'is_scene': is_scene,\n",
        "          'is_sound': is_sound,\n",
        "         }\n",
        "  df_aspect = pd.DataFrame(dict)\n",
        "\n",
        "  # return df_aspect.to_numpy()\n",
        "  return df_aspect\n",
        "\n",
        "\n",
        "def get_index_label(label_stage_df, aspect):\n",
        "  return [indx_ for indx_ in label_stage_df[label_stage_df['is_{}'.format(aspect)]==1].index.values if indx_ != 0]\n",
        "\n",
        "def get_list_index_label(label_stage_df, lst_aspect):\n",
        "\n",
        "  lst_indx_label = {}\n",
        "  for aspect in lst_aspect:\n",
        "    lst_indx_label[aspect] = get_index_label(label_stage_df, aspect)\n",
        "  return lst_indx_label\n",
        "\n",
        "def get_data_stage_2(lst_indx_label, df):\n",
        "\n",
        "  data = {}\n",
        "  for aspect, indx in lst_indx_label.items():\n",
        "    data[aspect] = df.iloc[indx]\n",
        "\n",
        "  return data\n",
        "\n",
        "def get_label_stage_2(df_input):\n",
        "\n",
        "  df_stage_2 = df_input.copy()\n",
        "\n",
        "  # lay tung dataset cua tung khia canh truyen vao, num_classes = 3\n",
        "  y_character = tf.keras.utils.to_categorical(df_stage_2['character'].character, num_classes = 3)\n",
        "  y_content = tf.keras.utils.to_categorical(df_stage_2['content'].content, num_classes = 3)\n",
        "  y_scene = tf.keras.utils.to_categorical(df_stage_2['scene'].scene, num_classes = 3)\n",
        "  y_sound = tf.keras.utils.to_categorical(df_stage_2['sound'].sound, num_classes = 3)\n",
        "\n",
        "  dict2 = {'character': y_character,\n",
        "          'content': y_content,\n",
        "          'scene': y_scene,\n",
        "          'sound': y_sound,\n",
        "        }\n",
        "\n",
        "  del df_stage_2\n",
        "  return dict2\n",
        "\n",
        "def get_cmt(dict_df, lst_aspect):\n",
        "  dict_cmt = {}\n",
        "  for aspect in lst_aspect:\n",
        "    dict_cmt[aspect] = dict_df[aspect]['processed_cmt'].values\n",
        "  return dict_cmt\n",
        "\n",
        "def get_array_label(df):\n",
        "  label_stage_1_df = get_label_stage_1(df)\n",
        "\n",
        "  lst_aspect = [col for col in df.columns.values if col!='Cmt' if col!='processed_cmt']\n",
        "  lst_indx = get_list_index_label(label_stage_1_df, lst_aspect)\n",
        "\n",
        "  df_temp = get_data_stage_2(lst_indx, df)\n",
        "  cmt_df = get_cmt(df_temp, lst_aspect)\n",
        "\n",
        "  label_stage_2 = get_label_stage_2(df_temp)\n",
        "  del label_stage_1_df, lst_aspect, df_temp\n",
        "  return cmt_df, label_stage_2\n"
      ],
      "metadata": {
        "id": "poHmiKHiEY08",
        "trusted": true,
        "execution": {
          "iopub.status.busy": "2024-12-16T03:05:06.918861Z",
          "iopub.execute_input": "2024-12-16T03:05:06.919190Z",
          "iopub.status.idle": "2024-12-16T03:05:06.929972Z",
          "shell.execute_reply.started": "2024-12-16T03:05:06.919161Z",
          "shell.execute_reply": "2024-12-16T03:05:06.928977Z"
        }
      },
      "outputs": [],
      "execution_count": null
    },
    {
      "cell_type": "code",
      "source": [
        "# Chọn các cột mong muốn từ DataFrame\n",
        "label_sentiment_train = df_train[['character', 'content', 'scene', 'sound']]\n",
        "label_sentiment_val = df_val[['character', 'content', 'scene', 'sound']]\n",
        "label_sentiment_test = df_test[['character', 'content', 'scene', 'sound']]\n",
        "\n",
        "# # Lưu vào file .pkl\n",
        "# label_sentiment_train.to_pickle(path + '/Label/label_sentiment_train.pkl')\n",
        "# label_sentiment_val.to_pickle(path + '/Label/label_sentiment_val.pkl')\n",
        "# label_sentiment_test.to_pickle(path + '/Label/label_sentiment_test.pkl')\n",
        "\n",
        "print(\"Đã lưu các file pickle thành công.\")\n"
      ],
      "metadata": {
        "colab": {
          "base_uri": "https://localhost:8080/"
        },
        "id": "1OGTJIpOXSoz",
        "outputId": "28ffc961-19d5-4a07-a183-405266fc77ad",
        "trusted": true,
        "execution": {
          "iopub.status.busy": "2024-12-16T03:05:14.261569Z",
          "iopub.execute_input": "2024-12-16T03:05:14.261932Z",
          "iopub.status.idle": "2024-12-16T03:05:14.271194Z",
          "shell.execute_reply.started": "2024-12-16T03:05:14.261900Z",
          "shell.execute_reply": "2024-12-16T03:05:14.270255Z"
        }
      },
      "outputs": [
        {
          "name": "stdout",
          "text": "Đã lưu các file pickle thành công.\n",
          "output_type": "stream"
        }
      ],
      "execution_count": null
    },
    {
      "cell_type": "code",
      "source": [
        "label_stage_1 = get_label_stage_1(df_train)\n",
        "lst_aspect = [col for col in df_train.columns.values if col!='Cmt' if col!='processed_cmt']\n",
        "df_temp = get_data_stage_2(get_list_index_label(label_stage_1, lst_aspect), df_train)\n",
        "df_2 = get_label_stage_2(df_temp)\n",
        "df_2\n"
      ],
      "metadata": {
        "colab": {
          "base_uri": "https://localhost:8080/"
        },
        "id": "4g6aGY3wK98s",
        "outputId": "4c04f6d0-69e3-4199-e49f-53b6c2eabd13",
        "trusted": true,
        "execution": {
          "iopub.status.busy": "2024-12-16T03:05:21.433597Z",
          "iopub.execute_input": "2024-12-16T03:05:21.434433Z",
          "iopub.status.idle": "2024-12-16T03:05:21.451354Z",
          "shell.execute_reply.started": "2024-12-16T03:05:21.434403Z",
          "shell.execute_reply": "2024-12-16T03:05:21.450620Z"
        }
      },
      "outputs": [
        {
          "execution_count": 56,
          "output_type": "execute_result",
          "data": {
            "text/plain": "{'character': array([[0., 0., 1.],\n        [0., 1., 0.],\n        [0., 1., 0.],\n        ...,\n        [0., 0., 1.],\n        [0., 0., 1.],\n        [1., 0., 0.]]),\n 'content': array([[1., 0., 0.],\n        [0., 0., 1.],\n        [1., 0., 0.],\n        ...,\n        [0., 1., 0.],\n        [1., 0., 0.],\n        [1., 0., 0.]]),\n 'scene': array([[1., 0., 0.],\n        [0., 0., 1.],\n        [1., 0., 0.],\n        ...,\n        [0., 0., 1.],\n        [0., 1., 0.],\n        [1., 0., 0.]]),\n 'sound': array([[0., 1., 0.],\n        [0., 1., 0.],\n        [0., 0., 1.],\n        ...,\n        [1., 0., 0.],\n        [0., 1., 0.],\n        [0., 1., 0.]])}"
          },
          "metadata": {}
        }
      ],
      "execution_count": null
    },
    {
      "cell_type": "code",
      "source": [
        "label_aspect_train = get_label_stage_1(df_train)\n",
        "label_aspect_val = get_label_stage_1(df_val)\n",
        "label_aspect_test = get_label_stage_1(df_test)\n",
        "label_aspect_train.info()"
      ],
      "metadata": {
        "colab": {
          "base_uri": "https://localhost:8080/"
        },
        "id": "lLmvAoxySG1W",
        "outputId": "7538ebe1-a011-4966-f97c-c5416bb1e308"
      },
      "outputs": [
        {
          "output_type": "stream",
          "name": "stdout",
          "text": [
            "<class 'pandas.core.frame.DataFrame'>\n",
            "RangeIndex: 3806 entries, 0 to 3805\n",
            "Data columns (total 4 columns):\n",
            " #   Column        Non-Null Count  Dtype\n",
            "---  ------        --------------  -----\n",
            " 0   is_character  3806 non-null   int64\n",
            " 1   is_content    3806 non-null   int64\n",
            " 2   is_scene      3806 non-null   int64\n",
            " 3   is_sound      3806 non-null   int64\n",
            "dtypes: int64(4)\n",
            "memory usage: 119.1 KB\n"
          ]
        }
      ],
      "execution_count": null
    },
    {
      "cell_type": "code",
      "source": [
        "label_aspect_test.to_pickle(path + '/Label/label_aspect_test.pkl')\n",
        "label_aspect_train.to_pickle(path + '/Label/label_aspect_train.pkl')\n",
        "label_aspect_val.to_pickle(path + '/Label/label_aspect_val.pkl')"
      ],
      "metadata": {
        "id": "Rvk6VkbwuF6J"
      },
      "outputs": [],
      "execution_count": null
    },
    {
      "cell_type": "code",
      "source": [
        "cmt_train, label_sentiment_train = get_array_label(df_train)\n",
        "cmt_val, label_sentiment_val = get_array_label(df_val)\n",
        "cmt_test, label_sentiment_test = get_array_label(df_test)\n",
        "\n"
      ],
      "metadata": {
        "id": "vszvUc4TSLIY",
        "trusted": true,
        "execution": {
          "iopub.status.busy": "2024-12-16T03:05:25.315007Z",
          "iopub.execute_input": "2024-12-16T03:05:25.315895Z",
          "iopub.status.idle": "2024-12-16T03:05:25.337667Z",
          "shell.execute_reply.started": "2024-12-16T03:05:25.315860Z",
          "shell.execute_reply": "2024-12-16T03:05:25.337015Z"
        }
      },
      "outputs": [],
      "execution_count": null
    },
    {
      "cell_type": "markdown",
      "source": [
        "# Create word embedding matrix stage 1"
      ],
      "metadata": {
        "id": "xNSl1n3xS05q"
      }
    },
    {
      "cell_type": "code",
      "source": [
        "def get_tokenize(train, val, test):\n",
        "\n",
        "  tok = Tokenizer(filters='')\n",
        "  tok.fit_on_texts(train)\n",
        "  tok.fit_on_texts(val)\n",
        "  tok.fit_on_texts(test)\n",
        "\n",
        "  tokenized_train = tok.texts_to_sequences(train)\n",
        "  tokenized_val = tok.texts_to_sequences(val)\n",
        "  tokenized_test = tok.texts_to_sequences(test)\n",
        "\n",
        "  return tok, tokenized_train, tokenized_val, tokenized_test"
      ],
      "metadata": {
        "id": "e9s7wLoES2Le",
        "trusted": true,
        "execution": {
          "iopub.status.busy": "2024-12-16T02:52:22.425841Z",
          "iopub.execute_input": "2024-12-16T02:52:22.426135Z",
          "iopub.status.idle": "2024-12-16T02:52:22.431152Z",
          "shell.execute_reply.started": "2024-12-16T02:52:22.426111Z",
          "shell.execute_reply": "2024-12-16T02:52:22.430068Z"
        }
      },
      "outputs": [],
      "execution_count": null
    },
    {
      "cell_type": "code",
      "source": [
        "def get_padded(max_len, tokenized_train, tokenized_val, tokenized_test):\n",
        "\n",
        "  padded_train = pad_sequences(tokenized_train, padding = 'post', maxlen = max_len)\n",
        "  padded_val = pad_sequences(tokenized_val, padding = 'post', maxlen = max_len)\n",
        "  padded_test = pad_sequences(tokenized_test, padding = 'post', maxlen = max_len)\n",
        "\n",
        "  return padded_train, padded_val, padded_test"
      ],
      "metadata": {
        "id": "bepXidM0S38-",
        "trusted": true,
        "execution": {
          "iopub.status.busy": "2024-12-16T02:52:22.905908Z",
          "iopub.execute_input": "2024-12-16T02:52:22.906208Z",
          "iopub.status.idle": "2024-12-16T02:52:22.910889Z",
          "shell.execute_reply.started": "2024-12-16T02:52:22.906182Z",
          "shell.execute_reply": "2024-12-16T02:52:22.910053Z"
        }
      },
      "outputs": [],
      "execution_count": null
    },
    {
      "cell_type": "code",
      "source": [
        "def get_embedding_matrix(embedding_dim, vocab_size, tok):\n",
        "\n",
        "  embed_matrix = np.zeros(shape=(vocab_size, embedding_dim))\n",
        "  for word, i in tok.word_index.items():\n",
        "    embed_vector = word_vec_dict.get(word)\n",
        "    if embed_vector is not None:\n",
        "        embed_matrix[i] = embed_vector\n",
        "\n",
        "  return embed_matrix"
      ],
      "metadata": {
        "id": "ViQA_IE5S5_w",
        "trusted": true,
        "execution": {
          "iopub.status.busy": "2024-12-16T02:52:23.736536Z",
          "iopub.execute_input": "2024-12-16T02:52:23.737367Z",
          "iopub.status.idle": "2024-12-16T02:52:23.741877Z",
          "shell.execute_reply.started": "2024-12-16T02:52:23.737333Z",
          "shell.execute_reply": "2024-12-16T02:52:23.740888Z"
        }
      },
      "outputs": [],
      "execution_count": null
    },
    {
      "cell_type": "code",
      "source": [
        "w2v_path = '/kaggle/input/datasetfull/word2vec-20241215T075705Z-001/word2vec/elmo_embeddings_large.txt'\n",
        "w2c_model = models.KeyedVectors.load_word2vec_format(w2v_path, binary = False)"
      ],
      "metadata": {
        "id": "m_dMEGHAcgFI",
        "trusted": true,
        "execution": {
          "iopub.status.busy": "2024-12-16T02:52:40.130146Z",
          "iopub.execute_input": "2024-12-16T02:52:40.130831Z",
          "iopub.status.idle": "2024-12-16T02:54:50.025102Z",
          "shell.execute_reply.started": "2024-12-16T02:52:40.130796Z",
          "shell.execute_reply": "2024-12-16T02:54:50.024288Z"
        }
      },
      "outputs": [],
      "execution_count": null
    },
    {
      "cell_type": "code",
      "source": [
        "# Truy cập trực tiếp các từ trong KeyedVectors\n",
        "vocab = w2c_model.key_to_index  # key_to_index thay thế cho vocab trong phiên bản mới\n",
        "word_vec_dict = {}\n",
        "\n",
        "for word in vocab:\n",
        "    word_vec_dict[word] = w2c_model.get_vector(word)\n"
      ],
      "metadata": {
        "id": "wS7AsjC9gj3h",
        "trusted": true,
        "execution": {
          "iopub.status.busy": "2024-12-16T02:54:50.026649Z",
          "iopub.execute_input": "2024-12-16T02:54:50.026990Z",
          "iopub.status.idle": "2024-12-16T02:54:50.303467Z",
          "shell.execute_reply.started": "2024-12-16T02:54:50.026960Z",
          "shell.execute_reply": "2024-12-16T02:54:50.302471Z"
        }
      },
      "outputs": [],
      "execution_count": null
    },
    {
      "cell_type": "code",
      "source": [
        "# Đảm bảo tất cả giá trị là chuỗi\n",
        "df_train['processed_cmt'] = df_train['processed_cmt'].astype(str)\n",
        "df_val['processed_cmt'] = df_val['processed_cmt'].astype(str)\n",
        "df_test['processed_cmt'] = df_test['processed_cmt'].astype(str)"
      ],
      "metadata": {
        "id": "-nEImPpB8CdX",
        "trusted": true,
        "execution": {
          "iopub.status.busy": "2024-12-16T02:54:50.304556Z",
          "iopub.execute_input": "2024-12-16T02:54:50.304840Z",
          "iopub.status.idle": "2024-12-16T02:54:50.311547Z",
          "shell.execute_reply.started": "2024-12-16T02:54:50.304814Z",
          "shell.execute_reply": "2024-12-16T02:54:50.310735Z"
        }
      },
      "outputs": [],
      "execution_count": null
    },
    {
      "cell_type": "code",
      "source": [
        "#tokenize stage 1\n",
        "tokenizer_aspect, tokenized_aspect_train, tokenized_aspect_val, tokenized_aspect_test = get_tokenize(df_train['processed_cmt'].values, df_val['processed_cmt'].values, df_test['processed_cmt'].values)\n",
        "\n",
        "max_len = 115\n",
        "#padding stage 1\n",
        "padded_aspect_train, padded_aspect_val, padded_aspect_test = get_padded(max_len, tokenized_aspect_train, tokenized_aspect_val, tokenized_aspect_test)\n",
        "\n",
        "embedding_dim = 1024\n",
        "#embedding matrix stage 1\n",
        "vocab_aspect_size = len(tokenizer_aspect.word_index)+1\n",
        "embedding_aspect_matrix = get_embedding_matrix(embedding_dim, vocab_aspect_size, tokenizer_aspect)"
      ],
      "metadata": {
        "id": "CvD3W0s2gmic",
        "trusted": true,
        "execution": {
          "iopub.status.busy": "2024-12-16T02:54:50.313098Z",
          "iopub.execute_input": "2024-12-16T02:54:50.313449Z",
          "iopub.status.idle": "2024-12-16T02:54:50.638801Z",
          "shell.execute_reply.started": "2024-12-16T02:54:50.313423Z",
          "shell.execute_reply": "2024-12-16T02:54:50.637757Z"
        }
      },
      "outputs": [],
      "execution_count": null
    },
    {
      "cell_type": "markdown",
      "source": [
        "# Model building"
      ],
      "metadata": {
        "id": "I6gVVxkM4z4i"
      }
    },
    {
      "cell_type": "code",
      "source": [
        "def bilstm_aspect(vocab_aspect_size, embedding_dim, max_len, embedding_aspect_matrix, padded_aspect_train, padded_aspect_val, label_aspect_train, label_aspect_val, epochs=70):\n",
        "\n",
        "  input = Input(shape=(max_len,))\n",
        "  embed = Embedding(input_dim=vocab_aspect_size,\n",
        "                  output_dim=embedding_dim,\n",
        "                  embeddings_initializer=Constant(embedding_aspect_matrix),\n",
        "                  input_length=max_len,\n",
        "                  trainable=True)(input)\n",
        "  lstm = Bidirectional(LSTM(units = 200, activation = 'tanh'))(embed)\n",
        "\n",
        "  # aspect\n",
        "  aspect_dense2 = Dense(128, activation='relu')(lstm)\n",
        "  aspect_dropout1 = Dropout(0.2)(aspect_dense2)\n",
        "  aspect_dense3 = Dense(64, activation='relu')(aspect_dropout1)\n",
        "  aspect_dense4 = Dense(32, activation='relu')(aspect_dense3)\n",
        "  aspect_dense5 = Dense(4, activation='sigmoid')(aspect_dense4)\n",
        "\n",
        "  aspect_model = tf.keras.Model(inputs = input, outputs = aspect_dense5)\n",
        "  aspect_model.compile(optimizer=Adam(learning_rate = 0.00001), loss='binary_crossentropy', metrics=['acc'])\n",
        "  callback = tf.keras.callbacks.EarlyStopping(monitor='val_loss', patience=5)\n",
        "\n",
        "  # Fit model\n",
        "  history = aspect_model.fit(x=padded_aspect_train,\n",
        "    y=label_aspect_train.to_numpy(),\n",
        "\n",
        "    validation_data=(padded_aspect_val,\n",
        "      label_aspect_val.to_numpy()),\n",
        "    batch_size = 128,\n",
        "    epochs=epochs,\n",
        "    callbacks = [callback],\n",
        "    verbose=1)\n",
        "\n",
        "  return aspect_model\n",
        "\n",
        "def bilstm_polarity(aspect, vocab_sentiment_size, embedding_dim, max_len, embedding_sentiment_matrix, padded_sentiment_train, padded_sentiment_val, label_sentiment_train, label_sentiment_val, epochs=70):\n",
        "\n",
        "  # polarity\n",
        "\n",
        "  input = Input(shape=(max_len,))\n",
        "  embed = Embedding(input_dim=vocab_sentiment_size[aspect],\n",
        "                  output_dim=embedding_dim,\n",
        "                  embeddings_initializer=Constant(embedding_sentiment_matrix[aspect]),\n",
        "                  input_length=max_len,\n",
        "                  trainable=True)(input)\n",
        "  lstm = Bidirectional(LSTM(units = 200, activation = 'tanh'))(embed)\n",
        "\n",
        "  sentiment_dense2 = Dense(128, activation='relu')(lstm)\n",
        "  sentiment_dropout1 = Dropout(0.2)(sentiment_dense2)\n",
        "  sentiment_dense3 = Dense(64, activation='relu')(sentiment_dropout1)\n",
        "  sentiment_dense4 = Dense(32, activation='relu')(sentiment_dense3)\n",
        "  out_sentiment = Dense(units = 3, activation = 'softmax')(sentiment_dense4)\n",
        "\n",
        "  sentiment_model[aspect] = tf.keras.Model(inputs = input, outputs = out_sentiment)\n",
        "  sentiment_model[aspect].compile(optimizer=Adam(learning_rate = 0.0001), loss='binary_crossentropy', metrics=['acc'])\n",
        "  callback = tf.keras.callbacks.EarlyStopping(monitor='val_loss', patience=3)\n",
        "\n",
        "  # Fit model\n",
        "\n",
        "  history = sentiment_model[aspect].fit(x=padded_sentiment_train[aspect],\n",
        "    y=label_sentiment_train[aspect],\n",
        "\n",
        "    validation_data=(padded_sentiment_val[aspect],\n",
        "      label_sentiment_val[aspect]),\n",
        "    batch_size = 128,\n",
        "    epochs=epochs,\n",
        "    callbacks = [callback],\n",
        "    verbose=1)\n",
        "\n",
        "\n",
        "  return sentiment_model[aspect]"
      ],
      "metadata": {
        "id": "EiBc5TZu4vcq",
        "trusted": true,
        "execution": {
          "iopub.status.busy": "2024-12-16T02:55:21.963309Z",
          "iopub.execute_input": "2024-12-16T02:55:21.963618Z",
          "iopub.status.idle": "2024-12-16T02:55:21.974331Z",
          "shell.execute_reply.started": "2024-12-16T02:55:21.963585Z",
          "shell.execute_reply": "2024-12-16T02:55:21.973387Z"
        }
      },
      "outputs": [],
      "execution_count": null
    },
    {
      "cell_type": "code",
      "source": [
        "label_aspect_train = label_aspect_train.astype('float')"
      ],
      "metadata": {
        "id": "bDItxBKXmzLN",
        "trusted": true,
        "execution": {
          "iopub.status.busy": "2024-12-16T02:55:25.493227Z",
          "iopub.execute_input": "2024-12-16T02:55:25.493561Z",
          "iopub.status.idle": "2024-12-16T02:55:25.498310Z",
          "shell.execute_reply.started": "2024-12-16T02:55:25.493530Z",
          "shell.execute_reply": "2024-12-16T02:55:25.497446Z"
        }
      },
      "outputs": [],
      "execution_count": null
    },
    {
      "cell_type": "code",
      "source": [
        "max_len=padded_aspect_train.shape[1]\n",
        "aspect_model = bilstm_aspect(vocab_aspect_size, embedding_dim, max_len, embedding_aspect_matrix, padded_aspect_train, padded_aspect_val, label_aspect_train, label_aspect_val)"
      ],
      "metadata": {
        "trusted": true,
        "execution": {
          "iopub.status.busy": "2024-12-16T02:56:50.872910Z",
          "iopub.execute_input": "2024-12-16T02:56:50.873541Z",
          "iopub.status.idle": "2024-12-16T02:59:44.358660Z",
          "shell.execute_reply.started": "2024-12-16T02:56:50.873509Z",
          "shell.execute_reply": "2024-12-16T02:59:44.357988Z"
        },
        "id": "B4VKr-Iw3w-9",
        "outputId": "6357e67d-a1b5-476a-bbf9-2262479c4fd3"
      },
      "outputs": [
        {
          "name": "stdout",
          "text": "Epoch 1/70\n\u001b[1m30/30\u001b[0m \u001b[32m━━━━━━━━━━━━━━━━━━━━\u001b[0m\u001b[37m\u001b[0m \u001b[1m7s\u001b[0m 85ms/step - acc: 0.1988 - loss: 0.6860 - val_acc: 0.2080 - val_loss: 0.6791\nEpoch 2/70\n\u001b[1m30/30\u001b[0m \u001b[32m━━━━━━━━━━━━━━━━━━━━\u001b[0m\u001b[37m\u001b[0m \u001b[1m2s\u001b[0m 74ms/step - acc: 0.2022 - loss: 0.6757 - val_acc: 0.2122 - val_loss: 0.6698\nEpoch 3/70\n\u001b[1m30/30\u001b[0m \u001b[32m━━━━━━━━━━━━━━━━━━━━\u001b[0m\u001b[37m\u001b[0m \u001b[1m2s\u001b[0m 74ms/step - acc: 0.2042 - loss: 0.6669 - val_acc: 0.2080 - val_loss: 0.6611\nEpoch 4/70\n\u001b[1m30/30\u001b[0m \u001b[32m━━━━━━━━━━━━━━━━━━━━\u001b[0m\u001b[37m\u001b[0m \u001b[1m2s\u001b[0m 74ms/step - acc: 0.2027 - loss: 0.6531 - val_acc: 0.2101 - val_loss: 0.6528\nEpoch 5/70\n\u001b[1m30/30\u001b[0m \u001b[32m━━━━━━━━━━━━━━━━━━━━\u001b[0m\u001b[37m\u001b[0m \u001b[1m2s\u001b[0m 74ms/step - acc: 0.1996 - loss: 0.6440 - val_acc: 0.2101 - val_loss: 0.6460\nEpoch 6/70\n\u001b[1m30/30\u001b[0m \u001b[32m━━━━━━━━━━━━━━━━━━━━\u001b[0m\u001b[37m\u001b[0m \u001b[1m2s\u001b[0m 74ms/step - acc: 0.2039 - loss: 0.6407 - val_acc: 0.2122 - val_loss: 0.6403\nEpoch 7/70\n\u001b[1m30/30\u001b[0m \u001b[32m━━━━━━━━━━━━━━━━━━━━\u001b[0m\u001b[37m\u001b[0m \u001b[1m2s\u001b[0m 74ms/step - acc: 0.2023 - loss: 0.6307 - val_acc: 0.2185 - val_loss: 0.6350\nEpoch 8/70\n\u001b[1m30/30\u001b[0m \u001b[32m━━━━━━━━━━━━━━━━━━━━\u001b[0m\u001b[37m\u001b[0m \u001b[1m2s\u001b[0m 74ms/step - acc: 0.2017 - loss: 0.6269 - val_acc: 0.2332 - val_loss: 0.6297\nEpoch 9/70\n\u001b[1m30/30\u001b[0m \u001b[32m━━━━━━━━━━━━━━━━━━━━\u001b[0m\u001b[37m\u001b[0m \u001b[1m2s\u001b[0m 75ms/step - acc: 0.2073 - loss: 0.6215 - val_acc: 0.2458 - val_loss: 0.6245\nEpoch 10/70\n\u001b[1m30/30\u001b[0m \u001b[32m━━━━━━━━━━━━━━━━━━━━\u001b[0m\u001b[37m\u001b[0m \u001b[1m2s\u001b[0m 75ms/step - acc: 0.2256 - loss: 0.6129 - val_acc: 0.2521 - val_loss: 0.6190\nEpoch 11/70\n\u001b[1m30/30\u001b[0m \u001b[32m━━━━━━━━━━━━━━━━━━━━\u001b[0m\u001b[37m\u001b[0m \u001b[1m2s\u001b[0m 75ms/step - acc: 0.2362 - loss: 0.6073 - val_acc: 0.2605 - val_loss: 0.6126\nEpoch 12/70\n\u001b[1m30/30\u001b[0m \u001b[32m━━━━━━━━━━━━━━━━━━━━\u001b[0m\u001b[37m\u001b[0m \u001b[1m2s\u001b[0m 75ms/step - acc: 0.2473 - loss: 0.6054 - val_acc: 0.2962 - val_loss: 0.6054\nEpoch 13/70\n\u001b[1m30/30\u001b[0m \u001b[32m━━━━━━━━━━━━━━━━━━━━\u001b[0m\u001b[37m\u001b[0m \u001b[1m2s\u001b[0m 75ms/step - acc: 0.2600 - loss: 0.5949 - val_acc: 0.3361 - val_loss: 0.5967\nEpoch 14/70\n\u001b[1m30/30\u001b[0m \u001b[32m━━━━━━━━━━━━━━━━━━━━\u001b[0m\u001b[37m\u001b[0m \u001b[1m2s\u001b[0m 76ms/step - acc: 0.3058 - loss: 0.5885 - val_acc: 0.3571 - val_loss: 0.5862\nEpoch 15/70\n\u001b[1m30/30\u001b[0m \u001b[32m━━━━━━━━━━━━━━━━━━━━\u001b[0m\u001b[37m\u001b[0m \u001b[1m2s\u001b[0m 76ms/step - acc: 0.3238 - loss: 0.5782 - val_acc: 0.3676 - val_loss: 0.5711\nEpoch 16/70\n\u001b[1m30/30\u001b[0m \u001b[32m━━━━━━━━━━━━━━━━━━━━\u001b[0m\u001b[37m\u001b[0m \u001b[1m2s\u001b[0m 77ms/step - acc: 0.3486 - loss: 0.5644 - val_acc: 0.3697 - val_loss: 0.5475\nEpoch 17/70\n\u001b[1m30/30\u001b[0m \u001b[32m━━━━━━━━━━━━━━━━━━━━\u001b[0m\u001b[37m\u001b[0m \u001b[1m2s\u001b[0m 77ms/step - acc: 0.3347 - loss: 0.5535 - val_acc: 0.3592 - val_loss: 0.5272\nEpoch 18/70\n\u001b[1m30/30\u001b[0m \u001b[32m━━━━━━━━━━━━━━━━━━━━\u001b[0m\u001b[37m\u001b[0m \u001b[1m2s\u001b[0m 77ms/step - acc: 0.3468 - loss: 0.5323 - val_acc: 0.3718 - val_loss: 0.5135\nEpoch 19/70\n\u001b[1m30/30\u001b[0m \u001b[32m━━━━━━━━━━━━━━━━━━━━\u001b[0m\u001b[37m\u001b[0m \u001b[1m2s\u001b[0m 78ms/step - acc: 0.3460 - loss: 0.5186 - val_acc: 0.3824 - val_loss: 0.5037\nEpoch 20/70\n\u001b[1m30/30\u001b[0m \u001b[32m━━━━━━━━━━━━━━━━━━━━\u001b[0m\u001b[37m\u001b[0m \u001b[1m2s\u001b[0m 77ms/step - acc: 0.3477 - loss: 0.5113 - val_acc: 0.3697 - val_loss: 0.4985\nEpoch 21/70\n\u001b[1m30/30\u001b[0m \u001b[32m━━━━━━━━━━━━━━━━━━━━\u001b[0m\u001b[37m\u001b[0m \u001b[1m2s\u001b[0m 78ms/step - acc: 0.3703 - loss: 0.4979 - val_acc: 0.3824 - val_loss: 0.4872\nEpoch 22/70\n\u001b[1m30/30\u001b[0m \u001b[32m━━━━━━━━━━━━━━━━━━━━\u001b[0m\u001b[37m\u001b[0m \u001b[1m2s\u001b[0m 78ms/step - acc: 0.3606 - loss: 0.4918 - val_acc: 0.3887 - val_loss: 0.4803\nEpoch 23/70\n\u001b[1m30/30\u001b[0m \u001b[32m━━━━━━━━━━━━━━━━━━━━\u001b[0m\u001b[37m\u001b[0m \u001b[1m2s\u001b[0m 79ms/step - acc: 0.3746 - loss: 0.4804 - val_acc: 0.3782 - val_loss: 0.4761\nEpoch 24/70\n\u001b[1m30/30\u001b[0m \u001b[32m━━━━━━━━━━━━━━━━━━━━\u001b[0m\u001b[37m\u001b[0m \u001b[1m2s\u001b[0m 79ms/step - acc: 0.3695 - loss: 0.4691 - val_acc: 0.3887 - val_loss: 0.4698\nEpoch 25/70\n\u001b[1m30/30\u001b[0m \u001b[32m━━━━━━━━━━━━━━━━━━━━\u001b[0m\u001b[37m\u001b[0m \u001b[1m2s\u001b[0m 79ms/step - acc: 0.3884 - loss: 0.4600 - val_acc: 0.4034 - val_loss: 0.4666\nEpoch 26/70\n\u001b[1m30/30\u001b[0m \u001b[32m━━━━━━━━━━━━━━━━━━━━\u001b[0m\u001b[37m\u001b[0m \u001b[1m2s\u001b[0m 79ms/step - acc: 0.3822 - loss: 0.4548 - val_acc: 0.4055 - val_loss: 0.4597\nEpoch 27/70\n\u001b[1m30/30\u001b[0m \u001b[32m━━━━━━━━━━━━━━━━━━━━\u001b[0m\u001b[37m\u001b[0m \u001b[1m2s\u001b[0m 79ms/step - acc: 0.3929 - loss: 0.4456 - val_acc: 0.4055 - val_loss: 0.4530\nEpoch 28/70\n\u001b[1m30/30\u001b[0m \u001b[32m━━━━━━━━━━━━━━━━━━━━\u001b[0m\u001b[37m\u001b[0m \u001b[1m2s\u001b[0m 80ms/step - acc: 0.3900 - loss: 0.4429 - val_acc: 0.4181 - val_loss: 0.4525\nEpoch 29/70\n\u001b[1m30/30\u001b[0m \u001b[32m━━━━━━━━━━━━━━━━━━━━\u001b[0m\u001b[37m\u001b[0m \u001b[1m2s\u001b[0m 80ms/step - acc: 0.3981 - loss: 0.4374 - val_acc: 0.4307 - val_loss: 0.4513\nEpoch 30/70\n\u001b[1m30/30\u001b[0m \u001b[32m━━━━━━━━━━━━━━━━━━━━\u001b[0m\u001b[37m\u001b[0m \u001b[1m2s\u001b[0m 80ms/step - acc: 0.4098 - loss: 0.4287 - val_acc: 0.4286 - val_loss: 0.4458\nEpoch 31/70\n\u001b[1m30/30\u001b[0m \u001b[32m━━━━━━━━━━━━━━━━━━━━\u001b[0m\u001b[37m\u001b[0m \u001b[1m2s\u001b[0m 80ms/step - acc: 0.4100 - loss: 0.4217 - val_acc: 0.4286 - val_loss: 0.4435\nEpoch 32/70\n\u001b[1m30/30\u001b[0m \u001b[32m━━━━━━━━━━━━━━━━━━━━\u001b[0m\u001b[37m\u001b[0m \u001b[1m2s\u001b[0m 81ms/step - acc: 0.4148 - loss: 0.4196 - val_acc: 0.4286 - val_loss: 0.4404\nEpoch 33/70\n\u001b[1m30/30\u001b[0m \u001b[32m━━━━━━━━━━━━━━━━━━━━\u001b[0m\u001b[37m\u001b[0m \u001b[1m2s\u001b[0m 82ms/step - acc: 0.4225 - loss: 0.4087 - val_acc: 0.4370 - val_loss: 0.4382\nEpoch 34/70\n\u001b[1m30/30\u001b[0m \u001b[32m━━━━━━━━━━━━━━━━━━━━\u001b[0m\u001b[37m\u001b[0m \u001b[1m2s\u001b[0m 82ms/step - acc: 0.4318 - loss: 0.3984 - val_acc: 0.4370 - val_loss: 0.4318\nEpoch 35/70\n\u001b[1m30/30\u001b[0m \u001b[32m━━━━━━━━━━━━━━━━━━━━\u001b[0m\u001b[37m\u001b[0m \u001b[1m2s\u001b[0m 82ms/step - acc: 0.4359 - loss: 0.3983 - val_acc: 0.4433 - val_loss: 0.4295\nEpoch 36/70\n\u001b[1m30/30\u001b[0m \u001b[32m━━━━━━━━━━━━━━━━━━━━\u001b[0m\u001b[37m\u001b[0m \u001b[1m2s\u001b[0m 83ms/step - acc: 0.4555 - loss: 0.3904 - val_acc: 0.4538 - val_loss: 0.4283\nEpoch 37/70\n\u001b[1m30/30\u001b[0m \u001b[32m━━━━━━━━━━━━━━━━━━━━\u001b[0m\u001b[37m\u001b[0m \u001b[1m2s\u001b[0m 83ms/step - acc: 0.4496 - loss: 0.3814 - val_acc: 0.4685 - val_loss: 0.4242\nEpoch 38/70\n\u001b[1m30/30\u001b[0m \u001b[32m━━━━━━━━━━━━━━━━━━━━\u001b[0m\u001b[37m\u001b[0m \u001b[1m3s\u001b[0m 84ms/step - acc: 0.4535 - loss: 0.3828 - val_acc: 0.4601 - val_loss: 0.4201\nEpoch 39/70\n\u001b[1m30/30\u001b[0m \u001b[32m━━━━━━━━━━━━━━━━━━━━\u001b[0m\u001b[37m\u001b[0m \u001b[1m3s\u001b[0m 84ms/step - acc: 0.4455 - loss: 0.3781 - val_acc: 0.4685 - val_loss: 0.4192\nEpoch 40/70\n\u001b[1m30/30\u001b[0m \u001b[32m━━━━━━━━━━━━━━━━━━━━\u001b[0m\u001b[37m\u001b[0m \u001b[1m3s\u001b[0m 84ms/step - acc: 0.4565 - loss: 0.3713 - val_acc: 0.4769 - val_loss: 0.4176\nEpoch 41/70\n\u001b[1m30/30\u001b[0m \u001b[32m━━━━━━━━━━━━━━━━━━━━\u001b[0m\u001b[37m\u001b[0m \u001b[1m3s\u001b[0m 85ms/step - acc: 0.4650 - loss: 0.3630 - val_acc: 0.5000 - val_loss: 0.4101\nEpoch 42/70\n\u001b[1m30/30\u001b[0m \u001b[32m━━━━━━━━━━━━━━━━━━━━\u001b[0m\u001b[37m\u001b[0m \u001b[1m3s\u001b[0m 84ms/step - acc: 0.4651 - loss: 0.3561 - val_acc: 0.5210 - val_loss: 0.4075\nEpoch 43/70\n\u001b[1m30/30\u001b[0m \u001b[32m━━━━━━━━━━━━━━━━━━━━\u001b[0m\u001b[37m\u001b[0m \u001b[1m3s\u001b[0m 84ms/step - acc: 0.4685 - loss: 0.3529 - val_acc: 0.5252 - val_loss: 0.4066\nEpoch 44/70\n\u001b[1m30/30\u001b[0m \u001b[32m━━━━━━━━━━━━━━━━━━━━\u001b[0m\u001b[37m\u001b[0m \u001b[1m3s\u001b[0m 84ms/step - acc: 0.4904 - loss: 0.3478 - val_acc: 0.5231 - val_loss: 0.4028\nEpoch 45/70\n\u001b[1m30/30\u001b[0m \u001b[32m━━━━━━━━━━━━━━━━━━━━\u001b[0m\u001b[37m\u001b[0m \u001b[1m3s\u001b[0m 85ms/step - acc: 0.4844 - loss: 0.3347 - val_acc: 0.5168 - val_loss: 0.4005\nEpoch 46/70\n\u001b[1m30/30\u001b[0m \u001b[32m━━━━━━━━━━━━━━━━━━━━\u001b[0m\u001b[37m\u001b[0m \u001b[1m3s\u001b[0m 84ms/step - acc: 0.5018 - loss: 0.3299 - val_acc: 0.5294 - val_loss: 0.3992\nEpoch 47/70\n\u001b[1m30/30\u001b[0m \u001b[32m━━━━━━━━━━━━━━━━━━━━\u001b[0m\u001b[37m\u001b[0m \u001b[1m3s\u001b[0m 84ms/step - acc: 0.5030 - loss: 0.3280 - val_acc: 0.5168 - val_loss: 0.3960\nEpoch 48/70\n\u001b[1m30/30\u001b[0m \u001b[32m━━━━━━━━━━━━━━━━━━━━\u001b[0m\u001b[37m\u001b[0m \u001b[1m3s\u001b[0m 85ms/step - acc: 0.5148 - loss: 0.3234 - val_acc: 0.5315 - val_loss: 0.3934\nEpoch 49/70\n\u001b[1m30/30\u001b[0m \u001b[32m━━━━━━━━━━━━━━━━━━━━\u001b[0m\u001b[37m\u001b[0m \u001b[1m3s\u001b[0m 85ms/step - acc: 0.5089 - loss: 0.3213 - val_acc: 0.5273 - val_loss: 0.3914\nEpoch 50/70\n\u001b[1m30/30\u001b[0m \u001b[32m━━━━━━━━━━━━━━━━━━━━\u001b[0m\u001b[37m\u001b[0m \u001b[1m3s\u001b[0m 85ms/step - acc: 0.5212 - loss: 0.3137 - val_acc: 0.5273 - val_loss: 0.3904\nEpoch 51/70\n\u001b[1m30/30\u001b[0m \u001b[32m━━━━━━━━━━━━━━━━━━━━\u001b[0m\u001b[37m\u001b[0m \u001b[1m3s\u001b[0m 85ms/step - acc: 0.5373 - loss: 0.3098 - val_acc: 0.5378 - val_loss: 0.3888\nEpoch 52/70\n\u001b[1m30/30\u001b[0m \u001b[32m━━━━━━━━━━━━━━━━━━━━\u001b[0m\u001b[37m\u001b[0m \u001b[1m3s\u001b[0m 85ms/step - acc: 0.5399 - loss: 0.3070 - val_acc: 0.5315 - val_loss: 0.3865\nEpoch 53/70\n\u001b[1m30/30\u001b[0m \u001b[32m━━━━━━━━━━━━━━━━━━━━\u001b[0m\u001b[37m\u001b[0m \u001b[1m3s\u001b[0m 85ms/step - acc: 0.5317 - loss: 0.3048 - val_acc: 0.5504 - val_loss: 0.3819\nEpoch 54/70\n\u001b[1m30/30\u001b[0m \u001b[32m━━━━━━━━━━━━━━━━━━━━\u001b[0m\u001b[37m\u001b[0m \u001b[1m3s\u001b[0m 85ms/step - acc: 0.5383 - loss: 0.2915 - val_acc: 0.5504 - val_loss: 0.3837\nEpoch 55/70\n\u001b[1m30/30\u001b[0m \u001b[32m━━━━━━━━━━━━━━━━━━━━\u001b[0m\u001b[37m\u001b[0m \u001b[1m3s\u001b[0m 86ms/step - acc: 0.5375 - loss: 0.2954 - val_acc: 0.5525 - val_loss: 0.3810\nEpoch 56/70\n\u001b[1m30/30\u001b[0m \u001b[32m━━━━━━━━━━━━━━━━━━━━\u001b[0m\u001b[37m\u001b[0m \u001b[1m3s\u001b[0m 87ms/step - acc: 0.5535 - loss: 0.2901 - val_acc: 0.5462 - val_loss: 0.3810\nEpoch 57/70\n\u001b[1m30/30\u001b[0m \u001b[32m━━━━━━━━━━━━━━━━━━━━\u001b[0m\u001b[37m\u001b[0m \u001b[1m3s\u001b[0m 87ms/step - acc: 0.5496 - loss: 0.2812 - val_acc: 0.5483 - val_loss: 0.3803\nEpoch 58/70\n\u001b[1m30/30\u001b[0m \u001b[32m━━━━━━━━━━━━━━━━━━━━\u001b[0m\u001b[37m\u001b[0m \u001b[1m3s\u001b[0m 87ms/step - acc: 0.5413 - loss: 0.2836 - val_acc: 0.5441 - val_loss: 0.3828\nEpoch 59/70\n\u001b[1m30/30\u001b[0m \u001b[32m━━━━━━━━━━━━━━━━━━━━\u001b[0m\u001b[37m\u001b[0m \u001b[1m3s\u001b[0m 88ms/step - acc: 0.5586 - loss: 0.2796 - val_acc: 0.5546 - val_loss: 0.3849\nEpoch 60/70\n\u001b[1m30/30\u001b[0m \u001b[32m━━━━━━━━━━━━━━━━━━━━\u001b[0m\u001b[37m\u001b[0m \u001b[1m3s\u001b[0m 88ms/step - acc: 0.5686 - loss: 0.2636 - val_acc: 0.5462 - val_loss: 0.3826\nEpoch 61/70\n\u001b[1m30/30\u001b[0m \u001b[32m━━━━━━━━━━━━━━━━━━━━\u001b[0m\u001b[37m\u001b[0m \u001b[1m3s\u001b[0m 88ms/step - acc: 0.5638 - loss: 0.2701 - val_acc: 0.5609 - val_loss: 0.3754\nEpoch 62/70\n\u001b[1m30/30\u001b[0m \u001b[32m━━━━━━━━━━━━━━━━━━━━\u001b[0m\u001b[37m\u001b[0m \u001b[1m3s\u001b[0m 88ms/step - acc: 0.5705 - loss: 0.2639 - val_acc: 0.5525 - val_loss: 0.3807\nEpoch 63/70\n\u001b[1m30/30\u001b[0m \u001b[32m━━━━━━━━━━━━━━━━━━━━\u001b[0m\u001b[37m\u001b[0m \u001b[1m3s\u001b[0m 87ms/step - acc: 0.5696 - loss: 0.2619 - val_acc: 0.5546 - val_loss: 0.3772\nEpoch 64/70\n\u001b[1m30/30\u001b[0m \u001b[32m━━━━━━━━━━━━━━━━━━━━\u001b[0m\u001b[37m\u001b[0m \u001b[1m3s\u001b[0m 86ms/step - acc: 0.5577 - loss: 0.2587 - val_acc: 0.5693 - val_loss: 0.3749\nEpoch 65/70\n\u001b[1m30/30\u001b[0m \u001b[32m━━━━━━━━━━━━━━━━━━━━\u001b[0m\u001b[37m\u001b[0m \u001b[1m3s\u001b[0m 86ms/step - acc: 0.6020 - loss: 0.2538 - val_acc: 0.5525 - val_loss: 0.3767\nEpoch 66/70\n\u001b[1m30/30\u001b[0m \u001b[32m━━━━━━━━━━━━━━━━━━━━\u001b[0m\u001b[37m\u001b[0m \u001b[1m3s\u001b[0m 85ms/step - acc: 0.5701 - loss: 0.2534 - val_acc: 0.5567 - val_loss: 0.3754\nEpoch 67/70\n\u001b[1m30/30\u001b[0m \u001b[32m━━━━━━━━━━━━━━━━━━━━\u001b[0m\u001b[37m\u001b[0m \u001b[1m3s\u001b[0m 85ms/step - acc: 0.5863 - loss: 0.2469 - val_acc: 0.5735 - val_loss: 0.3752\nEpoch 68/70\n\u001b[1m30/30\u001b[0m \u001b[32m━━━━━━━━━━━━━━━━━━━━\u001b[0m\u001b[37m\u001b[0m \u001b[1m3s\u001b[0m 85ms/step - acc: 0.5811 - loss: 0.2459 - val_acc: 0.5630 - val_loss: 0.3758\nEpoch 69/70\n\u001b[1m30/30\u001b[0m \u001b[32m━━━━━━━━━━━━━━━━━━━━\u001b[0m\u001b[37m\u001b[0m \u001b[1m3s\u001b[0m 85ms/step - acc: 0.5817 - loss: 0.2385 - val_acc: 0.5483 - val_loss: 0.3792\n",
          "output_type": "stream"
        }
      ],
      "execution_count": null
    },
    {
      "cell_type": "code",
      "source": [
        "max_len=padded_aspect_train.shape[1]\n",
        "aspect_model = bilstm_aspect(vocab_aspect_size, embedding_dim, max_len, embedding_aspect_matrix, padded_aspect_train, padded_aspect_val, label_aspect_train, label_aspect_val)"
      ],
      "metadata": {
        "colab": {
          "base_uri": "https://localhost:8080/"
        },
        "id": "9B1TxlSU45KS",
        "outputId": "f9898f33-b67d-41c9-df0b-34b94d019b00"
      },
      "outputs": [
        {
          "name": "stderr",
          "output_type": "stream",
          "text": [
            "/usr/local/lib/python3.10/dist-packages/keras/src/layers/core/embedding.py:90: UserWarning: Argument `input_length` is deprecated. Just remove it.\n",
            "  warnings.warn(\n"
          ]
        },
        {
          "name": "stdout",
          "output_type": "stream",
          "text": [
            "Epoch 1/70\n",
            "\u001b[1m30/30\u001b[0m \u001b[32m━━━━━━━━━━━━━━━━━━━━\u001b[0m\u001b[37m\u001b[0m \u001b[1m7s\u001b[0m 103ms/step - acc: 0.1929 - loss: 0.6953 - val_acc: 0.2290 - val_loss: 0.6877\n",
            "Epoch 2/70\n",
            "\u001b[1m30/30\u001b[0m \u001b[32m━━━━━━━━━━━━━━━━━━━━\u001b[0m\u001b[37m\u001b[0m \u001b[1m3s\u001b[0m 86ms/step - acc: 0.2048 - loss: 0.6838 - val_acc: 0.2374 - val_loss: 0.6780\n",
            "Epoch 3/70\n",
            "\u001b[1m30/30\u001b[0m \u001b[32m━━━━━━━━━━━━━━━━━━━━\u001b[0m\u001b[37m\u001b[0m \u001b[1m3s\u001b[0m 86ms/step - acc: 0.2211 - loss: 0.6743 - val_acc: 0.2542 - val_loss: 0.6677\n",
            "Epoch 4/70\n",
            "\u001b[1m30/30\u001b[0m \u001b[32m━━━━━━━━━━━━━━━━━━━━\u001b[0m\u001b[37m\u001b[0m \u001b[1m5s\u001b[0m 87ms/step - acc: 0.2224 - loss: 0.6633 - val_acc: 0.2647 - val_loss: 0.6560\n",
            "Epoch 5/70\n",
            "\u001b[1m30/30\u001b[0m \u001b[32m━━━━━━━━━━━━━━━━━━━━\u001b[0m\u001b[37m\u001b[0m \u001b[1m3s\u001b[0m 85ms/step - acc: 0.2290 - loss: 0.6504 - val_acc: 0.2773 - val_loss: 0.6437\n",
            "Epoch 6/70\n",
            "\u001b[1m30/30\u001b[0m \u001b[32m━━━━━━━━━━━━━━━━━━━━\u001b[0m\u001b[37m\u001b[0m \u001b[1m3s\u001b[0m 85ms/step - acc: 0.2440 - loss: 0.6334 - val_acc: 0.2815 - val_loss: 0.6306\n",
            "Epoch 7/70\n",
            "\u001b[1m30/30\u001b[0m \u001b[32m━━━━━━━━━━━━━━━━━━━━\u001b[0m\u001b[37m\u001b[0m \u001b[1m3s\u001b[0m 85ms/step - acc: 0.2505 - loss: 0.6203 - val_acc: 0.3067 - val_loss: 0.6184\n",
            "Epoch 8/70\n",
            "\u001b[1m30/30\u001b[0m \u001b[32m━━━━━━━━━━━━━━━━━━━━\u001b[0m\u001b[37m\u001b[0m \u001b[1m3s\u001b[0m 85ms/step - acc: 0.2653 - loss: 0.6141 - val_acc: 0.3172 - val_loss: 0.6080\n",
            "Epoch 9/70\n",
            "\u001b[1m30/30\u001b[0m \u001b[32m━━━━━━━━━━━━━━━━━━━━\u001b[0m\u001b[37m\u001b[0m \u001b[1m5s\u001b[0m 85ms/step - acc: 0.2969 - loss: 0.5957 - val_acc: 0.3466 - val_loss: 0.5978\n",
            "Epoch 10/70\n",
            "\u001b[1m30/30\u001b[0m \u001b[32m━━━━━━━━━━━━━━━━━━━━\u001b[0m\u001b[37m\u001b[0m \u001b[1m5s\u001b[0m 85ms/step - acc: 0.3171 - loss: 0.5880 - val_acc: 0.3697 - val_loss: 0.5889\n",
            "Epoch 11/70\n",
            "\u001b[1m30/30\u001b[0m \u001b[32m━━━━━━━━━━━━━━━━━━━━\u001b[0m\u001b[37m\u001b[0m \u001b[1m5s\u001b[0m 85ms/step - acc: 0.3360 - loss: 0.5862 - val_acc: 0.4034 - val_loss: 0.5812\n",
            "Epoch 12/70\n",
            "\u001b[1m30/30\u001b[0m \u001b[32m━━━━━━━━━━━━━━━━━━━━\u001b[0m\u001b[37m\u001b[0m \u001b[1m3s\u001b[0m 85ms/step - acc: 0.3603 - loss: 0.5795 - val_acc: 0.4265 - val_loss: 0.5738\n",
            "Epoch 13/70\n",
            "\u001b[1m30/30\u001b[0m \u001b[32m━━━━━━━━━━━━━━━━━━━━\u001b[0m\u001b[37m\u001b[0m \u001b[1m5s\u001b[0m 85ms/step - acc: 0.3743 - loss: 0.5694 - val_acc: 0.4412 - val_loss: 0.5670\n",
            "Epoch 14/70\n",
            "\u001b[1m30/30\u001b[0m \u001b[32m━━━━━━━━━━━━━━━━━━━━\u001b[0m\u001b[37m\u001b[0m \u001b[1m3s\u001b[0m 85ms/step - acc: 0.3691 - loss: 0.5652 - val_acc: 0.4475 - val_loss: 0.5605\n",
            "Epoch 15/70\n",
            "\u001b[1m30/30\u001b[0m \u001b[32m━━━━━━━━━━━━━━━━━━━━\u001b[0m\u001b[37m\u001b[0m \u001b[1m3s\u001b[0m 84ms/step - acc: 0.3852 - loss: 0.5559 - val_acc: 0.4496 - val_loss: 0.5533\n",
            "Epoch 16/70\n",
            "\u001b[1m30/30\u001b[0m \u001b[32m━━━━━━━━━━━━━━━━━━━━\u001b[0m\u001b[37m\u001b[0m \u001b[1m3s\u001b[0m 86ms/step - acc: 0.3989 - loss: 0.5530 - val_acc: 0.4559 - val_loss: 0.5459\n",
            "Epoch 17/70\n",
            "\u001b[1m30/30\u001b[0m \u001b[32m━━━━━━━━━━━━━━━━━━━━\u001b[0m\u001b[37m\u001b[0m \u001b[1m3s\u001b[0m 84ms/step - acc: 0.3981 - loss: 0.5430 - val_acc: 0.4433 - val_loss: 0.5356\n",
            "Epoch 18/70\n",
            "\u001b[1m30/30\u001b[0m \u001b[32m━━━━━━━━━━━━━━━━━━━━\u001b[0m\u001b[37m\u001b[0m \u001b[1m3s\u001b[0m 83ms/step - acc: 0.4102 - loss: 0.5313 - val_acc: 0.4580 - val_loss: 0.5208\n",
            "Epoch 19/70\n",
            "\u001b[1m30/30\u001b[0m \u001b[32m━━━━━━━━━━━━━━━━━━━━\u001b[0m\u001b[37m\u001b[0m \u001b[1m3s\u001b[0m 83ms/step - acc: 0.4196 - loss: 0.5225 - val_acc: 0.4769 - val_loss: 0.5038\n",
            "Epoch 20/70\n",
            "\u001b[1m30/30\u001b[0m \u001b[32m━━━━━━━━━━━━━━━━━━━━\u001b[0m\u001b[37m\u001b[0m \u001b[1m2s\u001b[0m 83ms/step - acc: 0.4504 - loss: 0.5072 - val_acc: 0.4706 - val_loss: 0.4927\n",
            "Epoch 21/70\n",
            "\u001b[1m30/30\u001b[0m \u001b[32m━━━━━━━━━━━━━━━━━━━━\u001b[0m\u001b[37m\u001b[0m \u001b[1m3s\u001b[0m 86ms/step - acc: 0.4524 - loss: 0.5024 - val_acc: 0.5042 - val_loss: 0.4872\n",
            "Epoch 22/70\n",
            "\u001b[1m30/30\u001b[0m \u001b[32m━━━━━━━━━━━━━━━━━━━━\u001b[0m\u001b[37m\u001b[0m \u001b[1m3s\u001b[0m 85ms/step - acc: 0.4660 - loss: 0.4886 - val_acc: 0.5000 - val_loss: 0.4778\n",
            "Epoch 23/70\n",
            "\u001b[1m30/30\u001b[0m \u001b[32m━━━━━━━━━━━━━━━━━━━━\u001b[0m\u001b[37m\u001b[0m \u001b[1m5s\u001b[0m 85ms/step - acc: 0.4623 - loss: 0.4876 - val_acc: 0.5273 - val_loss: 0.4744\n",
            "Epoch 24/70\n",
            "\u001b[1m30/30\u001b[0m \u001b[32m━━━━━━━━━━━━━━━━━━━━\u001b[0m\u001b[37m\u001b[0m \u001b[1m5s\u001b[0m 84ms/step - acc: 0.4831 - loss: 0.4686 - val_acc: 0.5441 - val_loss: 0.4737\n",
            "Epoch 25/70\n",
            "\u001b[1m30/30\u001b[0m \u001b[32m━━━━━━━━━━━━━━━━━━━━\u001b[0m\u001b[37m\u001b[0m \u001b[1m5s\u001b[0m 84ms/step - acc: 0.4938 - loss: 0.4665 - val_acc: 0.5399 - val_loss: 0.4633\n",
            "Epoch 26/70\n",
            "\u001b[1m30/30\u001b[0m \u001b[32m━━━━━━━━━━━━━━━━━━━━\u001b[0m\u001b[37m\u001b[0m \u001b[1m2s\u001b[0m 83ms/step - acc: 0.4747 - loss: 0.4567 - val_acc: 0.5399 - val_loss: 0.4607\n",
            "Epoch 27/70\n",
            "\u001b[1m30/30\u001b[0m \u001b[32m━━━━━━━━━━━━━━━━━━━━\u001b[0m\u001b[37m\u001b[0m \u001b[1m2s\u001b[0m 83ms/step - acc: 0.5030 - loss: 0.4560 - val_acc: 0.5399 - val_loss: 0.4518\n",
            "Epoch 28/70\n",
            "\u001b[1m30/30\u001b[0m \u001b[32m━━━━━━━━━━━━━━━━━━━━\u001b[0m\u001b[37m\u001b[0m \u001b[1m3s\u001b[0m 84ms/step - acc: 0.4957 - loss: 0.4421 - val_acc: 0.5462 - val_loss: 0.4469\n",
            "Epoch 29/70\n",
            "\u001b[1m30/30\u001b[0m \u001b[32m━━━━━━━━━━━━━━━━━━━━\u001b[0m\u001b[37m\u001b[0m \u001b[1m3s\u001b[0m 85ms/step - acc: 0.4917 - loss: 0.4365 - val_acc: 0.5567 - val_loss: 0.4440\n",
            "Epoch 30/70\n",
            "\u001b[1m30/30\u001b[0m \u001b[32m━━━━━━━━━━━━━━━━━━━━\u001b[0m\u001b[37m\u001b[0m \u001b[1m3s\u001b[0m 86ms/step - acc: 0.5169 - loss: 0.4264 - val_acc: 0.5609 - val_loss: 0.4399\n",
            "Epoch 31/70\n",
            "\u001b[1m30/30\u001b[0m \u001b[32m━━━━━━━━━━━━━━━━━━━━\u001b[0m\u001b[37m\u001b[0m \u001b[1m5s\u001b[0m 85ms/step - acc: 0.5123 - loss: 0.4279 - val_acc: 0.5630 - val_loss: 0.4354\n",
            "Epoch 32/70\n",
            "\u001b[1m30/30\u001b[0m \u001b[32m━━━━━━━━━━━━━━━━━━━━\u001b[0m\u001b[37m\u001b[0m \u001b[1m3s\u001b[0m 85ms/step - acc: 0.5134 - loss: 0.4240 - val_acc: 0.5672 - val_loss: 0.4316\n",
            "Epoch 33/70\n",
            "\u001b[1m30/30\u001b[0m \u001b[32m━━━━━━━━━━━━━━━━━━━━\u001b[0m\u001b[37m\u001b[0m \u001b[1m3s\u001b[0m 87ms/step - acc: 0.5260 - loss: 0.4099 - val_acc: 0.5672 - val_loss: 0.4334\n",
            "Epoch 34/70\n",
            "\u001b[1m30/30\u001b[0m \u001b[32m━━━━━━━━━━━━━━━━━━━━\u001b[0m\u001b[37m\u001b[0m \u001b[1m3s\u001b[0m 86ms/step - acc: 0.5320 - loss: 0.3996 - val_acc: 0.5588 - val_loss: 0.4291\n",
            "Epoch 35/70\n",
            "\u001b[1m30/30\u001b[0m \u001b[32m━━━━━━━━━━━━━━━━━━━━\u001b[0m\u001b[37m\u001b[0m \u001b[1m3s\u001b[0m 85ms/step - acc: 0.5286 - loss: 0.3993 - val_acc: 0.5630 - val_loss: 0.4244\n",
            "Epoch 36/70\n",
            "\u001b[1m30/30\u001b[0m \u001b[32m━━━━━━━━━━━━━━━━━━━━\u001b[0m\u001b[37m\u001b[0m \u001b[1m3s\u001b[0m 84ms/step - acc: 0.5199 - loss: 0.3989 - val_acc: 0.5630 - val_loss: 0.4217\n",
            "Epoch 37/70\n",
            "\u001b[1m30/30\u001b[0m \u001b[32m━━━━━━━━━━━━━━━━━━━━\u001b[0m\u001b[37m\u001b[0m \u001b[1m3s\u001b[0m 85ms/step - acc: 0.5227 - loss: 0.3949 - val_acc: 0.5735 - val_loss: 0.4182\n",
            "Epoch 38/70\n",
            "\u001b[1m30/30\u001b[0m \u001b[32m━━━━━━━━━━━━━━━━━━━━\u001b[0m\u001b[37m\u001b[0m \u001b[1m3s\u001b[0m 87ms/step - acc: 0.5335 - loss: 0.3883 - val_acc: 0.5756 - val_loss: 0.4174\n",
            "Epoch 39/70\n",
            "\u001b[1m30/30\u001b[0m \u001b[32m━━━━━━━━━━━━━━━━━━━━\u001b[0m\u001b[37m\u001b[0m \u001b[1m3s\u001b[0m 85ms/step - acc: 0.5377 - loss: 0.3761 - val_acc: 0.5735 - val_loss: 0.4148\n",
            "Epoch 40/70\n",
            "\u001b[1m30/30\u001b[0m \u001b[32m━━━━━━━━━━━━━━━━━━━━\u001b[0m\u001b[37m\u001b[0m \u001b[1m3s\u001b[0m 85ms/step - acc: 0.5513 - loss: 0.3764 - val_acc: 0.5672 - val_loss: 0.4154\n",
            "Epoch 41/70\n",
            "\u001b[1m30/30\u001b[0m \u001b[32m━━━━━━━━━━━━━━━━━━━━\u001b[0m\u001b[37m\u001b[0m \u001b[1m3s\u001b[0m 85ms/step - acc: 0.5394 - loss: 0.3734 - val_acc: 0.5777 - val_loss: 0.4110\n",
            "Epoch 42/70\n",
            "\u001b[1m30/30\u001b[0m \u001b[32m━━━━━━━━━━━━━━━━━━━━\u001b[0m\u001b[37m\u001b[0m \u001b[1m3s\u001b[0m 85ms/step - acc: 0.5517 - loss: 0.3665 - val_acc: 0.5693 - val_loss: 0.4073\n",
            "Epoch 43/70\n",
            "\u001b[1m30/30\u001b[0m \u001b[32m━━━━━━━━━━━━━━━━━━━━\u001b[0m\u001b[37m\u001b[0m \u001b[1m3s\u001b[0m 86ms/step - acc: 0.5322 - loss: 0.3632 - val_acc: 0.5735 - val_loss: 0.4060\n",
            "Epoch 44/70\n",
            "\u001b[1m30/30\u001b[0m \u001b[32m━━━━━━━━━━━━━━━━━━━━\u001b[0m\u001b[37m\u001b[0m \u001b[1m5s\u001b[0m 85ms/step - acc: 0.5646 - loss: 0.3569 - val_acc: 0.5651 - val_loss: 0.4049\n",
            "Epoch 45/70\n",
            "\u001b[1m30/30\u001b[0m \u001b[32m━━━━━━━━━━━━━━━━━━━━\u001b[0m\u001b[37m\u001b[0m \u001b[1m2s\u001b[0m 83ms/step - acc: 0.5619 - loss: 0.3530 - val_acc: 0.5756 - val_loss: 0.4028\n",
            "Epoch 46/70\n",
            "\u001b[1m30/30\u001b[0m \u001b[32m━━━━━━━━━━━━━━━━━━━━\u001b[0m\u001b[37m\u001b[0m \u001b[1m2s\u001b[0m 83ms/step - acc: 0.5607 - loss: 0.3515 - val_acc: 0.5840 - val_loss: 0.4026\n",
            "Epoch 47/70\n",
            "\u001b[1m30/30\u001b[0m \u001b[32m━━━━━━━━━━━━━━━━━━━━\u001b[0m\u001b[37m\u001b[0m \u001b[1m3s\u001b[0m 85ms/step - acc: 0.5699 - loss: 0.3377 - val_acc: 0.5714 - val_loss: 0.4005\n",
            "Epoch 48/70\n",
            "\u001b[1m30/30\u001b[0m \u001b[32m━━━━━━━━━━━━━━━━━━━━\u001b[0m\u001b[37m\u001b[0m \u001b[1m5s\u001b[0m 84ms/step - acc: 0.5566 - loss: 0.3410 - val_acc: 0.5672 - val_loss: 0.3999\n",
            "Epoch 49/70\n",
            "\u001b[1m30/30\u001b[0m \u001b[32m━━━━━━━━━━━━━━━━━━━━\u001b[0m\u001b[37m\u001b[0m \u001b[1m2s\u001b[0m 83ms/step - acc: 0.5577 - loss: 0.3368 - val_acc: 0.5840 - val_loss: 0.3993\n",
            "Epoch 50/70\n",
            "\u001b[1m30/30\u001b[0m \u001b[32m━━━━━━━━━━━━━━━━━━━━\u001b[0m\u001b[37m\u001b[0m \u001b[1m2s\u001b[0m 83ms/step - acc: 0.5631 - loss: 0.3297 - val_acc: 0.5882 - val_loss: 0.4001\n",
            "Epoch 51/70\n",
            "\u001b[1m30/30\u001b[0m \u001b[32m━━━━━━━━━━━━━━━━━━━━\u001b[0m\u001b[37m\u001b[0m \u001b[1m3s\u001b[0m 86ms/step - acc: 0.5912 - loss: 0.3234 - val_acc: 0.5861 - val_loss: 0.3982\n",
            "Epoch 52/70\n",
            "\u001b[1m30/30\u001b[0m \u001b[32m━━━━━━━━━━━━━━━━━━━━\u001b[0m\u001b[37m\u001b[0m \u001b[1m5s\u001b[0m 86ms/step - acc: 0.5768 - loss: 0.3209 - val_acc: 0.5945 - val_loss: 0.3966\n",
            "Epoch 53/70\n",
            "\u001b[1m30/30\u001b[0m \u001b[32m━━━━━━━━━━━━━━━━━━━━\u001b[0m\u001b[37m\u001b[0m \u001b[1m5s\u001b[0m 86ms/step - acc: 0.5887 - loss: 0.3223 - val_acc: 0.5924 - val_loss: 0.3979\n",
            "Epoch 54/70\n",
            "\u001b[1m30/30\u001b[0m \u001b[32m━━━━━━━━━━━━━━━━━━━━\u001b[0m\u001b[37m\u001b[0m \u001b[1m3s\u001b[0m 87ms/step - acc: 0.5780 - loss: 0.3144 - val_acc: 0.5945 - val_loss: 0.3946\n",
            "Epoch 55/70\n",
            "\u001b[1m30/30\u001b[0m \u001b[32m━━━━━━━━━━━━━━━━━━━━\u001b[0m\u001b[37m\u001b[0m \u001b[1m5s\u001b[0m 84ms/step - acc: 0.5771 - loss: 0.3067 - val_acc: 0.5945 - val_loss: 0.3924\n",
            "Epoch 56/70\n",
            "\u001b[1m30/30\u001b[0m \u001b[32m━━━━━━━━━━━━━━━━━━━━\u001b[0m\u001b[37m\u001b[0m \u001b[1m3s\u001b[0m 84ms/step - acc: 0.5875 - loss: 0.3025 - val_acc: 0.6029 - val_loss: 0.3942\n",
            "Epoch 57/70\n",
            "\u001b[1m30/30\u001b[0m \u001b[32m━━━━━━━━━━━━━━━━━━━━\u001b[0m\u001b[37m\u001b[0m \u001b[1m3s\u001b[0m 86ms/step - acc: 0.5874 - loss: 0.2985 - val_acc: 0.6008 - val_loss: 0.3916\n",
            "Epoch 58/70\n",
            "\u001b[1m30/30\u001b[0m \u001b[32m━━━━━━━━━━━━━━━━━━━━\u001b[0m\u001b[37m\u001b[0m \u001b[1m3s\u001b[0m 85ms/step - acc: 0.5751 - loss: 0.2925 - val_acc: 0.6008 - val_loss: 0.3926\n",
            "Epoch 59/70\n",
            "\u001b[1m30/30\u001b[0m \u001b[32m━━━━━━━━━━━━━━━━━━━━\u001b[0m\u001b[37m\u001b[0m \u001b[1m5s\u001b[0m 86ms/step - acc: 0.5925 - loss: 0.2853 - val_acc: 0.6071 - val_loss: 0.3908\n",
            "Epoch 60/70\n",
            "\u001b[1m30/30\u001b[0m \u001b[32m━━━━━━━━━━━━━━━━━━━━\u001b[0m\u001b[37m\u001b[0m \u001b[1m3s\u001b[0m 85ms/step - acc: 0.5774 - loss: 0.2878 - val_acc: 0.6029 - val_loss: 0.3912\n",
            "Epoch 61/70\n",
            "\u001b[1m30/30\u001b[0m \u001b[32m━━━━━━━━━━━━━━━━━━━━\u001b[0m\u001b[37m\u001b[0m \u001b[1m3s\u001b[0m 86ms/step - acc: 0.5937 - loss: 0.2784 - val_acc: 0.6071 - val_loss: 0.3880\n",
            "Epoch 62/70\n",
            "\u001b[1m30/30\u001b[0m \u001b[32m━━━━━━━━━━━━━━━━━━━━\u001b[0m\u001b[37m\u001b[0m \u001b[1m5s\u001b[0m 86ms/step - acc: 0.5988 - loss: 0.2724 - val_acc: 0.5861 - val_loss: 0.3877\n",
            "Epoch 63/70\n",
            "\u001b[1m30/30\u001b[0m \u001b[32m━━━━━━━━━━━━━━━━━━━━\u001b[0m\u001b[37m\u001b[0m \u001b[1m5s\u001b[0m 85ms/step - acc: 0.5942 - loss: 0.2766 - val_acc: 0.5903 - val_loss: 0.3899\n",
            "Epoch 64/70\n",
            "\u001b[1m30/30\u001b[0m \u001b[32m━━━━━━━━━━━━━━━━━━━━\u001b[0m\u001b[37m\u001b[0m \u001b[1m3s\u001b[0m 84ms/step - acc: 0.5968 - loss: 0.2727 - val_acc: 0.6197 - val_loss: 0.3913\n",
            "Epoch 65/70\n",
            "\u001b[1m30/30\u001b[0m \u001b[32m━━━━━━━━━━━━━━━━━━━━\u001b[0m\u001b[37m\u001b[0m \u001b[1m3s\u001b[0m 85ms/step - acc: 0.6054 - loss: 0.2670 - val_acc: 0.6218 - val_loss: 0.3875\n",
            "Epoch 66/70\n",
            "\u001b[1m30/30\u001b[0m \u001b[32m━━━━━━━━━━━━━━━━━━━━\u001b[0m\u001b[37m\u001b[0m \u001b[1m5s\u001b[0m 86ms/step - acc: 0.6176 - loss: 0.2598 - val_acc: 0.6008 - val_loss: 0.3871\n",
            "Epoch 67/70\n",
            "\u001b[1m30/30\u001b[0m \u001b[32m━━━━━━━━━━━━━━━━━━━━\u001b[0m\u001b[37m\u001b[0m \u001b[1m3s\u001b[0m 84ms/step - acc: 0.6114 - loss: 0.2534 - val_acc: 0.6155 - val_loss: 0.3866\n",
            "Epoch 68/70\n",
            "\u001b[1m30/30\u001b[0m \u001b[32m━━━━━━━━━━━━━━━━━━━━\u001b[0m\u001b[37m\u001b[0m \u001b[1m3s\u001b[0m 85ms/step - acc: 0.6276 - loss: 0.2503 - val_acc: 0.6113 - val_loss: 0.3855\n",
            "Epoch 69/70\n",
            "\u001b[1m30/30\u001b[0m \u001b[32m━━━━━━━━━━━━━━━━━━━━\u001b[0m\u001b[37m\u001b[0m \u001b[1m3s\u001b[0m 87ms/step - acc: 0.6169 - loss: 0.2481 - val_acc: 0.6071 - val_loss: 0.3900\n",
            "Epoch 70/70\n",
            "\u001b[1m30/30\u001b[0m \u001b[32m━━━━━━━━━━━━━━━━━━━━\u001b[0m\u001b[37m\u001b[0m \u001b[1m5s\u001b[0m 88ms/step - acc: 0.6125 - loss: 0.2483 - val_acc: 0.6239 - val_loss: 0.3878\n"
          ]
        }
      ],
      "execution_count": null
    },
    {
      "cell_type": "code",
      "source": [
        "save_path = f'{path}/BiLSTM/stl_BiLSTM_aspect.h5'\n",
        "aspect_model.save(save_path)"
      ],
      "metadata": {
        "colab": {
          "base_uri": "https://localhost:8080/"
        },
        "id": "TH3LK7tE8Ieo",
        "outputId": "d3d9d6b5-3bfd-404d-880a-dc62ecb1d17c"
      },
      "outputs": [
        {
          "name": "stderr",
          "output_type": "stream",
          "text": [
            "WARNING:absl:You are saving your model as an HDF5 file via `model.save()` or `keras.saving.save_model(model)`. This file format is considered legacy. We recommend using instead the native Keras format, e.g. `model.save('my_model.keras')` or `keras.saving.save_model(model, 'my_model.keras')`. \n"
          ]
        }
      ],
      "execution_count": null
    },
    {
      "cell_type": "code",
      "source": [
        "# predict\n",
        "pred_train = aspect_model.predict(padded_aspect_train)\n",
        "pred_val = aspect_model.predict(padded_aspect_val)\n",
        "pred_test = aspect_model.predict(padded_aspect_test)\n",
        "\n",
        "df_train_pred = round(pd.DataFrame(pred_train), 0)\n",
        "df_train_true_ = label_aspect_train\n",
        "df_train_pred.columns = df_train_true_.columns\n",
        "\n",
        "df_val_pred = round(pd.DataFrame(pred_val), 0)\n",
        "df_val_true_ = label_aspect_val\n",
        "df_val_pred.columns = df_val_true_.columns\n",
        "\n",
        "df_test_pred = round(pd.DataFrame(pred_test), 0)\n",
        "df_test_true_ = label_aspect_test\n",
        "df_test_pred.columns = df_test_true_.columns"
      ],
      "metadata": {
        "colab": {
          "base_uri": "https://localhost:8080/"
        },
        "id": "Q62ZtiQaA25p",
        "outputId": "e3a9ca20-b803-41b7-ffcb-dc2d93e99a38"
      },
      "outputs": [
        {
          "name": "stdout",
          "output_type": "stream",
          "text": [
            "\u001b[1m120/120\u001b[0m \u001b[32m━━━━━━━━━━━━━━━━━━━━\u001b[0m\u001b[37m\u001b[0m \u001b[1m2s\u001b[0m 11ms/step\n",
            "\u001b[1m15/15\u001b[0m \u001b[32m━━━━━━━━━━━━━━━━━━━━\u001b[0m\u001b[37m\u001b[0m \u001b[1m0s\u001b[0m 9ms/step\n",
            "\u001b[1m15/15\u001b[0m \u001b[32m━━━━━━━━━━━━━━━━━━━━\u001b[0m\u001b[37m\u001b[0m \u001b[1m0s\u001b[0m 8ms/step\n"
          ]
        }
      ],
      "execution_count": null
    },
    {
      "cell_type": "code",
      "source": [
        "def get_pd_report(label_aspect_train, df_test_true_, df_test_pred):\n",
        "\n",
        "  aspect_result_bilstm_report = {}\n",
        "  for col in label_aspect_train.columns:\n",
        "    aspect_result_bilstm = classification_report(df_test_true_[col], df_test_pred[col], output_dict=True)\n",
        "    aspect_result_bilstm_report[col] = pd.DataFrame(aspect_result_bilstm).T\n",
        "    aspect_result_bilstm_report[col]['aspect'] = col\n",
        "\n",
        "  output_aspect_report = pd.DataFrame()\n",
        "  for indx, val in aspect_result_bilstm_report.items():\n",
        "    output_aspect_report = pd.concat([output_aspect_report, aspect_result_bilstm_report[indx]])\n",
        "\n",
        "  return output_aspect_report"
      ],
      "metadata": {
        "id": "f_2nrizTA7jk",
        "trusted": true,
        "execution": {
          "iopub.status.busy": "2024-12-16T03:18:04.273969Z",
          "iopub.execute_input": "2024-12-16T03:18:04.274750Z",
          "iopub.status.idle": "2024-12-16T03:18:04.279881Z",
          "shell.execute_reply.started": "2024-12-16T03:18:04.274710Z",
          "shell.execute_reply": "2024-12-16T03:18:04.278940Z"
        }
      },
      "outputs": [],
      "execution_count": null
    },
    {
      "cell_type": "code",
      "source": [
        "aspect_result_bilstm_report = {}\n",
        "for col in label_aspect_train.columns:\n",
        "  print(col)\n",
        "  aspect_result_bilstm = classification_report(df_test_true_[col], df_test_pred[col], output_dict=True)\n",
        "  print(aspect_result_bilstm)\n",
        "\n",
        "  aspect_result_bilstm_report[col] = pd.DataFrame(aspect_result_bilstm).T\n",
        "  aspect_result_bilstm_report[col]['aspect'] = col\n",
        "\n",
        "output_aspect_report = pd.DataFrame()\n",
        "for indx, val in aspect_result_bilstm_report.items():\n",
        "  output_aspect_report = pd.concat([output_aspect_report, aspect_result_bilstm_report[indx]])"
      ],
      "metadata": {
        "colab": {
          "base_uri": "https://localhost:8080/"
        },
        "id": "CJSTK9yUA93c",
        "outputId": "79fac0f4-8c6e-40bb-c1fe-d888bc2b6f64"
      },
      "outputs": [
        {
          "name": "stdout",
          "output_type": "stream",
          "text": [
            "is_character\n",
            "{'0': {'precision': 0.8493975903614458, 'recall': 0.9215686274509803, 'f1-score': 0.8840125391849529, 'support': 306.0}, '1': {'precision': 0.8344827586206897, 'recall': 0.7076023391812866, 'f1-score': 0.7658227848101266, 'support': 171.0}, 'accuracy': 0.8448637316561844, 'macro avg': {'precision': 0.8419401744910677, 'recall': 0.8145854833161335, 'f1-score': 0.8249176619975398, 'support': 477.0}, 'weighted avg': {'precision': 0.8440507638883445, 'recall': 0.8448637316561844, 'f1-score': 0.8416426272392604, 'support': 477.0}}\n",
            "is_content\n",
            "{'0': {'precision': 0.8211678832116789, 'recall': 0.8241758241758241, 'f1-score': 0.8226691042047533, 'support': 273.0}, '1': {'precision': 0.7635467980295566, 'recall': 0.7598039215686274, 'f1-score': 0.7616707616707616, 'support': 204.0}, 'accuracy': 0.7966457023060797, 'macro avg': {'precision': 0.7923573406206177, 'recall': 0.7919898728722258, 'f1-score': 0.7921699329377574, 'support': 477.0}, 'weighted avg': {'precision': 0.7965249033853624, 'recall': 0.7966457023060797, 'f1-score': 0.796581762743675, 'support': 477.0}}\n",
            "is_scene\n",
            "{'0': {'precision': 0.8078175895765473, 'recall': 0.8025889967637541, 'f1-score': 0.8051948051948052, 'support': 309.0}, '1': {'precision': 0.6411764705882353, 'recall': 0.6488095238095238, 'f1-score': 0.6449704142011834, 'support': 168.0}, 'accuracy': 0.7484276729559748, 'macro avg': {'precision': 0.7244970300823913, 'recall': 0.725699260286639, 'f1-score': 0.7250826096979943, 'support': 477.0}, 'weighted avg': {'precision': 0.7491263778573934, 'recall': 0.7484276729559748, 'f1-score': 0.7487635731467371, 'support': 477.0}}\n",
            "is_sound\n",
            "{'0': {'precision': 0.915068493150685, 'recall': 0.9542857142857143, 'f1-score': 0.9342657342657342, 'support': 350.0}, '1': {'precision': 0.8571428571428571, 'recall': 0.7559055118110236, 'f1-score': 0.803347280334728, 'support': 127.0}, 'accuracy': 0.9014675052410901, 'macro avg': {'precision': 0.8861056751467711, 'recall': 0.8550956130483689, 'f1-score': 0.8688065073002311, 'support': 477.0}, 'weighted avg': {'precision': 0.8996459443603407, 'recall': 0.9014675052410901, 'f1-score': 0.8994090389843132, 'support': 477.0}}\n"
          ]
        }
      ],
      "execution_count": null
    },
    {
      "cell_type": "code",
      "source": [
        "output_aspect_report"
      ],
      "metadata": {
        "colab": {
          "base_uri": "https://localhost:8080/",
          "height": 582
        },
        "id": "PwmdwE5JwuvV",
        "outputId": "0363d7cd-3bf3-4b15-f9c2-72a852da6a05"
      },
      "outputs": [
        {
          "data": {
            "application/vnd.google.colaboratory.intrinsic+json": {
              "summary": "{\n  \"name\": \"output_aspect_report\",\n  \"rows\": 20,\n  \"fields\": [\n    {\n      \"column\": \"precision\",\n      \"properties\": {\n        \"dtype\": \"number\",\n        \"std\": 0.06751384943337659,\n        \"min\": 0.6411764705882353,\n        \"max\": 0.915068493150685,\n        \"num_unique_values\": 20,\n        \"samples\": [\n          0.8493975903614458,\n          0.9014675052410901,\n          0.915068493150685\n        ],\n        \"semantic_type\": \"\",\n        \"description\": \"\"\n      }\n    },\n    {\n      \"column\": \"recall\",\n      \"properties\": {\n        \"dtype\": \"number\",\n        \"std\": 0.0767332320288707,\n        \"min\": 0.6488095238095238,\n        \"max\": 0.9542857142857143,\n        \"num_unique_values\": 16,\n        \"samples\": [\n          0.9215686274509803,\n          0.7076023391812866,\n          0.7598039215686274\n        ],\n        \"semantic_type\": \"\",\n        \"description\": \"\"\n      }\n    },\n    {\n      \"column\": \"f1-score\",\n      \"properties\": {\n        \"dtype\": \"number\",\n        \"std\": 0.06895845482283784,\n        \"min\": 0.6449704142011834,\n        \"max\": 0.9342657342657342,\n        \"num_unique_values\": 20,\n        \"samples\": [\n          0.8840125391849529,\n          0.9014675052410901,\n          0.9342657342657342\n        ],\n        \"semantic_type\": \"\",\n        \"description\": \"\"\n      }\n    },\n    {\n      \"column\": \"support\",\n      \"properties\": {\n        \"dtype\": \"number\",\n        \"std\": 189.38923711423527,\n        \"min\": 0.7484276729559748,\n        \"max\": 477.0,\n        \"num_unique_values\": 13,\n        \"samples\": [\n          127.0,\n          0.7484276729559748,\n          306.0\n        ],\n        \"semantic_type\": \"\",\n        \"description\": \"\"\n      }\n    },\n    {\n      \"column\": \"aspect\",\n      \"properties\": {\n        \"dtype\": \"category\",\n        \"num_unique_values\": 4,\n        \"samples\": [\n          \"is_content\",\n          \"is_sound\",\n          \"is_character\"\n        ],\n        \"semantic_type\": \"\",\n        \"description\": \"\"\n      }\n    }\n  ]\n}",
              "type": "dataframe",
              "variable_name": "output_aspect_report"
            },
            "text/html": [
              "\n",
              "  <div id=\"df-93c33914-506d-4014-b303-379f62a6d29b\" class=\"colab-df-container\">\n",
              "    <div>\n",
              "<style scoped>\n",
              "    .dataframe tbody tr th:only-of-type {\n",
              "        vertical-align: middle;\n",
              "    }\n",
              "\n",
              "    .dataframe tbody tr th {\n",
              "        vertical-align: top;\n",
              "    }\n",
              "\n",
              "    .dataframe thead th {\n",
              "        text-align: right;\n",
              "    }\n",
              "</style>\n",
              "<table border=\"1\" class=\"dataframe\">\n",
              "  <thead>\n",
              "    <tr style=\"text-align: right;\">\n",
              "      <th></th>\n",
              "      <th>precision</th>\n",
              "      <th>recall</th>\n",
              "      <th>f1-score</th>\n",
              "      <th>support</th>\n",
              "      <th>aspect</th>\n",
              "    </tr>\n",
              "  </thead>\n",
              "  <tbody>\n",
              "    <tr>\n",
              "      <th>0</th>\n",
              "      <td>0.849398</td>\n",
              "      <td>0.921569</td>\n",
              "      <td>0.884013</td>\n",
              "      <td>306.000000</td>\n",
              "      <td>is_character</td>\n",
              "    </tr>\n",
              "    <tr>\n",
              "      <th>1</th>\n",
              "      <td>0.834483</td>\n",
              "      <td>0.707602</td>\n",
              "      <td>0.765823</td>\n",
              "      <td>171.000000</td>\n",
              "      <td>is_character</td>\n",
              "    </tr>\n",
              "    <tr>\n",
              "      <th>accuracy</th>\n",
              "      <td>0.844864</td>\n",
              "      <td>0.844864</td>\n",
              "      <td>0.844864</td>\n",
              "      <td>0.844864</td>\n",
              "      <td>is_character</td>\n",
              "    </tr>\n",
              "    <tr>\n",
              "      <th>macro avg</th>\n",
              "      <td>0.841940</td>\n",
              "      <td>0.814585</td>\n",
              "      <td>0.824918</td>\n",
              "      <td>477.000000</td>\n",
              "      <td>is_character</td>\n",
              "    </tr>\n",
              "    <tr>\n",
              "      <th>weighted avg</th>\n",
              "      <td>0.844051</td>\n",
              "      <td>0.844864</td>\n",
              "      <td>0.841643</td>\n",
              "      <td>477.000000</td>\n",
              "      <td>is_character</td>\n",
              "    </tr>\n",
              "    <tr>\n",
              "      <th>0</th>\n",
              "      <td>0.821168</td>\n",
              "      <td>0.824176</td>\n",
              "      <td>0.822669</td>\n",
              "      <td>273.000000</td>\n",
              "      <td>is_content</td>\n",
              "    </tr>\n",
              "    <tr>\n",
              "      <th>1</th>\n",
              "      <td>0.763547</td>\n",
              "      <td>0.759804</td>\n",
              "      <td>0.761671</td>\n",
              "      <td>204.000000</td>\n",
              "      <td>is_content</td>\n",
              "    </tr>\n",
              "    <tr>\n",
              "      <th>accuracy</th>\n",
              "      <td>0.796646</td>\n",
              "      <td>0.796646</td>\n",
              "      <td>0.796646</td>\n",
              "      <td>0.796646</td>\n",
              "      <td>is_content</td>\n",
              "    </tr>\n",
              "    <tr>\n",
              "      <th>macro avg</th>\n",
              "      <td>0.792357</td>\n",
              "      <td>0.791990</td>\n",
              "      <td>0.792170</td>\n",
              "      <td>477.000000</td>\n",
              "      <td>is_content</td>\n",
              "    </tr>\n",
              "    <tr>\n",
              "      <th>weighted avg</th>\n",
              "      <td>0.796525</td>\n",
              "      <td>0.796646</td>\n",
              "      <td>0.796582</td>\n",
              "      <td>477.000000</td>\n",
              "      <td>is_content</td>\n",
              "    </tr>\n",
              "    <tr>\n",
              "      <th>0</th>\n",
              "      <td>0.807818</td>\n",
              "      <td>0.802589</td>\n",
              "      <td>0.805195</td>\n",
              "      <td>309.000000</td>\n",
              "      <td>is_scene</td>\n",
              "    </tr>\n",
              "    <tr>\n",
              "      <th>1</th>\n",
              "      <td>0.641176</td>\n",
              "      <td>0.648810</td>\n",
              "      <td>0.644970</td>\n",
              "      <td>168.000000</td>\n",
              "      <td>is_scene</td>\n",
              "    </tr>\n",
              "    <tr>\n",
              "      <th>accuracy</th>\n",
              "      <td>0.748428</td>\n",
              "      <td>0.748428</td>\n",
              "      <td>0.748428</td>\n",
              "      <td>0.748428</td>\n",
              "      <td>is_scene</td>\n",
              "    </tr>\n",
              "    <tr>\n",
              "      <th>macro avg</th>\n",
              "      <td>0.724497</td>\n",
              "      <td>0.725699</td>\n",
              "      <td>0.725083</td>\n",
              "      <td>477.000000</td>\n",
              "      <td>is_scene</td>\n",
              "    </tr>\n",
              "    <tr>\n",
              "      <th>weighted avg</th>\n",
              "      <td>0.749126</td>\n",
              "      <td>0.748428</td>\n",
              "      <td>0.748764</td>\n",
              "      <td>477.000000</td>\n",
              "      <td>is_scene</td>\n",
              "    </tr>\n",
              "    <tr>\n",
              "      <th>0</th>\n",
              "      <td>0.915068</td>\n",
              "      <td>0.954286</td>\n",
              "      <td>0.934266</td>\n",
              "      <td>350.000000</td>\n",
              "      <td>is_sound</td>\n",
              "    </tr>\n",
              "    <tr>\n",
              "      <th>1</th>\n",
              "      <td>0.857143</td>\n",
              "      <td>0.755906</td>\n",
              "      <td>0.803347</td>\n",
              "      <td>127.000000</td>\n",
              "      <td>is_sound</td>\n",
              "    </tr>\n",
              "    <tr>\n",
              "      <th>accuracy</th>\n",
              "      <td>0.901468</td>\n",
              "      <td>0.901468</td>\n",
              "      <td>0.901468</td>\n",
              "      <td>0.901468</td>\n",
              "      <td>is_sound</td>\n",
              "    </tr>\n",
              "    <tr>\n",
              "      <th>macro avg</th>\n",
              "      <td>0.886106</td>\n",
              "      <td>0.855096</td>\n",
              "      <td>0.868807</td>\n",
              "      <td>477.000000</td>\n",
              "      <td>is_sound</td>\n",
              "    </tr>\n",
              "    <tr>\n",
              "      <th>weighted avg</th>\n",
              "      <td>0.899646</td>\n",
              "      <td>0.901468</td>\n",
              "      <td>0.899409</td>\n",
              "      <td>477.000000</td>\n",
              "      <td>is_sound</td>\n",
              "    </tr>\n",
              "  </tbody>\n",
              "</table>\n",
              "</div>\n",
              "    <div class=\"colab-df-buttons\">\n",
              "\n",
              "  <div class=\"colab-df-container\">\n",
              "    <button class=\"colab-df-convert\" onclick=\"convertToInteractive('df-93c33914-506d-4014-b303-379f62a6d29b')\"\n",
              "            title=\"Convert this dataframe to an interactive table.\"\n",
              "            style=\"display:none;\">\n",
              "\n",
              "  <svg xmlns=\"http://www.w3.org/2000/svg\" height=\"24px\" viewBox=\"0 -960 960 960\">\n",
              "    <path d=\"M120-120v-720h720v720H120Zm60-500h600v-160H180v160Zm220 220h160v-160H400v160Zm0 220h160v-160H400v160ZM180-400h160v-160H180v160Zm440 0h160v-160H620v160ZM180-180h160v-160H180v160Zm440 0h160v-160H620v160Z\"/>\n",
              "  </svg>\n",
              "    </button>\n",
              "\n",
              "  <style>\n",
              "    .colab-df-container {\n",
              "      display:flex;\n",
              "      gap: 12px;\n",
              "    }\n",
              "\n",
              "    .colab-df-convert {\n",
              "      background-color: #E8F0FE;\n",
              "      border: none;\n",
              "      border-radius: 50%;\n",
              "      cursor: pointer;\n",
              "      display: none;\n",
              "      fill: #1967D2;\n",
              "      height: 32px;\n",
              "      padding: 0 0 0 0;\n",
              "      width: 32px;\n",
              "    }\n",
              "\n",
              "    .colab-df-convert:hover {\n",
              "      background-color: #E2EBFA;\n",
              "      box-shadow: 0px 1px 2px rgba(60, 64, 67, 0.3), 0px 1px 3px 1px rgba(60, 64, 67, 0.15);\n",
              "      fill: #174EA6;\n",
              "    }\n",
              "\n",
              "    .colab-df-buttons div {\n",
              "      margin-bottom: 4px;\n",
              "    }\n",
              "\n",
              "    [theme=dark] .colab-df-convert {\n",
              "      background-color: #3B4455;\n",
              "      fill: #D2E3FC;\n",
              "    }\n",
              "\n",
              "    [theme=dark] .colab-df-convert:hover {\n",
              "      background-color: #434B5C;\n",
              "      box-shadow: 0px 1px 3px 1px rgba(0, 0, 0, 0.15);\n",
              "      filter: drop-shadow(0px 1px 2px rgba(0, 0, 0, 0.3));\n",
              "      fill: #FFFFFF;\n",
              "    }\n",
              "  </style>\n",
              "\n",
              "    <script>\n",
              "      const buttonEl =\n",
              "        document.querySelector('#df-93c33914-506d-4014-b303-379f62a6d29b button.colab-df-convert');\n",
              "      buttonEl.style.display =\n",
              "        google.colab.kernel.accessAllowed ? 'block' : 'none';\n",
              "\n",
              "      async function convertToInteractive(key) {\n",
              "        const element = document.querySelector('#df-93c33914-506d-4014-b303-379f62a6d29b');\n",
              "        const dataTable =\n",
              "          await google.colab.kernel.invokeFunction('convertToInteractive',\n",
              "                                                    [key], {});\n",
              "        if (!dataTable) return;\n",
              "\n",
              "        const docLinkHtml = 'Like what you see? Visit the ' +\n",
              "          '<a target=\"_blank\" href=https://colab.research.google.com/notebooks/data_table.ipynb>data table notebook</a>'\n",
              "          + ' to learn more about interactive tables.';\n",
              "        element.innerHTML = '';\n",
              "        dataTable['output_type'] = 'display_data';\n",
              "        await google.colab.output.renderOutput(dataTable, element);\n",
              "        const docLink = document.createElement('div');\n",
              "        docLink.innerHTML = docLinkHtml;\n",
              "        element.appendChild(docLink);\n",
              "      }\n",
              "    </script>\n",
              "  </div>\n",
              "\n",
              "\n",
              "<div id=\"df-05eeee11-eee6-46d0-9fd3-51a1a152b4aa\">\n",
              "  <button class=\"colab-df-quickchart\" onclick=\"quickchart('df-05eeee11-eee6-46d0-9fd3-51a1a152b4aa')\"\n",
              "            title=\"Suggest charts\"\n",
              "            style=\"display:none;\">\n",
              "\n",
              "<svg xmlns=\"http://www.w3.org/2000/svg\" height=\"24px\"viewBox=\"0 0 24 24\"\n",
              "     width=\"24px\">\n",
              "    <g>\n",
              "        <path d=\"M19 3H5c-1.1 0-2 .9-2 2v14c0 1.1.9 2 2 2h14c1.1 0 2-.9 2-2V5c0-1.1-.9-2-2-2zM9 17H7v-7h2v7zm4 0h-2V7h2v10zm4 0h-2v-4h2v4z\"/>\n",
              "    </g>\n",
              "</svg>\n",
              "  </button>\n",
              "\n",
              "<style>\n",
              "  .colab-df-quickchart {\n",
              "      --bg-color: #E8F0FE;\n",
              "      --fill-color: #1967D2;\n",
              "      --hover-bg-color: #E2EBFA;\n",
              "      --hover-fill-color: #174EA6;\n",
              "      --disabled-fill-color: #AAA;\n",
              "      --disabled-bg-color: #DDD;\n",
              "  }\n",
              "\n",
              "  [theme=dark] .colab-df-quickchart {\n",
              "      --bg-color: #3B4455;\n",
              "      --fill-color: #D2E3FC;\n",
              "      --hover-bg-color: #434B5C;\n",
              "      --hover-fill-color: #FFFFFF;\n",
              "      --disabled-bg-color: #3B4455;\n",
              "      --disabled-fill-color: #666;\n",
              "  }\n",
              "\n",
              "  .colab-df-quickchart {\n",
              "    background-color: var(--bg-color);\n",
              "    border: none;\n",
              "    border-radius: 50%;\n",
              "    cursor: pointer;\n",
              "    display: none;\n",
              "    fill: var(--fill-color);\n",
              "    height: 32px;\n",
              "    padding: 0;\n",
              "    width: 32px;\n",
              "  }\n",
              "\n",
              "  .colab-df-quickchart:hover {\n",
              "    background-color: var(--hover-bg-color);\n",
              "    box-shadow: 0 1px 2px rgba(60, 64, 67, 0.3), 0 1px 3px 1px rgba(60, 64, 67, 0.15);\n",
              "    fill: var(--button-hover-fill-color);\n",
              "  }\n",
              "\n",
              "  .colab-df-quickchart-complete:disabled,\n",
              "  .colab-df-quickchart-complete:disabled:hover {\n",
              "    background-color: var(--disabled-bg-color);\n",
              "    fill: var(--disabled-fill-color);\n",
              "    box-shadow: none;\n",
              "  }\n",
              "\n",
              "  .colab-df-spinner {\n",
              "    border: 2px solid var(--fill-color);\n",
              "    border-color: transparent;\n",
              "    border-bottom-color: var(--fill-color);\n",
              "    animation:\n",
              "      spin 1s steps(1) infinite;\n",
              "  }\n",
              "\n",
              "  @keyframes spin {\n",
              "    0% {\n",
              "      border-color: transparent;\n",
              "      border-bottom-color: var(--fill-color);\n",
              "      border-left-color: var(--fill-color);\n",
              "    }\n",
              "    20% {\n",
              "      border-color: transparent;\n",
              "      border-left-color: var(--fill-color);\n",
              "      border-top-color: var(--fill-color);\n",
              "    }\n",
              "    30% {\n",
              "      border-color: transparent;\n",
              "      border-left-color: var(--fill-color);\n",
              "      border-top-color: var(--fill-color);\n",
              "      border-right-color: var(--fill-color);\n",
              "    }\n",
              "    40% {\n",
              "      border-color: transparent;\n",
              "      border-right-color: var(--fill-color);\n",
              "      border-top-color: var(--fill-color);\n",
              "    }\n",
              "    60% {\n",
              "      border-color: transparent;\n",
              "      border-right-color: var(--fill-color);\n",
              "    }\n",
              "    80% {\n",
              "      border-color: transparent;\n",
              "      border-right-color: var(--fill-color);\n",
              "      border-bottom-color: var(--fill-color);\n",
              "    }\n",
              "    90% {\n",
              "      border-color: transparent;\n",
              "      border-bottom-color: var(--fill-color);\n",
              "    }\n",
              "  }\n",
              "</style>\n",
              "\n",
              "  <script>\n",
              "    async function quickchart(key) {\n",
              "      const quickchartButtonEl =\n",
              "        document.querySelector('#' + key + ' button');\n",
              "      quickchartButtonEl.disabled = true;  // To prevent multiple clicks.\n",
              "      quickchartButtonEl.classList.add('colab-df-spinner');\n",
              "      try {\n",
              "        const charts = await google.colab.kernel.invokeFunction(\n",
              "            'suggestCharts', [key], {});\n",
              "      } catch (error) {\n",
              "        console.error('Error during call to suggestCharts:', error);\n",
              "      }\n",
              "      quickchartButtonEl.classList.remove('colab-df-spinner');\n",
              "      quickchartButtonEl.classList.add('colab-df-quickchart-complete');\n",
              "    }\n",
              "    (() => {\n",
              "      let quickchartButtonEl =\n",
              "        document.querySelector('#df-05eeee11-eee6-46d0-9fd3-51a1a152b4aa button');\n",
              "      quickchartButtonEl.style.display =\n",
              "        google.colab.kernel.accessAllowed ? 'block' : 'none';\n",
              "    })();\n",
              "  </script>\n",
              "</div>\n",
              "\n",
              "  <div id=\"id_4389e4d8-5c61-4263-9f90-f292bda64686\">\n",
              "    <style>\n",
              "      .colab-df-generate {\n",
              "        background-color: #E8F0FE;\n",
              "        border: none;\n",
              "        border-radius: 50%;\n",
              "        cursor: pointer;\n",
              "        display: none;\n",
              "        fill: #1967D2;\n",
              "        height: 32px;\n",
              "        padding: 0 0 0 0;\n",
              "        width: 32px;\n",
              "      }\n",
              "\n",
              "      .colab-df-generate:hover {\n",
              "        background-color: #E2EBFA;\n",
              "        box-shadow: 0px 1px 2px rgba(60, 64, 67, 0.3), 0px 1px 3px 1px rgba(60, 64, 67, 0.15);\n",
              "        fill: #174EA6;\n",
              "      }\n",
              "\n",
              "      [theme=dark] .colab-df-generate {\n",
              "        background-color: #3B4455;\n",
              "        fill: #D2E3FC;\n",
              "      }\n",
              "\n",
              "      [theme=dark] .colab-df-generate:hover {\n",
              "        background-color: #434B5C;\n",
              "        box-shadow: 0px 1px 3px 1px rgba(0, 0, 0, 0.15);\n",
              "        filter: drop-shadow(0px 1px 2px rgba(0, 0, 0, 0.3));\n",
              "        fill: #FFFFFF;\n",
              "      }\n",
              "    </style>\n",
              "    <button class=\"colab-df-generate\" onclick=\"generateWithVariable('output_aspect_report')\"\n",
              "            title=\"Generate code using this dataframe.\"\n",
              "            style=\"display:none;\">\n",
              "\n",
              "  <svg xmlns=\"http://www.w3.org/2000/svg\" height=\"24px\"viewBox=\"0 0 24 24\"\n",
              "       width=\"24px\">\n",
              "    <path d=\"M7,19H8.4L18.45,9,17,7.55,7,17.6ZM5,21V16.75L18.45,3.32a2,2,0,0,1,2.83,0l1.4,1.43a1.91,1.91,0,0,1,.58,1.4,1.91,1.91,0,0,1-.58,1.4L9.25,21ZM18.45,9,17,7.55Zm-12,3A5.31,5.31,0,0,0,4.9,8.1,5.31,5.31,0,0,0,1,6.5,5.31,5.31,0,0,0,4.9,4.9,5.31,5.31,0,0,0,6.5,1,5.31,5.31,0,0,0,8.1,4.9,5.31,5.31,0,0,0,12,6.5,5.46,5.46,0,0,0,6.5,12Z\"/>\n",
              "  </svg>\n",
              "    </button>\n",
              "    <script>\n",
              "      (() => {\n",
              "      const buttonEl =\n",
              "        document.querySelector('#id_4389e4d8-5c61-4263-9f90-f292bda64686 button.colab-df-generate');\n",
              "      buttonEl.style.display =\n",
              "        google.colab.kernel.accessAllowed ? 'block' : 'none';\n",
              "\n",
              "      buttonEl.onclick = () => {\n",
              "        google.colab.notebook.generateWithVariable('output_aspect_report');\n",
              "      }\n",
              "      })();\n",
              "    </script>\n",
              "  </div>\n",
              "\n",
              "    </div>\n",
              "  </div>\n"
            ],
            "text/plain": [
              "              precision    recall  f1-score     support        aspect\n",
              "0              0.849398  0.921569  0.884013  306.000000  is_character\n",
              "1              0.834483  0.707602  0.765823  171.000000  is_character\n",
              "accuracy       0.844864  0.844864  0.844864    0.844864  is_character\n",
              "macro avg      0.841940  0.814585  0.824918  477.000000  is_character\n",
              "weighted avg   0.844051  0.844864  0.841643  477.000000  is_character\n",
              "0              0.821168  0.824176  0.822669  273.000000    is_content\n",
              "1              0.763547  0.759804  0.761671  204.000000    is_content\n",
              "accuracy       0.796646  0.796646  0.796646    0.796646    is_content\n",
              "macro avg      0.792357  0.791990  0.792170  477.000000    is_content\n",
              "weighted avg   0.796525  0.796646  0.796582  477.000000    is_content\n",
              "0              0.807818  0.802589  0.805195  309.000000      is_scene\n",
              "1              0.641176  0.648810  0.644970  168.000000      is_scene\n",
              "accuracy       0.748428  0.748428  0.748428    0.748428      is_scene\n",
              "macro avg      0.724497  0.725699  0.725083  477.000000      is_scene\n",
              "weighted avg   0.749126  0.748428  0.748764  477.000000      is_scene\n",
              "0              0.915068  0.954286  0.934266  350.000000      is_sound\n",
              "1              0.857143  0.755906  0.803347  127.000000      is_sound\n",
              "accuracy       0.901468  0.901468  0.901468    0.901468      is_sound\n",
              "macro avg      0.886106  0.855096  0.868807  477.000000      is_sound\n",
              "weighted avg   0.899646  0.901468  0.899409  477.000000      is_sound"
            ]
          },
          "execution_count": 141,
          "metadata": {},
          "output_type": "execute_result"
        }
      ],
      "execution_count": null
    },
    {
      "cell_type": "code",
      "source": [
        "plt.plot(history.history['loss'], label='Training loss')\n",
        "plt.plot(history.history['val_loss'], label='Validation loss')\n",
        "plt.legend()"
      ],
      "metadata": {
        "id": "zpc1_mqDxQ3E"
      },
      "outputs": [],
      "execution_count": null
    },
    {
      "cell_type": "code",
      "source": [
        "plt.plot(history.history['out_character_accuracy'], label='Training Accuracy')\n",
        "plt.plot(history.history['val_out_character_accuracy'], label='Validation Accuracy')\n",
        "plt.legend()"
      ],
      "metadata": {
        "id": "j_BkWzXjxdWv"
      },
      "outputs": [],
      "execution_count": null
    },
    {
      "cell_type": "markdown",
      "source": [
        "- Stage 2 : Polarity"
      ],
      "metadata": {
        "id": "1fNv7hzcBPMd"
      }
    },
    {
      "cell_type": "code",
      "source": [
        "lst_aspect = []\n",
        "for col in label_aspect_train.columns.values:\n",
        "  if col!='is_others':\n",
        "    lst_aspect.append(col.split('_')[1])"
      ],
      "metadata": {
        "id": "RKVg517BBFJx",
        "trusted": true,
        "execution": {
          "iopub.status.busy": "2024-12-16T03:05:50.732283Z",
          "iopub.execute_input": "2024-12-16T03:05:50.732974Z",
          "iopub.status.idle": "2024-12-16T03:05:50.737077Z",
          "shell.execute_reply.started": "2024-12-16T03:05:50.732941Z",
          "shell.execute_reply": "2024-12-16T03:05:50.736135Z"
        }
      },
      "outputs": [],
      "execution_count": null
    },
    {
      "cell_type": "code",
      "source": [
        "#tokenize stage 2\n",
        "tokenized_sentiment_train = {}\n",
        "tokenized_sentiment_val = {}\n",
        "tokenized_sentiment_test = {}\n",
        "tokenizer_sentiment = {}\n",
        "\n",
        "for aspect in lst_aspect:\n",
        "  tokenizer_sentiment[aspect], tokenized_sentiment_train[aspect], tokenized_sentiment_val[aspect], tokenized_sentiment_test[aspect] = get_tokenize(cmt_train[aspect], cmt_val[aspect], cmt_test[aspect])\n",
        "\n",
        "#padding stage 2\n",
        "padded_sentiment_train = {}\n",
        "padded_sentiment_val = {}\n",
        "padded_sentiment_test = {}\n",
        "for aspect in lst_aspect:\n",
        "  padded_sentiment_train[aspect], padded_sentiment_val[aspect], padded_sentiment_test[aspect] = get_padded(max_len, tokenized_sentiment_train[aspect], tokenized_sentiment_val[aspect], tokenized_sentiment_test[aspect])\n",
        "\n",
        "#embedding matrix stage 2\n",
        "vocab_sentiment_size = {}\n",
        "embedding_sentiment_matrix = {}\n",
        "for aspect in lst_aspect:\n",
        "  vocab_sentiment_size[aspect]  = len(tokenizer_sentiment[aspect].word_index)+1\n",
        "  embedding_sentiment_matrix[aspect] = get_embedding_matrix(embedding_dim, vocab_sentiment_size[aspect], tokenizer_sentiment[aspect])"
      ],
      "metadata": {
        "id": "rlXkdT-kBRz0",
        "trusted": true,
        "execution": {
          "iopub.status.busy": "2024-12-16T03:05:51.603119Z",
          "iopub.execute_input": "2024-12-16T03:05:51.603876Z",
          "iopub.status.idle": "2024-12-16T03:05:52.241491Z",
          "shell.execute_reply.started": "2024-12-16T03:05:51.603845Z",
          "shell.execute_reply": "2024-12-16T03:05:52.240775Z"
        }
      },
      "outputs": [],
      "execution_count": null
    },
    {
      "cell_type": "code",
      "source": [
        "# training model\n",
        "sentiment_model = {}\n",
        "for aspect in lst_aspect:\n",
        "  sentiment_model[aspect] = bilstm_polarity(aspect, vocab_sentiment_size, embedding_dim, max_len, embedding_sentiment_matrix, padded_sentiment_train, padded_sentiment_val, label_sentiment_train, label_sentiment_val)\n",
        "  sentiment_model[aspect].save('/kaggle/working/BiLSTM/stl_BiLSTM_polarity_{aspect}.h5')"
      ],
      "metadata": {
        "colab": {
          "base_uri": "https://localhost:8080/"
        },
        "id": "L1_GJBNpBUWw",
        "outputId": "823e1461-627f-4307-b406-698c134127b2",
        "trusted": true,
        "execution": {
          "iopub.status.busy": "2024-12-16T03:09:05.435574Z",
          "iopub.execute_input": "2024-12-16T03:09:05.436261Z",
          "iopub.status.idle": "2024-12-16T03:11:01.038073Z",
          "shell.execute_reply.started": "2024-12-16T03:09:05.436226Z",
          "shell.execute_reply": "2024-12-16T03:11:01.036967Z"
        }
      },
      "outputs": [
        {
          "name": "stdout",
          "text": "Epoch 1/70\n\u001b[1m11/11\u001b[0m \u001b[32m━━━━━━━━━━━━━━━━━━━━\u001b[0m\u001b[37m\u001b[0m \u001b[1m4s\u001b[0m 114ms/step - acc: 0.3396 - loss: 0.6714 - val_acc: 0.5655 - val_loss: 0.6267\nEpoch 2/70\n\u001b[1m11/11\u001b[0m \u001b[32m━━━━━━━━━━━━━━━━━━━━\u001b[0m\u001b[37m\u001b[0m \u001b[1m1s\u001b[0m 83ms/step - acc: 0.5549 - loss: 0.6148 - val_acc: 0.6667 - val_loss: 0.5666\nEpoch 3/70\n\u001b[1m11/11\u001b[0m \u001b[32m━━━━━━━━━━━━━━━━━━━━\u001b[0m\u001b[37m\u001b[0m \u001b[1m1s\u001b[0m 83ms/step - acc: 0.6295 - loss: 0.5609 - val_acc: 0.6786 - val_loss: 0.5270\nEpoch 4/70\n\u001b[1m11/11\u001b[0m \u001b[32m━━━━━━━━━━━━━━━━━━━━\u001b[0m\u001b[37m\u001b[0m \u001b[1m1s\u001b[0m 83ms/step - acc: 0.6490 - loss: 0.5283 - val_acc: 0.6786 - val_loss: 0.5005\nEpoch 5/70\n\u001b[1m11/11\u001b[0m \u001b[32m━━━━━━━━━━━━━━━━━━━━\u001b[0m\u001b[37m\u001b[0m \u001b[1m1s\u001b[0m 83ms/step - acc: 0.6540 - loss: 0.5045 - val_acc: 0.6667 - val_loss: 0.4875\nEpoch 6/70\n\u001b[1m11/11\u001b[0m \u001b[32m━━━━━━━━━━━━━━━━━━━━\u001b[0m\u001b[37m\u001b[0m \u001b[1m1s\u001b[0m 83ms/step - acc: 0.6461 - loss: 0.4986 - val_acc: 0.6667 - val_loss: 0.4793\nEpoch 7/70\n\u001b[1m11/11\u001b[0m \u001b[32m━━━━━━━━━━━━━━━━━━━━\u001b[0m\u001b[37m\u001b[0m \u001b[1m1s\u001b[0m 83ms/step - acc: 0.6509 - loss: 0.4807 - val_acc: 0.6786 - val_loss: 0.4703\nEpoch 8/70\n\u001b[1m11/11\u001b[0m \u001b[32m━━━━━━━━━━━━━━━━━━━━\u001b[0m\u001b[37m\u001b[0m \u001b[1m1s\u001b[0m 83ms/step - acc: 0.6785 - loss: 0.4545 - val_acc: 0.6786 - val_loss: 0.4634\nEpoch 9/70\n\u001b[1m11/11\u001b[0m \u001b[32m━━━━━━━━━━━━━━━━━━━━\u001b[0m\u001b[37m\u001b[0m \u001b[1m1s\u001b[0m 83ms/step - acc: 0.6800 - loss: 0.4465 - val_acc: 0.6786 - val_loss: 0.4541\nEpoch 10/70\n\u001b[1m11/11\u001b[0m \u001b[32m━━━━━━━━━━━━━━━━━━━━\u001b[0m\u001b[37m\u001b[0m \u001b[1m1s\u001b[0m 83ms/step - acc: 0.7082 - loss: 0.4218 - val_acc: 0.6905 - val_loss: 0.4478\nEpoch 11/70\n\u001b[1m11/11\u001b[0m \u001b[32m━━━━━━━━━━━━━━━━━━━━\u001b[0m\u001b[37m\u001b[0m \u001b[1m1s\u001b[0m 84ms/step - acc: 0.7456 - loss: 0.3938 - val_acc: 0.6845 - val_loss: 0.4441\nEpoch 12/70\n\u001b[1m11/11\u001b[0m \u001b[32m━━━━━━━━━━━━━━━━━━━━\u001b[0m\u001b[37m\u001b[0m \u001b[1m1s\u001b[0m 83ms/step - acc: 0.7717 - loss: 0.3608 - val_acc: 0.7143 - val_loss: 0.4336\nEpoch 13/70\n\u001b[1m11/11\u001b[0m \u001b[32m━━━━━━━━━━━━━━━━━━━━\u001b[0m\u001b[37m\u001b[0m \u001b[1m1s\u001b[0m 84ms/step - acc: 0.8055 - loss: 0.3198 - val_acc: 0.7202 - val_loss: 0.4231\nEpoch 14/70\n\u001b[1m11/11\u001b[0m \u001b[32m━━━━━━━━━━━━━━━━━━━━\u001b[0m\u001b[37m\u001b[0m \u001b[1m1s\u001b[0m 83ms/step - acc: 0.8350 - loss: 0.2828 - val_acc: 0.7381 - val_loss: 0.4172\nEpoch 15/70\n\u001b[1m11/11\u001b[0m \u001b[32m━━━━━━━━━━━━━━━━━━━━\u001b[0m\u001b[37m\u001b[0m \u001b[1m1s\u001b[0m 85ms/step - acc: 0.8617 - loss: 0.2576 - val_acc: 0.7440 - val_loss: 0.4297\nEpoch 16/70\n\u001b[1m11/11\u001b[0m \u001b[32m━━━━━━━━━━━━━━━━━━━━\u001b[0m\u001b[37m\u001b[0m \u001b[1m1s\u001b[0m 84ms/step - acc: 0.9011 - loss: 0.2126 - val_acc: 0.7500 - val_loss: 0.4273\nEpoch 17/70\n\u001b[1m11/11\u001b[0m \u001b[32m━━━━━━━━━━━━━━━━━━━━\u001b[0m\u001b[37m\u001b[0m \u001b[1m1s\u001b[0m 84ms/step - acc: 0.9163 - loss: 0.1764 - val_acc: 0.7262 - val_loss: 0.4598\nEpoch 1/70\n\u001b[1m12/12\u001b[0m \u001b[32m━━━━━━━━━━━━━━━━━━━━\u001b[0m\u001b[37m\u001b[0m \u001b[1m4s\u001b[0m 112ms/step - acc: 0.3039 - loss: 0.6835 - val_acc: 0.4400 - val_loss: 0.6479\nEpoch 2/70\n\u001b[1m12/12\u001b[0m \u001b[32m━━━━━━━━━━━━━━━━━━━━\u001b[0m\u001b[37m\u001b[0m \u001b[1m1s\u001b[0m 85ms/step - acc: 0.4951 - loss: 0.6366 - val_acc: 0.5050 - val_loss: 0.6102\nEpoch 3/70\n\u001b[1m12/12\u001b[0m \u001b[32m━━━━━━━━━━━━━━━━━━━━\u001b[0m\u001b[37m\u001b[0m \u001b[1m1s\u001b[0m 84ms/step - acc: 0.4979 - loss: 0.6082 - val_acc: 0.5050 - val_loss: 0.5987\nEpoch 4/70\n\u001b[1m12/12\u001b[0m \u001b[32m━━━━━━━━━━━━━━━━━━━━\u001b[0m\u001b[37m\u001b[0m \u001b[1m1s\u001b[0m 85ms/step - acc: 0.4925 - loss: 0.5977 - val_acc: 0.5050 - val_loss: 0.5945\nEpoch 5/70\n\u001b[1m12/12\u001b[0m \u001b[32m━━━━━━━━━━━━━━━━━━━━\u001b[0m\u001b[37m\u001b[0m \u001b[1m1s\u001b[0m 85ms/step - acc: 0.5027 - loss: 0.5853 - val_acc: 0.5100 - val_loss: 0.5851\nEpoch 6/70\n\u001b[1m12/12\u001b[0m \u001b[32m━━━━━━━━━━━━━━━━━━━━\u001b[0m\u001b[37m\u001b[0m \u001b[1m1s\u001b[0m 84ms/step - acc: 0.5304 - loss: 0.5737 - val_acc: 0.5350 - val_loss: 0.5712\nEpoch 7/70\n\u001b[1m12/12\u001b[0m \u001b[32m━━━━━━━━━━━━━━━━━━━━\u001b[0m\u001b[37m\u001b[0m \u001b[1m1s\u001b[0m 85ms/step - acc: 0.5926 - loss: 0.5532 - val_acc: 0.5700 - val_loss: 0.5509\nEpoch 8/70\n\u001b[1m12/12\u001b[0m \u001b[32m━━━━━━━━━━━━━━━━━━━━\u001b[0m\u001b[37m\u001b[0m \u001b[1m1s\u001b[0m 86ms/step - acc: 0.6252 - loss: 0.5226 - val_acc: 0.6150 - val_loss: 0.5283\nEpoch 9/70\n\u001b[1m12/12\u001b[0m \u001b[32m━━━━━━━━━━━━━━━━━━━━\u001b[0m\u001b[37m\u001b[0m \u001b[1m1s\u001b[0m 85ms/step - acc: 0.6708 - loss: 0.4902 - val_acc: 0.6250 - val_loss: 0.5093\nEpoch 10/70\n\u001b[1m12/12\u001b[0m \u001b[32m━━━━━━━━━━━━━━━━━━━━\u001b[0m\u001b[37m\u001b[0m \u001b[1m1s\u001b[0m 85ms/step - acc: 0.7175 - loss: 0.4478 - val_acc: 0.6450 - val_loss: 0.4915\nEpoch 11/70\n\u001b[1m12/12\u001b[0m \u001b[32m━━━━━━━━━━━━━━━━━━━━\u001b[0m\u001b[37m\u001b[0m \u001b[1m1s\u001b[0m 85ms/step - acc: 0.7500 - loss: 0.4134 - val_acc: 0.6400 - val_loss: 0.5119\nEpoch 12/70\n\u001b[1m12/12\u001b[0m \u001b[32m━━━━━━━━━━━━━━━━━━━━\u001b[0m\u001b[37m\u001b[0m \u001b[1m1s\u001b[0m 85ms/step - acc: 0.7345 - loss: 0.4013 - val_acc: 0.6500 - val_loss: 0.5104\nEpoch 13/70\n\u001b[1m12/12\u001b[0m \u001b[32m━━━━━━━━━━━━━━━━━━━━\u001b[0m\u001b[37m\u001b[0m \u001b[1m1s\u001b[0m 86ms/step - acc: 0.7727 - loss: 0.3507 - val_acc: 0.6450 - val_loss: 0.4914\nEpoch 14/70\n\u001b[1m12/12\u001b[0m \u001b[32m━━━━━━━━━━━━━━━━━━━━\u001b[0m\u001b[37m\u001b[0m \u001b[1m1s\u001b[0m 86ms/step - acc: 0.8185 - loss: 0.3203 - val_acc: 0.6550 - val_loss: 0.5086\nEpoch 15/70\n\u001b[1m12/12\u001b[0m \u001b[32m━━━━━━━━━━━━━━━━━━━━\u001b[0m\u001b[37m\u001b[0m \u001b[1m1s\u001b[0m 87ms/step - acc: 0.8397 - loss: 0.2892 - val_acc: 0.6800 - val_loss: 0.5208\nEpoch 16/70\n\u001b[1m12/12\u001b[0m \u001b[32m━━━━━━━━━━━━━━━━━━━━\u001b[0m\u001b[37m\u001b[0m \u001b[1m1s\u001b[0m 89ms/step - acc: 0.8765 - loss: 0.2483 - val_acc: 0.6650 - val_loss: 0.5601\nEpoch 1/70\n\u001b[1m10/10\u001b[0m \u001b[32m━━━━━━━━━━━━━━━━━━━━\u001b[0m\u001b[37m\u001b[0m \u001b[1m3s\u001b[0m 118ms/step - acc: 0.4398 - loss: 0.6686 - val_acc: 0.5533 - val_loss: 0.6210\nEpoch 2/70\n\u001b[1m10/10\u001b[0m \u001b[32m━━━━━━━━━━━━━━━━━━━━\u001b[0m\u001b[37m\u001b[0m \u001b[1m1s\u001b[0m 85ms/step - acc: 0.5150 - loss: 0.6175 - val_acc: 0.5800 - val_loss: 0.5806\nEpoch 3/70\n\u001b[1m10/10\u001b[0m \u001b[32m━━━━━━━━━━━━━━━━━━━━\u001b[0m\u001b[37m\u001b[0m \u001b[1m1s\u001b[0m 85ms/step - acc: 0.5381 - loss: 0.5825 - val_acc: 0.6133 - val_loss: 0.5583\nEpoch 4/70\n\u001b[1m10/10\u001b[0m \u001b[32m━━━━━━━━━━━━━━━━━━━━\u001b[0m\u001b[37m\u001b[0m \u001b[1m1s\u001b[0m 85ms/step - acc: 0.5804 - loss: 0.5556 - val_acc: 0.6333 - val_loss: 0.5419\nEpoch 5/70\n\u001b[1m10/10\u001b[0m \u001b[32m━━━━━━━━━━━━━━━━━━━━\u001b[0m\u001b[37m\u001b[0m \u001b[1m1s\u001b[0m 85ms/step - acc: 0.6118 - loss: 0.5437 - val_acc: 0.6467 - val_loss: 0.5255\nEpoch 6/70\n\u001b[1m10/10\u001b[0m \u001b[32m━━━━━━━━━━━━━━━━━━━━\u001b[0m\u001b[37m\u001b[0m \u001b[1m1s\u001b[0m 85ms/step - acc: 0.6645 - loss: 0.5137 - val_acc: 0.6600 - val_loss: 0.5080\nEpoch 7/70\n\u001b[1m10/10\u001b[0m \u001b[32m━━━━━━━━━━━━━━━━━━━━\u001b[0m\u001b[37m\u001b[0m \u001b[1m1s\u001b[0m 85ms/step - acc: 0.6515 - loss: 0.4944 - val_acc: 0.6467 - val_loss: 0.4911\nEpoch 8/70\n\u001b[1m10/10\u001b[0m \u001b[32m━━━━━━━━━━━━━━━━━━━━\u001b[0m\u001b[37m\u001b[0m \u001b[1m1s\u001b[0m 85ms/step - acc: 0.6661 - loss: 0.4738 - val_acc: 0.6800 - val_loss: 0.4699\nEpoch 9/70\n\u001b[1m10/10\u001b[0m \u001b[32m━━━━━━━━━━━━━━━━━━━━\u001b[0m\u001b[37m\u001b[0m \u001b[1m1s\u001b[0m 85ms/step - acc: 0.7027 - loss: 0.4410 - val_acc: 0.6867 - val_loss: 0.4449\nEpoch 10/70\n\u001b[1m10/10\u001b[0m \u001b[32m━━━━━━━━━━━━━━━━━━━━\u001b[0m\u001b[37m\u001b[0m \u001b[1m1s\u001b[0m 85ms/step - acc: 0.7566 - loss: 0.4036 - val_acc: 0.7067 - val_loss: 0.4250\nEpoch 11/70\n\u001b[1m10/10\u001b[0m \u001b[32m━━━━━━━━━━━━━━━━━━━━\u001b[0m\u001b[37m\u001b[0m \u001b[1m1s\u001b[0m 85ms/step - acc: 0.7708 - loss: 0.3774 - val_acc: 0.7067 - val_loss: 0.4121\nEpoch 12/70\n\u001b[1m10/10\u001b[0m \u001b[32m━━━━━━━━━━━━━━━━━━━━\u001b[0m\u001b[37m\u001b[0m \u001b[1m1s\u001b[0m 85ms/step - acc: 0.7951 - loss: 0.3357 - val_acc: 0.7067 - val_loss: 0.4124\nEpoch 13/70\n\u001b[1m10/10\u001b[0m \u001b[32m━━━━━━━━━━━━━━━━━━━━\u001b[0m\u001b[37m\u001b[0m \u001b[1m1s\u001b[0m 85ms/step - acc: 0.8354 - loss: 0.3049 - val_acc: 0.7267 - val_loss: 0.3994\nEpoch 14/70\n\u001b[1m10/10\u001b[0m \u001b[32m━━━━━━━━━━━━━━━━━━━━\u001b[0m\u001b[37m\u001b[0m \u001b[1m1s\u001b[0m 85ms/step - acc: 0.8375 - loss: 0.2871 - val_acc: 0.7133 - val_loss: 0.3912\nEpoch 15/70\n\u001b[1m10/10\u001b[0m \u001b[32m━━━━━━━━━━━━━━━━━━━━\u001b[0m\u001b[37m\u001b[0m \u001b[1m1s\u001b[0m 85ms/step - acc: 0.8990 - loss: 0.2296 - val_acc: 0.7000 - val_loss: 0.3925\nEpoch 16/70\n\u001b[1m10/10\u001b[0m \u001b[32m━━━━━━━━━━━━━━━━━━━━\u001b[0m\u001b[37m\u001b[0m \u001b[1m1s\u001b[0m 85ms/step - acc: 0.9021 - loss: 0.2057 - val_acc: 0.7067 - val_loss: 0.4168\nEpoch 17/70\n\u001b[1m10/10\u001b[0m \u001b[32m━━━━━━━━━━━━━━━━━━━━\u001b[0m\u001b[37m\u001b[0m \u001b[1m1s\u001b[0m 87ms/step - acc: 0.9292 - loss: 0.1820 - val_acc: 0.7067 - val_loss: 0.4066\nEpoch 1/70\n\u001b[1m8/8\u001b[0m \u001b[32m━━━━━━━━━━━━━━━━━━━━\u001b[0m\u001b[37m\u001b[0m \u001b[1m3s\u001b[0m 131ms/step - acc: 0.2980 - loss: 0.6867 - val_acc: 0.3429 - val_loss: 0.6538\nEpoch 2/70\n\u001b[1m8/8\u001b[0m \u001b[32m━━━━━━━━━━━━━━━━━━━━\u001b[0m\u001b[37m\u001b[0m \u001b[1m1s\u001b[0m 88ms/step - acc: 0.3128 - loss: 0.6526 - val_acc: 0.3500 - val_loss: 0.6246\nEpoch 3/70\n\u001b[1m8/8\u001b[0m \u001b[32m━━━━━━━━━━━━━━━━━━━━\u001b[0m\u001b[37m\u001b[0m \u001b[1m1s\u001b[0m 89ms/step - acc: 0.3424 - loss: 0.6268 - val_acc: 0.3786 - val_loss: 0.6032\nEpoch 4/70\n\u001b[1m8/8\u001b[0m \u001b[32m━━━━━━━━━━━━━━━━━━━━\u001b[0m\u001b[37m\u001b[0m \u001b[1m1s\u001b[0m 90ms/step - acc: 0.3756 - loss: 0.6078 - val_acc: 0.4143 - val_loss: 0.5866\nEpoch 5/70\n\u001b[1m8/8\u001b[0m \u001b[32m━━━━━━━━━━━━━━━━━━━━\u001b[0m\u001b[37m\u001b[0m \u001b[1m1s\u001b[0m 89ms/step - acc: 0.4356 - loss: 0.5892 - val_acc: 0.4357 - val_loss: 0.5698\nEpoch 6/70\n\u001b[1m8/8\u001b[0m \u001b[32m━━━━━━━━━━━━━━━━━━━━\u001b[0m\u001b[37m\u001b[0m \u001b[1m1s\u001b[0m 89ms/step - acc: 0.4829 - loss: 0.5676 - val_acc: 0.5429 - val_loss: 0.5516\nEpoch 7/70\n\u001b[1m8/8\u001b[0m \u001b[32m━━━━━━━━━━━━━━━━━━━━\u001b[0m\u001b[37m\u001b[0m \u001b[1m1s\u001b[0m 89ms/step - acc: 0.5570 - loss: 0.5532 - val_acc: 0.6500 - val_loss: 0.5285\nEpoch 8/70\n\u001b[1m8/8\u001b[0m \u001b[32m━━━━━━━━━━━━━━━━━━━━\u001b[0m\u001b[37m\u001b[0m \u001b[1m1s\u001b[0m 89ms/step - acc: 0.6231 - loss: 0.5248 - val_acc: 0.6929 - val_loss: 0.4976\nEpoch 9/70\n\u001b[1m8/8\u001b[0m \u001b[32m━━━━━━━━━━━━━━━━━━━━\u001b[0m\u001b[37m\u001b[0m \u001b[1m1s\u001b[0m 89ms/step - acc: 0.7091 - loss: 0.5027 - val_acc: 0.7643 - val_loss: 0.4657\nEpoch 10/70\n\u001b[1m8/8\u001b[0m \u001b[32m━━━━━━━━━━━━━━━━━━━━\u001b[0m\u001b[37m\u001b[0m \u001b[1m1s\u001b[0m 89ms/step - acc: 0.7753 - loss: 0.4669 - val_acc: 0.7786 - val_loss: 0.4252\nEpoch 11/70\n\u001b[1m8/8\u001b[0m \u001b[32m━━━━━━━━━━━━━━━━━━━━\u001b[0m\u001b[37m\u001b[0m \u001b[1m1s\u001b[0m 89ms/step - acc: 0.7899 - loss: 0.4287 - val_acc: 0.8000 - val_loss: 0.3930\nEpoch 12/70\n\u001b[1m8/8\u001b[0m \u001b[32m━━━━━━━━━━━━━━━━━━━━\u001b[0m\u001b[37m\u001b[0m \u001b[1m1s\u001b[0m 89ms/step - acc: 0.8050 - loss: 0.3976 - val_acc: 0.7929 - val_loss: 0.3717\nEpoch 13/70\n\u001b[1m8/8\u001b[0m \u001b[32m━━━━━━━━━━━━━━━━━━━━\u001b[0m\u001b[37m\u001b[0m \u001b[1m1s\u001b[0m 89ms/step - acc: 0.8390 - loss: 0.3512 - val_acc: 0.8071 - val_loss: 0.3435\nEpoch 14/70\n\u001b[1m8/8\u001b[0m \u001b[32m━━━━━━━━━━━━━━━━━━━━\u001b[0m\u001b[37m\u001b[0m \u001b[1m1s\u001b[0m 89ms/step - acc: 0.8445 - loss: 0.3277 - val_acc: 0.8000 - val_loss: 0.3383\nEpoch 15/70\n\u001b[1m8/8\u001b[0m \u001b[32m━━━━━━━━━━━━━━━━━━━━\u001b[0m\u001b[37m\u001b[0m \u001b[1m1s\u001b[0m 89ms/step - acc: 0.8456 - loss: 0.3043 - val_acc: 0.8143 - val_loss: 0.3303\nEpoch 16/70\n\u001b[1m8/8\u001b[0m \u001b[32m━━━━━━━━━━━━━━━━━━━━\u001b[0m\u001b[37m\u001b[0m \u001b[1m1s\u001b[0m 89ms/step - acc: 0.8762 - loss: 0.2681 - val_acc: 0.8000 - val_loss: 0.3374\nEpoch 17/70\n\u001b[1m8/8\u001b[0m \u001b[32m━━━━━━━━━━━━━━━━━━━━\u001b[0m\u001b[37m\u001b[0m \u001b[1m1s\u001b[0m 89ms/step - acc: 0.8957 - loss: 0.2508 - val_acc: 0.8071 - val_loss: 0.3257\nEpoch 18/70\n\u001b[1m8/8\u001b[0m \u001b[32m━━━━━━━━━━━━━━━━━━━━\u001b[0m\u001b[37m\u001b[0m \u001b[1m1s\u001b[0m 89ms/step - acc: 0.8934 - loss: 0.2218 - val_acc: 0.8143 - val_loss: 0.3180\nEpoch 19/70\n\u001b[1m8/8\u001b[0m \u001b[32m━━━━━━━━━━━━━━━━━━━━\u001b[0m\u001b[37m\u001b[0m \u001b[1m1s\u001b[0m 89ms/step - acc: 0.9150 - loss: 0.1949 - val_acc: 0.7929 - val_loss: 0.3404\nEpoch 20/70\n\u001b[1m8/8\u001b[0m \u001b[32m━━━━━━━━━━━━━━━━━━━━\u001b[0m\u001b[37m\u001b[0m \u001b[1m1s\u001b[0m 89ms/step - acc: 0.9233 - loss: 0.1809 - val_acc: 0.8071 - val_loss: 0.3193\nEpoch 21/70\n\u001b[1m8/8\u001b[0m \u001b[32m━━━━━━━━━━━━━━━━━━━━\u001b[0m\u001b[37m\u001b[0m \u001b[1m1s\u001b[0m 89ms/step - acc: 0.9445 - loss: 0.1535 - val_acc: 0.8286 - val_loss: 0.3124\nEpoch 22/70\n\u001b[1m8/8\u001b[0m \u001b[32m━━━━━━━━━━━━━━━━━━━━\u001b[0m\u001b[37m\u001b[0m \u001b[1m1s\u001b[0m 89ms/step - acc: 0.9508 - loss: 0.1271 - val_acc: 0.7857 - val_loss: 0.3793\nEpoch 23/70\n\u001b[1m8/8\u001b[0m \u001b[32m━━━━━━━━━━━━━━━━━━━━\u001b[0m\u001b[37m\u001b[0m \u001b[1m1s\u001b[0m 89ms/step - acc: 0.9491 - loss: 0.1252 - val_acc: 0.8429 - val_loss: 0.3238\nEpoch 24/70\n\u001b[1m8/8\u001b[0m \u001b[32m━━━━━━━━━━━━━━━━━━━━\u001b[0m\u001b[37m\u001b[0m \u001b[1m1s\u001b[0m 89ms/step - acc: 0.9473 - loss: 0.1180 - val_acc: 0.8286 - val_loss: 0.3247\n",
          "output_type": "stream"
        }
      ],
      "execution_count": null
    },
    {
      "cell_type": "code",
      "source": [
        "# load model\n",
        "sentiment_model = {}\n",
        "for aspect in lst_aspect:\n",
        "  sentiment_model[aspect] = keras.models.load_model('/kaggle/working/BiLSTM/stl_BiLSTM_polarity_{aspect}.h5')"
      ],
      "metadata": {
        "id": "oA4AB7-HBsKU",
        "trusted": true,
        "execution": {
          "iopub.status.busy": "2024-12-16T03:11:01.039877Z",
          "iopub.execute_input": "2024-12-16T03:11:01.040244Z",
          "iopub.status.idle": "2024-12-16T03:12:04.532761Z",
          "shell.execute_reply.started": "2024-12-16T03:11:01.040205Z",
          "shell.execute_reply": "2024-12-16T03:12:04.531885Z"
        }
      },
      "outputs": [],
      "execution_count": null
    },
    {
      "cell_type": "code",
      "source": [
        "# predict\n",
        "df_sentiment_train_pred = {}\n",
        "df_sentiment_train_true_ = {}\n",
        "\n",
        "df_sentiment_val_true_ = {}\n",
        "df_sentiment_val_pred = {}\n",
        "\n",
        "df_sentiment_test_true_ = {}\n",
        "df_sentiment_test_pred = {}\n",
        "\n",
        "\n",
        "# for aspect in lst_aspect:\n",
        "for aspect in lst_aspect:\n",
        "  pred_sentiment_train = sentiment_model[aspect].predict(padded_sentiment_train[aspect])\n",
        "  pred_sentiment_val = sentiment_model[aspect].predict(padded_sentiment_val[aspect])\n",
        "  pred_sentiment_test = sentiment_model[aspect].predict(padded_sentiment_test[aspect])\n",
        "\n",
        "  df_sentiment_train_pred[aspect] = np.argmax(pred_sentiment_train, axis=1)\n",
        "  df_sentiment_train_true_[aspect] = np.argmax(label_sentiment_train[aspect], axis = 1)\n",
        "\n",
        "  df_sentiment_val_pred[aspect] = np.argmax(pred_sentiment_val, axis=1)\n",
        "  df_sentiment_val_true_[aspect] = np.argmax(label_sentiment_val[aspect], axis = 1)\n",
        "\n",
        "  df_sentiment_test_pred[aspect] = np.argmax(pred_sentiment_test, axis=1)\n",
        "  df_sentiment_test_true_[aspect] = np.argmax(label_sentiment_test[aspect], axis=1)"
      ],
      "metadata": {
        "colab": {
          "base_uri": "https://localhost:8080/"
        },
        "id": "1FeMX3CVB6gl",
        "outputId": "a0ee80ac-cb34-497a-d67f-5fa10ebfe80d",
        "trusted": true,
        "execution": {
          "iopub.status.busy": "2024-12-16T03:12:04.534094Z",
          "iopub.execute_input": "2024-12-16T03:12:04.534381Z",
          "iopub.status.idle": "2024-12-16T03:12:08.457839Z",
          "shell.execute_reply.started": "2024-12-16T03:12:04.534354Z",
          "shell.execute_reply": "2024-12-16T03:12:08.457146Z"
        }
      },
      "outputs": [
        {
          "name": "stdout",
          "text": "\u001b[1m42/42\u001b[0m \u001b[32m━━━━━━━━━━━━━━━━━━━━\u001b[0m\u001b[37m\u001b[0m \u001b[1m1s\u001b[0m 16ms/step\n\u001b[1m6/6\u001b[0m \u001b[32m━━━━━━━━━━━━━━━━━━━━\u001b[0m\u001b[37m\u001b[0m \u001b[1m0s\u001b[0m 8ms/step \n\u001b[1m6/6\u001b[0m \u001b[32m━━━━━━━━━━━━━━━━━━━━\u001b[0m\u001b[37m\u001b[0m \u001b[1m0s\u001b[0m 8ms/step \n\u001b[1m47/47\u001b[0m \u001b[32m━━━━━━━━━━━━━━━━━━━━\u001b[0m\u001b[37m\u001b[0m \u001b[1m1s\u001b[0m 12ms/step\n\u001b[1m7/7\u001b[0m \u001b[32m━━━━━━━━━━━━━━━━━━━━\u001b[0m\u001b[37m\u001b[0m \u001b[1m0s\u001b[0m 8ms/step \n\u001b[1m7/7\u001b[0m \u001b[32m━━━━━━━━━━━━━━━━━━━━\u001b[0m\u001b[37m\u001b[0m \u001b[1m0s\u001b[0m 8ms/step \n\u001b[1m39/39\u001b[0m \u001b[32m━━━━━━━━━━━━━━━━━━━━\u001b[0m\u001b[37m\u001b[0m \u001b[1m1s\u001b[0m 13ms/step\n\u001b[1m5/5\u001b[0m \u001b[32m━━━━━━━━━━━━━━━━━━━━\u001b[0m\u001b[37m\u001b[0m \u001b[1m0s\u001b[0m 8ms/step \n\u001b[1m6/6\u001b[0m \u001b[32m━━━━━━━━━━━━━━━━━━━━\u001b[0m\u001b[37m\u001b[0m \u001b[1m0s\u001b[0m 7ms/step \n\u001b[1m32/32\u001b[0m \u001b[32m━━━━━━━━━━━━━━━━━━━━\u001b[0m\u001b[37m\u001b[0m \u001b[1m1s\u001b[0m 14ms/step\n\u001b[1m5/5\u001b[0m \u001b[32m━━━━━━━━━━━━━━━━━━━━\u001b[0m\u001b[37m\u001b[0m \u001b[1m0s\u001b[0m 7ms/step \n\u001b[1m4/4\u001b[0m \u001b[32m━━━━━━━━━━━━━━━━━━━━\u001b[0m\u001b[37m\u001b[0m \u001b[1m0s\u001b[0m 8ms/step \n",
          "output_type": "stream"
        }
      ],
      "execution_count": null
    },
    {
      "cell_type": "code",
      "source": [
        "def get_pd_report_sentiment(df_sentiment_test_true_, df_sentiment_test_pred):\n",
        "\n",
        "  sentiment_result_bilstm = {}\n",
        "  # for aspect in lst_aspect:\n",
        "  for aspect in lst_aspect:\n",
        "      sentiment_result_bilstm[aspect] = pd.DataFrame(classification_report(df_sentiment_test_true_[aspect].tolist(), df_sentiment_test_pred[aspect].tolist(), output_dict=True)).T\n",
        "      sentiment_result_bilstm[aspect]['aspect'] = aspect\n",
        "\n",
        "  output_sentiment_report = pd.DataFrame()\n",
        "  for indx, val in sentiment_result_bilstm.items():\n",
        "    output_sentiment_report = pd.concat([output_sentiment_report, sentiment_result_bilstm[indx]])\n",
        "\n",
        "  return output_aspect_report"
      ],
      "metadata": {
        "id": "g_DzzoxFB9h-",
        "trusted": true,
        "execution": {
          "iopub.status.busy": "2024-12-16T03:12:08.459325Z",
          "iopub.execute_input": "2024-12-16T03:12:08.459601Z",
          "iopub.status.idle": "2024-12-16T03:12:08.464997Z",
          "shell.execute_reply.started": "2024-12-16T03:12:08.459571Z",
          "shell.execute_reply": "2024-12-16T03:12:08.464071Z"
        }
      },
      "outputs": [],
      "execution_count": null
    },
    {
      "cell_type": "code",
      "source": [
        "sentiment_result_bilstm = {}\n",
        "# for aspect in lst_aspect:\n",
        "for aspect in lst_aspect:\n",
        "    sentiment_result_bilstm[aspect] = pd.DataFrame(classification_report(df_sentiment_test_true_[aspect].tolist(), df_sentiment_test_pred[aspect].tolist(), output_dict=True)).T\n",
        "    sentiment_result_bilstm[aspect]['aspect'] = aspect\n",
        "\n",
        "output_sentiment_report = pd.DataFrame()\n",
        "for indx, val in sentiment_result_bilstm.items():\n",
        "  output_sentiment_report = pd.concat([output_sentiment_report, sentiment_result_bilstm[indx]])"
      ],
      "metadata": {
        "id": "ixEmDdBfCCSR",
        "trusted": true,
        "execution": {
          "iopub.status.busy": "2024-12-16T03:13:28.349093Z",
          "iopub.execute_input": "2024-12-16T03:13:28.349683Z",
          "iopub.status.idle": "2024-12-16T03:13:28.383900Z",
          "shell.execute_reply.started": "2024-12-16T03:13:28.349652Z",
          "shell.execute_reply": "2024-12-16T03:13:28.383242Z"
        }
      },
      "outputs": [],
      "execution_count": null
    },
    {
      "cell_type": "code",
      "source": [
        "output_sentiment_report"
      ],
      "metadata": {
        "trusted": true,
        "execution": {
          "iopub.status.busy": "2024-12-16T03:13:39.559378Z",
          "iopub.execute_input": "2024-12-16T03:13:39.560061Z",
          "iopub.status.idle": "2024-12-16T03:13:39.577421Z",
          "shell.execute_reply.started": "2024-12-16T03:13:39.560028Z",
          "shell.execute_reply": "2024-12-16T03:13:39.576652Z"
        },
        "id": "CY6Xwhkt3w_F",
        "outputId": "361f5d06-9218-47c3-f119-63a30ccdd512"
      },
      "outputs": [
        {
          "execution_count": 72,
          "output_type": "execute_result",
          "data": {
            "text/plain": "              precision    recall  f1-score     support     aspect\n0              0.583333  0.129630  0.212121   54.000000  character\n1              0.086207  0.227273  0.125000   22.000000  character\n2              0.590000  0.627660  0.608247   94.000000  character\naccuracy       0.417647  0.417647  0.417647    0.417647  character\nmacro avg      0.419847  0.328187  0.315123  170.000000  character\nweighted avg   0.522686  0.417647  0.419881  170.000000  character\n0              0.200000  0.075000  0.109091   40.000000    content\n1              0.324324  0.400000  0.358209   60.000000    content\n2              0.582609  0.644231  0.611872  104.000000    content\naccuracy       0.460784  0.460784  0.460784    0.460784    content\nmacro avg      0.368978  0.373077  0.359724  204.000000    content\nweighted avg   0.431621  0.460784  0.438681  204.000000    content\n0              0.625000  0.250000  0.357143   60.000000      scene\n1              0.195122  0.307692  0.238806   26.000000      scene\n2              0.514563  0.646341  0.572973   82.000000      scene\naccuracy       0.452381  0.452381  0.452381    0.452381      scene\nmacro avg      0.444895  0.401345  0.389641  168.000000      scene\nweighted avg   0.504568  0.452381  0.444174  168.000000      scene\n0              0.780488  0.800000  0.790123   40.000000      sound\n1              0.820513  0.842105  0.831169   38.000000      sound\n2              0.872340  0.836735  0.854167   49.000000      sound\naccuracy       0.826772  0.826772  0.826772    0.826772      sound\nmacro avg      0.824447  0.826280  0.825153  127.000000      sound\nweighted avg   0.827903  0.826772  0.827114  127.000000      sound",
            "text/html": "<div>\n<style scoped>\n    .dataframe tbody tr th:only-of-type {\n        vertical-align: middle;\n    }\n\n    .dataframe tbody tr th {\n        vertical-align: top;\n    }\n\n    .dataframe thead th {\n        text-align: right;\n    }\n</style>\n<table border=\"1\" class=\"dataframe\">\n  <thead>\n    <tr style=\"text-align: right;\">\n      <th></th>\n      <th>precision</th>\n      <th>recall</th>\n      <th>f1-score</th>\n      <th>support</th>\n      <th>aspect</th>\n    </tr>\n  </thead>\n  <tbody>\n    <tr>\n      <th>0</th>\n      <td>0.583333</td>\n      <td>0.129630</td>\n      <td>0.212121</td>\n      <td>54.000000</td>\n      <td>character</td>\n    </tr>\n    <tr>\n      <th>1</th>\n      <td>0.086207</td>\n      <td>0.227273</td>\n      <td>0.125000</td>\n      <td>22.000000</td>\n      <td>character</td>\n    </tr>\n    <tr>\n      <th>2</th>\n      <td>0.590000</td>\n      <td>0.627660</td>\n      <td>0.608247</td>\n      <td>94.000000</td>\n      <td>character</td>\n    </tr>\n    <tr>\n      <th>accuracy</th>\n      <td>0.417647</td>\n      <td>0.417647</td>\n      <td>0.417647</td>\n      <td>0.417647</td>\n      <td>character</td>\n    </tr>\n    <tr>\n      <th>macro avg</th>\n      <td>0.419847</td>\n      <td>0.328187</td>\n      <td>0.315123</td>\n      <td>170.000000</td>\n      <td>character</td>\n    </tr>\n    <tr>\n      <th>weighted avg</th>\n      <td>0.522686</td>\n      <td>0.417647</td>\n      <td>0.419881</td>\n      <td>170.000000</td>\n      <td>character</td>\n    </tr>\n    <tr>\n      <th>0</th>\n      <td>0.200000</td>\n      <td>0.075000</td>\n      <td>0.109091</td>\n      <td>40.000000</td>\n      <td>content</td>\n    </tr>\n    <tr>\n      <th>1</th>\n      <td>0.324324</td>\n      <td>0.400000</td>\n      <td>0.358209</td>\n      <td>60.000000</td>\n      <td>content</td>\n    </tr>\n    <tr>\n      <th>2</th>\n      <td>0.582609</td>\n      <td>0.644231</td>\n      <td>0.611872</td>\n      <td>104.000000</td>\n      <td>content</td>\n    </tr>\n    <tr>\n      <th>accuracy</th>\n      <td>0.460784</td>\n      <td>0.460784</td>\n      <td>0.460784</td>\n      <td>0.460784</td>\n      <td>content</td>\n    </tr>\n    <tr>\n      <th>macro avg</th>\n      <td>0.368978</td>\n      <td>0.373077</td>\n      <td>0.359724</td>\n      <td>204.000000</td>\n      <td>content</td>\n    </tr>\n    <tr>\n      <th>weighted avg</th>\n      <td>0.431621</td>\n      <td>0.460784</td>\n      <td>0.438681</td>\n      <td>204.000000</td>\n      <td>content</td>\n    </tr>\n    <tr>\n      <th>0</th>\n      <td>0.625000</td>\n      <td>0.250000</td>\n      <td>0.357143</td>\n      <td>60.000000</td>\n      <td>scene</td>\n    </tr>\n    <tr>\n      <th>1</th>\n      <td>0.195122</td>\n      <td>0.307692</td>\n      <td>0.238806</td>\n      <td>26.000000</td>\n      <td>scene</td>\n    </tr>\n    <tr>\n      <th>2</th>\n      <td>0.514563</td>\n      <td>0.646341</td>\n      <td>0.572973</td>\n      <td>82.000000</td>\n      <td>scene</td>\n    </tr>\n    <tr>\n      <th>accuracy</th>\n      <td>0.452381</td>\n      <td>0.452381</td>\n      <td>0.452381</td>\n      <td>0.452381</td>\n      <td>scene</td>\n    </tr>\n    <tr>\n      <th>macro avg</th>\n      <td>0.444895</td>\n      <td>0.401345</td>\n      <td>0.389641</td>\n      <td>168.000000</td>\n      <td>scene</td>\n    </tr>\n    <tr>\n      <th>weighted avg</th>\n      <td>0.504568</td>\n      <td>0.452381</td>\n      <td>0.444174</td>\n      <td>168.000000</td>\n      <td>scene</td>\n    </tr>\n    <tr>\n      <th>0</th>\n      <td>0.780488</td>\n      <td>0.800000</td>\n      <td>0.790123</td>\n      <td>40.000000</td>\n      <td>sound</td>\n    </tr>\n    <tr>\n      <th>1</th>\n      <td>0.820513</td>\n      <td>0.842105</td>\n      <td>0.831169</td>\n      <td>38.000000</td>\n      <td>sound</td>\n    </tr>\n    <tr>\n      <th>2</th>\n      <td>0.872340</td>\n      <td>0.836735</td>\n      <td>0.854167</td>\n      <td>49.000000</td>\n      <td>sound</td>\n    </tr>\n    <tr>\n      <th>accuracy</th>\n      <td>0.826772</td>\n      <td>0.826772</td>\n      <td>0.826772</td>\n      <td>0.826772</td>\n      <td>sound</td>\n    </tr>\n    <tr>\n      <th>macro avg</th>\n      <td>0.824447</td>\n      <td>0.826280</td>\n      <td>0.825153</td>\n      <td>127.000000</td>\n      <td>sound</td>\n    </tr>\n    <tr>\n      <th>weighted avg</th>\n      <td>0.827903</td>\n      <td>0.826772</td>\n      <td>0.827114</td>\n      <td>127.000000</td>\n      <td>sound</td>\n    </tr>\n  </tbody>\n</table>\n</div>"
          },
          "metadata": {}
        }
      ],
      "execution_count": null
    },
    {
      "cell_type": "markdown",
      "source": [
        "### BiGRU"
      ],
      "metadata": {
        "id": "Wn4E6KAqFTzp"
      }
    },
    {
      "cell_type": "code",
      "source": [
        "def bigru_aspect(vocab_aspect_size, embedding_dim, max_len, embedding_aspect_matrix, padded_aspect_train, padded_aspect_val, label_aspect_train, label_aspect_val, epochs=70):\n",
        "\n",
        "  input = Input(shape=(max_len,))\n",
        "  embed = Embedding(input_dim=vocab_aspect_size,\n",
        "                  output_dim=embedding_dim,\n",
        "                  embeddings_initializer=Constant(embedding_aspect_matrix),\n",
        "                  input_length=max_len,\n",
        "                  trainable=True)(input)\n",
        "  lstm = Bidirectional(GRU(units = 200, activation = 'tanh'))(embed)\n",
        "\n",
        "  # aspect\n",
        "  aspect_dense2 = Dense(128, activation='relu')(lstm)\n",
        "  aspect_dropout1 = Dropout(0.2)(aspect_dense2)\n",
        "  aspect_dense3 = Dense(64, activation='relu')(aspect_dropout1)\n",
        "  aspect_dense4 = Dense(32, activation='relu')(aspect_dense3)\n",
        "  aspect_dense5 = Dense(4, activation='sigmoid')(aspect_dense4)\n",
        "\n",
        "  aspect_model = tf.keras.Model(inputs = input, outputs = aspect_dense5)\n",
        "  aspect_model.compile(optimizer=Adam(learning_rate = 0.0001), loss='binary_crossentropy', metrics=['acc'])\n",
        "  callback = tf.keras.callbacks.EarlyStopping(monitor='val_loss', patience=3)\n",
        "\n",
        "  # Fit model\n",
        "  history = aspect_model.fit(x=padded_aspect_train,\n",
        "    y=label_aspect_train.to_numpy(),\n",
        "\n",
        "    validation_data=(padded_aspect_val,\n",
        "      label_aspect_val.to_numpy()),\n",
        "    batch_size = 128,\n",
        "    epochs=epochs,\n",
        "    callbacks = [callback],\n",
        "    verbose=1)\n",
        "\n",
        "  return aspect_model\n",
        "\n",
        "def bigru_polarity(aspect, vocab_sentiment_size, embedding_dim, max_len, embedding_sentiment_matrix, padded_sentiment_train, padded_sentiment_val, label_sentiment_train, label_sentiment_val, epochs=70):\n",
        "\n",
        "  # polarity\n",
        "\n",
        "  input = Input(shape=(max_len,))\n",
        "  embed = Embedding(input_dim=vocab_sentiment_size[aspect],\n",
        "                  output_dim=embedding_dim,\n",
        "                  embeddings_initializer=Constant(embedding_sentiment_matrix[aspect]),\n",
        "                  input_length=max_len,\n",
        "                  trainable=True)(input)\n",
        "  lstm = Bidirectional(GRU(units = 200, activation = 'tanh'))(embed)\n",
        "\n",
        "  sentiment_dense2 = Dense(128, activation='relu')(lstm)\n",
        "  sentiment_dropout1 = Dropout(0.2)(sentiment_dense2)\n",
        "  sentiment_dense3 = Dense(64, activation='relu')(sentiment_dropout1)\n",
        "  sentiment_dense4 = Dense(32, activation='relu')(sentiment_dense3)\n",
        "  out_sentiment = Dense(units = 3, activation = 'softmax')(sentiment_dense4)\n",
        "\n",
        "  sentiment_model[aspect] = tf.keras.Model(inputs = input, outputs = out_sentiment)\n",
        "  sentiment_model[aspect].compile(optimizer=Adam(learning_rate = 0.0001), loss='binary_crossentropy', metrics=['acc'])\n",
        "  callback = tf.keras.callbacks.EarlyStopping(monitor='val_loss', patience=3)\n",
        "\n",
        "  # Fit model\n",
        "\n",
        "  history = sentiment_model[aspect].fit(x=padded_sentiment_train[aspect],\n",
        "    y=label_sentiment_train[aspect],\n",
        "\n",
        "    validation_data=(padded_sentiment_val[aspect],\n",
        "      label_sentiment_val[aspect]),\n",
        "    batch_size = 128,\n",
        "    epochs=epochs,\n",
        "    callbacks = [callback],\n",
        "    verbose=1)\n",
        "\n",
        "\n",
        "  return sentiment_model[aspect]"
      ],
      "metadata": {
        "id": "rXq2rOGOFXFt",
        "trusted": true,
        "execution": {
          "iopub.status.busy": "2024-12-16T03:15:34.922546Z",
          "iopub.execute_input": "2024-12-16T03:15:34.923160Z",
          "iopub.status.idle": "2024-12-16T03:15:34.934107Z",
          "shell.execute_reply.started": "2024-12-16T03:15:34.923124Z",
          "shell.execute_reply": "2024-12-16T03:15:34.933211Z"
        }
      },
      "outputs": [],
      "execution_count": null
    },
    {
      "cell_type": "code",
      "source": [
        "max_len=padded_aspect_train.shape[1]\n",
        "aspect_model = bigru_aspect(vocab_aspect_size, embedding_dim, max_len, embedding_aspect_matrix, padded_aspect_train, padded_aspect_val, label_aspect_train, label_aspect_val)\n",
        "\n",
        "save_path = f'/kaggle/working/BiGRU/stl_BiGRU_aspect.h5'\n",
        "aspect_model.save(save_path)"
      ],
      "metadata": {
        "colab": {
          "base_uri": "https://localhost:8080/"
        },
        "id": "HVZy1jDRFZ_U",
        "outputId": "8cfe6f24-feaf-4147-e43a-f405b1d6b052",
        "trusted": true,
        "execution": {
          "iopub.status.busy": "2024-12-16T03:15:48.762420Z",
          "iopub.execute_input": "2024-12-16T03:15:48.762785Z",
          "iopub.status.idle": "2024-12-16T03:16:44.143338Z",
          "shell.execute_reply.started": "2024-12-16T03:15:48.762752Z",
          "shell.execute_reply": "2024-12-16T03:16:44.142562Z"
        }
      },
      "outputs": [
        {
          "name": "stderr",
          "text": "/opt/conda/lib/python3.10/site-packages/keras/src/layers/core/embedding.py:90: UserWarning: Argument `input_length` is deprecated. Just remove it.\n  warnings.warn(\n",
          "output_type": "stream"
        },
        {
          "name": "stdout",
          "text": "Epoch 1/70\n\u001b[1m30/30\u001b[0m \u001b[32m━━━━━━━━━━━━━━━━━━━━\u001b[0m\u001b[37m\u001b[0m \u001b[1m4s\u001b[0m 74ms/step - acc: 0.2492 - loss: 0.6614 - val_acc: 0.4055 - val_loss: 0.6218\nEpoch 2/70\n\u001b[1m30/30\u001b[0m \u001b[32m━━━━━━━━━━━━━━━━━━━━\u001b[0m\u001b[37m\u001b[0m \u001b[1m2s\u001b[0m 63ms/step - acc: 0.4194 - loss: 0.6004 - val_acc: 0.4454 - val_loss: 0.5789\nEpoch 3/70\n\u001b[1m30/30\u001b[0m \u001b[32m━━━━━━━━━━━━━━━━━━━━\u001b[0m\u001b[37m\u001b[0m \u001b[1m2s\u001b[0m 64ms/step - acc: 0.4397 - loss: 0.5596 - val_acc: 0.4517 - val_loss: 0.5507\nEpoch 4/70\n\u001b[1m30/30\u001b[0m \u001b[32m━━━━━━━━━━━━━━━━━━━━\u001b[0m\u001b[37m\u001b[0m \u001b[1m2s\u001b[0m 64ms/step - acc: 0.4692 - loss: 0.5264 - val_acc: 0.4685 - val_loss: 0.5296\nEpoch 5/70\n\u001b[1m30/30\u001b[0m \u001b[32m━━━━━━━━━━━━━━━━━━━━\u001b[0m\u001b[37m\u001b[0m \u001b[1m2s\u001b[0m 65ms/step - acc: 0.4854 - loss: 0.5052 - val_acc: 0.4958 - val_loss: 0.5187\nEpoch 6/70\n\u001b[1m30/30\u001b[0m \u001b[32m━━━━━━━━━━━━━━━━━━━━\u001b[0m\u001b[37m\u001b[0m \u001b[1m2s\u001b[0m 65ms/step - acc: 0.5044 - loss: 0.4922 - val_acc: 0.4979 - val_loss: 0.5048\nEpoch 7/70\n\u001b[1m30/30\u001b[0m \u001b[32m━━━━━━━━━━━━━━━━━━━━\u001b[0m\u001b[37m\u001b[0m \u001b[1m2s\u001b[0m 65ms/step - acc: 0.5135 - loss: 0.4716 - val_acc: 0.4580 - val_loss: 0.4934\nEpoch 8/70\n\u001b[1m30/30\u001b[0m \u001b[32m━━━━━━━━━━━━━━━━━━━━\u001b[0m\u001b[37m\u001b[0m \u001b[1m2s\u001b[0m 65ms/step - acc: 0.5051 - loss: 0.4542 - val_acc: 0.5000 - val_loss: 0.4803\nEpoch 9/70\n\u001b[1m30/30\u001b[0m \u001b[32m━━━━━━━━━━━━━━━━━━━━\u001b[0m\u001b[37m\u001b[0m \u001b[1m2s\u001b[0m 66ms/step - acc: 0.5375 - loss: 0.4434 - val_acc: 0.4727 - val_loss: 0.4593\nEpoch 10/70\n\u001b[1m30/30\u001b[0m \u001b[32m━━━━━━━━━━━━━━━━━━━━\u001b[0m\u001b[37m\u001b[0m \u001b[1m2s\u001b[0m 66ms/step - acc: 0.5331 - loss: 0.4059 - val_acc: 0.4664 - val_loss: 0.4468\nEpoch 11/70\n\u001b[1m30/30\u001b[0m \u001b[32m━━━━━━━━━━━━━━━━━━━━\u001b[0m\u001b[37m\u001b[0m \u001b[1m2s\u001b[0m 67ms/step - acc: 0.5118 - loss: 0.3674 - val_acc: 0.4916 - val_loss: 0.4168\nEpoch 12/70\n\u001b[1m30/30\u001b[0m \u001b[32m━━━━━━━━━━━━━━━━━━━━\u001b[0m\u001b[37m\u001b[0m \u001b[1m2s\u001b[0m 67ms/step - acc: 0.5553 - loss: 0.3327 - val_acc: 0.5252 - val_loss: 0.3974\nEpoch 13/70\n\u001b[1m30/30\u001b[0m \u001b[32m━━━━━━━━━━━━━━━━━━━━\u001b[0m\u001b[37m\u001b[0m \u001b[1m2s\u001b[0m 67ms/step - acc: 0.5813 - loss: 0.3084 - val_acc: 0.5882 - val_loss: 0.3740\nEpoch 14/70\n\u001b[1m30/30\u001b[0m \u001b[32m━━━━━━━━━━━━━━━━━━━━\u001b[0m\u001b[37m\u001b[0m \u001b[1m2s\u001b[0m 67ms/step - acc: 0.5971 - loss: 0.2776 - val_acc: 0.5735 - val_loss: 0.3620\nEpoch 15/70\n\u001b[1m30/30\u001b[0m \u001b[32m━━━━━━━━━━━━━━━━━━━━\u001b[0m\u001b[37m\u001b[0m \u001b[1m2s\u001b[0m 67ms/step - acc: 0.6092 - loss: 0.2554 - val_acc: 0.5945 - val_loss: 0.3522\nEpoch 16/70\n\u001b[1m30/30\u001b[0m \u001b[32m━━━━━━━━━━━━━━━━━━━━\u001b[0m\u001b[37m\u001b[0m \u001b[1m2s\u001b[0m 68ms/step - acc: 0.6192 - loss: 0.2312 - val_acc: 0.6113 - val_loss: 0.3476\nEpoch 17/70\n\u001b[1m30/30\u001b[0m \u001b[32m━━━━━━━━━━━━━━━━━━━━\u001b[0m\u001b[37m\u001b[0m \u001b[1m2s\u001b[0m 68ms/step - acc: 0.6171 - loss: 0.2127 - val_acc: 0.6345 - val_loss: 0.3555\nEpoch 18/70\n\u001b[1m30/30\u001b[0m \u001b[32m━━━━━━━━━━━━━━━━━━━━\u001b[0m\u001b[37m\u001b[0m \u001b[1m2s\u001b[0m 68ms/step - acc: 0.6266 - loss: 0.2002 - val_acc: 0.6134 - val_loss: 0.3672\nEpoch 19/70\n\u001b[1m30/30\u001b[0m \u001b[32m━━━━━━━━━━━━━━━━━━━━\u001b[0m\u001b[37m\u001b[0m \u001b[1m2s\u001b[0m 69ms/step - acc: 0.6252 - loss: 0.1734 - val_acc: 0.6408 - val_loss: 0.3557\n",
          "output_type": "stream"
        }
      ],
      "execution_count": null
    },
    {
      "cell_type": "code",
      "source": [
        "# load model\n",
        "save_path = '/kaggle/working/BiGRU/stl_BiGRU_aspect.h5'\n",
        "aspect_model = keras.models.load_model(save_path)"
      ],
      "metadata": {
        "id": "dZ_VvboNFzMX",
        "trusted": true,
        "execution": {
          "iopub.status.busy": "2024-12-16T03:16:59.263689Z",
          "iopub.execute_input": "2024-12-16T03:16:59.264637Z",
          "iopub.status.idle": "2024-12-16T03:17:33.754890Z",
          "shell.execute_reply.started": "2024-12-16T03:16:59.264589Z",
          "shell.execute_reply": "2024-12-16T03:17:33.753740Z"
        }
      },
      "outputs": [],
      "execution_count": null
    },
    {
      "cell_type": "code",
      "source": [
        "# predict\n",
        "pred_train = aspect_model.predict(padded_aspect_train)\n",
        "pred_val = aspect_model.predict(padded_aspect_val)\n",
        "pred_test = aspect_model.predict(padded_aspect_test)\n",
        "\n",
        "df_train_pred = round(pd.DataFrame(pred_train), 0)\n",
        "df_train_true_ = label_aspect_train\n",
        "df_train_pred.columns = df_train_true_.columns\n",
        "\n",
        "df_val_pred = round(pd.DataFrame(pred_val), 0)\n",
        "df_val_true_ = label_aspect_val\n",
        "df_val_pred.columns = df_val_true_.columns\n",
        "\n",
        "df_test_pred = round(pd.DataFrame(pred_test), 0)\n",
        "df_test_true_ = label_aspect_test\n",
        "df_test_pred.columns = df_test_true_.columns"
      ],
      "metadata": {
        "colab": {
          "base_uri": "https://localhost:8080/"
        },
        "id": "ltGHaUoGGNkb",
        "outputId": "267f037c-bf80-44c2-ad78-a765e96a0f6f",
        "trusted": true,
        "execution": {
          "iopub.status.busy": "2024-12-16T03:17:33.756877Z",
          "iopub.execute_input": "2024-12-16T03:17:33.757167Z",
          "iopub.status.idle": "2024-12-16T03:17:35.527499Z",
          "shell.execute_reply.started": "2024-12-16T03:17:33.757137Z",
          "shell.execute_reply": "2024-12-16T03:17:35.526630Z"
        }
      },
      "outputs": [
        {
          "name": "stdout",
          "text": "\u001b[1m119/119\u001b[0m \u001b[32m━━━━━━━━━━━━━━━━━━━━\u001b[0m\u001b[37m\u001b[0m \u001b[1m1s\u001b[0m 9ms/step\n\u001b[1m15/15\u001b[0m \u001b[32m━━━━━━━━━━━━━━━━━━━━\u001b[0m\u001b[37m\u001b[0m \u001b[1m0s\u001b[0m 7ms/step\n\u001b[1m15/15\u001b[0m \u001b[32m━━━━━━━━━━━━━━━━━━━━\u001b[0m\u001b[37m\u001b[0m \u001b[1m0s\u001b[0m 7ms/step\n",
          "output_type": "stream"
        }
      ],
      "execution_count": null
    },
    {
      "cell_type": "code",
      "source": [
        "for col in label_aspect_train.columns:\n",
        "  print(col)\n",
        "  aspect_result_bigru = classification_report(df_test_true_[col], df_test_pred[col])\n",
        "  print(aspect_result_bigru)"
      ],
      "metadata": {
        "colab": {
          "base_uri": "https://localhost:8080/"
        },
        "id": "9y8xgpq7GOzo",
        "outputId": "dd753709-0013-4e18-a940-768127e4f2ae",
        "trusted": true,
        "execution": {
          "iopub.status.busy": "2024-12-16T03:17:35.528678Z",
          "iopub.execute_input": "2024-12-16T03:17:35.529134Z",
          "iopub.status.idle": "2024-12-16T03:17:35.574912Z",
          "shell.execute_reply.started": "2024-12-16T03:17:35.529089Z",
          "shell.execute_reply": "2024-12-16T03:17:35.574094Z"
        }
      },
      "outputs": [
        {
          "name": "stdout",
          "text": "is_character\n              precision    recall  f1-score   support\n\n           0       0.88      0.89      0.89       306\n           1       0.80      0.79      0.79       171\n\n    accuracy                           0.85       477\n   macro avg       0.84      0.84      0.84       477\nweighted avg       0.85      0.85      0.85       477\n\nis_content\n              precision    recall  f1-score   support\n\n           0       0.86      0.86      0.86       273\n           1       0.82      0.81      0.81       204\n\n    accuracy                           0.84       477\n   macro avg       0.84      0.84      0.84       477\nweighted avg       0.84      0.84      0.84       477\n\nis_scene\n              precision    recall  f1-score   support\n\n           0       0.84      0.84      0.84       309\n           1       0.70      0.70      0.70       168\n\n    accuracy                           0.79       477\n   macro avg       0.77      0.77      0.77       477\nweighted avg       0.79      0.79      0.79       477\n\nis_sound\n              precision    recall  f1-score   support\n\n           0       0.91      0.99      0.95       350\n           1       0.97      0.73      0.83       127\n\n    accuracy                           0.92       477\n   macro avg       0.94      0.86      0.89       477\nweighted avg       0.93      0.92      0.92       477\n\n",
          "output_type": "stream"
        }
      ],
      "execution_count": null
    },
    {
      "cell_type": "code",
      "source": [
        "output_aspect_report = get_pd_report(label_aspect_train, df_test_true_, df_test_pred)\n",
        "output_aspect_report"
      ],
      "metadata": {
        "colab": {
          "base_uri": "https://localhost:8080/",
          "height": 193
        },
        "id": "mEUqVIFLGRjK",
        "outputId": "4ba26087-0641-4e17-993b-d52d895e28ba",
        "trusted": true,
        "execution": {
          "iopub.status.busy": "2024-12-16T03:18:16.774975Z",
          "iopub.execute_input": "2024-12-16T03:18:16.775673Z",
          "iopub.status.idle": "2024-12-16T03:18:16.819799Z",
          "shell.execute_reply.started": "2024-12-16T03:18:16.775639Z",
          "shell.execute_reply": "2024-12-16T03:18:16.818913Z"
        }
      },
      "outputs": [
        {
          "execution_count": 83,
          "output_type": "execute_result",
          "data": {
            "text/plain": "              precision    recall  f1-score     support        aspect\n0              0.883117  0.888889  0.885993  306.000000  is_character\n1              0.798817  0.789474  0.794118  171.000000  is_character\naccuracy       0.853249  0.853249  0.853249    0.853249  is_character\nmacro avg      0.840967  0.839181  0.840056  477.000000  is_character\nweighted avg   0.852896  0.853249  0.853057  477.000000  is_character\n0              0.858182  0.864469  0.861314  273.000000    is_content\n1              0.816832  0.808824  0.812808  204.000000    is_content\naccuracy       0.840671  0.840671  0.840671    0.840671    is_content\nmacro avg      0.837507  0.836646  0.837061  477.000000    is_content\nweighted avg   0.840497  0.840671  0.840569  477.000000    is_content\n0              0.835484  0.838188  0.836834  309.000000      is_scene\n1              0.700599  0.696429  0.698507  168.000000      is_scene\naccuracy       0.788260  0.788260  0.788260    0.788260      is_scene\nmacro avg      0.768041  0.767308  0.767671  477.000000      is_scene\nweighted avg   0.787977  0.788260  0.788115  477.000000      is_scene\n0              0.910761  0.991429  0.949384  350.000000      is_sound\n1              0.968750  0.732283  0.834081  127.000000      is_sound\naccuracy       0.922432  0.922432  0.922432    0.922432      is_sound\nmacro avg      0.939756  0.861856  0.891733  477.000000      is_sound\nweighted avg   0.926201  0.922432  0.918685  477.000000      is_sound",
            "text/html": "<div>\n<style scoped>\n    .dataframe tbody tr th:only-of-type {\n        vertical-align: middle;\n    }\n\n    .dataframe tbody tr th {\n        vertical-align: top;\n    }\n\n    .dataframe thead th {\n        text-align: right;\n    }\n</style>\n<table border=\"1\" class=\"dataframe\">\n  <thead>\n    <tr style=\"text-align: right;\">\n      <th></th>\n      <th>precision</th>\n      <th>recall</th>\n      <th>f1-score</th>\n      <th>support</th>\n      <th>aspect</th>\n    </tr>\n  </thead>\n  <tbody>\n    <tr>\n      <th>0</th>\n      <td>0.883117</td>\n      <td>0.888889</td>\n      <td>0.885993</td>\n      <td>306.000000</td>\n      <td>is_character</td>\n    </tr>\n    <tr>\n      <th>1</th>\n      <td>0.798817</td>\n      <td>0.789474</td>\n      <td>0.794118</td>\n      <td>171.000000</td>\n      <td>is_character</td>\n    </tr>\n    <tr>\n      <th>accuracy</th>\n      <td>0.853249</td>\n      <td>0.853249</td>\n      <td>0.853249</td>\n      <td>0.853249</td>\n      <td>is_character</td>\n    </tr>\n    <tr>\n      <th>macro avg</th>\n      <td>0.840967</td>\n      <td>0.839181</td>\n      <td>0.840056</td>\n      <td>477.000000</td>\n      <td>is_character</td>\n    </tr>\n    <tr>\n      <th>weighted avg</th>\n      <td>0.852896</td>\n      <td>0.853249</td>\n      <td>0.853057</td>\n      <td>477.000000</td>\n      <td>is_character</td>\n    </tr>\n    <tr>\n      <th>0</th>\n      <td>0.858182</td>\n      <td>0.864469</td>\n      <td>0.861314</td>\n      <td>273.000000</td>\n      <td>is_content</td>\n    </tr>\n    <tr>\n      <th>1</th>\n      <td>0.816832</td>\n      <td>0.808824</td>\n      <td>0.812808</td>\n      <td>204.000000</td>\n      <td>is_content</td>\n    </tr>\n    <tr>\n      <th>accuracy</th>\n      <td>0.840671</td>\n      <td>0.840671</td>\n      <td>0.840671</td>\n      <td>0.840671</td>\n      <td>is_content</td>\n    </tr>\n    <tr>\n      <th>macro avg</th>\n      <td>0.837507</td>\n      <td>0.836646</td>\n      <td>0.837061</td>\n      <td>477.000000</td>\n      <td>is_content</td>\n    </tr>\n    <tr>\n      <th>weighted avg</th>\n      <td>0.840497</td>\n      <td>0.840671</td>\n      <td>0.840569</td>\n      <td>477.000000</td>\n      <td>is_content</td>\n    </tr>\n    <tr>\n      <th>0</th>\n      <td>0.835484</td>\n      <td>0.838188</td>\n      <td>0.836834</td>\n      <td>309.000000</td>\n      <td>is_scene</td>\n    </tr>\n    <tr>\n      <th>1</th>\n      <td>0.700599</td>\n      <td>0.696429</td>\n      <td>0.698507</td>\n      <td>168.000000</td>\n      <td>is_scene</td>\n    </tr>\n    <tr>\n      <th>accuracy</th>\n      <td>0.788260</td>\n      <td>0.788260</td>\n      <td>0.788260</td>\n      <td>0.788260</td>\n      <td>is_scene</td>\n    </tr>\n    <tr>\n      <th>macro avg</th>\n      <td>0.768041</td>\n      <td>0.767308</td>\n      <td>0.767671</td>\n      <td>477.000000</td>\n      <td>is_scene</td>\n    </tr>\n    <tr>\n      <th>weighted avg</th>\n      <td>0.787977</td>\n      <td>0.788260</td>\n      <td>0.788115</td>\n      <td>477.000000</td>\n      <td>is_scene</td>\n    </tr>\n    <tr>\n      <th>0</th>\n      <td>0.910761</td>\n      <td>0.991429</td>\n      <td>0.949384</td>\n      <td>350.000000</td>\n      <td>is_sound</td>\n    </tr>\n    <tr>\n      <th>1</th>\n      <td>0.968750</td>\n      <td>0.732283</td>\n      <td>0.834081</td>\n      <td>127.000000</td>\n      <td>is_sound</td>\n    </tr>\n    <tr>\n      <th>accuracy</th>\n      <td>0.922432</td>\n      <td>0.922432</td>\n      <td>0.922432</td>\n      <td>0.922432</td>\n      <td>is_sound</td>\n    </tr>\n    <tr>\n      <th>macro avg</th>\n      <td>0.939756</td>\n      <td>0.861856</td>\n      <td>0.891733</td>\n      <td>477.000000</td>\n      <td>is_sound</td>\n    </tr>\n    <tr>\n      <th>weighted avg</th>\n      <td>0.926201</td>\n      <td>0.922432</td>\n      <td>0.918685</td>\n      <td>477.000000</td>\n      <td>is_sound</td>\n    </tr>\n  </tbody>\n</table>\n</div>"
          },
          "metadata": {}
        }
      ],
      "execution_count": null
    },
    {
      "cell_type": "markdown",
      "source": [
        "- Stage 2 : Polarity"
      ],
      "metadata": {
        "id": "srvwGkUlGa94"
      }
    },
    {
      "cell_type": "code",
      "source": [
        "lst_aspect = []\n",
        "for col in label_aspect_train.columns.values:\n",
        "  if col!='is_others':\n",
        "    lst_aspect.append(col.split('_')[1])"
      ],
      "metadata": {
        "id": "qAqWXgZ-GY3Y",
        "trusted": true,
        "execution": {
          "iopub.status.busy": "2024-12-16T03:18:48.604870Z",
          "iopub.execute_input": "2024-12-16T03:18:48.605210Z",
          "iopub.status.idle": "2024-12-16T03:18:48.611391Z",
          "shell.execute_reply.started": "2024-12-16T03:18:48.605180Z",
          "shell.execute_reply": "2024-12-16T03:18:48.610214Z"
        }
      },
      "outputs": [],
      "execution_count": null
    },
    {
      "cell_type": "code",
      "source": [
        "#tokenize stage 2\n",
        "tokenized_sentiment_train = {}\n",
        "tokenized_sentiment_val = {}\n",
        "tokenized_sentiment_test = {}\n",
        "tokenizer_sentiment = {}\n",
        "\n",
        "for aspect in lst_aspect:\n",
        "  tokenizer_sentiment[aspect], tokenized_sentiment_train[aspect], tokenized_sentiment_val[aspect], tokenized_sentiment_test[aspect] = get_tokenize(cmt_train[aspect], cmt_val[aspect], cmt_test[aspect])\n",
        "\n",
        "#padding stage 2\n",
        "padded_sentiment_train = {}\n",
        "padded_sentiment_val = {}\n",
        "padded_sentiment_test = {}\n",
        "for aspect in lst_aspect:\n",
        "  padded_sentiment_train[aspect], padded_sentiment_val[aspect], padded_sentiment_test[aspect] = get_padded(max_len, tokenized_sentiment_train[aspect], tokenized_sentiment_val[aspect], tokenized_sentiment_test[aspect])\n",
        "\n",
        "#embedding matrix stage 2\n",
        "vocab_sentiment_size = {}\n",
        "embedding_sentiment_matrix = {}\n",
        "for aspect in lst_aspect:\n",
        "  vocab_sentiment_size[aspect]  = len(tokenizer_sentiment[aspect].word_index)+1\n",
        "  embedding_sentiment_matrix[aspect] = get_embedding_matrix(embedding_dim, vocab_sentiment_size[aspect], tokenizer_sentiment[aspect])"
      ],
      "metadata": {
        "id": "3iOKeYAXGdyQ",
        "trusted": true,
        "execution": {
          "iopub.status.busy": "2024-12-16T03:18:49.298489Z",
          "iopub.execute_input": "2024-12-16T03:18:49.298842Z",
          "iopub.status.idle": "2024-12-16T03:18:49.938292Z",
          "shell.execute_reply.started": "2024-12-16T03:18:49.298809Z",
          "shell.execute_reply": "2024-12-16T03:18:49.937519Z"
        }
      },
      "outputs": [],
      "execution_count": null
    },
    {
      "cell_type": "code",
      "source": [
        "# training model\n",
        "sentiment_model = {}\n",
        "for aspect in lst_aspect:\n",
        "  sentiment_model[aspect] = bigru_polarity(aspect, vocab_sentiment_size, embedding_dim, max_len, embedding_sentiment_matrix, padded_sentiment_train, padded_sentiment_val, label_sentiment_train, label_sentiment_val)\n",
        "  sentiment_model[aspect].save(f'/kaggle/working/BiGRU/stl_BiGRU_polarity_{aspect}.h5')"
      ],
      "metadata": {
        "colab": {
          "background_save": true,
          "base_uri": "https://localhost:8080/"
        },
        "id": "iBaPEDUvGfLW",
        "outputId": "a11b1b39-967b-4b23-e649-3d2329f86dd2",
        "trusted": true,
        "execution": {
          "iopub.status.busy": "2024-12-16T03:19:06.530488Z",
          "iopub.execute_input": "2024-12-16T03:19:06.530827Z",
          "iopub.status.idle": "2024-12-16T03:21:04.317228Z",
          "shell.execute_reply.started": "2024-12-16T03:19:06.530799Z",
          "shell.execute_reply": "2024-12-16T03:21:04.316469Z"
        }
      },
      "outputs": [
        {
          "name": "stdout",
          "text": "Epoch 1/70\n",
          "output_type": "stream"
        },
        {
          "name": "stderr",
          "text": "/opt/conda/lib/python3.10/site-packages/keras/src/layers/core/embedding.py:90: UserWarning: Argument `input_length` is deprecated. Just remove it.\n  warnings.warn(\n",
          "output_type": "stream"
        },
        {
          "name": "stdout",
          "text": "\u001b[1m11/11\u001b[0m \u001b[32m━━━━━━━━━━━━━━━━━━━━\u001b[0m\u001b[37m\u001b[0m \u001b[1m3s\u001b[0m 94ms/step - acc: 0.3195 - loss: 0.6813 - val_acc: 0.2798 - val_loss: 0.6326\nEpoch 2/70\n\u001b[1m11/11\u001b[0m \u001b[32m━━━━━━━━━━━━━━━━━━━━\u001b[0m\u001b[37m\u001b[0m \u001b[1m1s\u001b[0m 64ms/step - acc: 0.3227 - loss: 0.6225 - val_acc: 0.3274 - val_loss: 0.6006\nEpoch 3/70\n\u001b[1m11/11\u001b[0m \u001b[32m━━━━━━━━━━━━━━━━━━━━\u001b[0m\u001b[37m\u001b[0m \u001b[1m1s\u001b[0m 64ms/step - acc: 0.3868 - loss: 0.5885 - val_acc: 0.5000 - val_loss: 0.5739\nEpoch 4/70\n\u001b[1m11/11\u001b[0m \u001b[32m━━━━━━━━━━━━━━━━━━━━\u001b[0m\u001b[37m\u001b[0m \u001b[1m1s\u001b[0m 64ms/step - acc: 0.5226 - loss: 0.5654 - val_acc: 0.6071 - val_loss: 0.5492\nEpoch 5/70\n\u001b[1m11/11\u001b[0m \u001b[32m━━━━━━━━━━━━━━━━━━━━\u001b[0m\u001b[37m\u001b[0m \u001b[1m1s\u001b[0m 63ms/step - acc: 0.6029 - loss: 0.5458 - val_acc: 0.6369 - val_loss: 0.5236\nEpoch 6/70\n\u001b[1m11/11\u001b[0m \u001b[32m━━━━━━━━━━━━━━━━━━━━\u001b[0m\u001b[37m\u001b[0m \u001b[1m1s\u001b[0m 64ms/step - acc: 0.6512 - loss: 0.5226 - val_acc: 0.6607 - val_loss: 0.5031\nEpoch 7/70\n\u001b[1m11/11\u001b[0m \u001b[32m━━━━━━━━━━━━━━━━━━━━\u001b[0m\u001b[37m\u001b[0m \u001b[1m1s\u001b[0m 64ms/step - acc: 0.6497 - loss: 0.4951 - val_acc: 0.6667 - val_loss: 0.4884\nEpoch 8/70\n\u001b[1m11/11\u001b[0m \u001b[32m━━━━━━━━━━━━━━━━━━━━\u001b[0m\u001b[37m\u001b[0m \u001b[1m1s\u001b[0m 64ms/step - acc: 0.6550 - loss: 0.4938 - val_acc: 0.6607 - val_loss: 0.4808\nEpoch 9/70\n\u001b[1m11/11\u001b[0m \u001b[32m━━━━━━━━━━━━━━━━━━━━\u001b[0m\u001b[37m\u001b[0m \u001b[1m1s\u001b[0m 64ms/step - acc: 0.6615 - loss: 0.4786 - val_acc: 0.6667 - val_loss: 0.4733\nEpoch 10/70\n\u001b[1m11/11\u001b[0m \u001b[32m━━━━━━━━━━━━━━━━━━━━\u001b[0m\u001b[37m\u001b[0m \u001b[1m1s\u001b[0m 64ms/step - acc: 0.6740 - loss: 0.4622 - val_acc: 0.6607 - val_loss: 0.4694\nEpoch 11/70\n\u001b[1m11/11\u001b[0m \u001b[32m━━━━━━━━━━━━━━━━━━━━\u001b[0m\u001b[37m\u001b[0m \u001b[1m1s\u001b[0m 64ms/step - acc: 0.6740 - loss: 0.4521 - val_acc: 0.6667 - val_loss: 0.4655\nEpoch 12/70\n\u001b[1m11/11\u001b[0m \u001b[32m━━━━━━━━━━━━━━━━━━━━\u001b[0m\u001b[37m\u001b[0m \u001b[1m1s\u001b[0m 64ms/step - acc: 0.6898 - loss: 0.4304 - val_acc: 0.6786 - val_loss: 0.4625\nEpoch 13/70\n\u001b[1m11/11\u001b[0m \u001b[32m━━━━━━━━━━━━━━━━━━━━\u001b[0m\u001b[37m\u001b[0m \u001b[1m1s\u001b[0m 64ms/step - acc: 0.7139 - loss: 0.4223 - val_acc: 0.6786 - val_loss: 0.4617\nEpoch 14/70\n\u001b[1m11/11\u001b[0m \u001b[32m━━━━━━━━━━━━━━━━━━━━\u001b[0m\u001b[37m\u001b[0m \u001b[1m1s\u001b[0m 64ms/step - acc: 0.7191 - loss: 0.4223 - val_acc: 0.6845 - val_loss: 0.4611\nEpoch 15/70\n\u001b[1m11/11\u001b[0m \u001b[32m━━━━━━━━━━━━━━━━━━━━\u001b[0m\u001b[37m\u001b[0m \u001b[1m1s\u001b[0m 64ms/step - acc: 0.7294 - loss: 0.4015 - val_acc: 0.6905 - val_loss: 0.4573\nEpoch 16/70\n\u001b[1m11/11\u001b[0m \u001b[32m━━━━━━━━━━━━━━━━━━━━\u001b[0m\u001b[37m\u001b[0m \u001b[1m1s\u001b[0m 66ms/step - acc: 0.7492 - loss: 0.3884 - val_acc: 0.6964 - val_loss: 0.4563\nEpoch 17/70\n\u001b[1m11/11\u001b[0m \u001b[32m━━━━━━━━━━━━━━━━━━━━\u001b[0m\u001b[37m\u001b[0m \u001b[1m1s\u001b[0m 64ms/step - acc: 0.7687 - loss: 0.3690 - val_acc: 0.6905 - val_loss: 0.4502\nEpoch 18/70\n\u001b[1m11/11\u001b[0m \u001b[32m━━━━━━━━━━━━━━━━━━━━\u001b[0m\u001b[37m\u001b[0m \u001b[1m1s\u001b[0m 64ms/step - acc: 0.7815 - loss: 0.3669 - val_acc: 0.6845 - val_loss: 0.4475\nEpoch 19/70\n\u001b[1m11/11\u001b[0m \u001b[32m━━━━━━━━━━━━━━━━━━━━\u001b[0m\u001b[37m\u001b[0m \u001b[1m1s\u001b[0m 65ms/step - acc: 0.7858 - loss: 0.3467 - val_acc: 0.6726 - val_loss: 0.4585\nEpoch 20/70\n\u001b[1m11/11\u001b[0m \u001b[32m━━━━━━━━━━━━━━━━━━━━\u001b[0m\u001b[37m\u001b[0m \u001b[1m1s\u001b[0m 64ms/step - acc: 0.8008 - loss: 0.3373 - val_acc: 0.7083 - val_loss: 0.4463\nEpoch 21/70\n\u001b[1m11/11\u001b[0m \u001b[32m━━━━━━━━━━━━━━━━━━━━\u001b[0m\u001b[37m\u001b[0m \u001b[1m1s\u001b[0m 64ms/step - acc: 0.8205 - loss: 0.3119 - val_acc: 0.6905 - val_loss: 0.4663\nEpoch 22/70\n\u001b[1m11/11\u001b[0m \u001b[32m━━━━━━━━━━━━━━━━━━━━\u001b[0m\u001b[37m\u001b[0m \u001b[1m1s\u001b[0m 64ms/step - acc: 0.8475 - loss: 0.2917 - val_acc: 0.6964 - val_loss: 0.4507\nEpoch 23/70\n\u001b[1m11/11\u001b[0m \u001b[32m━━━━━━━━━━━━━━━━━━━━\u001b[0m\u001b[37m\u001b[0m \u001b[1m1s\u001b[0m 64ms/step - acc: 0.8557 - loss: 0.2778 - val_acc: 0.7024 - val_loss: 0.4589\nEpoch 1/70\n\u001b[1m12/12\u001b[0m \u001b[32m━━━━━━━━━━━━━━━━━━━━\u001b[0m\u001b[37m\u001b[0m \u001b[1m3s\u001b[0m 91ms/step - acc: 0.2791 - loss: 0.7172 - val_acc: 0.2450 - val_loss: 0.6881\nEpoch 2/70\n\u001b[1m12/12\u001b[0m \u001b[32m━━━━━━━━━━━━━━━━━━━━\u001b[0m\u001b[37m\u001b[0m \u001b[1m1s\u001b[0m 64ms/step - acc: 0.2801 - loss: 0.6811 - val_acc: 0.2300 - val_loss: 0.6722\nEpoch 3/70\n\u001b[1m12/12\u001b[0m \u001b[32m━━━━━━━━━━━━━━━━━━━━\u001b[0m\u001b[37m\u001b[0m \u001b[1m1s\u001b[0m 66ms/step - acc: 0.2992 - loss: 0.6664 - val_acc: 0.3450 - val_loss: 0.6538\nEpoch 4/70\n\u001b[1m12/12\u001b[0m \u001b[32m━━━━━━━━━━━━━━━━━━━━\u001b[0m\u001b[37m\u001b[0m \u001b[1m1s\u001b[0m 65ms/step - acc: 0.3793 - loss: 0.6446 - val_acc: 0.3800 - val_loss: 0.6359\nEpoch 5/70\n\u001b[1m12/12\u001b[0m \u001b[32m━━━━━━━━━━━━━━━━━━━━\u001b[0m\u001b[37m\u001b[0m \u001b[1m1s\u001b[0m 66ms/step - acc: 0.4230 - loss: 0.6257 - val_acc: 0.4450 - val_loss: 0.6183\nEpoch 6/70\n\u001b[1m12/12\u001b[0m \u001b[32m━━━━━━━━━━━━━━━━━━━━\u001b[0m\u001b[37m\u001b[0m \u001b[1m1s\u001b[0m 65ms/step - acc: 0.5297 - loss: 0.6080 - val_acc: 0.5200 - val_loss: 0.6009\nEpoch 7/70\n\u001b[1m12/12\u001b[0m \u001b[32m━━━━━━━━━━━━━━━━━━━━\u001b[0m\u001b[37m\u001b[0m \u001b[1m1s\u001b[0m 67ms/step - acc: 0.5544 - loss: 0.5893 - val_acc: 0.5500 - val_loss: 0.5850\nEpoch 8/70\n\u001b[1m12/12\u001b[0m \u001b[32m━━━━━━━━━━━━━━━━━━━━\u001b[0m\u001b[37m\u001b[0m \u001b[1m1s\u001b[0m 66ms/step - acc: 0.5506 - loss: 0.5735 - val_acc: 0.5700 - val_loss: 0.5714\nEpoch 9/70\n\u001b[1m12/12\u001b[0m \u001b[32m━━━━━━━━━━━━━━━━━━━━\u001b[0m\u001b[37m\u001b[0m \u001b[1m1s\u001b[0m 67ms/step - acc: 0.5909 - loss: 0.5486 - val_acc: 0.5950 - val_loss: 0.5585\nEpoch 10/70\n\u001b[1m12/12\u001b[0m \u001b[32m━━━━━━━━━━━━━━━━━━━━\u001b[0m\u001b[37m\u001b[0m \u001b[1m1s\u001b[0m 67ms/step - acc: 0.6146 - loss: 0.5418 - val_acc: 0.5850 - val_loss: 0.5508\nEpoch 11/70\n\u001b[1m12/12\u001b[0m \u001b[32m━━━━━━━━━━━━━━━━━━━━\u001b[0m\u001b[37m\u001b[0m \u001b[1m1s\u001b[0m 67ms/step - acc: 0.6202 - loss: 0.5268 - val_acc: 0.6000 - val_loss: 0.5450\nEpoch 12/70\n\u001b[1m12/12\u001b[0m \u001b[32m━━━━━━━━━━━━━━━━━━━━\u001b[0m\u001b[37m\u001b[0m \u001b[1m1s\u001b[0m 67ms/step - acc: 0.6321 - loss: 0.5164 - val_acc: 0.6000 - val_loss: 0.5411\nEpoch 13/70\n\u001b[1m12/12\u001b[0m \u001b[32m━━━━━━━━━━━━━━━━━━━━\u001b[0m\u001b[37m\u001b[0m \u001b[1m1s\u001b[0m 67ms/step - acc: 0.6500 - loss: 0.5041 - val_acc: 0.5900 - val_loss: 0.5364\nEpoch 14/70\n\u001b[1m12/12\u001b[0m \u001b[32m━━━━━━━━━━━━━━━━━━━━\u001b[0m\u001b[37m\u001b[0m \u001b[1m1s\u001b[0m 67ms/step - acc: 0.6576 - loss: 0.4896 - val_acc: 0.5850 - val_loss: 0.5363\nEpoch 15/70\n\u001b[1m12/12\u001b[0m \u001b[32m━━━━━━━━━━━━━━━━━━━━\u001b[0m\u001b[37m\u001b[0m \u001b[1m1s\u001b[0m 67ms/step - acc: 0.6676 - loss: 0.4773 - val_acc: 0.5950 - val_loss: 0.5342\nEpoch 16/70\n\u001b[1m12/12\u001b[0m \u001b[32m━━━━━━━━━━━━━━━━━━━━\u001b[0m\u001b[37m\u001b[0m \u001b[1m1s\u001b[0m 69ms/step - acc: 0.7060 - loss: 0.4517 - val_acc: 0.5950 - val_loss: 0.5380\nEpoch 17/70\n\u001b[1m12/12\u001b[0m \u001b[32m━━━━━━━━━━━━━━━━━━━━\u001b[0m\u001b[37m\u001b[0m \u001b[1m1s\u001b[0m 68ms/step - acc: 0.7070 - loss: 0.4379 - val_acc: 0.5950 - val_loss: 0.5306\nEpoch 18/70\n\u001b[1m12/12\u001b[0m \u001b[32m━━━━━━━━━━━━━━━━━━━━\u001b[0m\u001b[37m\u001b[0m \u001b[1m1s\u001b[0m 68ms/step - acc: 0.7089 - loss: 0.4280 - val_acc: 0.5700 - val_loss: 0.5305\nEpoch 19/70\n\u001b[1m12/12\u001b[0m \u001b[32m━━━━━━━━━━━━━━━━━━━━\u001b[0m\u001b[37m\u001b[0m \u001b[1m1s\u001b[0m 68ms/step - acc: 0.7418 - loss: 0.4121 - val_acc: 0.5850 - val_loss: 0.5294\nEpoch 20/70\n\u001b[1m12/12\u001b[0m \u001b[32m━━━━━━━━━━━━━━━━━━━━\u001b[0m\u001b[37m\u001b[0m \u001b[1m1s\u001b[0m 68ms/step - acc: 0.7623 - loss: 0.3817 - val_acc: 0.5850 - val_loss: 0.5325\nEpoch 21/70\n\u001b[1m12/12\u001b[0m \u001b[32m━━━━━━━━━━━━━━━━━━━━\u001b[0m\u001b[37m\u001b[0m \u001b[1m1s\u001b[0m 68ms/step - acc: 0.7783 - loss: 0.3674 - val_acc: 0.5950 - val_loss: 0.5442\nEpoch 22/70\n\u001b[1m12/12\u001b[0m \u001b[32m━━━━━━━━━━━━━━━━━━━━\u001b[0m\u001b[37m\u001b[0m \u001b[1m1s\u001b[0m 68ms/step - acc: 0.7964 - loss: 0.3547 - val_acc: 0.6250 - val_loss: 0.5381\nEpoch 1/70\n\u001b[1m10/10\u001b[0m \u001b[32m━━━━━━━━━━━━━━━━━━━━\u001b[0m\u001b[37m\u001b[0m \u001b[1m3s\u001b[0m 102ms/step - acc: 0.2463 - loss: 0.6895 - val_acc: 0.2800 - val_loss: 0.6573\nEpoch 2/70\n\u001b[1m10/10\u001b[0m \u001b[32m━━━━━━━━━━━━━━━━━━━━\u001b[0m\u001b[37m\u001b[0m \u001b[1m1s\u001b[0m 67ms/step - acc: 0.4416 - loss: 0.6372 - val_acc: 0.4667 - val_loss: 0.6206\nEpoch 3/70\n\u001b[1m10/10\u001b[0m \u001b[32m━━━━━━━━━━━━━━━━━━━━\u001b[0m\u001b[37m\u001b[0m \u001b[1m1s\u001b[0m 67ms/step - acc: 0.5112 - loss: 0.6095 - val_acc: 0.5600 - val_loss: 0.5976\nEpoch 4/70\n\u001b[1m10/10\u001b[0m \u001b[32m━━━━━━━━━━━━━━━━━━━━\u001b[0m\u001b[37m\u001b[0m \u001b[1m1s\u001b[0m 68ms/step - acc: 0.5681 - loss: 0.5909 - val_acc: 0.6133 - val_loss: 0.5814\nEpoch 5/70\n\u001b[1m10/10\u001b[0m \u001b[32m━━━━━━━━━━━━━━━━━━━━\u001b[0m\u001b[37m\u001b[0m \u001b[1m1s\u001b[0m 69ms/step - acc: 0.5770 - loss: 0.5765 - val_acc: 0.6133 - val_loss: 0.5706\nEpoch 6/70\n\u001b[1m10/10\u001b[0m \u001b[32m━━━━━━━━━━━━━━━━━━━━\u001b[0m\u001b[37m\u001b[0m \u001b[1m1s\u001b[0m 68ms/step - acc: 0.6207 - loss: 0.5511 - val_acc: 0.6133 - val_loss: 0.5611\nEpoch 7/70\n\u001b[1m10/10\u001b[0m \u001b[32m━━━━━━━━━━━━━━━━━━━━\u001b[0m\u001b[37m\u001b[0m \u001b[1m1s\u001b[0m 68ms/step - acc: 0.6153 - loss: 0.5435 - val_acc: 0.6200 - val_loss: 0.5524\nEpoch 8/70\n\u001b[1m10/10\u001b[0m \u001b[32m━━━━━━━━━━━━━━━━━━━━\u001b[0m\u001b[37m\u001b[0m \u001b[1m1s\u001b[0m 67ms/step - acc: 0.6418 - loss: 0.5271 - val_acc: 0.6200 - val_loss: 0.5462\nEpoch 9/70\n\u001b[1m10/10\u001b[0m \u001b[32m━━━━━━━━━━━━━━━━━━━━\u001b[0m\u001b[37m\u001b[0m \u001b[1m1s\u001b[0m 68ms/step - acc: 0.6564 - loss: 0.5200 - val_acc: 0.6200 - val_loss: 0.5388\nEpoch 10/70\n\u001b[1m10/10\u001b[0m \u001b[32m━━━━━━━━━━━━━━━━━━━━\u001b[0m\u001b[37m\u001b[0m \u001b[1m1s\u001b[0m 68ms/step - acc: 0.6655 - loss: 0.5092 - val_acc: 0.6067 - val_loss: 0.5316\nEpoch 11/70\n\u001b[1m10/10\u001b[0m \u001b[32m━━━━━━━━━━━━━━━━━━━━\u001b[0m\u001b[37m\u001b[0m \u001b[1m1s\u001b[0m 69ms/step - acc: 0.6679 - loss: 0.4979 - val_acc: 0.6000 - val_loss: 0.5283\nEpoch 12/70\n\u001b[1m10/10\u001b[0m \u001b[32m━━━━━━━━━━━━━━━━━━━━\u001b[0m\u001b[37m\u001b[0m \u001b[1m1s\u001b[0m 68ms/step - acc: 0.6870 - loss: 0.4800 - val_acc: 0.5933 - val_loss: 0.5211\nEpoch 13/70\n\u001b[1m10/10\u001b[0m \u001b[32m━━━━━━━━━━━━━━━━━━━━\u001b[0m\u001b[37m\u001b[0m \u001b[1m1s\u001b[0m 69ms/step - acc: 0.6978 - loss: 0.4610 - val_acc: 0.5933 - val_loss: 0.5167\nEpoch 14/70\n\u001b[1m10/10\u001b[0m \u001b[32m━━━━━━━━━━━━━━━━━━━━\u001b[0m\u001b[37m\u001b[0m \u001b[1m1s\u001b[0m 69ms/step - acc: 0.7317 - loss: 0.4434 - val_acc: 0.6000 - val_loss: 0.5130\nEpoch 15/70\n\u001b[1m10/10\u001b[0m \u001b[32m━━━━━━━━━━━━━━━━━━━━\u001b[0m\u001b[37m\u001b[0m \u001b[1m1s\u001b[0m 69ms/step - acc: 0.7105 - loss: 0.4419 - val_acc: 0.5933 - val_loss: 0.5089\nEpoch 16/70\n\u001b[1m10/10\u001b[0m \u001b[32m━━━━━━━━━━━━━━━━━━━━\u001b[0m\u001b[37m\u001b[0m \u001b[1m1s\u001b[0m 69ms/step - acc: 0.7460 - loss: 0.4145 - val_acc: 0.6000 - val_loss: 0.5108\nEpoch 17/70\n\u001b[1m10/10\u001b[0m \u001b[32m━━━━━━━━━━━━━━━━━━━━\u001b[0m\u001b[37m\u001b[0m \u001b[1m1s\u001b[0m 69ms/step - acc: 0.7633 - loss: 0.4023 - val_acc: 0.6133 - val_loss: 0.5051\nEpoch 18/70\n\u001b[1m10/10\u001b[0m \u001b[32m━━━━━━━━━━━━━━━━━━━━\u001b[0m\u001b[37m\u001b[0m \u001b[1m1s\u001b[0m 70ms/step - acc: 0.7498 - loss: 0.3951 - val_acc: 0.6000 - val_loss: 0.5036\nEpoch 19/70\n\u001b[1m10/10\u001b[0m \u001b[32m━━━━━━━━━━━━━━━━━━━━\u001b[0m\u001b[37m\u001b[0m \u001b[1m1s\u001b[0m 70ms/step - acc: 0.7802 - loss: 0.3725 - val_acc: 0.6067 - val_loss: 0.5015\nEpoch 20/70\n\u001b[1m10/10\u001b[0m \u001b[32m━━━━━━━━━━━━━━━━━━━━\u001b[0m\u001b[37m\u001b[0m \u001b[1m1s\u001b[0m 69ms/step - acc: 0.7952 - loss: 0.3559 - val_acc: 0.6133 - val_loss: 0.5002\nEpoch 21/70\n\u001b[1m10/10\u001b[0m \u001b[32m━━━━━━━━━━━━━━━━━━━━\u001b[0m\u001b[37m\u001b[0m \u001b[1m1s\u001b[0m 70ms/step - acc: 0.8104 - loss: 0.3364 - val_acc: 0.6467 - val_loss: 0.5082\nEpoch 22/70\n\u001b[1m10/10\u001b[0m \u001b[32m━━━━━━━━━━━━━━━━━━━━\u001b[0m\u001b[37m\u001b[0m \u001b[1m1s\u001b[0m 70ms/step - acc: 0.8117 - loss: 0.3309 - val_acc: 0.6133 - val_loss: 0.5021\nEpoch 23/70\n\u001b[1m10/10\u001b[0m \u001b[32m━━━━━━━━━━━━━━━━━━━━\u001b[0m\u001b[37m\u001b[0m \u001b[1m1s\u001b[0m 70ms/step - acc: 0.8365 - loss: 0.2933 - val_acc: 0.6400 - val_loss: 0.5050\nEpoch 1/70\n\u001b[1m8/8\u001b[0m \u001b[32m━━━━━━━━━━━━━━━━━━━━\u001b[0m\u001b[37m\u001b[0m \u001b[1m3s\u001b[0m 115ms/step - acc: 0.4768 - loss: 0.6591 - val_acc: 0.5214 - val_loss: 0.6166\nEpoch 2/70\n\u001b[1m8/8\u001b[0m \u001b[32m━━━━━━━━━━━━━━━━━━━━\u001b[0m\u001b[37m\u001b[0m \u001b[1m1s\u001b[0m 71ms/step - acc: 0.5483 - loss: 0.6085 - val_acc: 0.5214 - val_loss: 0.5813\nEpoch 3/70\n\u001b[1m8/8\u001b[0m \u001b[32m━━━━━━━━━━━━━━━━━━━━\u001b[0m\u001b[37m\u001b[0m \u001b[1m1s\u001b[0m 69ms/step - acc: 0.5843 - loss: 0.5761 - val_acc: 0.5429 - val_loss: 0.5598\nEpoch 4/70\n\u001b[1m8/8\u001b[0m \u001b[32m━━━━━━━━━━━━━━━━━━━━\u001b[0m\u001b[37m\u001b[0m \u001b[1m1s\u001b[0m 68ms/step - acc: 0.6289 - loss: 0.5464 - val_acc: 0.5929 - val_loss: 0.5426\nEpoch 5/70\n\u001b[1m8/8\u001b[0m \u001b[32m━━━━━━━━━━━━━━━━━━━━\u001b[0m\u001b[37m\u001b[0m \u001b[1m1s\u001b[0m 69ms/step - acc: 0.6476 - loss: 0.5299 - val_acc: 0.6500 - val_loss: 0.5267\nEpoch 6/70\n\u001b[1m8/8\u001b[0m \u001b[32m━━━━━━━━━━━━━━━━━━━━\u001b[0m\u001b[37m\u001b[0m \u001b[1m1s\u001b[0m 70ms/step - acc: 0.6574 - loss: 0.5147 - val_acc: 0.6786 - val_loss: 0.5140\nEpoch 7/70\n\u001b[1m8/8\u001b[0m \u001b[32m━━━━━━━━━━━━━━━━━━━━\u001b[0m\u001b[37m\u001b[0m \u001b[1m1s\u001b[0m 70ms/step - acc: 0.6894 - loss: 0.4935 - val_acc: 0.6857 - val_loss: 0.5037\nEpoch 8/70\n\u001b[1m8/8\u001b[0m \u001b[32m━━━━━━━━━━━━━━━━━━━━\u001b[0m\u001b[37m\u001b[0m \u001b[1m1s\u001b[0m 69ms/step - acc: 0.6872 - loss: 0.4745 - val_acc: 0.6857 - val_loss: 0.4960\nEpoch 9/70\n\u001b[1m8/8\u001b[0m \u001b[32m━━━━━━━━━━━━━━━━━━━━\u001b[0m\u001b[37m\u001b[0m \u001b[1m1s\u001b[0m 69ms/step - acc: 0.6835 - loss: 0.4623 - val_acc: 0.7000 - val_loss: 0.4902\nEpoch 10/70\n\u001b[1m8/8\u001b[0m \u001b[32m━━━━━━━━━━━━━━━━━━━━\u001b[0m\u001b[37m\u001b[0m \u001b[1m1s\u001b[0m 70ms/step - acc: 0.7249 - loss: 0.4379 - val_acc: 0.6929 - val_loss: 0.4867\nEpoch 11/70\n\u001b[1m8/8\u001b[0m \u001b[32m━━━━━━━━━━━━━━━━━━━━\u001b[0m\u001b[37m\u001b[0m \u001b[1m1s\u001b[0m 70ms/step - acc: 0.7095 - loss: 0.4358 - val_acc: 0.6857 - val_loss: 0.4847\nEpoch 12/70\n\u001b[1m8/8\u001b[0m \u001b[32m━━━━━━━━━━━━━━━━━━━━\u001b[0m\u001b[37m\u001b[0m \u001b[1m1s\u001b[0m 70ms/step - acc: 0.7491 - loss: 0.4169 - val_acc: 0.6857 - val_loss: 0.4834\nEpoch 13/70\n\u001b[1m8/8\u001b[0m \u001b[32m━━━━━━━━━━━━━━━━━━━━\u001b[0m\u001b[37m\u001b[0m \u001b[1m1s\u001b[0m 70ms/step - acc: 0.7353 - loss: 0.4091 - val_acc: 0.6786 - val_loss: 0.4805\nEpoch 14/70\n\u001b[1m8/8\u001b[0m \u001b[32m━━━━━━━━━━━━━━━━━━━━\u001b[0m\u001b[37m\u001b[0m \u001b[1m1s\u001b[0m 71ms/step - acc: 0.7623 - loss: 0.3915 - val_acc: 0.6929 - val_loss: 0.4793\nEpoch 15/70\n\u001b[1m8/8\u001b[0m \u001b[32m━━━━━━━━━━━━━━━━━━━━\u001b[0m\u001b[37m\u001b[0m \u001b[1m1s\u001b[0m 71ms/step - acc: 0.7753 - loss: 0.3856 - val_acc: 0.6929 - val_loss: 0.4744\nEpoch 16/70\n\u001b[1m8/8\u001b[0m \u001b[32m━━━━━━━━━━━━━━━━━━━━\u001b[0m\u001b[37m\u001b[0m \u001b[1m1s\u001b[0m 71ms/step - acc: 0.7475 - loss: 0.3695 - val_acc: 0.6571 - val_loss: 0.4752\nEpoch 17/70\n\u001b[1m8/8\u001b[0m \u001b[32m━━━━━━━━━━━━━━━━━━━━\u001b[0m\u001b[37m\u001b[0m \u001b[1m1s\u001b[0m 72ms/step - acc: 0.7965 - loss: 0.3533 - val_acc: 0.7000 - val_loss: 0.4686\nEpoch 18/70\n\u001b[1m8/8\u001b[0m \u001b[32m━━━━━━━━━━━━━━━━━━━━\u001b[0m\u001b[37m\u001b[0m \u001b[1m1s\u001b[0m 71ms/step - acc: 0.8045 - loss: 0.3383 - val_acc: 0.7000 - val_loss: 0.4611\nEpoch 19/70\n\u001b[1m8/8\u001b[0m \u001b[32m━━━━━━━━━━━━━━━━━━━━\u001b[0m\u001b[37m\u001b[0m \u001b[1m1s\u001b[0m 71ms/step - acc: 0.8319 - loss: 0.3168 - val_acc: 0.7143 - val_loss: 0.4535\nEpoch 20/70\n\u001b[1m8/8\u001b[0m \u001b[32m━━━━━━━━━━━━━━━━━━━━\u001b[0m\u001b[37m\u001b[0m \u001b[1m1s\u001b[0m 72ms/step - acc: 0.8415 - loss: 0.2972 - val_acc: 0.7429 - val_loss: 0.4502\nEpoch 21/70\n\u001b[1m8/8\u001b[0m \u001b[32m━━━━━━━━━━━━━━━━━━━━\u001b[0m\u001b[37m\u001b[0m \u001b[1m1s\u001b[0m 72ms/step - acc: 0.8380 - loss: 0.2890 - val_acc: 0.7500 - val_loss: 0.4383\nEpoch 22/70\n\u001b[1m8/8\u001b[0m \u001b[32m━━━━━━━━━━━━━━━━━━━━\u001b[0m\u001b[37m\u001b[0m \u001b[1m1s\u001b[0m 72ms/step - acc: 0.8853 - loss: 0.2525 - val_acc: 0.7429 - val_loss: 0.4342\nEpoch 23/70\n\u001b[1m8/8\u001b[0m \u001b[32m━━━━━━━━━━━━━━━━━━━━\u001b[0m\u001b[37m\u001b[0m \u001b[1m1s\u001b[0m 71ms/step - acc: 0.9005 - loss: 0.2360 - val_acc: 0.7429 - val_loss: 0.4282\nEpoch 24/70\n\u001b[1m8/8\u001b[0m \u001b[32m━━━━━━━━━━━━━━━━━━━━\u001b[0m\u001b[37m\u001b[0m \u001b[1m1s\u001b[0m 72ms/step - acc: 0.9018 - loss: 0.2167 - val_acc: 0.7429 - val_loss: 0.4284\nEpoch 25/70\n\u001b[1m8/8\u001b[0m \u001b[32m━━━━━━━━━━━━━━━━━━━━\u001b[0m\u001b[37m\u001b[0m \u001b[1m1s\u001b[0m 73ms/step - acc: 0.9021 - loss: 0.2021 - val_acc: 0.7500 - val_loss: 0.4240\nEpoch 26/70\n\u001b[1m8/8\u001b[0m \u001b[32m━━━━━━━━━━━━━━━━━━━━\u001b[0m\u001b[37m\u001b[0m \u001b[1m1s\u001b[0m 72ms/step - acc: 0.9220 - loss: 0.1743 - val_acc: 0.7500 - val_loss: 0.4290\nEpoch 27/70\n\u001b[1m8/8\u001b[0m \u001b[32m━━━━━━━━━━━━━━━━━━━━\u001b[0m\u001b[37m\u001b[0m \u001b[1m1s\u001b[0m 72ms/step - acc: 0.9311 - loss: 0.1572 - val_acc: 0.7500 - val_loss: 0.4369\nEpoch 28/70\n\u001b[1m8/8\u001b[0m \u001b[32m━━━━━━━━━━━━━━━━━━━━\u001b[0m\u001b[37m\u001b[0m \u001b[1m1s\u001b[0m 72ms/step - acc: 0.9571 - loss: 0.1289 - val_acc: 0.7429 - val_loss: 0.4482\n",
          "output_type": "stream"
        }
      ],
      "execution_count": null
    },
    {
      "cell_type": "code",
      "source": [
        "# predict\n",
        "df_sentiment_train_pred = {}\n",
        "df_sentiment_train_true_ = {}\n",
        "\n",
        "df_sentiment_val_true_ = {}\n",
        "df_sentiment_val_pred = {}\n",
        "\n",
        "df_sentiment_test_true_ = {}\n",
        "df_sentiment_test_pred = {}\n",
        "\n",
        "\n",
        "# for aspect in lst_aspect:\n",
        "for aspect in lst_aspect:\n",
        "  pred_sentiment_train = sentiment_model[aspect].predict(padded_sentiment_train[aspect])\n",
        "  pred_sentiment_val = sentiment_model[aspect].predict(padded_sentiment_val[aspect])\n",
        "  pred_sentiment_test = sentiment_model[aspect].predict(padded_sentiment_test[aspect])\n",
        "\n",
        "  df_sentiment_train_pred[aspect] = np.argmax(pred_sentiment_train, axis=1)\n",
        "  df_sentiment_train_true_[aspect] = np.argmax(label_sentiment_train[aspect], axis = 1)\n",
        "\n",
        "  df_sentiment_val_pred[aspect] = np.argmax(pred_sentiment_val, axis=1)\n",
        "  df_sentiment_val_true_[aspect] = np.argmax(label_sentiment_val[aspect], axis = 1)\n",
        "\n",
        "  df_sentiment_test_pred[aspect] = np.argmax(pred_sentiment_test, axis=1)\n",
        "  df_sentiment_test_true_[aspect] = np.argmax(label_sentiment_test[aspect], axis=1)\n",
        "\n",
        "sentiment_result_bigru = {}\n",
        "# for aspect in lst_aspect:\n",
        "for aspect in lst_aspect:\n",
        "    sentiment_result_bigru[aspect] = classification_report(df_sentiment_test_true_[aspect].tolist(), df_sentiment_test_pred[aspect].tolist())\n",
        "    print(sentiment_result_bigru[aspect])"
      ],
      "metadata": {
        "colab": {
          "base_uri": "https://localhost:8080/"
        },
        "id": "B70kO0_RGhrD",
        "outputId": "da4f7bb1-66d1-4cef-e077-5f3cfae72a30",
        "trusted": true,
        "execution": {
          "iopub.status.busy": "2024-12-16T03:21:04.318918Z",
          "iopub.execute_input": "2024-12-16T03:21:04.319196Z",
          "iopub.status.idle": "2024-12-16T03:21:07.722832Z",
          "shell.execute_reply.started": "2024-12-16T03:21:04.319169Z",
          "shell.execute_reply": "2024-12-16T03:21:07.721916Z"
        }
      },
      "outputs": [
        {
          "name": "stdout",
          "text": "\u001b[1m42/42\u001b[0m \u001b[32m━━━━━━━━━━━━━━━━━━━━\u001b[0m\u001b[37m\u001b[0m \u001b[1m1s\u001b[0m 13ms/step\n\u001b[1m6/6\u001b[0m \u001b[32m━━━━━━━━━━━━━━━━━━━━\u001b[0m\u001b[37m\u001b[0m \u001b[1m0s\u001b[0m 6ms/step \n\u001b[1m6/6\u001b[0m \u001b[32m━━━━━━━━━━━━━━━━━━━━\u001b[0m\u001b[37m\u001b[0m \u001b[1m0s\u001b[0m 6ms/step \n\u001b[1m47/47\u001b[0m \u001b[32m━━━━━━━━━━━━━━━━━━━━\u001b[0m\u001b[37m\u001b[0m \u001b[1m1s\u001b[0m 10ms/step\n\u001b[1m7/7\u001b[0m \u001b[32m━━━━━━━━━━━━━━━━━━━━\u001b[0m\u001b[37m\u001b[0m \u001b[1m0s\u001b[0m 6ms/step \n\u001b[1m7/7\u001b[0m \u001b[32m━━━━━━━━━━━━━━━━━━━━\u001b[0m\u001b[37m\u001b[0m \u001b[1m0s\u001b[0m 6ms/step \n\u001b[1m39/39\u001b[0m \u001b[32m━━━━━━━━━━━━━━━━━━━━\u001b[0m\u001b[37m\u001b[0m \u001b[1m1s\u001b[0m 11ms/step\n\u001b[1m5/5\u001b[0m \u001b[32m━━━━━━━━━━━━━━━━━━━━\u001b[0m\u001b[37m\u001b[0m \u001b[1m0s\u001b[0m 6ms/step \n\u001b[1m6/6\u001b[0m \u001b[32m━━━━━━━━━━━━━━━━━━━━\u001b[0m\u001b[37m\u001b[0m \u001b[1m0s\u001b[0m 6ms/step \n\u001b[1m32/32\u001b[0m \u001b[32m━━━━━━━━━━━━━━━━━━━━\u001b[0m\u001b[37m\u001b[0m \u001b[1m1s\u001b[0m 12ms/step\n\u001b[1m5/5\u001b[0m \u001b[32m━━━━━━━━━━━━━━━━━━━━\u001b[0m\u001b[37m\u001b[0m \u001b[1m0s\u001b[0m 6ms/step \n\u001b[1m4/4\u001b[0m \u001b[32m━━━━━━━━━━━━━━━━━━━━\u001b[0m\u001b[37m\u001b[0m \u001b[1m0s\u001b[0m 6ms/step \n              precision    recall  f1-score   support\n\n           0       0.80      0.65      0.71        54\n           1       0.64      0.41      0.50        22\n           2       0.75      0.89      0.82        94\n\n    accuracy                           0.75       170\n   macro avg       0.73      0.65      0.68       170\nweighted avg       0.75      0.75      0.74       170\n\n              precision    recall  f1-score   support\n\n           0       0.36      0.12      0.19        40\n           1       0.59      0.58      0.59        60\n           2       0.66      0.84      0.74       104\n\n    accuracy                           0.62       204\n   macro avg       0.54      0.51      0.50       204\nweighted avg       0.58      0.62      0.59       204\n\n              precision    recall  f1-score   support\n\n           0       0.70      0.53      0.60        60\n           1       0.38      0.31      0.34        26\n           2       0.69      0.85      0.77        82\n\n    accuracy                           0.65       168\n   macro avg       0.59      0.56      0.57       168\nweighted avg       0.65      0.65      0.64       168\n\n              precision    recall  f1-score   support\n\n           0       0.81      0.75      0.78        40\n           1       0.56      0.74      0.64        38\n           2       0.82      0.67      0.74        49\n\n    accuracy                           0.72       127\n   macro avg       0.73      0.72      0.72       127\nweighted avg       0.74      0.72      0.72       127\n\n",
          "output_type": "stream"
        }
      ],
      "execution_count": null
    },
    {
      "cell_type": "markdown",
      "source": [
        "### BiGRU+CONV"
      ],
      "metadata": {
        "id": "b0UwidGMKJrE"
      }
    },
    {
      "cell_type": "code",
      "source": [
        "def bigru_conv_aspect(vocab_aspect_size, embedding_dim, max_len, embedding_aspect_matrix, padded_aspect_train, padded_aspect_val, label_aspect_train, label_aspect_val, epochs=70):\n",
        "\n",
        "  input = Input(shape=(max_len,))\n",
        "  embed = Embedding(input_dim=vocab_aspect_size,\n",
        "                  output_dim=embedding_dim,\n",
        "                  embeddings_initializer=Constant(embedding_aspect_matrix),\n",
        "                  input_length=max_len,\n",
        "                  trainable=True)(input)\n",
        "\n",
        "  dropout1 = SpatialDropout1D(0.2)(embed)\n",
        "\n",
        "  lstm = Bidirectional(GRU(units = 200, activation = 'tanh', return_sequences = True))(dropout1)\n",
        "  conv = Conv1D(128, kernel_size = 2, padding = \"valid\", kernel_initializer = \"he_uniform\")(lstm)\n",
        "\n",
        "  avg_pool1 = GlobalAveragePooling1D()(conv)\n",
        "  max_pool1 = GlobalMaxPooling1D()(conv)\n",
        "\n",
        "\n",
        "  concat = Concatenate(axis=-1)([avg_pool1, max_pool1])\n",
        "\n",
        "  # aspect\n",
        "  aspect_dense2 = Dense(128, activation='relu')(concat)\n",
        "  aspect_dropout1 = Dropout(0.2)(aspect_dense2)\n",
        "  aspect_dense3 = Dense(64, activation='relu')(aspect_dropout1)\n",
        "  aspect_dense4 = Dense(32, activation='relu')(aspect_dense3)\n",
        "  aspect_dense5 = Dense(8, activation='sigmoid')(aspect_dense4)\n",
        "\n",
        "  aspect_model = tf.keras.Model(inputs = input, outputs = aspect_dense5)\n",
        "  aspect_model.compile(optimizer=Adam(learning_rate = 0.0001), loss='binary_crossentropy', metrics=['acc'])\n",
        "  callback = tf.keras.callbacks.EarlyStopping(monitor='val_loss', patience=3)\n",
        "\n",
        "  # Fit model\n",
        "  history = aspect_model.fit(x=padded_aspect_train,\n",
        "    y=label_aspect_train.to_numpy(),\n",
        "\n",
        "    validation_data=(padded_aspect_val,\n",
        "      label_aspect_val.to_numpy()),\n",
        "    batch_size = 128,\n",
        "    epochs=epochs,\n",
        "    callbacks = [callback],\n",
        "    verbose=1)\n",
        "\n",
        "  return aspect_model\n",
        "\n",
        "def bigru_conv_polarity(aspect, vocab_sentiment_size, embedding_dim, max_len, embedding_sentiment_matrix, padded_sentiment_train, padded_sentiment_val, label_sentiment_train, label_sentiment_val, epochs=70):\n",
        "\n",
        "  # polarity\n",
        "\n",
        "  input = Input(shape=(max_len,))\n",
        "  embed = Embedding(input_dim=vocab_sentiment_size[aspect],\n",
        "                  output_dim=embedding_dim,\n",
        "                  embeddings_initializer=Constant(embedding_sentiment_matrix[aspect]),\n",
        "                  input_length=max_len,\n",
        "                  trainable=True)(input)\n",
        "\n",
        "  dropout1 = SpatialDropout1D(0.2)(embed)\n",
        "\n",
        "  lstm = Bidirectional(GRU(units = 200, activation = 'tanh', return_sequences = True))(dropout1)\n",
        "  conv = Conv1D(128, kernel_size = 2, padding = \"valid\", kernel_initializer = \"he_uniform\")(lstm)\n",
        "\n",
        "  avg_pool1 = GlobalAveragePooling1D()(conv)\n",
        "  max_pool1 = GlobalMaxPooling1D()(conv)\n",
        "\n",
        "\n",
        "  concat = Concatenate(axis=-1)([avg_pool1, max_pool1])\n",
        "\n",
        "  sentiment_dense2 = Dense(128, activation='relu')(concat)\n",
        "  sentiment_dropout1 = Dropout(0.2)(sentiment_dense2)\n",
        "  sentiment_dense3 = Dense(64, activation='relu')(sentiment_dropout1)\n",
        "  sentiment_dense4 = Dense(32, activation='relu')(sentiment_dense3)\n",
        "  out_sentiment = Dense(units = 3, activation = 'softmax')(sentiment_dense4)\n",
        "\n",
        "  sentiment_model[aspect] = tf.keras.Model(inputs = input, outputs = out_sentiment)\n",
        "  sentiment_model[aspect].compile(optimizer=Adam(learning_rate = 0.0001), loss='binary_crossentropy', metrics=['acc'])\n",
        "  callback = tf.keras.callbacks.EarlyStopping(monitor='val_loss', patience=3)\n",
        "\n",
        "  # Fit model\n",
        "\n",
        "  history = sentiment_model[aspect].fit(x=padded_sentiment_train[aspect],\n",
        "    y=label_sentiment_train[aspect],\n",
        "\n",
        "    validation_data=(padded_sentiment_val[aspect],\n",
        "      label_sentiment_val[aspect]),\n",
        "    batch_size = 128,\n",
        "    epochs=epochs,\n",
        "    callbacks = [callback],\n",
        "    verbose=1)\n",
        "\n",
        "\n",
        "  return sentiment_model[aspect]"
      ],
      "metadata": {
        "id": "_EmtVq9pHtiR",
        "trusted": true,
        "execution": {
          "iopub.status.busy": "2024-12-16T03:22:10.793768Z",
          "iopub.execute_input": "2024-12-16T03:22:10.794602Z",
          "iopub.status.idle": "2024-12-16T03:22:10.808153Z",
          "shell.execute_reply.started": "2024-12-16T03:22:10.794561Z",
          "shell.execute_reply": "2024-12-16T03:22:10.807291Z"
        }
      },
      "outputs": [],
      "execution_count": null
    },
    {
      "cell_type": "code",
      "source": [
        "label_aspect_val = label_aspect_val.astype('int32')\n"
      ],
      "metadata": {
        "id": "_5ia-h230zmn",
        "trusted": true,
        "execution": {
          "iopub.status.busy": "2024-12-16T03:22:18.563461Z",
          "iopub.execute_input": "2024-12-16T03:22:18.564198Z",
          "iopub.status.idle": "2024-12-16T03:22:18.568415Z",
          "shell.execute_reply.started": "2024-12-16T03:22:18.564161Z",
          "shell.execute_reply": "2024-12-16T03:22:18.567516Z"
        }
      },
      "outputs": [],
      "execution_count": null
    },
    {
      "cell_type": "code",
      "source": [
        "max_len=padded_aspect_train.shape[1]\n",
        "aspect_model_bigru = bigru_aspect(vocab_aspect_size, embedding_dim, max_len, embedding_aspect_matrix, padded_aspect_train, padded_aspect_val, label_aspect_train, label_aspect_val)\n",
        "\n",
        "save_path = '/kaggle/working/BiGRU_CONV/stl_BiGRU_aspect.h5'\n",
        "aspect_model_bigru.save(save_path)"
      ],
      "metadata": {
        "colab": {
          "base_uri": "https://localhost:8080/",
          "height": 959
        },
        "id": "tgJWbvzhKNmB",
        "outputId": "16b81d11-d620-4c75-9220-57a249798aed",
        "trusted": true,
        "execution": {
          "iopub.status.busy": "2024-12-16T03:22:38.719654Z",
          "iopub.execute_input": "2024-12-16T03:22:38.720439Z",
          "iopub.status.idle": "2024-12-16T03:23:43.995419Z",
          "shell.execute_reply.started": "2024-12-16T03:22:38.720408Z",
          "shell.execute_reply": "2024-12-16T03:23:43.994722Z"
        }
      },
      "outputs": [
        {
          "name": "stderr",
          "text": "/opt/conda/lib/python3.10/site-packages/keras/src/layers/core/embedding.py:90: UserWarning: Argument `input_length` is deprecated. Just remove it.\n  warnings.warn(\n",
          "output_type": "stream"
        },
        {
          "name": "stdout",
          "text": "Epoch 1/70\n\u001b[1m30/30\u001b[0m \u001b[32m━━━━━━━━━━━━━━━━━━━━\u001b[0m\u001b[37m\u001b[0m \u001b[1m4s\u001b[0m 75ms/step - acc: 0.1484 - loss: 0.6821 - val_acc: 0.2374 - val_loss: 0.6372\nEpoch 2/70\n\u001b[1m30/30\u001b[0m \u001b[32m━━━━━━━━━━━━━━━━━━━━\u001b[0m\u001b[37m\u001b[0m \u001b[1m2s\u001b[0m 65ms/step - acc: 0.2607 - loss: 0.6190 - val_acc: 0.3803 - val_loss: 0.5837\nEpoch 3/70\n\u001b[1m30/30\u001b[0m \u001b[32m━━━━━━━━━━━━━━━━━━━━\u001b[0m\u001b[37m\u001b[0m \u001b[1m2s\u001b[0m 66ms/step - acc: 0.3908 - loss: 0.5696 - val_acc: 0.4538 - val_loss: 0.5501\nEpoch 4/70\n\u001b[1m30/30\u001b[0m \u001b[32m━━━━━━━━━━━━━━━━━━━━\u001b[0m\u001b[37m\u001b[0m \u001b[1m2s\u001b[0m 67ms/step - acc: 0.4805 - loss: 0.5385 - val_acc: 0.4664 - val_loss: 0.5312\nEpoch 5/70\n\u001b[1m30/30\u001b[0m \u001b[32m━━━━━━━━━━━━━━━━━━━━\u001b[0m\u001b[37m\u001b[0m \u001b[1m2s\u001b[0m 67ms/step - acc: 0.4881 - loss: 0.5149 - val_acc: 0.4706 - val_loss: 0.5170\nEpoch 6/70\n\u001b[1m30/30\u001b[0m \u001b[32m━━━━━━━━━━━━━━━━━━━━\u001b[0m\u001b[37m\u001b[0m \u001b[1m2s\u001b[0m 67ms/step - acc: 0.5071 - loss: 0.4963 - val_acc: 0.4769 - val_loss: 0.5112\nEpoch 7/70\n\u001b[1m30/30\u001b[0m \u001b[32m━━━━━━━━━━━━━━━━━━━━\u001b[0m\u001b[37m\u001b[0m \u001b[1m2s\u001b[0m 68ms/step - acc: 0.5098 - loss: 0.4870 - val_acc: 0.5063 - val_loss: 0.5027\nEpoch 8/70\n\u001b[1m30/30\u001b[0m \u001b[32m━━━━━━━━━━━━━━━━━━━━\u001b[0m\u001b[37m\u001b[0m \u001b[1m2s\u001b[0m 68ms/step - acc: 0.5207 - loss: 0.4766 - val_acc: 0.4496 - val_loss: 0.4917\nEpoch 9/70\n\u001b[1m30/30\u001b[0m \u001b[32m━━━━━━━━━━━━━━━━━━━━\u001b[0m\u001b[37m\u001b[0m \u001b[1m2s\u001b[0m 68ms/step - acc: 0.5091 - loss: 0.4614 - val_acc: 0.4706 - val_loss: 0.4779\nEpoch 10/70\n\u001b[1m30/30\u001b[0m \u001b[32m━━━━━━━━━━━━━━━━━━━━\u001b[0m\u001b[37m\u001b[0m \u001b[1m2s\u001b[0m 69ms/step - acc: 0.5338 - loss: 0.4425 - val_acc: 0.5126 - val_loss: 0.4633\nEpoch 11/70\n\u001b[1m30/30\u001b[0m \u001b[32m━━━━━━━━━━━━━━━━━━━━\u001b[0m\u001b[37m\u001b[0m \u001b[1m2s\u001b[0m 69ms/step - acc: 0.5586 - loss: 0.4214 - val_acc: 0.5294 - val_loss: 0.4503\nEpoch 12/70\n\u001b[1m30/30\u001b[0m \u001b[32m━━━━━━━━━━━━━━━━━━━━\u001b[0m\u001b[37m\u001b[0m \u001b[1m2s\u001b[0m 69ms/step - acc: 0.5705 - loss: 0.3919 - val_acc: 0.5588 - val_loss: 0.4314\nEpoch 13/70\n\u001b[1m30/30\u001b[0m \u001b[32m━━━━━━━━━━━━━━━━━━━━\u001b[0m\u001b[37m\u001b[0m \u001b[1m2s\u001b[0m 69ms/step - acc: 0.5746 - loss: 0.3553 - val_acc: 0.5735 - val_loss: 0.4116\nEpoch 14/70\n\u001b[1m30/30\u001b[0m \u001b[32m━━━━━━━━━━━━━━━━━━━━\u001b[0m\u001b[37m\u001b[0m \u001b[1m2s\u001b[0m 70ms/step - acc: 0.5857 - loss: 0.3360 - val_acc: 0.6282 - val_loss: 0.3993\nEpoch 15/70\n\u001b[1m30/30\u001b[0m \u001b[32m━━━━━━━━━━━━━━━━━━━━\u001b[0m\u001b[37m\u001b[0m \u001b[1m2s\u001b[0m 70ms/step - acc: 0.6146 - loss: 0.3036 - val_acc: 0.5126 - val_loss: 0.4034\nEpoch 16/70\n\u001b[1m30/30\u001b[0m \u001b[32m━━━━━━━━━━━━━━━━━━━━\u001b[0m\u001b[37m\u001b[0m \u001b[1m2s\u001b[0m 71ms/step - acc: 0.5628 - loss: 0.2819 - val_acc: 0.5945 - val_loss: 0.3927\nEpoch 17/70\n\u001b[1m30/30\u001b[0m \u001b[32m━━━━━━━━━━━━━━━━━━━━\u001b[0m\u001b[37m\u001b[0m \u001b[1m2s\u001b[0m 71ms/step - acc: 0.6048 - loss: 0.2650 - val_acc: 0.6029 - val_loss: 0.3715\nEpoch 18/70\n\u001b[1m30/30\u001b[0m \u001b[32m━━━━━━━━━━━━━━━━━━━━\u001b[0m\u001b[37m\u001b[0m \u001b[1m2s\u001b[0m 71ms/step - acc: 0.6021 - loss: 0.2388 - val_acc: 0.5882 - val_loss: 0.3695\nEpoch 19/70\n\u001b[1m30/30\u001b[0m \u001b[32m━━━━━━━━━━━━━━━━━━━━\u001b[0m\u001b[37m\u001b[0m \u001b[1m2s\u001b[0m 71ms/step - acc: 0.6076 - loss: 0.2121 - val_acc: 0.6029 - val_loss: 0.3699\nEpoch 20/70\n\u001b[1m30/30\u001b[0m \u001b[32m━━━━━━━━━━━━━━━━━━━━\u001b[0m\u001b[37m\u001b[0m \u001b[1m2s\u001b[0m 71ms/step - acc: 0.6211 - loss: 0.2101 - val_acc: 0.5357 - val_loss: 0.3695\nEpoch 21/70\n\u001b[1m30/30\u001b[0m \u001b[32m━━━━━━━━━━━━━━━━━━━━\u001b[0m\u001b[37m\u001b[0m \u001b[1m2s\u001b[0m 71ms/step - acc: 0.6306 - loss: 0.1800 - val_acc: 0.5315 - val_loss: 0.3709\nEpoch 22/70\n\u001b[1m30/30\u001b[0m \u001b[32m━━━━━━━━━━━━━━━━━━━━\u001b[0m\u001b[37m\u001b[0m \u001b[1m2s\u001b[0m 71ms/step - acc: 0.6030 - loss: 0.1669 - val_acc: 0.5693 - val_loss: 0.3814\nEpoch 23/70\n\u001b[1m30/30\u001b[0m \u001b[32m━━━━━━━━━━━━━━━━━━━━\u001b[0m\u001b[37m\u001b[0m \u001b[1m2s\u001b[0m 72ms/step - acc: 0.6354 - loss: 0.1391 - val_acc: 0.5546 - val_loss: 0.3823\n",
          "output_type": "stream"
        }
      ],
      "execution_count": null
    },
    {
      "cell_type": "code",
      "source": [
        "# load model\n",
        "save_path = '/kaggle/working/BiGRU_CONV/stl_BiGRU_aspect.h5'\n",
        "aspect_model = keras.models.load_model(save_path)"
      ],
      "metadata": {
        "id": "Th1dEER1Kqo3",
        "trusted": true,
        "execution": {
          "iopub.status.busy": "2024-12-16T03:23:54.259566Z",
          "iopub.execute_input": "2024-12-16T03:23:54.260476Z",
          "iopub.status.idle": "2024-12-16T03:24:27.710166Z",
          "shell.execute_reply.started": "2024-12-16T03:23:54.260439Z",
          "shell.execute_reply": "2024-12-16T03:24:27.709397Z"
        }
      },
      "outputs": [],
      "execution_count": null
    },
    {
      "cell_type": "code",
      "source": [
        "# predict\n",
        "pred_train = aspect_model_bigru.predict(padded_aspect_train)\n",
        "pred_val = aspect_model_bigru.predict(padded_aspect_val)\n",
        "pred_test = aspect_model_bigru.predict(padded_aspect_test)\n",
        "\n",
        "df_train_pred = round(pd.DataFrame(pred_train), 0)\n",
        "df_train_true_ = label_aspect_train\n",
        "df_train_pred.columns = df_train_true_.columns\n",
        "\n",
        "df_val_pred = round(pd.DataFrame(pred_val), 0)\n",
        "df_val_true_ = label_aspect_val\n",
        "df_val_pred.columns = df_val_true_.columns\n",
        "\n",
        "df_test_pred = round(pd.DataFrame(pred_test), 0)\n",
        "df_test_true_ = label_aspect_test\n",
        "df_test_pred.columns = df_test_true_.columns\n",
        "\n",
        "for col in label_aspect_train.columns:\n",
        "  print(col)\n",
        "  aspect_result_bigru_conv = classification_report(df_test_true_[col], df_test_pred[col])\n",
        "  print(aspect_result_bigru_conv)"
      ],
      "metadata": {
        "colab": {
          "base_uri": "https://localhost:8080/"
        },
        "id": "1vvOJHv8KvdA",
        "outputId": "cfeedc31-de76-4ccc-fd81-2c2f04d60cef",
        "trusted": true,
        "execution": {
          "iopub.status.busy": "2024-12-16T03:24:37.359605Z",
          "iopub.execute_input": "2024-12-16T03:24:37.359973Z",
          "iopub.status.idle": "2024-12-16T03:24:38.686781Z",
          "shell.execute_reply.started": "2024-12-16T03:24:37.359941Z",
          "shell.execute_reply": "2024-12-16T03:24:38.686057Z"
        }
      },
      "outputs": [
        {
          "name": "stdout",
          "text": "\u001b[1m119/119\u001b[0m \u001b[32m━━━━━━━━━━━━━━━━━━━━\u001b[0m\u001b[37m\u001b[0m \u001b[1m1s\u001b[0m 8ms/step\n\u001b[1m15/15\u001b[0m \u001b[32m━━━━━━━━━━━━━━━━━━━━\u001b[0m\u001b[37m\u001b[0m \u001b[1m0s\u001b[0m 7ms/step\n\u001b[1m15/15\u001b[0m \u001b[32m━━━━━━━━━━━━━━━━━━━━\u001b[0m\u001b[37m\u001b[0m \u001b[1m0s\u001b[0m 7ms/step\nis_character\n              precision    recall  f1-score   support\n\n           0       0.88      0.93      0.91       306\n           1       0.87      0.77      0.81       171\n\n    accuracy                           0.87       477\n   macro avg       0.87      0.85      0.86       477\nweighted avg       0.87      0.87      0.87       477\n\nis_content\n              precision    recall  f1-score   support\n\n           0       0.84      0.84      0.84       273\n           1       0.78      0.78      0.78       204\n\n    accuracy                           0.81       477\n   macro avg       0.81      0.81      0.81       477\nweighted avg       0.81      0.81      0.81       477\n\nis_scene\n              precision    recall  f1-score   support\n\n           0       0.84      0.84      0.84       309\n           1       0.70      0.70      0.70       168\n\n    accuracy                           0.79       477\n   macro avg       0.77      0.77      0.77       477\nweighted avg       0.79      0.79      0.79       477\n\nis_sound\n              precision    recall  f1-score   support\n\n           0       0.94      0.99      0.96       350\n           1       0.96      0.82      0.89       127\n\n    accuracy                           0.94       477\n   macro avg       0.95      0.90      0.92       477\nweighted avg       0.94      0.94      0.94       477\n\n",
          "output_type": "stream"
        }
      ],
      "execution_count": null
    },
    {
      "cell_type": "code",
      "source": [
        "output_aspect_report = get_pd_report(label_aspect_train, df_test_true_, df_test_pred)\n",
        "output_aspect_report"
      ],
      "metadata": {
        "id": "Z1atQL27KwnG",
        "trusted": true,
        "execution": {
          "iopub.status.busy": "2024-12-16T03:24:53.848921Z",
          "iopub.execute_input": "2024-12-16T03:24:53.849290Z",
          "iopub.status.idle": "2024-12-16T03:24:53.895999Z",
          "shell.execute_reply.started": "2024-12-16T03:24:53.849255Z",
          "shell.execute_reply": "2024-12-16T03:24:53.894917Z"
        },
        "outputId": "1eacf74c-e813-40c1-89e0-f24aa8ed40e8"
      },
      "outputs": [
        {
          "execution_count": 96,
          "output_type": "execute_result",
          "data": {
            "text/plain": "              precision    recall  f1-score     support        aspect\n0              0.877301  0.934641  0.905063  306.000000  is_character\n1              0.867550  0.766082  0.813665  171.000000  is_character\naccuracy       0.874214  0.874214  0.874214    0.874214  is_character\nmacro avg      0.872425  0.850361  0.859364  477.000000  is_character\nweighted avg   0.873805  0.874214  0.872298  477.000000  is_character\n0              0.838235  0.835165  0.836697  273.000000    is_content\n1              0.780488  0.784314  0.782396  204.000000    is_content\naccuracy       0.813417  0.813417  0.813417    0.813417    is_content\nmacro avg      0.809362  0.809739  0.809547  477.000000    is_content\nweighted avg   0.813538  0.813417  0.813474  477.000000    is_content\n0              0.836013  0.841424  0.838710  309.000000      is_scene\n1              0.704819  0.696429  0.700599  168.000000      is_scene\naccuracy       0.790356  0.790356  0.790356    0.790356      is_scene\nmacro avg      0.770416  0.768926  0.769654  477.000000      is_scene\nweighted avg   0.789806  0.790356  0.790067  477.000000      is_scene\n0              0.937669  0.988571  0.962448  350.000000      is_sound\n1              0.962963  0.818898  0.885106  127.000000      is_sound\naccuracy       0.943396  0.943396  0.943396    0.943396      is_sound\nmacro avg      0.950316  0.903735  0.923777  477.000000      is_sound\nweighted avg   0.944404  0.943396  0.941856  477.000000      is_sound",
            "text/html": "<div>\n<style scoped>\n    .dataframe tbody tr th:only-of-type {\n        vertical-align: middle;\n    }\n\n    .dataframe tbody tr th {\n        vertical-align: top;\n    }\n\n    .dataframe thead th {\n        text-align: right;\n    }\n</style>\n<table border=\"1\" class=\"dataframe\">\n  <thead>\n    <tr style=\"text-align: right;\">\n      <th></th>\n      <th>precision</th>\n      <th>recall</th>\n      <th>f1-score</th>\n      <th>support</th>\n      <th>aspect</th>\n    </tr>\n  </thead>\n  <tbody>\n    <tr>\n      <th>0</th>\n      <td>0.877301</td>\n      <td>0.934641</td>\n      <td>0.905063</td>\n      <td>306.000000</td>\n      <td>is_character</td>\n    </tr>\n    <tr>\n      <th>1</th>\n      <td>0.867550</td>\n      <td>0.766082</td>\n      <td>0.813665</td>\n      <td>171.000000</td>\n      <td>is_character</td>\n    </tr>\n    <tr>\n      <th>accuracy</th>\n      <td>0.874214</td>\n      <td>0.874214</td>\n      <td>0.874214</td>\n      <td>0.874214</td>\n      <td>is_character</td>\n    </tr>\n    <tr>\n      <th>macro avg</th>\n      <td>0.872425</td>\n      <td>0.850361</td>\n      <td>0.859364</td>\n      <td>477.000000</td>\n      <td>is_character</td>\n    </tr>\n    <tr>\n      <th>weighted avg</th>\n      <td>0.873805</td>\n      <td>0.874214</td>\n      <td>0.872298</td>\n      <td>477.000000</td>\n      <td>is_character</td>\n    </tr>\n    <tr>\n      <th>0</th>\n      <td>0.838235</td>\n      <td>0.835165</td>\n      <td>0.836697</td>\n      <td>273.000000</td>\n      <td>is_content</td>\n    </tr>\n    <tr>\n      <th>1</th>\n      <td>0.780488</td>\n      <td>0.784314</td>\n      <td>0.782396</td>\n      <td>204.000000</td>\n      <td>is_content</td>\n    </tr>\n    <tr>\n      <th>accuracy</th>\n      <td>0.813417</td>\n      <td>0.813417</td>\n      <td>0.813417</td>\n      <td>0.813417</td>\n      <td>is_content</td>\n    </tr>\n    <tr>\n      <th>macro avg</th>\n      <td>0.809362</td>\n      <td>0.809739</td>\n      <td>0.809547</td>\n      <td>477.000000</td>\n      <td>is_content</td>\n    </tr>\n    <tr>\n      <th>weighted avg</th>\n      <td>0.813538</td>\n      <td>0.813417</td>\n      <td>0.813474</td>\n      <td>477.000000</td>\n      <td>is_content</td>\n    </tr>\n    <tr>\n      <th>0</th>\n      <td>0.836013</td>\n      <td>0.841424</td>\n      <td>0.838710</td>\n      <td>309.000000</td>\n      <td>is_scene</td>\n    </tr>\n    <tr>\n      <th>1</th>\n      <td>0.704819</td>\n      <td>0.696429</td>\n      <td>0.700599</td>\n      <td>168.000000</td>\n      <td>is_scene</td>\n    </tr>\n    <tr>\n      <th>accuracy</th>\n      <td>0.790356</td>\n      <td>0.790356</td>\n      <td>0.790356</td>\n      <td>0.790356</td>\n      <td>is_scene</td>\n    </tr>\n    <tr>\n      <th>macro avg</th>\n      <td>0.770416</td>\n      <td>0.768926</td>\n      <td>0.769654</td>\n      <td>477.000000</td>\n      <td>is_scene</td>\n    </tr>\n    <tr>\n      <th>weighted avg</th>\n      <td>0.789806</td>\n      <td>0.790356</td>\n      <td>0.790067</td>\n      <td>477.000000</td>\n      <td>is_scene</td>\n    </tr>\n    <tr>\n      <th>0</th>\n      <td>0.937669</td>\n      <td>0.988571</td>\n      <td>0.962448</td>\n      <td>350.000000</td>\n      <td>is_sound</td>\n    </tr>\n    <tr>\n      <th>1</th>\n      <td>0.962963</td>\n      <td>0.818898</td>\n      <td>0.885106</td>\n      <td>127.000000</td>\n      <td>is_sound</td>\n    </tr>\n    <tr>\n      <th>accuracy</th>\n      <td>0.943396</td>\n      <td>0.943396</td>\n      <td>0.943396</td>\n      <td>0.943396</td>\n      <td>is_sound</td>\n    </tr>\n    <tr>\n      <th>macro avg</th>\n      <td>0.950316</td>\n      <td>0.903735</td>\n      <td>0.923777</td>\n      <td>477.000000</td>\n      <td>is_sound</td>\n    </tr>\n    <tr>\n      <th>weighted avg</th>\n      <td>0.944404</td>\n      <td>0.943396</td>\n      <td>0.941856</td>\n      <td>477.000000</td>\n      <td>is_sound</td>\n    </tr>\n  </tbody>\n</table>\n</div>"
          },
          "metadata": {}
        }
      ],
      "execution_count": null
    },
    {
      "cell_type": "markdown",
      "source": [
        "- Stage 2 : Polarity"
      ],
      "metadata": {
        "id": "OUAWbVg7K4a_"
      }
    },
    {
      "cell_type": "code",
      "source": [
        "lst_aspect = []\n",
        "for col in label_aspect_train.columns.values:\n",
        "    lst_aspect.append(col.split('_')[1])"
      ],
      "metadata": {
        "id": "JH-8GyGmK3sI",
        "trusted": true,
        "execution": {
          "iopub.status.busy": "2024-12-16T03:25:01.631393Z",
          "iopub.execute_input": "2024-12-16T03:25:01.632361Z",
          "iopub.status.idle": "2024-12-16T03:25:01.636427Z",
          "shell.execute_reply.started": "2024-12-16T03:25:01.632319Z",
          "shell.execute_reply": "2024-12-16T03:25:01.635487Z"
        }
      },
      "outputs": [],
      "execution_count": null
    },
    {
      "cell_type": "code",
      "source": [
        "#tokenize stage 2\n",
        "tokenized_sentiment_train = {}\n",
        "tokenized_sentiment_val = {}\n",
        "tokenized_sentiment_test = {}\n",
        "tokenizer_sentiment = {}\n",
        "\n",
        "for aspect in lst_aspect:\n",
        "  tokenizer_sentiment[aspect], tokenized_sentiment_train[aspect], tokenized_sentiment_val[aspect], tokenized_sentiment_test[aspect] = get_tokenize(cmt_train[aspect], cmt_val[aspect], cmt_test[aspect])\n",
        "\n",
        "#padding stage 2\n",
        "padded_sentiment_train = {}\n",
        "padded_sentiment_val = {}\n",
        "padded_sentiment_test = {}\n",
        "for aspect in lst_aspect:\n",
        "  padded_sentiment_train[aspect], padded_sentiment_val[aspect], padded_sentiment_test[aspect] = get_padded(max_len, tokenized_sentiment_train[aspect], tokenized_sentiment_val[aspect], tokenized_sentiment_test[aspect])\n",
        "\n",
        "#embedding matrix stage 2\n",
        "vocab_sentiment_size = {}\n",
        "embedding_sentiment_matrix = {}\n",
        "for aspect in lst_aspect:\n",
        "  vocab_sentiment_size[aspect]  = len(tokenizer_sentiment[aspect].word_index)+1\n",
        "  embedding_sentiment_matrix[aspect] = get_embedding_matrix(embedding_dim, vocab_sentiment_size[aspect], tokenizer_sentiment[aspect])"
      ],
      "metadata": {
        "id": "CP3Ay8IyK_bp",
        "trusted": true,
        "execution": {
          "iopub.status.busy": "2024-12-16T03:25:03.181349Z",
          "iopub.execute_input": "2024-12-16T03:25:03.182258Z",
          "iopub.status.idle": "2024-12-16T03:25:03.790302Z",
          "shell.execute_reply.started": "2024-12-16T03:25:03.182220Z",
          "shell.execute_reply": "2024-12-16T03:25:03.789273Z"
        }
      },
      "outputs": [],
      "execution_count": null
    },
    {
      "cell_type": "markdown",
      "source": [],
      "metadata": {
        "id": "Twr93Lx3K7SB"
      }
    },
    {
      "cell_type": "code",
      "source": [
        "# training model\n",
        "sentiment_model = {}\n",
        "for aspect in lst_aspect:\n",
        "  sentiment_model[aspect] = bigru_conv_polarity(aspect, vocab_sentiment_size, embedding_dim, max_len, embedding_sentiment_matrix, padded_sentiment_train, padded_sentiment_val, label_sentiment_train, label_sentiment_val)\n",
        "  sentiment_model[aspect].save(f'/kaggle/working/BiGRU_CONV/stl_BiGRU_CONV_polarity_{aspect}.h5')"
      ],
      "metadata": {
        "colab": {
          "base_uri": "https://localhost:8080/"
        },
        "id": "tzq8fMRHLCFf",
        "outputId": "a83fb036-1790-4d59-abb4-9d820a882fdf",
        "trusted": true,
        "execution": {
          "iopub.status.busy": "2024-12-16T03:29:09.005590Z",
          "iopub.execute_input": "2024-12-16T03:29:09.005968Z",
          "iopub.status.idle": "2024-12-16T03:31:19.560589Z",
          "shell.execute_reply.started": "2024-12-16T03:29:09.005935Z",
          "shell.execute_reply": "2024-12-16T03:31:19.559843Z"
        }
      },
      "outputs": [
        {
          "name": "stdout",
          "text": "Epoch 1/70\n\u001b[1m11/11\u001b[0m \u001b[32m━━━━━━━━━━━━━━━━━━━━\u001b[0m\u001b[37m\u001b[0m \u001b[1m4s\u001b[0m 104ms/step - acc: 0.3234 - loss: 0.7818 - val_acc: 0.2798 - val_loss: 0.6612\nEpoch 2/70\n\u001b[1m11/11\u001b[0m \u001b[32m━━━━━━━━━━━━━━━━━━━━\u001b[0m\u001b[37m\u001b[0m \u001b[1m1s\u001b[0m 75ms/step - acc: 0.3758 - loss: 0.6540 - val_acc: 0.5952 - val_loss: 0.6116\nEpoch 3/70\n\u001b[1m11/11\u001b[0m \u001b[32m━━━━━━━━━━━━━━━━━━━━\u001b[0m\u001b[37m\u001b[0m \u001b[1m1s\u001b[0m 75ms/step - acc: 0.5200 - loss: 0.6095 - val_acc: 0.5774 - val_loss: 0.5610\nEpoch 4/70\n\u001b[1m11/11\u001b[0m \u001b[32m━━━━━━━━━━━━━━━━━━━━\u001b[0m\u001b[37m\u001b[0m \u001b[1m1s\u001b[0m 75ms/step - acc: 0.5721 - loss: 0.5649 - val_acc: 0.6012 - val_loss: 0.5376\nEpoch 5/70\n\u001b[1m11/11\u001b[0m \u001b[32m━━━━━━━━━━━━━━━━━━━━\u001b[0m\u001b[37m\u001b[0m \u001b[1m1s\u001b[0m 76ms/step - acc: 0.5981 - loss: 0.5541 - val_acc: 0.6905 - val_loss: 0.5195\nEpoch 6/70\n\u001b[1m11/11\u001b[0m \u001b[32m━━━━━━━━━━━━━━━━━━━━\u001b[0m\u001b[37m\u001b[0m \u001b[1m1s\u001b[0m 76ms/step - acc: 0.6319 - loss: 0.5309 - val_acc: 0.6845 - val_loss: 0.5029\nEpoch 7/70\n\u001b[1m11/11\u001b[0m \u001b[32m━━━━━━━━━━━━━━━━━━━━\u001b[0m\u001b[37m\u001b[0m \u001b[1m1s\u001b[0m 76ms/step - acc: 0.6432 - loss: 0.5195 - val_acc: 0.6726 - val_loss: 0.4881\nEpoch 8/70\n\u001b[1m11/11\u001b[0m \u001b[32m━━━━━━━━━━━━━━━━━━━━\u001b[0m\u001b[37m\u001b[0m \u001b[1m1s\u001b[0m 76ms/step - acc: 0.6619 - loss: 0.4887 - val_acc: 0.6786 - val_loss: 0.4750\nEpoch 9/70\n\u001b[1m11/11\u001b[0m \u001b[32m━━━━━━━━━━━━━━━━━━━━\u001b[0m\u001b[37m\u001b[0m \u001b[1m1s\u001b[0m 76ms/step - acc: 0.6579 - loss: 0.4798 - val_acc: 0.6786 - val_loss: 0.4650\nEpoch 10/70\n\u001b[1m11/11\u001b[0m \u001b[32m━━━━━━━━━━━━━━━━━━━━\u001b[0m\u001b[37m\u001b[0m \u001b[1m1s\u001b[0m 78ms/step - acc: 0.6679 - loss: 0.4588 - val_acc: 0.6845 - val_loss: 0.4533\nEpoch 11/70\n\u001b[1m11/11\u001b[0m \u001b[32m━━━━━━━━━━━━━━━━━━━━\u001b[0m\u001b[37m\u001b[0m \u001b[1m1s\u001b[0m 77ms/step - acc: 0.6622 - loss: 0.4551 - val_acc: 0.6964 - val_loss: 0.4445\nEpoch 12/70\n\u001b[1m11/11\u001b[0m \u001b[32m━━━━━━━━━━━━━━━━━━━━\u001b[0m\u001b[37m\u001b[0m \u001b[1m1s\u001b[0m 76ms/step - acc: 0.6938 - loss: 0.4280 - val_acc: 0.6964 - val_loss: 0.4375\nEpoch 13/70\n\u001b[1m11/11\u001b[0m \u001b[32m━━━━━━━━━━━━━━━━━━━━\u001b[0m\u001b[37m\u001b[0m \u001b[1m1s\u001b[0m 77ms/step - acc: 0.7083 - loss: 0.4195 - val_acc: 0.7143 - val_loss: 0.4297\nEpoch 14/70\n\u001b[1m11/11\u001b[0m \u001b[32m━━━━━━━━━━━━━━━━━━━━\u001b[0m\u001b[37m\u001b[0m \u001b[1m1s\u001b[0m 76ms/step - acc: 0.7375 - loss: 0.3902 - val_acc: 0.7143 - val_loss: 0.4217\nEpoch 15/70\n\u001b[1m11/11\u001b[0m \u001b[32m━━━━━━━━━━━━━━━━━━━━\u001b[0m\u001b[37m\u001b[0m \u001b[1m1s\u001b[0m 77ms/step - acc: 0.7564 - loss: 0.3850 - val_acc: 0.7202 - val_loss: 0.4159\nEpoch 16/70\n\u001b[1m11/11\u001b[0m \u001b[32m━━━━━━━━━━━━━━━━━━━━\u001b[0m\u001b[37m\u001b[0m \u001b[1m1s\u001b[0m 77ms/step - acc: 0.7680 - loss: 0.3594 - val_acc: 0.7143 - val_loss: 0.4121\nEpoch 17/70\n\u001b[1m11/11\u001b[0m \u001b[32m━━━━━━━━━━━━━━━━━━━━\u001b[0m\u001b[37m\u001b[0m \u001b[1m1s\u001b[0m 78ms/step - acc: 0.7825 - loss: 0.3496 - val_acc: 0.7321 - val_loss: 0.4086\nEpoch 18/70\n\u001b[1m11/11\u001b[0m \u001b[32m━━━━━━━━━━━━━━━━━━━━\u001b[0m\u001b[37m\u001b[0m \u001b[1m1s\u001b[0m 77ms/step - acc: 0.7928 - loss: 0.3277 - val_acc: 0.7262 - val_loss: 0.4022\nEpoch 19/70\n\u001b[1m11/11\u001b[0m \u001b[32m━━━━━━━━━━━━━━━━━━━━\u001b[0m\u001b[37m\u001b[0m \u001b[1m1s\u001b[0m 77ms/step - acc: 0.8148 - loss: 0.3042 - val_acc: 0.7143 - val_loss: 0.3956\nEpoch 20/70\n\u001b[1m11/11\u001b[0m \u001b[32m━━━━━━━━━━━━━━━━━━━━\u001b[0m\u001b[37m\u001b[0m \u001b[1m1s\u001b[0m 77ms/step - acc: 0.8462 - loss: 0.2771 - val_acc: 0.7143 - val_loss: 0.3941\nEpoch 21/70\n\u001b[1m11/11\u001b[0m \u001b[32m━━━━━━━━━━━━━━━━━━━━\u001b[0m\u001b[37m\u001b[0m \u001b[1m1s\u001b[0m 78ms/step - acc: 0.8432 - loss: 0.2704 - val_acc: 0.7202 - val_loss: 0.3926\nEpoch 22/70\n\u001b[1m11/11\u001b[0m \u001b[32m━━━━━━━━━━━━━━━━━━━━\u001b[0m\u001b[37m\u001b[0m \u001b[1m1s\u001b[0m 77ms/step - acc: 0.8684 - loss: 0.2545 - val_acc: 0.7202 - val_loss: 0.3970\nEpoch 23/70\n\u001b[1m11/11\u001b[0m \u001b[32m━━━━━━━━━━━━━━━━━━━━\u001b[0m\u001b[37m\u001b[0m \u001b[1m1s\u001b[0m 78ms/step - acc: 0.8931 - loss: 0.2254 - val_acc: 0.7321 - val_loss: 0.4069\nEpoch 24/70\n\u001b[1m11/11\u001b[0m \u001b[32m━━━━━━━━━━━━━━━━━━━━\u001b[0m\u001b[37m\u001b[0m \u001b[1m1s\u001b[0m 78ms/step - acc: 0.8916 - loss: 0.2205 - val_acc: 0.7262 - val_loss: 0.4170\nEpoch 1/70\n\u001b[1m12/12\u001b[0m \u001b[32m━━━━━━━━━━━━━━━━━━━━\u001b[0m\u001b[37m\u001b[0m \u001b[1m4s\u001b[0m 106ms/step - acc: 0.3188 - loss: 0.7253 - val_acc: 0.5050 - val_loss: 0.6296\nEpoch 2/70\n\u001b[1m12/12\u001b[0m \u001b[32m━━━━━━━━━━━━━━━━━━━━\u001b[0m\u001b[37m\u001b[0m \u001b[1m1s\u001b[0m 80ms/step - acc: 0.5151 - loss: 0.6180 - val_acc: 0.5050 - val_loss: 0.6046\nEpoch 3/70\n\u001b[1m12/12\u001b[0m \u001b[32m━━━━━━━━━━━━━━━━━━━━\u001b[0m\u001b[37m\u001b[0m \u001b[1m1s\u001b[0m 79ms/step - acc: 0.5043 - loss: 0.6035 - val_acc: 0.5050 - val_loss: 0.5952\nEpoch 4/70\n\u001b[1m12/12\u001b[0m \u001b[32m━━━━━━━━━━━━━━━━━━━━\u001b[0m\u001b[37m\u001b[0m \u001b[1m1s\u001b[0m 80ms/step - acc: 0.5181 - loss: 0.5904 - val_acc: 0.5100 - val_loss: 0.5874\nEpoch 5/70\n\u001b[1m12/12\u001b[0m \u001b[32m━━━━━━━━━━━━━━━━━━━━\u001b[0m\u001b[37m\u001b[0m \u001b[1m1s\u001b[0m 81ms/step - acc: 0.5174 - loss: 0.5837 - val_acc: 0.5300 - val_loss: 0.5737\nEpoch 6/70\n\u001b[1m12/12\u001b[0m \u001b[32m━━━━━━━━━━━━━━━━━━━━\u001b[0m\u001b[37m\u001b[0m \u001b[1m1s\u001b[0m 81ms/step - acc: 0.5665 - loss: 0.5574 - val_acc: 0.5700 - val_loss: 0.5589\nEpoch 7/70\n\u001b[1m12/12\u001b[0m \u001b[32m━━━━━━━━━━━━━━━━━━━━\u001b[0m\u001b[37m\u001b[0m \u001b[1m1s\u001b[0m 82ms/step - acc: 0.5693 - loss: 0.5618 - val_acc: 0.5550 - val_loss: 0.5465\nEpoch 8/70\n\u001b[1m12/12\u001b[0m \u001b[32m━━━━━━━━━━━━━━━━━━━━\u001b[0m\u001b[37m\u001b[0m \u001b[1m1s\u001b[0m 81ms/step - acc: 0.5835 - loss: 0.5338 - val_acc: 0.5900 - val_loss: 0.5312\nEpoch 9/70\n\u001b[1m12/12\u001b[0m \u001b[32m━━━━━━━━━━━━━━━━━━━━\u001b[0m\u001b[37m\u001b[0m \u001b[1m1s\u001b[0m 81ms/step - acc: 0.6630 - loss: 0.5094 - val_acc: 0.5900 - val_loss: 0.5226\nEpoch 10/70\n\u001b[1m12/12\u001b[0m \u001b[32m━━━━━━━━━━━━━━━━━━━━\u001b[0m\u001b[37m\u001b[0m \u001b[1m1s\u001b[0m 82ms/step - acc: 0.6464 - loss: 0.4981 - val_acc: 0.6300 - val_loss: 0.5114\nEpoch 11/70\n\u001b[1m12/12\u001b[0m \u001b[32m━━━━━━━━━━━━━━━━━━━━\u001b[0m\u001b[37m\u001b[0m \u001b[1m1s\u001b[0m 81ms/step - acc: 0.6594 - loss: 0.4887 - val_acc: 0.6250 - val_loss: 0.5060\nEpoch 12/70\n\u001b[1m12/12\u001b[0m \u001b[32m━━━━━━━━━━━━━━━━━━━━\u001b[0m\u001b[37m\u001b[0m \u001b[1m1s\u001b[0m 82ms/step - acc: 0.6670 - loss: 0.4693 - val_acc: 0.6200 - val_loss: 0.5074\nEpoch 13/70\n\u001b[1m12/12\u001b[0m \u001b[32m━━━━━━━━━━━━━━━━━━━━\u001b[0m\u001b[37m\u001b[0m \u001b[1m1s\u001b[0m 80ms/step - acc: 0.7021 - loss: 0.4506 - val_acc: 0.6200 - val_loss: 0.5008\nEpoch 14/70\n\u001b[1m12/12\u001b[0m \u001b[32m━━━━━━━━━━━━━━━━━━━━\u001b[0m\u001b[37m\u001b[0m \u001b[1m1s\u001b[0m 82ms/step - acc: 0.7123 - loss: 0.4224 - val_acc: 0.6200 - val_loss: 0.4980\nEpoch 15/70\n\u001b[1m12/12\u001b[0m \u001b[32m━━━━━━━━━━━━━━━━━━━━\u001b[0m\u001b[37m\u001b[0m \u001b[1m1s\u001b[0m 81ms/step - acc: 0.7335 - loss: 0.4130 - val_acc: 0.6150 - val_loss: 0.4893\nEpoch 16/70\n\u001b[1m12/12\u001b[0m \u001b[32m━━━━━━━━━━━━━━━━━━━━\u001b[0m\u001b[37m\u001b[0m \u001b[1m1s\u001b[0m 83ms/step - acc: 0.7298 - loss: 0.4067 - val_acc: 0.6450 - val_loss: 0.5123\nEpoch 17/70\n\u001b[1m12/12\u001b[0m \u001b[32m━━━━━━━━━━━━━━━━━━━━\u001b[0m\u001b[37m\u001b[0m \u001b[1m1s\u001b[0m 82ms/step - acc: 0.7515 - loss: 0.3840 - val_acc: 0.6400 - val_loss: 0.4798\nEpoch 18/70\n\u001b[1m12/12\u001b[0m \u001b[32m━━━━━━━━━━━━━━━━━━━━\u001b[0m\u001b[37m\u001b[0m \u001b[1m1s\u001b[0m 83ms/step - acc: 0.7499 - loss: 0.3787 - val_acc: 0.6450 - val_loss: 0.4718\nEpoch 19/70\n\u001b[1m12/12\u001b[0m \u001b[32m━━━━━━━━━━━━━━━━━━━━\u001b[0m\u001b[37m\u001b[0m \u001b[1m1s\u001b[0m 83ms/step - acc: 0.7657 - loss: 0.3628 - val_acc: 0.6550 - val_loss: 0.4716\nEpoch 20/70\n\u001b[1m12/12\u001b[0m \u001b[32m━━━━━━━━━━━━━━━━━━━━\u001b[0m\u001b[37m\u001b[0m \u001b[1m1s\u001b[0m 84ms/step - acc: 0.7950 - loss: 0.3338 - val_acc: 0.6500 - val_loss: 0.4754\nEpoch 21/70\n\u001b[1m12/12\u001b[0m \u001b[32m━━━━━━━━━━━━━━━━━━━━\u001b[0m\u001b[37m\u001b[0m \u001b[1m1s\u001b[0m 84ms/step - acc: 0.8139 - loss: 0.3292 - val_acc: 0.6450 - val_loss: 0.4765\nEpoch 22/70\n\u001b[1m12/12\u001b[0m \u001b[32m━━━━━━━━━━━━━━━━━━━━\u001b[0m\u001b[37m\u001b[0m \u001b[1m1s\u001b[0m 84ms/step - acc: 0.8162 - loss: 0.3093 - val_acc: 0.6500 - val_loss: 0.4767\nEpoch 1/70\n\u001b[1m10/10\u001b[0m \u001b[32m━━━━━━━━━━━━━━━━━━━━\u001b[0m\u001b[37m\u001b[0m \u001b[1m4s\u001b[0m 113ms/step - acc: 0.3660 - loss: 0.7251 - val_acc: 0.5267 - val_loss: 0.6214\nEpoch 2/70\n\u001b[1m10/10\u001b[0m \u001b[32m━━━━━━━━━━━━━━━━━━━━\u001b[0m\u001b[37m\u001b[0m \u001b[1m1s\u001b[0m 80ms/step - acc: 0.4899 - loss: 0.6303 - val_acc: 0.5400 - val_loss: 0.5832\nEpoch 3/70\n\u001b[1m10/10\u001b[0m \u001b[32m━━━━━━━━━━━━━━━━━━━━\u001b[0m\u001b[37m\u001b[0m \u001b[1m1s\u001b[0m 79ms/step - acc: 0.4960 - loss: 0.6049 - val_acc: 0.5800 - val_loss: 0.5675\nEpoch 4/70\n\u001b[1m10/10\u001b[0m \u001b[32m━━━━━━━━━━━━━━━━━━━━\u001b[0m\u001b[37m\u001b[0m \u001b[1m1s\u001b[0m 80ms/step - acc: 0.5272 - loss: 0.5889 - val_acc: 0.6133 - val_loss: 0.5560\nEpoch 5/70\n\u001b[1m10/10\u001b[0m \u001b[32m━━━━━━━━━━━━━━━━━━━━\u001b[0m\u001b[37m\u001b[0m \u001b[1m1s\u001b[0m 79ms/step - acc: 0.5403 - loss: 0.5833 - val_acc: 0.6200 - val_loss: 0.5415\nEpoch 6/70\n\u001b[1m10/10\u001b[0m \u001b[32m━━━━━━━━━━━━━━━━━━━━\u001b[0m\u001b[37m\u001b[0m \u001b[1m1s\u001b[0m 80ms/step - acc: 0.5931 - loss: 0.5573 - val_acc: 0.6133 - val_loss: 0.5272\nEpoch 7/70\n\u001b[1m10/10\u001b[0m \u001b[32m━━━━━━━━━━━━━━━━━━━━\u001b[0m\u001b[37m\u001b[0m \u001b[1m1s\u001b[0m 79ms/step - acc: 0.6035 - loss: 0.5433 - val_acc: 0.6267 - val_loss: 0.5115\nEpoch 8/70\n\u001b[1m10/10\u001b[0m \u001b[32m━━━━━━━━━━━━━━━━━━━━\u001b[0m\u001b[37m\u001b[0m \u001b[1m1s\u001b[0m 80ms/step - acc: 0.6211 - loss: 0.5267 - val_acc: 0.6467 - val_loss: 0.4961\nEpoch 9/70\n\u001b[1m10/10\u001b[0m \u001b[32m━━━━━━━━━━━━━━━━━━━━\u001b[0m\u001b[37m\u001b[0m \u001b[1m1s\u001b[0m 79ms/step - acc: 0.6187 - loss: 0.5234 - val_acc: 0.6467 - val_loss: 0.4806\nEpoch 10/70\n\u001b[1m10/10\u001b[0m \u001b[32m━━━━━━━━━━━━━━━━━━━━\u001b[0m\u001b[37m\u001b[0m \u001b[1m1s\u001b[0m 80ms/step - acc: 0.6404 - loss: 0.4963 - val_acc: 0.6867 - val_loss: 0.4682\nEpoch 11/70\n\u001b[1m10/10\u001b[0m \u001b[32m━━━━━━━━━━━━━━━━━━━━\u001b[0m\u001b[37m\u001b[0m \u001b[1m1s\u001b[0m 80ms/step - acc: 0.6579 - loss: 0.4841 - val_acc: 0.6733 - val_loss: 0.4529\nEpoch 12/70\n\u001b[1m10/10\u001b[0m \u001b[32m━━━━━━━━━━━━━━━━━━━━\u001b[0m\u001b[37m\u001b[0m \u001b[1m1s\u001b[0m 80ms/step - acc: 0.6858 - loss: 0.4633 - val_acc: 0.6933 - val_loss: 0.4432\nEpoch 13/70\n\u001b[1m10/10\u001b[0m \u001b[32m━━━━━━━━━━━━━━━━━━━━\u001b[0m\u001b[37m\u001b[0m \u001b[1m1s\u001b[0m 81ms/step - acc: 0.7011 - loss: 0.4524 - val_acc: 0.6933 - val_loss: 0.4356\nEpoch 14/70\n\u001b[1m10/10\u001b[0m \u001b[32m━━━━━━━━━━━━━━━━━━━━\u001b[0m\u001b[37m\u001b[0m \u001b[1m1s\u001b[0m 79ms/step - acc: 0.7011 - loss: 0.4256 - val_acc: 0.7200 - val_loss: 0.4240\nEpoch 15/70\n\u001b[1m10/10\u001b[0m \u001b[32m━━━━━━━━━━━━━━━━━━━━\u001b[0m\u001b[37m\u001b[0m \u001b[1m1s\u001b[0m 80ms/step - acc: 0.7551 - loss: 0.4017 - val_acc: 0.7133 - val_loss: 0.4130\nEpoch 16/70\n\u001b[1m10/10\u001b[0m \u001b[32m━━━━━━━━━━━━━━━━━━━━\u001b[0m\u001b[37m\u001b[0m \u001b[1m1s\u001b[0m 81ms/step - acc: 0.7641 - loss: 0.3950 - val_acc: 0.7400 - val_loss: 0.4070\nEpoch 17/70\n\u001b[1m10/10\u001b[0m \u001b[32m━━━━━━━━━━━━━━━━━━━━\u001b[0m\u001b[37m\u001b[0m \u001b[1m1s\u001b[0m 81ms/step - acc: 0.7663 - loss: 0.3737 - val_acc: 0.7267 - val_loss: 0.4006\nEpoch 18/70\n\u001b[1m10/10\u001b[0m \u001b[32m━━━━━━━━━━━━━━━━━━━━\u001b[0m\u001b[37m\u001b[0m \u001b[1m1s\u001b[0m 80ms/step - acc: 0.7976 - loss: 0.3506 - val_acc: 0.7467 - val_loss: 0.3944\nEpoch 19/70\n\u001b[1m10/10\u001b[0m \u001b[32m━━━━━━━━━━━━━━━━━━━━\u001b[0m\u001b[37m\u001b[0m \u001b[1m1s\u001b[0m 81ms/step - acc: 0.8260 - loss: 0.3307 - val_acc: 0.7333 - val_loss: 0.3905\nEpoch 20/70\n\u001b[1m10/10\u001b[0m \u001b[32m━━━━━━━━━━━━━━━━━━━━\u001b[0m\u001b[37m\u001b[0m \u001b[1m1s\u001b[0m 81ms/step - acc: 0.8166 - loss: 0.3270 - val_acc: 0.7267 - val_loss: 0.3852\nEpoch 21/70\n\u001b[1m10/10\u001b[0m \u001b[32m━━━━━━━━━━━━━━━━━━━━\u001b[0m\u001b[37m\u001b[0m \u001b[1m1s\u001b[0m 82ms/step - acc: 0.8485 - loss: 0.3018 - val_acc: 0.7267 - val_loss: 0.3870\nEpoch 22/70\n\u001b[1m10/10\u001b[0m \u001b[32m━━━━━━━━━━━━━━━━━━━━\u001b[0m\u001b[37m\u001b[0m \u001b[1m1s\u001b[0m 81ms/step - acc: 0.8326 - loss: 0.2932 - val_acc: 0.7333 - val_loss: 0.3809\nEpoch 23/70\n\u001b[1m10/10\u001b[0m \u001b[32m━━━━━━━━━━━━━━━━━━━━\u001b[0m\u001b[37m\u001b[0m \u001b[1m1s\u001b[0m 81ms/step - acc: 0.8566 - loss: 0.2793 - val_acc: 0.7400 - val_loss: 0.3767\nEpoch 24/70\n\u001b[1m10/10\u001b[0m \u001b[32m━━━━━━━━━━━━━━━━━━━━\u001b[0m\u001b[37m\u001b[0m \u001b[1m1s\u001b[0m 82ms/step - acc: 0.8805 - loss: 0.2515 - val_acc: 0.7333 - val_loss: 0.3821\nEpoch 25/70\n\u001b[1m10/10\u001b[0m \u001b[32m━━━━━━━━━━━━━━━━━━━━\u001b[0m\u001b[37m\u001b[0m \u001b[1m1s\u001b[0m 82ms/step - acc: 0.8901 - loss: 0.2396 - val_acc: 0.7400 - val_loss: 0.3743\nEpoch 26/70\n\u001b[1m10/10\u001b[0m \u001b[32m━━━━━━━━━━━━━━━━━━━━\u001b[0m\u001b[37m\u001b[0m \u001b[1m1s\u001b[0m 82ms/step - acc: 0.9155 - loss: 0.2224 - val_acc: 0.7333 - val_loss: 0.3897\nEpoch 27/70\n\u001b[1m10/10\u001b[0m \u001b[32m━━━━━━━━━━━━━━━━━━━━\u001b[0m\u001b[37m\u001b[0m \u001b[1m1s\u001b[0m 82ms/step - acc: 0.9086 - loss: 0.2055 - val_acc: 0.7600 - val_loss: 0.3775\nEpoch 28/70\n\u001b[1m10/10\u001b[0m \u001b[32m━━━━━━━━━━━━━━━━━━━━\u001b[0m\u001b[37m\u001b[0m \u001b[1m1s\u001b[0m 83ms/step - acc: 0.9216 - loss: 0.1942 - val_acc: 0.7200 - val_loss: 0.3814\nEpoch 1/70\n\u001b[1m8/8\u001b[0m \u001b[32m━━━━━━━━━━━━━━━━━━━━\u001b[0m\u001b[37m\u001b[0m \u001b[1m4s\u001b[0m 125ms/step - acc: 0.3745 - loss: 0.6657 - val_acc: 0.5643 - val_loss: 0.6159\nEpoch 2/70\n\u001b[1m8/8\u001b[0m \u001b[32m━━━━━━━━━━━━━━━━━━━━\u001b[0m\u001b[37m\u001b[0m \u001b[1m1s\u001b[0m 81ms/step - acc: 0.4799 - loss: 0.6235 - val_acc: 0.6143 - val_loss: 0.5798\nEpoch 3/70\n\u001b[1m8/8\u001b[0m \u001b[32m━━━━━━━━━━━━━━━━━━━━\u001b[0m\u001b[37m\u001b[0m \u001b[1m1s\u001b[0m 81ms/step - acc: 0.5670 - loss: 0.5892 - val_acc: 0.7000 - val_loss: 0.5476\nEpoch 4/70\n\u001b[1m8/8\u001b[0m \u001b[32m━━━━━━━━━━━━━━━━━━━━\u001b[0m\u001b[37m\u001b[0m \u001b[1m1s\u001b[0m 81ms/step - acc: 0.6366 - loss: 0.5497 - val_acc: 0.7357 - val_loss: 0.5181\nEpoch 5/70\n\u001b[1m8/8\u001b[0m \u001b[32m━━━━━━━━━━━━━━━━━━━━\u001b[0m\u001b[37m\u001b[0m \u001b[1m1s\u001b[0m 82ms/step - acc: 0.6753 - loss: 0.5197 - val_acc: 0.7429 - val_loss: 0.4898\nEpoch 6/70\n\u001b[1m8/8\u001b[0m \u001b[32m━━━━━━━━━━━━━━━━━━━━\u001b[0m\u001b[37m\u001b[0m \u001b[1m1s\u001b[0m 82ms/step - acc: 0.6952 - loss: 0.5001 - val_acc: 0.7500 - val_loss: 0.4641\nEpoch 7/70\n\u001b[1m8/8\u001b[0m \u001b[32m━━━━━━━━━━━━━━━━━━━━\u001b[0m\u001b[37m\u001b[0m \u001b[1m1s\u001b[0m 82ms/step - acc: 0.7383 - loss: 0.4704 - val_acc: 0.7857 - val_loss: 0.4422\nEpoch 8/70\n\u001b[1m8/8\u001b[0m \u001b[32m━━━━━━━━━━━━━━━━━━━━\u001b[0m\u001b[37m\u001b[0m \u001b[1m1s\u001b[0m 81ms/step - acc: 0.7588 - loss: 0.4501 - val_acc: 0.7929 - val_loss: 0.4224\nEpoch 9/70\n\u001b[1m8/8\u001b[0m \u001b[32m━━━━━━━━━━━━━━━━━━━━\u001b[0m\u001b[37m\u001b[0m \u001b[1m1s\u001b[0m 82ms/step - acc: 0.8031 - loss: 0.4155 - val_acc: 0.7929 - val_loss: 0.4001\nEpoch 10/70\n\u001b[1m8/8\u001b[0m \u001b[32m━━━━━━━━━━━━━━━━━━━━\u001b[0m\u001b[37m\u001b[0m \u001b[1m1s\u001b[0m 82ms/step - acc: 0.7912 - loss: 0.4035 - val_acc: 0.8071 - val_loss: 0.3788\nEpoch 11/70\n\u001b[1m8/8\u001b[0m \u001b[32m━━━━━━━━━━━━━━━━━━━━\u001b[0m\u001b[37m\u001b[0m \u001b[1m1s\u001b[0m 82ms/step - acc: 0.8127 - loss: 0.3733 - val_acc: 0.8071 - val_loss: 0.3642\nEpoch 12/70\n\u001b[1m8/8\u001b[0m \u001b[32m━━━━━━━━━━━━━━━━━━━━\u001b[0m\u001b[37m\u001b[0m \u001b[1m1s\u001b[0m 82ms/step - acc: 0.8348 - loss: 0.3415 - val_acc: 0.8000 - val_loss: 0.3520\nEpoch 13/70\n\u001b[1m8/8\u001b[0m \u001b[32m━━━━━━━━━━━━━━━━━━━━\u001b[0m\u001b[37m\u001b[0m \u001b[1m1s\u001b[0m 82ms/step - acc: 0.8284 - loss: 0.3366 - val_acc: 0.7857 - val_loss: 0.3388\nEpoch 14/70\n\u001b[1m8/8\u001b[0m \u001b[32m━━━━━━━━━━━━━━━━━━━━\u001b[0m\u001b[37m\u001b[0m \u001b[1m1s\u001b[0m 82ms/step - acc: 0.8369 - loss: 0.3205 - val_acc: 0.7857 - val_loss: 0.3301\nEpoch 15/70\n\u001b[1m8/8\u001b[0m \u001b[32m━━━━━━━━━━━━━━━━━━━━\u001b[0m\u001b[37m\u001b[0m \u001b[1m1s\u001b[0m 82ms/step - acc: 0.8288 - loss: 0.3049 - val_acc: 0.8000 - val_loss: 0.3268\nEpoch 16/70\n\u001b[1m8/8\u001b[0m \u001b[32m━━━━━━━━━━━━━━━━━━━━\u001b[0m\u001b[37m\u001b[0m \u001b[1m1s\u001b[0m 82ms/step - acc: 0.8690 - loss: 0.2637 - val_acc: 0.8071 - val_loss: 0.3205\nEpoch 17/70\n\u001b[1m8/8\u001b[0m \u001b[32m━━━━━━━━━━━━━━━━━━━━\u001b[0m\u001b[37m\u001b[0m \u001b[1m1s\u001b[0m 83ms/step - acc: 0.8410 - loss: 0.2893 - val_acc: 0.8143 - val_loss: 0.3213\nEpoch 18/70\n\u001b[1m8/8\u001b[0m \u001b[32m━━━━━━━━━━━━━━━━━━━━\u001b[0m\u001b[37m\u001b[0m \u001b[1m1s\u001b[0m 83ms/step - acc: 0.8621 - loss: 0.2603 - val_acc: 0.8071 - val_loss: 0.3153\nEpoch 19/70\n\u001b[1m8/8\u001b[0m \u001b[32m━━━━━━━━━━━━━━━━━━━━\u001b[0m\u001b[37m\u001b[0m \u001b[1m1s\u001b[0m 82ms/step - acc: 0.8989 - loss: 0.2248 - val_acc: 0.8143 - val_loss: 0.3175\nEpoch 20/70\n\u001b[1m8/8\u001b[0m \u001b[32m━━━━━━━━━━━━━━━━━━━━\u001b[0m\u001b[37m\u001b[0m \u001b[1m1s\u001b[0m 83ms/step - acc: 0.8836 - loss: 0.2179 - val_acc: 0.8071 - val_loss: 0.3120\nEpoch 21/70\n\u001b[1m8/8\u001b[0m \u001b[32m━━━━━━━━━━━━━━━━━━━━\u001b[0m\u001b[37m\u001b[0m \u001b[1m1s\u001b[0m 82ms/step - acc: 0.9005 - loss: 0.2062 - val_acc: 0.8214 - val_loss: 0.3181\nEpoch 22/70\n\u001b[1m8/8\u001b[0m \u001b[32m━━━━━━━━━━━━━━━━━━━━\u001b[0m\u001b[37m\u001b[0m \u001b[1m1s\u001b[0m 85ms/step - acc: 0.9063 - loss: 0.1941 - val_acc: 0.8143 - val_loss: 0.3183\nEpoch 23/70\n\u001b[1m8/8\u001b[0m \u001b[32m━━━━━━━━━━━━━━━━━━━━\u001b[0m\u001b[37m\u001b[0m \u001b[1m1s\u001b[0m 83ms/step - acc: 0.9172 - loss: 0.1835 - val_acc: 0.8214 - val_loss: 0.3147\n",
          "output_type": "stream"
        }
      ],
      "execution_count": null
    },
    {
      "cell_type": "code",
      "source": [
        "# load model\n",
        "sentiment_model = {}\n",
        "for aspect in lst_aspect:\n",
        "  sentiment_model[aspect] = keras.models.load_model(f'{path_model}/BiGRU_CONV/stl_BiGRU_CONV_polarity_{aspect}.h5')"
      ],
      "metadata": {
        "colab": {
          "base_uri": "https://localhost:8080/"
        },
        "id": "HPZFvCusLCZh",
        "outputId": "0c3a02a1-e5f2-4b58-e769-1e88be34be43"
      },
      "outputs": [
        {
          "name": "stderr",
          "output_type": "stream",
          "text": [
            "WARNING:absl:Compiled the loaded model, but the compiled metrics have yet to be built. `model.compile_metrics` will be empty until you train or evaluate the model.\n",
            "WARNING:absl:Compiled the loaded model, but the compiled metrics have yet to be built. `model.compile_metrics` will be empty until you train or evaluate the model.\n",
            "WARNING:absl:Compiled the loaded model, but the compiled metrics have yet to be built. `model.compile_metrics` will be empty until you train or evaluate the model.\n",
            "WARNING:absl:Compiled the loaded model, but the compiled metrics have yet to be built. `model.compile_metrics` will be empty until you train or evaluate the model.\n"
          ]
        }
      ],
      "execution_count": null
    },
    {
      "cell_type": "code",
      "source": [
        "# predict\n",
        "df_sentiment_train_pred = {}\n",
        "df_sentiment_train_true_ = {}\n",
        "\n",
        "df_sentiment_val_true_ = {}\n",
        "df_sentiment_val_pred = {}\n",
        "\n",
        "df_sentiment_test_true_ = {}\n",
        "df_sentiment_test_pred = {}\n",
        "\n",
        "\n",
        "# for aspect in lst_aspect:\n",
        "for aspect in lst_aspect:\n",
        "  pred_sentiment_train = sentiment_model[aspect].predict(padded_sentiment_train[aspect])\n",
        "  pred_sentiment_val = sentiment_model[aspect].predict(padded_sentiment_val[aspect])\n",
        "  pred_sentiment_test = sentiment_model[aspect].predict(padded_sentiment_test[aspect])\n",
        "\n",
        "  df_sentiment_train_pred[aspect] = np.argmax(pred_sentiment_train, axis=1)\n",
        "  df_sentiment_train_true_[aspect] = np.argmax(label_sentiment_train[aspect], axis = 1)\n",
        "\n",
        "  df_sentiment_val_pred[aspect] = np.argmax(pred_sentiment_val, axis=1)\n",
        "  df_sentiment_val_true_[aspect] = np.argmax(label_sentiment_val[aspect], axis = 1)\n",
        "\n",
        "  df_sentiment_test_pred[aspect] = np.argmax(pred_sentiment_test, axis=1)\n",
        "  df_sentiment_test_true_[aspect] = np.argmax(label_sentiment_test[aspect], axis=1)\n",
        "\n",
        "sentiment_result_bigru_conv = {}\n",
        "# for aspect in lst_aspect:\n",
        "for aspect in lst_aspect:\n",
        "    sentiment_result_bigru_conv[aspect] = classification_report(df_sentiment_test_true_[aspect].tolist(), df_sentiment_test_pred[aspect].tolist())\n",
        "    print(sentiment_result_bigru_conv[aspect])"
      ],
      "metadata": {
        "colab": {
          "base_uri": "https://localhost:8080/"
        },
        "id": "OuQbI9A9L9ij",
        "outputId": "6ed14fe1-085b-4aca-9c94-cc854c5eac1d",
        "trusted": true,
        "execution": {
          "iopub.status.busy": "2024-12-16T03:31:19.562086Z",
          "iopub.execute_input": "2024-12-16T03:31:19.562383Z",
          "iopub.status.idle": "2024-12-16T03:31:24.464989Z",
          "shell.execute_reply.started": "2024-12-16T03:31:19.562353Z",
          "shell.execute_reply": "2024-12-16T03:31:24.464227Z"
        }
      },
      "outputs": [
        {
          "name": "stdout",
          "text": "\u001b[1m42/42\u001b[0m \u001b[32m━━━━━━━━━━━━━━━━━━━━\u001b[0m\u001b[37m\u001b[0m \u001b[1m2s\u001b[0m 36ms/step\n\u001b[1m6/6\u001b[0m \u001b[32m━━━━━━━━━━━━━━━━━━━━\u001b[0m\u001b[37m\u001b[0m \u001b[1m0s\u001b[0m 10ms/step\n\u001b[1m6/6\u001b[0m \u001b[32m━━━━━━━━━━━━━━━━━━━━\u001b[0m\u001b[37m\u001b[0m \u001b[1m0s\u001b[0m 11ms/step\n\u001b[1m47/47\u001b[0m \u001b[32m━━━━━━━━━━━━━━━━━━━━\u001b[0m\u001b[37m\u001b[0m \u001b[1m1s\u001b[0m 13ms/step\n\u001b[1m7/7\u001b[0m \u001b[32m━━━━━━━━━━━━━━━━━━━━\u001b[0m\u001b[37m\u001b[0m \u001b[1m0s\u001b[0m 7ms/step \n\u001b[1m7/7\u001b[0m \u001b[32m━━━━━━━━━━━━━━━━━━━━\u001b[0m\u001b[37m\u001b[0m \u001b[1m0s\u001b[0m 7ms/step \n\u001b[1m39/39\u001b[0m \u001b[32m━━━━━━━━━━━━━━━━━━━━\u001b[0m\u001b[37m\u001b[0m \u001b[1m1s\u001b[0m 13ms/step\n\u001b[1m5/5\u001b[0m \u001b[32m━━━━━━━━━━━━━━━━━━━━\u001b[0m\u001b[37m\u001b[0m \u001b[1m0s\u001b[0m 7ms/step \n\u001b[1m6/6\u001b[0m \u001b[32m━━━━━━━━━━━━━━━━━━━━\u001b[0m\u001b[37m\u001b[0m \u001b[1m0s\u001b[0m 7ms/step \n\u001b[1m32/32\u001b[0m \u001b[32m━━━━━━━━━━━━━━━━━━━━\u001b[0m\u001b[37m\u001b[0m \u001b[1m1s\u001b[0m 14ms/step\n\u001b[1m5/5\u001b[0m \u001b[32m━━━━━━━━━━━━━━━━━━━━\u001b[0m\u001b[37m\u001b[0m \u001b[1m0s\u001b[0m 7ms/step \n\u001b[1m4/4\u001b[0m \u001b[32m━━━━━━━━━━━━━━━━━━━━\u001b[0m\u001b[37m\u001b[0m \u001b[1m0s\u001b[0m 14ms/step\n              precision    recall  f1-score   support\n\n           0       0.70      0.59      0.64        54\n           1       0.64      0.41      0.50        22\n           2       0.75      0.87      0.80        94\n\n    accuracy                           0.72       170\n   macro avg       0.69      0.62      0.65       170\nweighted avg       0.72      0.72      0.71       170\n\n              precision    recall  f1-score   support\n\n           0       0.31      0.20      0.24        40\n           1       0.74      0.75      0.74        60\n           2       0.76      0.86      0.81       104\n\n    accuracy                           0.70       204\n   macro avg       0.60      0.60      0.60       204\nweighted avg       0.67      0.70      0.68       204\n\n              precision    recall  f1-score   support\n\n           0       0.63      0.60      0.62        60\n           1       0.43      0.38      0.41        26\n           2       0.73      0.78      0.75        82\n\n    accuracy                           0.65       168\n   macro avg       0.60      0.59      0.59       168\nweighted avg       0.65      0.65      0.65       168\n\n              precision    recall  f1-score   support\n\n           0       0.76      0.80      0.78        40\n           1       0.89      0.87      0.88        38\n           2       0.85      0.84      0.85        49\n\n    accuracy                           0.83       127\n   macro avg       0.84      0.84      0.84       127\nweighted avg       0.84      0.83      0.84       127\n\n",
          "output_type": "stream"
        }
      ],
      "execution_count": null
    },
    {
      "cell_type": "markdown",
      "source": [
        "### BiLSTM+CONV"
      ],
      "metadata": {
        "id": "48awnyrOM7X5"
      }
    },
    {
      "cell_type": "code",
      "source": [
        "def bilstm_conv_aspect(vocab_aspect_size, embedding_dim, max_len, embedding_aspect_matrix, padded_aspect_train, padded_aspect_val, label_aspect_train, label_aspect_val, epochs=70):\n",
        "\n",
        "  input = Input(shape=(max_len,))\n",
        "  embed = Embedding(input_dim=vocab_aspect_size,\n",
        "                  output_dim=embedding_dim,\n",
        "                  embeddings_initializer=Constant(embedding_aspect_matrix),\n",
        "                  input_length=max_len,\n",
        "                  trainable=True)(input)\n",
        "\n",
        "  dropout1 = SpatialDropout1D(0.2)(embed)\n",
        "  lstm = Bidirectional(LSTM(units = 200, activation = 'tanh', return_sequences = True))(dropout1)\n",
        "  conv = Conv1D(128, kernel_size = 2, padding = \"valid\", kernel_initializer = \"he_uniform\")(lstm)\n",
        "\n",
        "  avg_pool1 = GlobalAveragePooling1D()(conv)\n",
        "  max_pool1 = GlobalMaxPooling1D()(conv)\n",
        "\n",
        "\n",
        "  concat = Concatenate(axis=-1)([avg_pool1, max_pool1])\n",
        "\n",
        "  # aspect\n",
        "  aspect_dense2 = Dense(128, activation='relu')(concat)\n",
        "  aspect_dropout1 = Dropout(0.2)(aspect_dense2)\n",
        "  aspect_dense3 = Dense(64, activation='relu')(aspect_dropout1)\n",
        "  aspect_dense4 = Dense(32, activation='relu')(aspect_dense3)\n",
        "  aspect_dense5 = Dense(4, activation='sigmoid')(aspect_dense4)\n",
        "\n",
        "  aspect_model = tf.keras.Model(inputs = input, outputs = aspect_dense5)\n",
        "  aspect_model.compile(optimizer=Adam(learning_rate = 0.0001), loss='binary_crossentropy', metrics=['acc'])\n",
        "  callback = tf.keras.callbacks.EarlyStopping(monitor='val_loss', patience=3)\n",
        "\n",
        "  # Fit model\n",
        "  history = aspect_model.fit(x=padded_aspect_train,\n",
        "    y=label_aspect_train.to_numpy(),\n",
        "\n",
        "    validation_data=(padded_aspect_val,\n",
        "      label_aspect_val.to_numpy()),\n",
        "    batch_size = 128,\n",
        "    epochs=epochs,\n",
        "    callbacks = [callback],\n",
        "    verbose=1)\n",
        "\n",
        "  return aspect_model\n",
        "\n",
        "def bilstm_conv_polarity(aspect, vocab_sentiment_size, embedding_dim, max_len, embedding_sentiment_matrix, padded_sentiment_train, padded_sentiment_val, label_sentiment_train, label_sentiment_val, epochs=70):\n",
        "\n",
        "  # polarity\n",
        "\n",
        "  input = Input(shape=(max_len,))\n",
        "  embed = Embedding(input_dim=vocab_sentiment_size[aspect],\n",
        "                  output_dim=embedding_dim,\n",
        "                  embeddings_initializer=Constant(embedding_sentiment_matrix[aspect]),\n",
        "                  input_length=max_len,\n",
        "                  trainable=True)(input)\n",
        "\n",
        "  dropout1 = SpatialDropout1D(0.2)(embed)\n",
        "  lstm = Bidirectional(LSTM(units = 200, activation = 'tanh', return_sequences = True))(dropout1)\n",
        "  conv = Conv1D(128, kernel_size = 2, padding = \"valid\", kernel_initializer = \"he_uniform\")(lstm)\n",
        "\n",
        "  avg_pool1 = GlobalAveragePooling1D()(conv)\n",
        "  max_pool1 = GlobalMaxPooling1D()(conv)\n",
        "\n",
        "\n",
        "  concat = Concatenate(axis=-1)([avg_pool1, max_pool1])\n",
        "\n",
        "  sentiment_dense2 = Dense(128, activation='relu')(concat)\n",
        "  sentiment_dropout1 = Dropout(0.2)(sentiment_dense2)\n",
        "  sentiment_dense3 = Dense(64, activation='relu')(sentiment_dropout1)\n",
        "  sentiment_dense4 = Dense(32, activation='relu')(sentiment_dense3)\n",
        "  out_sentiment = Dense(units = 3, activation = 'softmax')(sentiment_dense4)\n",
        "\n",
        "  sentiment_model[aspect] = tf.keras.Model(inputs = input, outputs = out_sentiment)\n",
        "  sentiment_model[aspect].compile(optimizer=Adam(learning_rate = 0.0001), loss='binary_crossentropy', metrics=['acc'])\n",
        "  callback = tf.keras.callbacks.EarlyStopping(monitor='val_loss', patience=3)\n",
        "\n",
        "  # Fit model\n",
        "\n",
        "  history = sentiment_model[aspect].fit(x=padded_sentiment_train[aspect],\n",
        "    y=label_sentiment_train[aspect],\n",
        "\n",
        "    validation_data=(padded_sentiment_val[aspect],\n",
        "      label_sentiment_val[aspect]),\n",
        "    batch_size = 128,\n",
        "    epochs=epochs,\n",
        "    callbacks = [callback],\n",
        "    verbose=1)\n",
        "\n",
        "\n",
        "  return sentiment_model[aspect]"
      ],
      "metadata": {
        "id": "ct7BxxRdMnDy",
        "trusted": true,
        "execution": {
          "iopub.status.busy": "2024-12-16T03:32:25.319051Z",
          "iopub.execute_input": "2024-12-16T03:32:25.319419Z",
          "iopub.status.idle": "2024-12-16T03:32:25.337417Z",
          "shell.execute_reply.started": "2024-12-16T03:32:25.319386Z",
          "shell.execute_reply": "2024-12-16T03:32:25.336535Z"
        }
      },
      "outputs": [],
      "execution_count": null
    },
    {
      "cell_type": "code",
      "source": [
        "max_len=padded_aspect_train.shape[1]\n",
        "aspect_model = bilstm_conv_aspect(vocab_aspect_size, embedding_dim, max_len, embedding_aspect_matrix, padded_aspect_train, padded_aspect_val, label_aspect_train, label_aspect_val)\n",
        "\n",
        "save_path = '/kaggle/working/BiLSTM_CONV/stl_BiLSTM_CONV_aspect.h5'\n",
        "aspect_model.save(save_path)"
      ],
      "metadata": {
        "colab": {
          "base_uri": "https://localhost:8080/"
        },
        "id": "VyRUURptNFdt",
        "outputId": "add510be-ccb1-4c85-c776-1a5d159d1a5c",
        "trusted": true,
        "execution": {
          "iopub.status.busy": "2024-12-16T03:32:43.651255Z",
          "iopub.execute_input": "2024-12-16T03:32:43.651599Z",
          "iopub.status.idle": "2024-12-16T03:33:57.395859Z",
          "shell.execute_reply.started": "2024-12-16T03:32:43.651568Z",
          "shell.execute_reply": "2024-12-16T03:33:57.395097Z"
        }
      },
      "outputs": [
        {
          "name": "stdout",
          "text": "Epoch 1/70\n",
          "output_type": "stream"
        },
        {
          "name": "stderr",
          "text": "/opt/conda/lib/python3.10/site-packages/keras/src/layers/core/embedding.py:90: UserWarning: Argument `input_length` is deprecated. Just remove it.\n  warnings.warn(\n",
          "output_type": "stream"
        },
        {
          "name": "stdout",
          "text": "\u001b[1m30/30\u001b[0m \u001b[32m━━━━━━━━━━━━━━━━━━━━\u001b[0m\u001b[37m\u001b[0m \u001b[1m6s\u001b[0m 106ms/step - acc: 0.1447 - loss: 0.6924 - val_acc: 0.2101 - val_loss: 0.6339\nEpoch 2/70\n\u001b[1m30/30\u001b[0m \u001b[32m━━━━━━━━━━━━━━━━━━━━\u001b[0m\u001b[37m\u001b[0m \u001b[1m3s\u001b[0m 94ms/step - acc: 0.2277 - loss: 0.6164 - val_acc: 0.3487 - val_loss: 0.5485\nEpoch 3/70\n\u001b[1m30/30\u001b[0m \u001b[32m━━━━━━━━━━━━━━━━━━━━\u001b[0m\u001b[37m\u001b[0m \u001b[1m3s\u001b[0m 95ms/step - acc: 0.3296 - loss: 0.5566 - val_acc: 0.4223 - val_loss: 0.5080\nEpoch 4/70\n\u001b[1m30/30\u001b[0m \u001b[32m━━━━━━━━━━━━━━━━━━━━\u001b[0m\u001b[37m\u001b[0m \u001b[1m3s\u001b[0m 95ms/step - acc: 0.4065 - loss: 0.5147 - val_acc: 0.4202 - val_loss: 0.4613\nEpoch 5/70\n\u001b[1m30/30\u001b[0m \u001b[32m━━━━━━━━━━━━━━━━━━━━\u001b[0m\u001b[37m\u001b[0m \u001b[1m3s\u001b[0m 95ms/step - acc: 0.4420 - loss: 0.4698 - val_acc: 0.5462 - val_loss: 0.4100\nEpoch 6/70\n\u001b[1m30/30\u001b[0m \u001b[32m━━━━━━━━━━━━━━━━━━━━\u001b[0m\u001b[37m\u001b[0m \u001b[1m3s\u001b[0m 95ms/step - acc: 0.5181 - loss: 0.4239 - val_acc: 0.6197 - val_loss: 0.3713\nEpoch 7/70\n\u001b[1m30/30\u001b[0m \u001b[32m━━━━━━━━━━━━━━━━━━━━\u001b[0m\u001b[37m\u001b[0m \u001b[1m3s\u001b[0m 96ms/step - acc: 0.5586 - loss: 0.3784 - val_acc: 0.5756 - val_loss: 0.3383\nEpoch 8/70\n\u001b[1m30/30\u001b[0m \u001b[32m━━━━━━━━━━━━━━━━━━━━\u001b[0m\u001b[37m\u001b[0m \u001b[1m3s\u001b[0m 97ms/step - acc: 0.5589 - loss: 0.3506 - val_acc: 0.5420 - val_loss: 0.3219\nEpoch 9/70\n\u001b[1m30/30\u001b[0m \u001b[32m━━━━━━━━━━━━━━━━━━━━\u001b[0m\u001b[37m\u001b[0m \u001b[1m3s\u001b[0m 98ms/step - acc: 0.5704 - loss: 0.3158 - val_acc: 0.6092 - val_loss: 0.3127\nEpoch 10/70\n\u001b[1m30/30\u001b[0m \u001b[32m━━━━━━━━━━━━━━━━━━━━\u001b[0m\u001b[37m\u001b[0m \u001b[1m3s\u001b[0m 98ms/step - acc: 0.5740 - loss: 0.3077 - val_acc: 0.5714 - val_loss: 0.3005\nEpoch 11/70\n\u001b[1m30/30\u001b[0m \u001b[32m━━━━━━━━━━━━━━━━━━━━\u001b[0m\u001b[37m\u001b[0m \u001b[1m3s\u001b[0m 99ms/step - acc: 0.5844 - loss: 0.2848 - val_acc: 0.5567 - val_loss: 0.2960\nEpoch 12/70\n\u001b[1m30/30\u001b[0m \u001b[32m━━━━━━━━━━━━━━━━━━━━\u001b[0m\u001b[37m\u001b[0m \u001b[1m3s\u001b[0m 100ms/step - acc: 0.6064 - loss: 0.2654 - val_acc: 0.5567 - val_loss: 0.2993\nEpoch 13/70\n\u001b[1m30/30\u001b[0m \u001b[32m━━━━━━━━━━━━━━━━━━━━\u001b[0m\u001b[37m\u001b[0m \u001b[1m3s\u001b[0m 100ms/step - acc: 0.6031 - loss: 0.2586 - val_acc: 0.5294 - val_loss: 0.2951\nEpoch 14/70\n\u001b[1m30/30\u001b[0m \u001b[32m━━━━━━━━━━━━━━━━━━━━\u001b[0m\u001b[37m\u001b[0m \u001b[1m3s\u001b[0m 100ms/step - acc: 0.5906 - loss: 0.2370 - val_acc: 0.5483 - val_loss: 0.2890\nEpoch 15/70\n\u001b[1m30/30\u001b[0m \u001b[32m━━━━━━━━━━━━━━━━━━━━\u001b[0m\u001b[37m\u001b[0m \u001b[1m3s\u001b[0m 100ms/step - acc: 0.5971 - loss: 0.2175 - val_acc: 0.5882 - val_loss: 0.2858\nEpoch 16/70\n\u001b[1m30/30\u001b[0m \u001b[32m━━━━━━━━━━━━━━━━━━━━\u001b[0m\u001b[37m\u001b[0m \u001b[1m3s\u001b[0m 100ms/step - acc: 0.6099 - loss: 0.2183 - val_acc: 0.5861 - val_loss: 0.2850\nEpoch 17/70\n\u001b[1m30/30\u001b[0m \u001b[32m━━━━━━━━━━━━━━━━━━━━\u001b[0m\u001b[37m\u001b[0m \u001b[1m3s\u001b[0m 98ms/step - acc: 0.6270 - loss: 0.1984 - val_acc: 0.5588 - val_loss: 0.2899\nEpoch 18/70\n\u001b[1m30/30\u001b[0m \u001b[32m━━━━━━━━━━━━━━━━━━━━\u001b[0m\u001b[37m\u001b[0m \u001b[1m3s\u001b[0m 98ms/step - acc: 0.6247 - loss: 0.1930 - val_acc: 0.5588 - val_loss: 0.2993\nEpoch 19/70\n\u001b[1m30/30\u001b[0m \u001b[32m━━━━━━━━━━━━━━━━━━━━\u001b[0m\u001b[37m\u001b[0m \u001b[1m3s\u001b[0m 97ms/step - acc: 0.6166 - loss: 0.1799 - val_acc: 0.5672 - val_loss: 0.2982\n",
          "output_type": "stream"
        }
      ],
      "execution_count": null
    },
    {
      "cell_type": "code",
      "source": [
        "# load model\n",
        "save_path = f'{path}/BiLSTM_CONV/stl_BiLSTM_CONV_aspect'\n",
        "aspect_model = keras.models.load_model(save_path)"
      ],
      "metadata": {
        "colab": {
          "base_uri": "https://localhost:8080/",
          "height": 456
        },
        "id": "f0gt8UU6NJfK",
        "outputId": "79c63cae-b2e7-43aa-e2cb-fee387b93fb5"
      },
      "outputs": [
        {
          "ename": "ValueError",
          "evalue": "File format not supported: filepath=/content/drive/MyDrive/ABSA/BiLSTM_CONV/stl_BiLSTM_CONV_aspect. Keras 3 only supports V3 `.keras` files and legacy H5 format files (`.h5` extension). Note that the legacy SavedModel format is not supported by `load_model()` in Keras 3. In order to reload a TensorFlow SavedModel as an inference-only layer in Keras 3, use `keras.layers.TFSMLayer(/content/drive/MyDrive/ABSA/BiLSTM_CONV/stl_BiLSTM_CONV_aspect, call_endpoint='serving_default')` (note that your `call_endpoint` might have a different name).",
          "output_type": "error",
          "traceback": [
            "\u001b[0;31m---------------------------------------------------------------------------\u001b[0m",
            "\u001b[0;31mValueError\u001b[0m                                Traceback (most recent call last)",
            "\u001b[0;32m<ipython-input-88-b87fb8dd3066>\u001b[0m in \u001b[0;36m<cell line: 3>\u001b[0;34m()\u001b[0m\n\u001b[1;32m      1\u001b[0m \u001b[0;31m# load model\u001b[0m\u001b[0;34m\u001b[0m\u001b[0;34m\u001b[0m\u001b[0m\n\u001b[1;32m      2\u001b[0m \u001b[0msave_path\u001b[0m \u001b[0;34m=\u001b[0m \u001b[0;34mf'{path}/BiLSTM_CONV/stl_BiLSTM_CONV_aspect'\u001b[0m\u001b[0;34m\u001b[0m\u001b[0;34m\u001b[0m\u001b[0m\n\u001b[0;32m----> 3\u001b[0;31m \u001b[0maspect_model\u001b[0m \u001b[0;34m=\u001b[0m \u001b[0mkeras\u001b[0m\u001b[0;34m.\u001b[0m\u001b[0mmodels\u001b[0m\u001b[0;34m.\u001b[0m\u001b[0mload_model\u001b[0m\u001b[0;34m(\u001b[0m\u001b[0msave_path\u001b[0m\u001b[0;34m)\u001b[0m\u001b[0;34m\u001b[0m\u001b[0;34m\u001b[0m\u001b[0m\n\u001b[0m",
            "\u001b[0;32m/usr/local/lib/python3.10/dist-packages/keras/src/saving/saving_api.py\u001b[0m in \u001b[0;36mload_model\u001b[0;34m(filepath, custom_objects, compile, safe_mode)\u001b[0m\n\u001b[1;32m    202\u001b[0m         )\n\u001b[1;32m    203\u001b[0m     \u001b[0;32melse\u001b[0m\u001b[0;34m:\u001b[0m\u001b[0;34m\u001b[0m\u001b[0;34m\u001b[0m\u001b[0m\n\u001b[0;32m--> 204\u001b[0;31m         raise ValueError(\n\u001b[0m\u001b[1;32m    205\u001b[0m             \u001b[0;34mf\"File format not supported: filepath={filepath}. \"\u001b[0m\u001b[0;34m\u001b[0m\u001b[0;34m\u001b[0m\u001b[0m\n\u001b[1;32m    206\u001b[0m             \u001b[0;34m\"Keras 3 only supports V3 `.keras` files and \"\u001b[0m\u001b[0;34m\u001b[0m\u001b[0;34m\u001b[0m\u001b[0m\n",
            "\u001b[0;31mValueError\u001b[0m: File format not supported: filepath=/content/drive/MyDrive/ABSA/BiLSTM_CONV/stl_BiLSTM_CONV_aspect. Keras 3 only supports V3 `.keras` files and legacy H5 format files (`.h5` extension). Note that the legacy SavedModel format is not supported by `load_model()` in Keras 3. In order to reload a TensorFlow SavedModel as an inference-only layer in Keras 3, use `keras.layers.TFSMLayer(/content/drive/MyDrive/ABSA/BiLSTM_CONV/stl_BiLSTM_CONV_aspect, call_endpoint='serving_default')` (note that your `call_endpoint` might have a different name)."
          ]
        }
      ],
      "execution_count": null
    },
    {
      "cell_type": "code",
      "source": [
        "# predict\n",
        "pred_train = aspect_model.predict(padded_aspect_train)\n",
        "pred_val = aspect_model.predict(padded_aspect_val)\n",
        "pred_test = aspect_model.predict(padded_aspect_test)\n",
        "\n",
        "df_train_pred = round(pd.DataFrame(pred_train), 0)\n",
        "df_train_true_ = label_aspect_train\n",
        "df_train_pred.columns = df_train_true_.columns\n",
        "\n",
        "df_val_pred = round(pd.DataFrame(pred_val), 0)\n",
        "df_val_true_ = label_aspect_val\n",
        "df_val_pred.columns = df_val_true_.columns\n",
        "\n",
        "df_test_pred = round(pd.DataFrame(pred_test), 0)\n",
        "df_test_true_ = label_aspect_test\n",
        "df_test_pred.columns = df_test_true_.columns\n",
        "\n",
        "for col in label_aspect_train.columns:\n",
        "  print(col)\n",
        "  aspect_result_bilstm_conv = classification_report(df_test_true_[col], df_test_pred[col])\n",
        "  print(aspect_result_bilstm_conv)"
      ],
      "metadata": {
        "colab": {
          "base_uri": "https://localhost:8080/"
        },
        "id": "iKh0wzH_NRfn",
        "outputId": "5266d090-0af4-4768-e4e0-b269f92a8cfc",
        "trusted": true,
        "execution": {
          "iopub.status.busy": "2024-12-16T03:34:07.961932Z",
          "iopub.execute_input": "2024-12-16T03:34:07.962662Z",
          "iopub.status.idle": "2024-12-16T03:34:10.072123Z",
          "shell.execute_reply.started": "2024-12-16T03:34:07.962627Z",
          "shell.execute_reply": "2024-12-16T03:34:10.071426Z"
        }
      },
      "outputs": [
        {
          "name": "stdout",
          "text": "\u001b[1m119/119\u001b[0m \u001b[32m━━━━━━━━━━━━━━━━━━━━\u001b[0m\u001b[37m\u001b[0m \u001b[1m2s\u001b[0m 12ms/step\n\u001b[1m15/15\u001b[0m \u001b[32m━━━━━━━━━━━━━━━━━━━━\u001b[0m\u001b[37m\u001b[0m \u001b[1m0s\u001b[0m 11ms/step\n\u001b[1m15/15\u001b[0m \u001b[32m━━━━━━━━━━━━━━━━━━━━\u001b[0m\u001b[37m\u001b[0m \u001b[1m0s\u001b[0m 11ms/step\nis_character\n              precision    recall  f1-score   support\n\n           0       0.88      0.94      0.91       306\n           1       0.87      0.77      0.82       171\n\n    accuracy                           0.88       477\n   macro avg       0.88      0.85      0.86       477\nweighted avg       0.88      0.88      0.88       477\n\nis_content\n              precision    recall  f1-score   support\n\n           0       0.87      0.84      0.85       273\n           1       0.79      0.83      0.81       204\n\n    accuracy                           0.83       477\n   macro avg       0.83      0.83      0.83       477\nweighted avg       0.84      0.83      0.83       477\n\nis_scene\n              precision    recall  f1-score   support\n\n           0       0.84      0.86      0.85       309\n           1       0.74      0.70      0.72       168\n\n    accuracy                           0.81       477\n   macro avg       0.79      0.78      0.78       477\nweighted avg       0.80      0.81      0.80       477\n\nis_sound\n              precision    recall  f1-score   support\n\n           0       0.94      0.99      0.97       350\n           1       0.98      0.83      0.90       127\n\n    accuracy                           0.95       477\n   macro avg       0.96      0.91      0.93       477\nweighted avg       0.95      0.95      0.95       477\n\n",
          "output_type": "stream"
        }
      ],
      "execution_count": null
    },
    {
      "cell_type": "markdown",
      "source": [
        "- Stage 2 : Polarity"
      ],
      "metadata": {
        "id": "eUylMQjKN1TK"
      }
    },
    {
      "cell_type": "code",
      "source": [
        "lst_aspect = []\n",
        "for col in label_aspect_train.columns.values:\n",
        "    lst_aspect.append(col.split('_')[1])"
      ],
      "metadata": {
        "id": "wFjj2ydQNy1w",
        "trusted": true,
        "execution": {
          "iopub.status.busy": "2024-12-16T03:34:30.767470Z",
          "iopub.execute_input": "2024-12-16T03:34:30.768191Z",
          "iopub.status.idle": "2024-12-16T03:34:30.772477Z",
          "shell.execute_reply.started": "2024-12-16T03:34:30.768158Z",
          "shell.execute_reply": "2024-12-16T03:34:30.771522Z"
        }
      },
      "outputs": [],
      "execution_count": null
    },
    {
      "cell_type": "code",
      "source": [
        "#tokenize stage 2\n",
        "tokenized_sentiment_train = {}\n",
        "tokenized_sentiment_val = {}\n",
        "tokenized_sentiment_test = {}\n",
        "tokenizer_sentiment = {}\n",
        "\n",
        "for aspect in lst_aspect:\n",
        "  tokenizer_sentiment[aspect], tokenized_sentiment_train[aspect], tokenized_sentiment_val[aspect], tokenized_sentiment_test[aspect] = get_tokenize(cmt_train[aspect], cmt_val[aspect], cmt_test[aspect])\n",
        "\n",
        "#padding stage 2\n",
        "padded_sentiment_train = {}\n",
        "padded_sentiment_val = {}\n",
        "padded_sentiment_test = {}\n",
        "for aspect in lst_aspect:\n",
        "  padded_sentiment_train[aspect], padded_sentiment_val[aspect], padded_sentiment_test[aspect] = get_padded(max_len, tokenized_sentiment_train[aspect], tokenized_sentiment_val[aspect], tokenized_sentiment_test[aspect])\n",
        "\n",
        "#embedding matrix stage 2\n",
        "vocab_sentiment_size = {}\n",
        "embedding_sentiment_matrix = {}\n",
        "for aspect in lst_aspect:\n",
        "  vocab_sentiment_size[aspect]  = len(tokenizer_sentiment[aspect].word_index)+1\n",
        "  embedding_sentiment_matrix[aspect] = get_embedding_matrix(embedding_dim, vocab_sentiment_size[aspect], tokenizer_sentiment[aspect])"
      ],
      "metadata": {
        "id": "ushQAD51N4jw",
        "trusted": true,
        "execution": {
          "iopub.status.busy": "2024-12-16T03:34:31.731720Z",
          "iopub.execute_input": "2024-12-16T03:34:31.732099Z",
          "iopub.status.idle": "2024-12-16T03:34:32.408718Z",
          "shell.execute_reply.started": "2024-12-16T03:34:31.732065Z",
          "shell.execute_reply": "2024-12-16T03:34:32.407680Z"
        }
      },
      "outputs": [],
      "execution_count": null
    },
    {
      "cell_type": "code",
      "source": [
        "# training model\n",
        "sentiment_model = {}\n",
        "for aspect in lst_aspect:\n",
        "  sentiment_model[aspect] = bilstm_conv_polarity(aspect, vocab_sentiment_size, embedding_dim, max_len, embedding_sentiment_matrix, padded_sentiment_train, padded_sentiment_val, label_sentiment_train, label_sentiment_val)\n",
        "  sentiment_model[aspect].save(f'/kaggle/working/BiLSTM_CONV/stl_BiLSTM_CONV_polarity_{aspect}.h5')"
      ],
      "metadata": {
        "colab": {
          "base_uri": "https://localhost:8080/",
          "height": 686
        },
        "id": "Cdkbbj0xN7M1",
        "outputId": "474ece73-14fe-47c7-91b7-f16aa7d91d16",
        "trusted": true,
        "execution": {
          "iopub.status.busy": "2024-12-16T03:34:46.303156Z",
          "iopub.execute_input": "2024-12-16T03:34:46.303523Z",
          "iopub.status.idle": "2024-12-16T03:36:58.090245Z",
          "shell.execute_reply.started": "2024-12-16T03:34:46.303489Z",
          "shell.execute_reply": "2024-12-16T03:36:58.089504Z"
        }
      },
      "outputs": [
        {
          "name": "stderr",
          "text": "/opt/conda/lib/python3.10/site-packages/keras/src/layers/core/embedding.py:90: UserWarning: Argument `input_length` is deprecated. Just remove it.\n  warnings.warn(\n",
          "output_type": "stream"
        },
        {
          "name": "stdout",
          "text": "Epoch 1/70\n\u001b[1m11/11\u001b[0m \u001b[32m━━━━━━━━━━━━━━━━━━━━\u001b[0m\u001b[37m\u001b[0m \u001b[1m4s\u001b[0m 118ms/step - acc: 0.1668 - loss: 0.7242 - val_acc: 0.1548 - val_loss: 0.6752\nEpoch 2/70\n\u001b[1m11/11\u001b[0m \u001b[32m━━━━━━━━━━━━━━━━━━━━\u001b[0m\u001b[37m\u001b[0m \u001b[1m1s\u001b[0m 88ms/step - acc: 0.2327 - loss: 0.6750 - val_acc: 0.5417 - val_loss: 0.6472\nEpoch 3/70\n\u001b[1m11/11\u001b[0m \u001b[32m━━━━━━━━━━━━━━━━━━━━\u001b[0m\u001b[37m\u001b[0m \u001b[1m1s\u001b[0m 88ms/step - acc: 0.4393 - loss: 0.6513 - val_acc: 0.5893 - val_loss: 0.6226\nEpoch 4/70\n\u001b[1m11/11\u001b[0m \u001b[32m━━━━━━━━━━━━━━━━━━━━\u001b[0m\u001b[37m\u001b[0m \u001b[1m1s\u001b[0m 89ms/step - acc: 0.5383 - loss: 0.6299 - val_acc: 0.5714 - val_loss: 0.5928\nEpoch 5/70\n\u001b[1m11/11\u001b[0m \u001b[32m━━━━━━━━━━━━━━━━━━━━\u001b[0m\u001b[37m\u001b[0m \u001b[1m1s\u001b[0m 89ms/step - acc: 0.5261 - loss: 0.6082 - val_acc: 0.5714 - val_loss: 0.5600\nEpoch 6/70\n\u001b[1m11/11\u001b[0m \u001b[32m━━━━━━━━━━━━━━━━━━━━\u001b[0m\u001b[37m\u001b[0m \u001b[1m1s\u001b[0m 89ms/step - acc: 0.5519 - loss: 0.5831 - val_acc: 0.6845 - val_loss: 0.5269\nEpoch 7/70\n\u001b[1m11/11\u001b[0m \u001b[32m━━━━━━━━━━━━━━━━━━━━\u001b[0m\u001b[37m\u001b[0m \u001b[1m1s\u001b[0m 89ms/step - acc: 0.6244 - loss: 0.5470 - val_acc: 0.6964 - val_loss: 0.5049\nEpoch 8/70\n\u001b[1m11/11\u001b[0m \u001b[32m━━━━━━━━━━━━━━━━━━━━\u001b[0m\u001b[37m\u001b[0m \u001b[1m1s\u001b[0m 89ms/step - acc: 0.6535 - loss: 0.5238 - val_acc: 0.6905 - val_loss: 0.4921\nEpoch 9/70\n\u001b[1m11/11\u001b[0m \u001b[32m━━━━━━━━━━━━━━━━━━━━\u001b[0m\u001b[37m\u001b[0m \u001b[1m1s\u001b[0m 89ms/step - acc: 0.6623 - loss: 0.5104 - val_acc: 0.7024 - val_loss: 0.4783\nEpoch 10/70\n\u001b[1m11/11\u001b[0m \u001b[32m━━━━━━━━━━━━━━━━━━━━\u001b[0m\u001b[37m\u001b[0m \u001b[1m1s\u001b[0m 89ms/step - acc: 0.6721 - loss: 0.4853 - val_acc: 0.6786 - val_loss: 0.4708\nEpoch 11/70\n\u001b[1m11/11\u001b[0m \u001b[32m━━━━━━━━━━━━━━━━━━━━\u001b[0m\u001b[37m\u001b[0m \u001b[1m1s\u001b[0m 90ms/step - acc: 0.6665 - loss: 0.4792 - val_acc: 0.7024 - val_loss: 0.4580\nEpoch 12/70\n\u001b[1m11/11\u001b[0m \u001b[32m━━━━━━━━━━━━━━━━━━━━\u001b[0m\u001b[37m\u001b[0m \u001b[1m1s\u001b[0m 90ms/step - acc: 0.6965 - loss: 0.4426 - val_acc: 0.6726 - val_loss: 0.4487\nEpoch 13/70\n\u001b[1m11/11\u001b[0m \u001b[32m━━━━━━━━━━━━━━━━━━━━\u001b[0m\u001b[37m\u001b[0m \u001b[1m1s\u001b[0m 91ms/step - acc: 0.6942 - loss: 0.4361 - val_acc: 0.7024 - val_loss: 0.4342\nEpoch 14/70\n\u001b[1m11/11\u001b[0m \u001b[32m━━━━━━━━━━━━━━━━━━━━\u001b[0m\u001b[37m\u001b[0m \u001b[1m1s\u001b[0m 90ms/step - acc: 0.7128 - loss: 0.4191 - val_acc: 0.6905 - val_loss: 0.4220\nEpoch 15/70\n\u001b[1m11/11\u001b[0m \u001b[32m━━━━━━━━━━━━━━━━━━━━\u001b[0m\u001b[37m\u001b[0m \u001b[1m1s\u001b[0m 91ms/step - acc: 0.7545 - loss: 0.3854 - val_acc: 0.7083 - val_loss: 0.4134\nEpoch 16/70\n\u001b[1m11/11\u001b[0m \u001b[32m━━━━━━━━━━━━━━━━━━━━\u001b[0m\u001b[37m\u001b[0m \u001b[1m1s\u001b[0m 91ms/step - acc: 0.8112 - loss: 0.3434 - val_acc: 0.7202 - val_loss: 0.4107\nEpoch 17/70\n\u001b[1m11/11\u001b[0m \u001b[32m━━━━━━━━━━━━━━━━━━━━\u001b[0m\u001b[37m\u001b[0m \u001b[1m1s\u001b[0m 91ms/step - acc: 0.8085 - loss: 0.3382 - val_acc: 0.7262 - val_loss: 0.4129\nEpoch 18/70\n\u001b[1m11/11\u001b[0m \u001b[32m━━━━━━━━━━━━━━━━━━━━\u001b[0m\u001b[37m\u001b[0m \u001b[1m1s\u001b[0m 93ms/step - acc: 0.8177 - loss: 0.3069 - val_acc: 0.7381 - val_loss: 0.4003\nEpoch 19/70\n\u001b[1m11/11\u001b[0m \u001b[32m━━━━━━━━━━━━━━━━━━━━\u001b[0m\u001b[37m\u001b[0m \u001b[1m1s\u001b[0m 92ms/step - acc: 0.8509 - loss: 0.2878 - val_acc: 0.7262 - val_loss: 0.3877\nEpoch 20/70\n\u001b[1m11/11\u001b[0m \u001b[32m━━━━━━━━━━━━━━━━━━━━\u001b[0m\u001b[37m\u001b[0m \u001b[1m1s\u001b[0m 92ms/step - acc: 0.8615 - loss: 0.2670 - val_acc: 0.7560 - val_loss: 0.3851\nEpoch 21/70\n\u001b[1m11/11\u001b[0m \u001b[32m━━━━━━━━━━━━━━━━━━━━\u001b[0m\u001b[37m\u001b[0m \u001b[1m1s\u001b[0m 92ms/step - acc: 0.8765 - loss: 0.2408 - val_acc: 0.7440 - val_loss: 0.3839\nEpoch 22/70\n\u001b[1m11/11\u001b[0m \u001b[32m━━━━━━━━━━━━━━━━━━━━\u001b[0m\u001b[37m\u001b[0m \u001b[1m1s\u001b[0m 92ms/step - acc: 0.9123 - loss: 0.2029 - val_acc: 0.7440 - val_loss: 0.3942\nEpoch 23/70\n\u001b[1m11/11\u001b[0m \u001b[32m━━━━━━━━━━━━━━━━━━━━\u001b[0m\u001b[37m\u001b[0m \u001b[1m1s\u001b[0m 92ms/step - acc: 0.9078 - loss: 0.2054 - val_acc: 0.7619 - val_loss: 0.3907\nEpoch 24/70\n\u001b[1m11/11\u001b[0m \u001b[32m━━━━━━━━━━━━━━━━━━━━\u001b[0m\u001b[37m\u001b[0m \u001b[1m1s\u001b[0m 93ms/step - acc: 0.9254 - loss: 0.1802 - val_acc: 0.7560 - val_loss: 0.4081\nEpoch 1/70\n\u001b[1m12/12\u001b[0m \u001b[32m━━━━━━━━━━━━━━━━━━━━\u001b[0m\u001b[37m\u001b[0m \u001b[1m4s\u001b[0m 120ms/step - acc: 0.3679 - loss: 0.6655 - val_acc: 0.5100 - val_loss: 0.6063\nEpoch 2/70\n\u001b[1m12/12\u001b[0m \u001b[32m━━━━━━━━━━━━━━━━━━━━\u001b[0m\u001b[37m\u001b[0m \u001b[1m1s\u001b[0m 94ms/step - acc: 0.4732 - loss: 0.6130 - val_acc: 0.5050 - val_loss: 0.5901\nEpoch 3/70\n\u001b[1m12/12\u001b[0m \u001b[32m━━━━━━━━━━━━━━━━━━━━\u001b[0m\u001b[37m\u001b[0m \u001b[1m1s\u001b[0m 94ms/step - acc: 0.5005 - loss: 0.5951 - val_acc: 0.5100 - val_loss: 0.5743\nEpoch 4/70\n\u001b[1m12/12\u001b[0m \u001b[32m━━━━━━━━━━━━━━━━━━━━\u001b[0m\u001b[37m\u001b[0m \u001b[1m1s\u001b[0m 94ms/step - acc: 0.5225 - loss: 0.5720 - val_acc: 0.5300 - val_loss: 0.5563\nEpoch 5/70\n\u001b[1m12/12\u001b[0m \u001b[32m━━━━━━━━━━━━━━━━━━━━\u001b[0m\u001b[37m\u001b[0m \u001b[1m1s\u001b[0m 95ms/step - acc: 0.5439 - loss: 0.5567 - val_acc: 0.6000 - val_loss: 0.5359\nEpoch 6/70\n\u001b[1m12/12\u001b[0m \u001b[32m━━━━━━━━━━━━━━━━━━━━\u001b[0m\u001b[37m\u001b[0m \u001b[1m1s\u001b[0m 95ms/step - acc: 0.6031 - loss: 0.5401 - val_acc: 0.6050 - val_loss: 0.5204\nEpoch 7/70\n\u001b[1m12/12\u001b[0m \u001b[32m━━━━━━━━━━━━━━━━━━━━\u001b[0m\u001b[37m\u001b[0m \u001b[1m1s\u001b[0m 95ms/step - acc: 0.6122 - loss: 0.5179 - val_acc: 0.6350 - val_loss: 0.5033\nEpoch 8/70\n\u001b[1m12/12\u001b[0m \u001b[32m━━━━━━━━━━━━━━━━━━━━\u001b[0m\u001b[37m\u001b[0m \u001b[1m1s\u001b[0m 95ms/step - acc: 0.6378 - loss: 0.4975 - val_acc: 0.6450 - val_loss: 0.4932\nEpoch 9/70\n\u001b[1m12/12\u001b[0m \u001b[32m━━━━━━━━━━━━━━━━━━━━\u001b[0m\u001b[37m\u001b[0m \u001b[1m1s\u001b[0m 95ms/step - acc: 0.6761 - loss: 0.4703 - val_acc: 0.6550 - val_loss: 0.4822\nEpoch 10/70\n\u001b[1m12/12\u001b[0m \u001b[32m━━━━━━━━━━━━━━━━━━━━\u001b[0m\u001b[37m\u001b[0m \u001b[1m1s\u001b[0m 96ms/step - acc: 0.6774 - loss: 0.4599 - val_acc: 0.6600 - val_loss: 0.4798\nEpoch 11/70\n\u001b[1m12/12\u001b[0m \u001b[32m━━━━━━━━━━━━━━━━━━━━\u001b[0m\u001b[37m\u001b[0m \u001b[1m1s\u001b[0m 96ms/step - acc: 0.7009 - loss: 0.4306 - val_acc: 0.6550 - val_loss: 0.4744\nEpoch 12/70\n\u001b[1m12/12\u001b[0m \u001b[32m━━━━━━━━━━━━━━━━━━━━\u001b[0m\u001b[37m\u001b[0m \u001b[1m1s\u001b[0m 96ms/step - acc: 0.7031 - loss: 0.4216 - val_acc: 0.6350 - val_loss: 0.4642\nEpoch 13/70\n\u001b[1m12/12\u001b[0m \u001b[32m━━━━━━━━━━━━━━━━━━━━\u001b[0m\u001b[37m\u001b[0m \u001b[1m1s\u001b[0m 95ms/step - acc: 0.6948 - loss: 0.4199 - val_acc: 0.6450 - val_loss: 0.4630\nEpoch 14/70\n\u001b[1m12/12\u001b[0m \u001b[32m━━━━━━━━━━━━━━━━━━━━\u001b[0m\u001b[37m\u001b[0m \u001b[1m1s\u001b[0m 96ms/step - acc: 0.7428 - loss: 0.3820 - val_acc: 0.6450 - val_loss: 0.4628\nEpoch 15/70\n\u001b[1m12/12\u001b[0m \u001b[32m━━━━━━━━━━━━━━━━━━━━\u001b[0m\u001b[37m\u001b[0m \u001b[1m1s\u001b[0m 97ms/step - acc: 0.7562 - loss: 0.3643 - val_acc: 0.6400 - val_loss: 0.4629\nEpoch 16/70\n\u001b[1m12/12\u001b[0m \u001b[32m━━━━━━━━━━━━━━━━━━━━\u001b[0m\u001b[37m\u001b[0m \u001b[1m1s\u001b[0m 97ms/step - acc: 0.7750 - loss: 0.3490 - val_acc: 0.6350 - val_loss: 0.4738\nEpoch 17/70\n\u001b[1m12/12\u001b[0m \u001b[32m━━━━━━━━━━━━━━━━━━━━\u001b[0m\u001b[37m\u001b[0m \u001b[1m1s\u001b[0m 98ms/step - acc: 0.7863 - loss: 0.3329 - val_acc: 0.6400 - val_loss: 0.4865\nEpoch 1/70\n\u001b[1m10/10\u001b[0m \u001b[32m━━━━━━━━━━━━━━━━━━━━\u001b[0m\u001b[37m\u001b[0m \u001b[1m5s\u001b[0m 131ms/step - acc: 0.4249 - loss: 0.6668 - val_acc: 0.4933 - val_loss: 0.6132\nEpoch 2/70\n\u001b[1m10/10\u001b[0m \u001b[32m━━━━━━━━━━━━━━━━━━━━\u001b[0m\u001b[37m\u001b[0m \u001b[1m1s\u001b[0m 95ms/step - acc: 0.4742 - loss: 0.6139 - val_acc: 0.4933 - val_loss: 0.5923\nEpoch 3/70\n\u001b[1m10/10\u001b[0m \u001b[32m━━━━━━━━━━━━━━━━━━━━\u001b[0m\u001b[37m\u001b[0m \u001b[1m1s\u001b[0m 95ms/step - acc: 0.4754 - loss: 0.5995 - val_acc: 0.5000 - val_loss: 0.5785\nEpoch 4/70\n\u001b[1m10/10\u001b[0m \u001b[32m━━━━━━━━━━━━━━━━━━━━\u001b[0m\u001b[37m\u001b[0m \u001b[1m1s\u001b[0m 95ms/step - acc: 0.5003 - loss: 0.5863 - val_acc: 0.5600 - val_loss: 0.5691\nEpoch 5/70\n\u001b[1m10/10\u001b[0m \u001b[32m━━━━━━━━━━━━━━━━━━━━\u001b[0m\u001b[37m\u001b[0m \u001b[1m1s\u001b[0m 95ms/step - acc: 0.5145 - loss: 0.5871 - val_acc: 0.6200 - val_loss: 0.5573\nEpoch 6/70\n\u001b[1m10/10\u001b[0m \u001b[32m━━━━━━━━━━━━━━━━━━━━\u001b[0m\u001b[37m\u001b[0m \u001b[1m1s\u001b[0m 96ms/step - acc: 0.5647 - loss: 0.5647 - val_acc: 0.6200 - val_loss: 0.5378\nEpoch 7/70\n\u001b[1m10/10\u001b[0m \u001b[32m━━━━━━━━━━━━━━━━━━━━\u001b[0m\u001b[37m\u001b[0m \u001b[1m1s\u001b[0m 95ms/step - acc: 0.5764 - loss: 0.5499 - val_acc: 0.6400 - val_loss: 0.5172\nEpoch 8/70\n\u001b[1m10/10\u001b[0m \u001b[32m━━━━━━━━━━━━━━━━━━━━\u001b[0m\u001b[37m\u001b[0m \u001b[1m1s\u001b[0m 96ms/step - acc: 0.5769 - loss: 0.5353 - val_acc: 0.6400 - val_loss: 0.4959\nEpoch 9/70\n\u001b[1m10/10\u001b[0m \u001b[32m━━━━━━━━━━━━━━━━━━━━\u001b[0m\u001b[37m\u001b[0m \u001b[1m1s\u001b[0m 97ms/step - acc: 0.6049 - loss: 0.5102 - val_acc: 0.6600 - val_loss: 0.4748\nEpoch 10/70\n\u001b[1m10/10\u001b[0m \u001b[32m━━━━━━━━━━━━━━━━━━━━\u001b[0m\u001b[37m\u001b[0m \u001b[1m1s\u001b[0m 96ms/step - acc: 0.6774 - loss: 0.4655 - val_acc: 0.6667 - val_loss: 0.4509\nEpoch 11/70\n\u001b[1m10/10\u001b[0m \u001b[32m━━━━━━━━━━━━━━━━━━━━\u001b[0m\u001b[37m\u001b[0m \u001b[1m1s\u001b[0m 96ms/step - acc: 0.6866 - loss: 0.4453 - val_acc: 0.6667 - val_loss: 0.4321\nEpoch 12/70\n\u001b[1m10/10\u001b[0m \u001b[32m━━━━━━━━━━━━━━━━━━━━\u001b[0m\u001b[37m\u001b[0m \u001b[1m1s\u001b[0m 96ms/step - acc: 0.7132 - loss: 0.4229 - val_acc: 0.6867 - val_loss: 0.4199\nEpoch 13/70\n\u001b[1m10/10\u001b[0m \u001b[32m━━━━━━━━━━━━━━━━━━━━\u001b[0m\u001b[37m\u001b[0m \u001b[1m1s\u001b[0m 98ms/step - acc: 0.7524 - loss: 0.3960 - val_acc: 0.6867 - val_loss: 0.4102\nEpoch 14/70\n\u001b[1m10/10\u001b[0m \u001b[32m━━━━━━━━━━━━━━━━━━━━\u001b[0m\u001b[37m\u001b[0m \u001b[1m1s\u001b[0m 96ms/step - acc: 0.7736 - loss: 0.3786 - val_acc: 0.7000 - val_loss: 0.4071\nEpoch 15/70\n\u001b[1m10/10\u001b[0m \u001b[32m━━━━━━━━━━━━━━━━━━━━\u001b[0m\u001b[37m\u001b[0m \u001b[1m1s\u001b[0m 98ms/step - acc: 0.7894 - loss: 0.3497 - val_acc: 0.6867 - val_loss: 0.4041\nEpoch 16/70\n\u001b[1m10/10\u001b[0m \u001b[32m━━━━━━━━━━━━━━━━━━━━\u001b[0m\u001b[37m\u001b[0m \u001b[1m1s\u001b[0m 98ms/step - acc: 0.8096 - loss: 0.3209 - val_acc: 0.7000 - val_loss: 0.4295\nEpoch 17/70\n\u001b[1m10/10\u001b[0m \u001b[32m━━━━━━━━━━━━━━━━━━━━\u001b[0m\u001b[37m\u001b[0m \u001b[1m1s\u001b[0m 99ms/step - acc: 0.8312 - loss: 0.2919 - val_acc: 0.7200 - val_loss: 0.4379\nEpoch 18/70\n\u001b[1m10/10\u001b[0m \u001b[32m━━━━━━━━━━━━━━━━━━━━\u001b[0m\u001b[37m\u001b[0m \u001b[1m1s\u001b[0m 98ms/step - acc: 0.8424 - loss: 0.2741 - val_acc: 0.6867 - val_loss: 0.4388\nEpoch 1/70\n\u001b[1m8/8\u001b[0m \u001b[32m━━━━━━━━━━━━━━━━━━━━\u001b[0m\u001b[37m\u001b[0m \u001b[1m4s\u001b[0m 143ms/step - acc: 0.3600 - loss: 0.6718 - val_acc: 0.3571 - val_loss: 0.6216\nEpoch 2/70\n\u001b[1m8/8\u001b[0m \u001b[32m━━━━━━━━━━━━━━━━━━━━\u001b[0m\u001b[37m\u001b[0m \u001b[1m1s\u001b[0m 97ms/step - acc: 0.4449 - loss: 0.6162 - val_acc: 0.6000 - val_loss: 0.5807\nEpoch 3/70\n\u001b[1m8/8\u001b[0m \u001b[32m━━━━━━━━━━━━━━━━━━━━\u001b[0m\u001b[37m\u001b[0m \u001b[1m1s\u001b[0m 97ms/step - acc: 0.5859 - loss: 0.5749 - val_acc: 0.6000 - val_loss: 0.5429\nEpoch 4/70\n\u001b[1m8/8\u001b[0m \u001b[32m━━━━━━━━━━━━━━━━━━━━\u001b[0m\u001b[37m\u001b[0m \u001b[1m1s\u001b[0m 98ms/step - acc: 0.5961 - loss: 0.5505 - val_acc: 0.7143 - val_loss: 0.5056\nEpoch 5/70\n\u001b[1m8/8\u001b[0m \u001b[32m━━━━━━━━━━━━━━━━━━━━\u001b[0m\u001b[37m\u001b[0m \u001b[1m1s\u001b[0m 98ms/step - acc: 0.6538 - loss: 0.5085 - val_acc: 0.7786 - val_loss: 0.4820\nEpoch 6/70\n\u001b[1m8/8\u001b[0m \u001b[32m━━━━━━━━━━━━━━━━━━━━\u001b[0m\u001b[37m\u001b[0m \u001b[1m1s\u001b[0m 98ms/step - acc: 0.7081 - loss: 0.4871 - val_acc: 0.7786 - val_loss: 0.4632\nEpoch 7/70\n\u001b[1m8/8\u001b[0m \u001b[32m━━━━━━━━━━━━━━━━━━━━\u001b[0m\u001b[37m\u001b[0m \u001b[1m1s\u001b[0m 99ms/step - acc: 0.7179 - loss: 0.4658 - val_acc: 0.7786 - val_loss: 0.4437\nEpoch 8/70\n\u001b[1m8/8\u001b[0m \u001b[32m━━━━━━━━━━━━━━━━━━━━\u001b[0m\u001b[37m\u001b[0m \u001b[1m1s\u001b[0m 97ms/step - acc: 0.7201 - loss: 0.4480 - val_acc: 0.7786 - val_loss: 0.4238\nEpoch 9/70\n\u001b[1m8/8\u001b[0m \u001b[32m━━━━━━━━━━━━━━━━━━━━\u001b[0m\u001b[37m\u001b[0m \u001b[1m1s\u001b[0m 98ms/step - acc: 0.7831 - loss: 0.4107 - val_acc: 0.7929 - val_loss: 0.4009\nEpoch 10/70\n\u001b[1m8/8\u001b[0m \u001b[32m━━━━━━━━━━━━━━━━━━━━\u001b[0m\u001b[37m\u001b[0m \u001b[1m1s\u001b[0m 99ms/step - acc: 0.7926 - loss: 0.3956 - val_acc: 0.8000 - val_loss: 0.3809\nEpoch 11/70\n\u001b[1m8/8\u001b[0m \u001b[32m━━━━━━━━━━━━━━━━━━━━\u001b[0m\u001b[37m\u001b[0m \u001b[1m1s\u001b[0m 99ms/step - acc: 0.7956 - loss: 0.3825 - val_acc: 0.8000 - val_loss: 0.3579\nEpoch 12/70\n\u001b[1m8/8\u001b[0m \u001b[32m━━━━━━━━━━━━━━━━━━━━\u001b[0m\u001b[37m\u001b[0m \u001b[1m1s\u001b[0m 99ms/step - acc: 0.8498 - loss: 0.3298 - val_acc: 0.8000 - val_loss: 0.3394\nEpoch 13/70\n\u001b[1m8/8\u001b[0m \u001b[32m━━━━━━━━━━━━━━━━━━━━\u001b[0m\u001b[37m\u001b[0m \u001b[1m1s\u001b[0m 99ms/step - acc: 0.8482 - loss: 0.3188 - val_acc: 0.8143 - val_loss: 0.3227\nEpoch 14/70\n\u001b[1m8/8\u001b[0m \u001b[32m━━━━━━━━━━━━━━━━━━━━\u001b[0m\u001b[37m\u001b[0m \u001b[1m1s\u001b[0m 99ms/step - acc: 0.8600 - loss: 0.2778 - val_acc: 0.7786 - val_loss: 0.3129\nEpoch 15/70\n\u001b[1m8/8\u001b[0m \u001b[32m━━━━━━━━━━━━━━━━━━━━\u001b[0m\u001b[37m\u001b[0m \u001b[1m1s\u001b[0m 99ms/step - acc: 0.8667 - loss: 0.2651 - val_acc: 0.8214 - val_loss: 0.3061\nEpoch 16/70\n\u001b[1m8/8\u001b[0m \u001b[32m━━━━━━━━━━━━━━━━━━━━\u001b[0m\u001b[37m\u001b[0m \u001b[1m1s\u001b[0m 100ms/step - acc: 0.8808 - loss: 0.2331 - val_acc: 0.7857 - val_loss: 0.3041\nEpoch 17/70\n\u001b[1m8/8\u001b[0m \u001b[32m━━━━━━━━━━━━━━━━━━━━\u001b[0m\u001b[37m\u001b[0m \u001b[1m1s\u001b[0m 99ms/step - acc: 0.8897 - loss: 0.2319 - val_acc: 0.8071 - val_loss: 0.2980\nEpoch 18/70\n\u001b[1m8/8\u001b[0m \u001b[32m━━━━━━━━━━━━━━━━━━━━\u001b[0m\u001b[37m\u001b[0m \u001b[1m1s\u001b[0m 100ms/step - acc: 0.8987 - loss: 0.2080 - val_acc: 0.8000 - val_loss: 0.2996\nEpoch 19/70\n\u001b[1m8/8\u001b[0m \u001b[32m━━━━━━━━━━━━━━━━━━━━\u001b[0m\u001b[37m\u001b[0m \u001b[1m1s\u001b[0m 99ms/step - acc: 0.9109 - loss: 0.1924 - val_acc: 0.8143 - val_loss: 0.2885\nEpoch 20/70\n\u001b[1m8/8\u001b[0m \u001b[32m━━━━━━━━━━━━━━━━━━━━\u001b[0m\u001b[37m\u001b[0m \u001b[1m1s\u001b[0m 98ms/step - acc: 0.9297 - loss: 0.1639 - val_acc: 0.8143 - val_loss: 0.3087\nEpoch 21/70\n\u001b[1m8/8\u001b[0m \u001b[32m━━━━━━━━━━━━━━━━━━━━\u001b[0m\u001b[37m\u001b[0m \u001b[1m1s\u001b[0m 99ms/step - acc: 0.9309 - loss: 0.1472 - val_acc: 0.8357 - val_loss: 0.3027\nEpoch 22/70\n\u001b[1m8/8\u001b[0m \u001b[32m━━━━━━━━━━━━━━━━━━━━\u001b[0m\u001b[37m\u001b[0m \u001b[1m1s\u001b[0m 100ms/step - acc: 0.9449 - loss: 0.1329 - val_acc: 0.8214 - val_loss: 0.3112\n",
          "output_type": "stream"
        }
      ],
      "execution_count": null
    },
    {
      "cell_type": "code",
      "source": [
        "# predict\n",
        "df_sentiment_train_pred = {}\n",
        "df_sentiment_train_true_ = {}\n",
        "\n",
        "df_sentiment_val_true_ = {}\n",
        "df_sentiment_val_pred = {}\n",
        "\n",
        "df_sentiment_test_true_ = {}\n",
        "df_sentiment_test_pred = {}\n",
        "\n",
        "for aspect in lst_aspect:\n",
        "  pred_sentiment_train = sentiment_model[aspect].predict(padded_sentiment_train[aspect])\n",
        "  pred_sentiment_val = sentiment_model[aspect].predict(padded_sentiment_val[aspect])\n",
        "  pred_sentiment_test = sentiment_model[aspect].predict(padded_sentiment_test[aspect])\n",
        "\n",
        "  df_sentiment_train_pred[aspect] = np.argmax(pred_sentiment_train, axis=1)\n",
        "  df_sentiment_train_true_[aspect] = np.argmax(label_sentiment_train[aspect], axis = 1)\n",
        "\n",
        "  df_sentiment_val_pred[aspect] = np.argmax(pred_sentiment_val, axis=1)\n",
        "  df_sentiment_val_true_[aspect] = np.argmax(label_sentiment_val[aspect], axis = 1)\n",
        "\n",
        "  df_sentiment_test_pred[aspect] = np.argmax(pred_sentiment_test, axis=1)\n",
        "  df_sentiment_test_true_[aspect] = np.argmax(label_sentiment_test[aspect], axis=1)\n",
        "\n",
        "sentiment_result_bilstm_conv = {}\n",
        "# for aspect in lst_aspect:\n",
        "for aspect in lst_aspect:\n",
        "    sentiment_result_bilstm_conv[aspect] = classification_report(df_sentiment_test_true_[aspect].tolist(), df_sentiment_test_pred[aspect].tolist())\n",
        "    print(sentiment_result_bilstm_conv[aspect])"
      ],
      "metadata": {
        "colab": {
          "base_uri": "https://localhost:8080/"
        },
        "id": "oxGCCWxtN_6J",
        "outputId": "1a56bdf2-b6de-45a8-ba75-2ee7c5c06561",
        "trusted": true,
        "execution": {
          "iopub.status.busy": "2024-12-16T03:37:08.490452Z",
          "iopub.execute_input": "2024-12-16T03:37:08.490825Z",
          "iopub.status.idle": "2024-12-16T03:37:12.605872Z",
          "shell.execute_reply.started": "2024-12-16T03:37:08.490794Z",
          "shell.execute_reply": "2024-12-16T03:37:12.605037Z"
        }
      },
      "outputs": [
        {
          "name": "stdout",
          "text": "\u001b[1m42/42\u001b[0m \u001b[32m━━━━━━━━━━━━━━━━━━━━\u001b[0m\u001b[37m\u001b[0m \u001b[1m1s\u001b[0m 17ms/step\n\u001b[1m6/6\u001b[0m \u001b[32m━━━━━━━━━━━━━━━━━━━━\u001b[0m\u001b[37m\u001b[0m \u001b[1m0s\u001b[0m 8ms/step \n\u001b[1m6/6\u001b[0m \u001b[32m━━━━━━━━━━━━━━━━━━━━\u001b[0m\u001b[37m\u001b[0m \u001b[1m0s\u001b[0m 8ms/step \n\u001b[1m47/47\u001b[0m \u001b[32m━━━━━━━━━━━━━━━━━━━━\u001b[0m\u001b[37m\u001b[0m \u001b[1m1s\u001b[0m 13ms/step\n\u001b[1m7/7\u001b[0m \u001b[32m━━━━━━━━━━━━━━━━━━━━\u001b[0m\u001b[37m\u001b[0m \u001b[1m0s\u001b[0m 9ms/step\n\u001b[1m7/7\u001b[0m \u001b[32m━━━━━━━━━━━━━━━━━━━━\u001b[0m\u001b[37m\u001b[0m \u001b[1m0s\u001b[0m 9ms/step\n\u001b[1m39/39\u001b[0m \u001b[32m━━━━━━━━━━━━━━━━━━━━\u001b[0m\u001b[37m\u001b[0m \u001b[1m1s\u001b[0m 14ms/step\n\u001b[1m5/5\u001b[0m \u001b[32m━━━━━━━━━━━━━━━━━━━━\u001b[0m\u001b[37m\u001b[0m \u001b[1m0s\u001b[0m 9ms/step \n\u001b[1m6/6\u001b[0m \u001b[32m━━━━━━━━━━━━━━━━━━━━\u001b[0m\u001b[37m\u001b[0m \u001b[1m0s\u001b[0m 9ms/step \n\u001b[1m32/32\u001b[0m \u001b[32m━━━━━━━━━━━━━━━━━━━━\u001b[0m\u001b[37m\u001b[0m \u001b[1m1s\u001b[0m 15ms/step\n\u001b[1m5/5\u001b[0m \u001b[32m━━━━━━━━━━━━━━━━━━━━\u001b[0m\u001b[37m\u001b[0m \u001b[1m0s\u001b[0m 8ms/step \n\u001b[1m4/4\u001b[0m \u001b[32m━━━━━━━━━━━━━━━━━━━━\u001b[0m\u001b[37m\u001b[0m \u001b[1m0s\u001b[0m 8ms/step \n              precision    recall  f1-score   support\n\n           0       0.56      0.69      0.62        54\n           1       0.64      0.32      0.42        22\n           2       0.76      0.76      0.76        94\n\n    accuracy                           0.68       170\n   macro avg       0.65      0.59      0.60       170\nweighted avg       0.68      0.68      0.67       170\n\n              precision    recall  f1-score   support\n\n           0       0.37      0.17      0.24        40\n           1       0.74      0.70      0.72        60\n           2       0.71      0.88      0.78       104\n\n    accuracy                           0.69       204\n   macro avg       0.61      0.58      0.58       204\nweighted avg       0.65      0.69      0.66       204\n\n              precision    recall  f1-score   support\n\n           0       0.67      0.52      0.58        60\n           1       0.33      0.27      0.30        26\n           2       0.69      0.85      0.77        82\n\n    accuracy                           0.64       168\n   macro avg       0.57      0.55      0.55       168\nweighted avg       0.63      0.64      0.63       168\n\n              precision    recall  f1-score   support\n\n           0       0.82      0.80      0.81        40\n           1       0.85      0.89      0.87        38\n           2       0.88      0.86      0.87        49\n\n    accuracy                           0.85       127\n   macro avg       0.85      0.85      0.85       127\nweighted avg       0.85      0.85      0.85       127\n\n",
          "output_type": "stream"
        }
      ],
      "execution_count": null
    },
    {
      "cell_type": "markdown",
      "source": [
        "### BiLSTM+BiGRU+CONV"
      ],
      "metadata": {
        "id": "_AQKHK_MPqKa"
      }
    },
    {
      "cell_type": "code",
      "source": [
        "def bilstm_bigru_conv_aspect(vocab_aspect_size, embedding_dim, max_len, embedding_aspect_matrix, padded_aspect_train, padded_aspect_val, label_aspect_train, label_aspect_val, epochs=70):\n",
        "\n",
        "  input = Input(shape=(max_len,))\n",
        "  embed = Embedding(input_dim=vocab_aspect_size,\n",
        "                  output_dim=embedding_dim,\n",
        "                  embeddings_initializer=Constant(embedding_aspect_matrix),\n",
        "                  input_length=max_len,\n",
        "                  trainable=True)(input)\n",
        "\n",
        "  dropout1 = SpatialDropout1D(0.2)(embed)\n",
        "\n",
        "  lstm = Bidirectional(LSTM(units = 200, activation = 'tanh', return_sequences = True))(dropout1)\n",
        "  conv_lstm = Conv1D(128, kernel_size = 2, padding = \"valid\", kernel_initializer = \"he_uniform\")(lstm)\n",
        "\n",
        "  gru = Bidirectional(GRU(units = 200, activation = 'tanh', return_sequences = True))(dropout1)\n",
        "  conv_gru = Conv1D(128, kernel_size = 2, padding = \"valid\", kernel_initializer = \"he_uniform\")(gru)\n",
        "\n",
        "\n",
        "  avg_pool1 = GlobalAveragePooling1D()(conv_lstm)\n",
        "  max_pool1 = GlobalMaxPooling1D()(conv_lstm)\n",
        "\n",
        "  avg_pool2 = GlobalAveragePooling1D()(conv_gru)\n",
        "  max_pool2 = GlobalMaxPooling1D()(conv_gru)\n",
        "\n",
        "\n",
        "  concat = Concatenate(axis=-1)([avg_pool1, max_pool1, avg_pool2, max_pool2])\n",
        "\n",
        "  # aspect\n",
        "  aspect_dense1 = Dense(units = 256, activation = 'relu')(concat)\n",
        "  aspect_dense2 = Dense(128, activation='relu')(aspect_dense1)\n",
        "  aspect_dropout1 = Dropout(0.2)(aspect_dense2)\n",
        "  aspect_dense3 = Dense(64, activation='relu')(aspect_dropout1)\n",
        "  aspect_dense4 = Dense(32, activation='relu')(aspect_dense3)\n",
        "  aspect_dense5 = Dense(4, activation='sigmoid')(aspect_dense4)\n",
        "\n",
        "  aspect_model = tf.keras.Model(inputs = input, outputs = aspect_dense5)\n",
        "  aspect_model.compile(optimizer=Adam(learning_rate = 0.0001), loss='binary_crossentropy', metrics=['acc'])\n",
        "  callback = tf.keras.callbacks.EarlyStopping(monitor='val_loss', patience=3)\n",
        "\n",
        "  # Fit model\n",
        "  history = aspect_model.fit(x=padded_aspect_train,\n",
        "    y=label_aspect_train.to_numpy(),\n",
        "\n",
        "    validation_data=(padded_aspect_val,\n",
        "      label_aspect_val.to_numpy()),\n",
        "    batch_size = 128,\n",
        "    epochs=epochs,\n",
        "    callbacks = [callback],\n",
        "    verbose=1)\n",
        "\n",
        "  return aspect_model\n",
        "\n",
        "def bilstm_bigru_conv_polarity(aspect, vocab_sentiment_size, embedding_dim, max_len, embedding_sentiment_matrix, padded_sentiment_train, padded_sentiment_val, label_sentiment_train, label_sentiment_val, epochs=70):\n",
        "\n",
        "  # polarity\n",
        "\n",
        "  input = Input(shape=(max_len,))\n",
        "  embed = Embedding(input_dim=vocab_sentiment_size[aspect],\n",
        "                  output_dim=embedding_dim,\n",
        "                  embeddings_initializer=Constant(embedding_sentiment_matrix[aspect]),\n",
        "                  input_length=max_len,\n",
        "                  trainable=True)(input)\n",
        "\n",
        "  dropout1 = SpatialDropout1D(0.2)(embed)\n",
        "\n",
        "  lstm = Bidirectional(LSTM(units = 200, activation = 'tanh', return_sequences = True))(dropout1)\n",
        "  conv_lstm = Conv1D(128, kernel_size = 2, padding = \"valid\", kernel_initializer = \"he_uniform\")(lstm)\n",
        "\n",
        "  gru = Bidirectional(GRU(units = 200, activation = 'tanh', return_sequences = True))(dropout1)\n",
        "  conv_gru = Conv1D(128, kernel_size = 2, padding = \"valid\", kernel_initializer = \"he_uniform\")(gru)\n",
        "\n",
        "\n",
        "  avg_pool1 = GlobalAveragePooling1D()(conv_lstm)\n",
        "  max_pool1 = GlobalMaxPooling1D()(conv_lstm)\n",
        "\n",
        "  avg_pool2 = GlobalAveragePooling1D()(conv_gru)\n",
        "  max_pool2 = GlobalMaxPooling1D()(conv_gru)\n",
        "\n",
        "\n",
        "  concat = Concatenate(axis=-1)([avg_pool1, max_pool1, avg_pool2, max_pool2])\n",
        "\n",
        "  sentiment_dense1 = Dense(units = 256, activation = 'relu')(concat)\n",
        "  sentiment_dense2 = Dense(128, activation='relu')(sentiment_dense1)\n",
        "  sentiment_dropout1 = Dropout(0.2)(sentiment_dense2)\n",
        "  sentiment_dense3 = Dense(64, activation='relu')(sentiment_dropout1)\n",
        "  sentiment_dense4 = Dense(32, activation='relu')(sentiment_dense3)\n",
        "  out_sentiment = Dense(units = 3, activation = 'softmax')(sentiment_dense4)\n",
        "\n",
        "  sentiment_model[aspect] = tf.keras.Model(inputs = input, outputs = out_sentiment)\n",
        "  sentiment_model[aspect].compile(optimizer=Adam(learning_rate = 0.0001), loss='binary_crossentropy', metrics=['acc'])\n",
        "  callback = tf.keras.callbacks.EarlyStopping(monitor='val_loss', patience=3)\n",
        "\n",
        "  # Fit model\n",
        "\n",
        "  history = sentiment_model[aspect].fit(x=padded_sentiment_train[aspect],\n",
        "    y=label_sentiment_train[aspect],\n",
        "\n",
        "    validation_data=(padded_sentiment_val[aspect],\n",
        "      label_sentiment_val[aspect]),\n",
        "    batch_size = 128,\n",
        "    epochs=epochs,\n",
        "    callbacks = [callback],\n",
        "    verbose=1)\n",
        "\n",
        "\n",
        "  return sentiment_model[aspect]"
      ],
      "metadata": {
        "id": "KCtmmclAPoF1",
        "trusted": true,
        "execution": {
          "iopub.status.busy": "2024-12-16T03:37:25.552823Z",
          "iopub.execute_input": "2024-12-16T03:37:25.553506Z",
          "iopub.status.idle": "2024-12-16T03:37:25.568289Z",
          "shell.execute_reply.started": "2024-12-16T03:37:25.553476Z",
          "shell.execute_reply": "2024-12-16T03:37:25.567455Z"
        }
      },
      "outputs": [],
      "execution_count": null
    },
    {
      "cell_type": "code",
      "source": [
        "max_len=padded_aspect_train.shape[1]\n",
        "aspect_model = bilstm_bigru_conv_aspect(vocab_aspect_size, embedding_dim, max_len, embedding_aspect_matrix, padded_aspect_train, padded_aspect_val, label_aspect_train, label_aspect_val)\n",
        "\n",
        "save_path = f'/kaggle/working/BiLSTM_BiGRU_CONV/stl_BiLSTM_BiGRU_CONV_aspect.h5'\n",
        "aspect_model.save(save_path)"
      ],
      "metadata": {
        "colab": {
          "base_uri": "https://localhost:8080/"
        },
        "id": "X4xmGEGiP4KQ",
        "outputId": "b1a08590-e116-4940-a0a9-4aa25b9826aa",
        "trusted": true,
        "execution": {
          "iopub.status.busy": "2024-12-16T03:37:36.629621Z",
          "iopub.execute_input": "2024-12-16T03:37:36.630008Z",
          "iopub.status.idle": "2024-12-16T03:39:05.609032Z",
          "shell.execute_reply.started": "2024-12-16T03:37:36.629977Z",
          "shell.execute_reply": "2024-12-16T03:39:05.608220Z"
        }
      },
      "outputs": [
        {
          "name": "stderr",
          "text": "/opt/conda/lib/python3.10/site-packages/keras/src/layers/core/embedding.py:90: UserWarning: Argument `input_length` is deprecated. Just remove it.\n  warnings.warn(\n",
          "output_type": "stream"
        },
        {
          "name": "stdout",
          "text": "Epoch 1/70\n\u001b[1m30/30\u001b[0m \u001b[32m━━━━━━━━━━━━━━━━━━━━\u001b[0m\u001b[37m\u001b[0m \u001b[1m9s\u001b[0m 176ms/step - acc: 0.2651 - loss: 0.6839 - val_acc: 0.3803 - val_loss: 0.5940\nEpoch 2/70\n\u001b[1m30/30\u001b[0m \u001b[32m━━━━━━━━━━━━━━━━━━━━\u001b[0m\u001b[37m\u001b[0m \u001b[1m5s\u001b[0m 161ms/step - acc: 0.3979 - loss: 0.5782 - val_acc: 0.3403 - val_loss: 0.5027\nEpoch 3/70\n\u001b[1m30/30\u001b[0m \u001b[32m━━━━━━━━━━━━━━━━━━━━\u001b[0m\u001b[37m\u001b[0m \u001b[1m5s\u001b[0m 164ms/step - acc: 0.3771 - loss: 0.5103 - val_acc: 0.4286 - val_loss: 0.4383\nEpoch 4/70\n\u001b[1m30/30\u001b[0m \u001b[32m━━━━━━━━━━━━━━━━━━━━\u001b[0m\u001b[37m\u001b[0m \u001b[1m5s\u001b[0m 167ms/step - acc: 0.4234 - loss: 0.4482 - val_acc: 0.4769 - val_loss: 0.3852\nEpoch 5/70\n\u001b[1m30/30\u001b[0m \u001b[32m━━━━━━━━━━━━━━━━━━━━\u001b[0m\u001b[37m\u001b[0m \u001b[1m5s\u001b[0m 167ms/step - acc: 0.5096 - loss: 0.3929 - val_acc: 0.5147 - val_loss: 0.3422\nEpoch 6/70\n\u001b[1m30/30\u001b[0m \u001b[32m━━━━━━━━━━━━━━━━━━━━\u001b[0m\u001b[37m\u001b[0m \u001b[1m5s\u001b[0m 168ms/step - acc: 0.5428 - loss: 0.3499 - val_acc: 0.5252 - val_loss: 0.3237\nEpoch 7/70\n\u001b[1m30/30\u001b[0m \u001b[32m━━━━━━━━━━━━━━━━━━━━\u001b[0m\u001b[37m\u001b[0m \u001b[1m5s\u001b[0m 167ms/step - acc: 0.5773 - loss: 0.3265 - val_acc: 0.5966 - val_loss: 0.3042\nEpoch 8/70\n\u001b[1m30/30\u001b[0m \u001b[32m━━━━━━━━━━━━━━━━━━━━\u001b[0m\u001b[37m\u001b[0m \u001b[1m5s\u001b[0m 167ms/step - acc: 0.5792 - loss: 0.2965 - val_acc: 0.6113 - val_loss: 0.2953\nEpoch 9/70\n\u001b[1m30/30\u001b[0m \u001b[32m━━━━━━━━━━━━━━━━━━━━\u001b[0m\u001b[37m\u001b[0m \u001b[1m5s\u001b[0m 167ms/step - acc: 0.6069 - loss: 0.2758 - val_acc: 0.5735 - val_loss: 0.2855\nEpoch 10/70\n\u001b[1m30/30\u001b[0m \u001b[32m━━━━━━━━━━━━━━━━━━━━\u001b[0m\u001b[37m\u001b[0m \u001b[1m5s\u001b[0m 167ms/step - acc: 0.5935 - loss: 0.2601 - val_acc: 0.5966 - val_loss: 0.2833\nEpoch 11/70\n\u001b[1m30/30\u001b[0m \u001b[32m━━━━━━━━━━━━━━━━━━━━\u001b[0m\u001b[37m\u001b[0m \u001b[1m5s\u001b[0m 167ms/step - acc: 0.6018 - loss: 0.2465 - val_acc: 0.5672 - val_loss: 0.2788\nEpoch 12/70\n\u001b[1m30/30\u001b[0m \u001b[32m━━━━━━━━━━━━━━━━━━━━\u001b[0m\u001b[37m\u001b[0m \u001b[1m5s\u001b[0m 163ms/step - acc: 0.5947 - loss: 0.2274 - val_acc: 0.5651 - val_loss: 0.2796\nEpoch 13/70\n\u001b[1m30/30\u001b[0m \u001b[32m━━━━━━━━━━━━━━━━━━━━\u001b[0m\u001b[37m\u001b[0m \u001b[1m5s\u001b[0m 161ms/step - acc: 0.5969 - loss: 0.2077 - val_acc: 0.5504 - val_loss: 0.2925\nEpoch 14/70\n\u001b[1m30/30\u001b[0m \u001b[32m━━━━━━━━━━━━━━━━━━━━\u001b[0m\u001b[37m\u001b[0m \u001b[1m5s\u001b[0m 160ms/step - acc: 0.6014 - loss: 0.1937 - val_acc: 0.5756 - val_loss: 0.2877\n",
          "output_type": "stream"
        }
      ],
      "execution_count": null
    },
    {
      "cell_type": "code",
      "source": [
        "# load model\n",
        "save_path = f'{path_model}/BiLSTM_BiGRU_CONV/stl_BiLSTM_BiGRU_CONV_aspect'\n",
        "aspect_model = keras.models.load_model(save_path)"
      ],
      "metadata": {
        "id": "oShjxXVdQ3WQ"
      },
      "outputs": [],
      "execution_count": null
    },
    {
      "cell_type": "code",
      "source": [
        "# predict\n",
        "pred_train = aspect_model.predict(padded_aspect_train)\n",
        "pred_val = aspect_model.predict(padded_aspect_val)\n",
        "pred_test = aspect_model.predict(padded_aspect_test)\n",
        "\n",
        "df_train_pred = round(pd.DataFrame(pred_train), 0)\n",
        "df_train_true_ = label_aspect_train\n",
        "df_train_pred.columns = df_train_true_.columns\n",
        "\n",
        "df_val_pred = round(pd.DataFrame(pred_val), 0)\n",
        "df_val_true_ = label_aspect_val\n",
        "df_val_pred.columns = df_val_true_.columns\n",
        "\n",
        "df_test_pred = round(pd.DataFrame(pred_test), 0)\n",
        "df_test_true_ = label_aspect_test\n",
        "df_test_pred.columns = df_test_true_.columns\n",
        "\n",
        "for col in label_aspect_train.columns:\n",
        "  print(col)\n",
        "  aspect_result_bilstm_bigru_conv = classification_report(df_test_true_[col], df_test_pred[col])\n",
        "  print(aspect_result_bilstm_bigru_conv)"
      ],
      "metadata": {
        "colab": {
          "base_uri": "https://localhost:8080/"
        },
        "id": "pv33MTFyQNXY",
        "outputId": "fdeae241-5f2e-4b25-d9c3-708c8489a89a",
        "trusted": true,
        "execution": {
          "iopub.status.busy": "2024-12-16T03:40:53.633051Z",
          "iopub.execute_input": "2024-12-16T03:40:53.633405Z",
          "iopub.status.idle": "2024-12-16T03:40:56.890590Z",
          "shell.execute_reply.started": "2024-12-16T03:40:53.633374Z",
          "shell.execute_reply": "2024-12-16T03:40:56.889741Z"
        }
      },
      "outputs": [
        {
          "name": "stdout",
          "text": "\u001b[1m119/119\u001b[0m \u001b[32m━━━━━━━━━━━━━━━━━━━━\u001b[0m\u001b[37m\u001b[0m \u001b[1m3s\u001b[0m 19ms/step\n\u001b[1m15/15\u001b[0m \u001b[32m━━━━━━━━━━━━━━━━━━━━\u001b[0m\u001b[37m\u001b[0m \u001b[1m0s\u001b[0m 15ms/step\n\u001b[1m15/15\u001b[0m \u001b[32m━━━━━━━━━━━━━━━━━━━━\u001b[0m\u001b[37m\u001b[0m \u001b[1m0s\u001b[0m 16ms/step\nis_character\n              precision    recall  f1-score   support\n\n           0       0.88      0.92      0.90       306\n           1       0.85      0.78      0.82       171\n\n    accuracy                           0.87       477\n   macro avg       0.87      0.85      0.86       477\nweighted avg       0.87      0.87      0.87       477\n\nis_content\n              precision    recall  f1-score   support\n\n           0       0.84      0.85      0.84       273\n           1       0.80      0.77      0.79       204\n\n    accuracy                           0.82       477\n   macro avg       0.82      0.81      0.82       477\nweighted avg       0.82      0.82      0.82       477\n\nis_scene\n              precision    recall  f1-score   support\n\n           0       0.84      0.90      0.87       309\n           1       0.78      0.69      0.73       168\n\n    accuracy                           0.82       477\n   macro avg       0.81      0.79      0.80       477\nweighted avg       0.82      0.82      0.82       477\n\nis_sound\n              precision    recall  f1-score   support\n\n           0       0.93      1.00      0.96       350\n           1       0.99      0.80      0.89       127\n\n    accuracy                           0.95       477\n   macro avg       0.96      0.90      0.93       477\nweighted avg       0.95      0.95      0.94       477\n\n",
          "output_type": "stream"
        }
      ],
      "execution_count": null
    },
    {
      "cell_type": "markdown",
      "source": [
        "- Stage 2 : Polarity"
      ],
      "metadata": {
        "id": "-qHDkddsReYq"
      }
    },
    {
      "cell_type": "code",
      "source": [
        "lst_aspect = []\n",
        "for col in label_aspect_train.columns.values:\n",
        "    lst_aspect.append(col.split('_')[1])"
      ],
      "metadata": {
        "id": "QZB13I8mRe4f",
        "trusted": true,
        "execution": {
          "iopub.status.busy": "2024-12-16T03:41:05.839879Z",
          "iopub.execute_input": "2024-12-16T03:41:05.840580Z",
          "iopub.status.idle": "2024-12-16T03:41:05.844743Z",
          "shell.execute_reply.started": "2024-12-16T03:41:05.840535Z",
          "shell.execute_reply": "2024-12-16T03:41:05.843844Z"
        }
      },
      "outputs": [],
      "execution_count": null
    },
    {
      "cell_type": "code",
      "source": [
        "#tokenize stage 2\n",
        "tokenized_sentiment_train = {}\n",
        "tokenized_sentiment_val = {}\n",
        "tokenized_sentiment_test = {}\n",
        "tokenizer_sentiment = {}\n",
        "\n",
        "for aspect in lst_aspect:\n",
        "  tokenizer_sentiment[aspect], tokenized_sentiment_train[aspect], tokenized_sentiment_val[aspect], tokenized_sentiment_test[aspect] = get_tokenize(cmt_train[aspect], cmt_val[aspect], cmt_test[aspect])\n",
        "\n",
        "#padding stage 2\n",
        "padded_sentiment_train = {}\n",
        "padded_sentiment_val = {}\n",
        "padded_sentiment_test = {}\n",
        "for aspect in lst_aspect:\n",
        "  padded_sentiment_train[aspect], padded_sentiment_val[aspect], padded_sentiment_test[aspect] = get_padded(max_len, tokenized_sentiment_train[aspect], tokenized_sentiment_val[aspect], tokenized_sentiment_test[aspect])\n",
        "\n",
        "#embedding matrix stage 2\n",
        "vocab_sentiment_size = {}\n",
        "embedding_sentiment_matrix = {}\n",
        "for aspect in lst_aspect:\n",
        "  vocab_sentiment_size[aspect]  = len(tokenizer_sentiment[aspect].word_index)+1\n",
        "  embedding_sentiment_matrix[aspect] = get_embedding_matrix(embedding_dim, vocab_sentiment_size[aspect], tokenizer_sentiment[aspect])"
      ],
      "metadata": {
        "id": "GcBb75VlRgg6",
        "trusted": true,
        "execution": {
          "iopub.status.busy": "2024-12-16T03:41:07.277471Z",
          "iopub.execute_input": "2024-12-16T03:41:07.277830Z",
          "iopub.status.idle": "2024-12-16T03:41:07.900974Z",
          "shell.execute_reply.started": "2024-12-16T03:41:07.277796Z",
          "shell.execute_reply": "2024-12-16T03:41:07.900218Z"
        }
      },
      "outputs": [],
      "execution_count": null
    },
    {
      "cell_type": "code",
      "source": [
        "path_model = \"/kaggle/working\""
      ],
      "metadata": {
        "trusted": true,
        "execution": {
          "iopub.status.busy": "2024-12-16T03:41:44.738024Z",
          "iopub.execute_input": "2024-12-16T03:41:44.738428Z",
          "iopub.status.idle": "2024-12-16T03:41:44.742644Z",
          "shell.execute_reply.started": "2024-12-16T03:41:44.738397Z",
          "shell.execute_reply": "2024-12-16T03:41:44.741687Z"
        },
        "id": "c2c6uLgI3w_M"
      },
      "outputs": [],
      "execution_count": null
    },
    {
      "cell_type": "code",
      "source": [
        "# training model\n",
        "sentiment_model = {}\n",
        "for aspect in lst_aspect:\n",
        "  sentiment_model[aspect] = bilstm_bigru_conv_polarity(aspect, vocab_sentiment_size, embedding_dim, max_len, embedding_sentiment_matrix, padded_sentiment_train, padded_sentiment_val, label_sentiment_train, label_sentiment_val)\n",
        "  sentiment_model[aspect].save(f'/kaggle/working/BiLSTM_BiGRU_CONV/stl_BiLSTM_BiGRU_CONV_polarity_{aspect}.h5')"
      ],
      "metadata": {
        "colab": {
          "base_uri": "https://localhost:8080/"
        },
        "id": "gHMYnhlrRchU",
        "outputId": "cf555f7e-bb2e-4289-a3f8-8ea620006bc2",
        "trusted": true,
        "execution": {
          "iopub.status.busy": "2024-12-16T03:41:49.064395Z",
          "iopub.execute_input": "2024-12-16T03:41:49.065022Z",
          "iopub.status.idle": "2024-12-16T03:44:42.759547Z",
          "shell.execute_reply.started": "2024-12-16T03:41:49.064988Z",
          "shell.execute_reply": "2024-12-16T03:44:42.758754Z"
        }
      },
      "outputs": [
        {
          "name": "stderr",
          "text": "/opt/conda/lib/python3.10/site-packages/keras/src/layers/core/embedding.py:90: UserWarning: Argument `input_length` is deprecated. Just remove it.\n  warnings.warn(\n",
          "output_type": "stream"
        },
        {
          "name": "stdout",
          "text": "Epoch 1/70\n\u001b[1m11/11\u001b[0m \u001b[32m━━━━━━━━━━━━━━━━━━━━\u001b[0m\u001b[37m\u001b[0m \u001b[1m7s\u001b[0m 188ms/step - acc: 0.4553 - loss: 0.6260 - val_acc: 0.5714 - val_loss: 0.5579\nEpoch 2/70\n\u001b[1m11/11\u001b[0m \u001b[32m━━━━━━━━━━━━━━━━━━━━\u001b[0m\u001b[37m\u001b[0m \u001b[1m2s\u001b[0m 146ms/step - acc: 0.5261 - loss: 0.5850 - val_acc: 0.5714 - val_loss: 0.5455\nEpoch 3/70\n\u001b[1m11/11\u001b[0m \u001b[32m━━━━━━━━━━━━━━━━━━━━\u001b[0m\u001b[37m\u001b[0m \u001b[1m2s\u001b[0m 144ms/step - acc: 0.5360 - loss: 0.5587 - val_acc: 0.6488 - val_loss: 0.5231\nEpoch 4/70\n\u001b[1m11/11\u001b[0m \u001b[32m━━━━━━━━━━━━━━━━━━━━\u001b[0m\u001b[37m\u001b[0m \u001b[1m2s\u001b[0m 146ms/step - acc: 0.5949 - loss: 0.5478 - val_acc: 0.6905 - val_loss: 0.5019\nEpoch 5/70\n\u001b[1m11/11\u001b[0m \u001b[32m━━━━━━━━━━━━━━━━━━━━\u001b[0m\u001b[37m\u001b[0m \u001b[1m2s\u001b[0m 146ms/step - acc: 0.6671 - loss: 0.5073 - val_acc: 0.6845 - val_loss: 0.4808\nEpoch 6/70\n\u001b[1m11/11\u001b[0m \u001b[32m━━━━━━━━━━━━━━━━━━━━\u001b[0m\u001b[37m\u001b[0m \u001b[1m2s\u001b[0m 147ms/step - acc: 0.6664 - loss: 0.4780 - val_acc: 0.6905 - val_loss: 0.4671\nEpoch 7/70\n\u001b[1m11/11\u001b[0m \u001b[32m━━━━━━━━━━━━━━━━━━━━\u001b[0m\u001b[37m\u001b[0m \u001b[1m2s\u001b[0m 147ms/step - acc: 0.6634 - loss: 0.4538 - val_acc: 0.6905 - val_loss: 0.4545\nEpoch 8/70\n\u001b[1m11/11\u001b[0m \u001b[32m━━━━━━━━━━━━━━━━━━━━\u001b[0m\u001b[37m\u001b[0m \u001b[1m2s\u001b[0m 148ms/step - acc: 0.6902 - loss: 0.4256 - val_acc: 0.7024 - val_loss: 0.4334\nEpoch 9/70\n\u001b[1m11/11\u001b[0m \u001b[32m━━━━━━━━━━━━━━━━━━━━\u001b[0m\u001b[37m\u001b[0m \u001b[1m2s\u001b[0m 148ms/step - acc: 0.7293 - loss: 0.3847 - val_acc: 0.7024 - val_loss: 0.4204\nEpoch 10/70\n\u001b[1m11/11\u001b[0m \u001b[32m━━━━━━━━━━━━━━━━━━━━\u001b[0m\u001b[37m\u001b[0m \u001b[1m2s\u001b[0m 149ms/step - acc: 0.7423 - loss: 0.3601 - val_acc: 0.7024 - val_loss: 0.4108\nEpoch 11/70\n\u001b[1m11/11\u001b[0m \u001b[32m━━━━━━━━━━━━━━━━━━━━\u001b[0m\u001b[37m\u001b[0m \u001b[1m2s\u001b[0m 150ms/step - acc: 0.7501 - loss: 0.3442 - val_acc: 0.6964 - val_loss: 0.4062\nEpoch 12/70\n\u001b[1m11/11\u001b[0m \u001b[32m━━━━━━━━━━━━━━━━━━━━\u001b[0m\u001b[37m\u001b[0m \u001b[1m2s\u001b[0m 150ms/step - acc: 0.7807 - loss: 0.3133 - val_acc: 0.6905 - val_loss: 0.3968\nEpoch 13/70\n\u001b[1m11/11\u001b[0m \u001b[32m━━━━━━━━━━━━━━━━━━━━\u001b[0m\u001b[37m\u001b[0m \u001b[1m2s\u001b[0m 151ms/step - acc: 0.8214 - loss: 0.2794 - val_acc: 0.7202 - val_loss: 0.3923\nEpoch 14/70\n\u001b[1m11/11\u001b[0m \u001b[32m━━━━━━━━━━━━━━━━━━━━\u001b[0m\u001b[37m\u001b[0m \u001b[1m2s\u001b[0m 152ms/step - acc: 0.8414 - loss: 0.2532 - val_acc: 0.7202 - val_loss: 0.4040\nEpoch 15/70\n\u001b[1m11/11\u001b[0m \u001b[32m━━━━━━━━━━━━━━━━━━━━\u001b[0m\u001b[37m\u001b[0m \u001b[1m2s\u001b[0m 153ms/step - acc: 0.8778 - loss: 0.2216 - val_acc: 0.7500 - val_loss: 0.3801\nEpoch 16/70\n\u001b[1m11/11\u001b[0m \u001b[32m━━━━━━━━━━━━━━━━━━━━\u001b[0m\u001b[37m\u001b[0m \u001b[1m2s\u001b[0m 152ms/step - acc: 0.9109 - loss: 0.2061 - val_acc: 0.7619 - val_loss: 0.3979\nEpoch 17/70\n\u001b[1m11/11\u001b[0m \u001b[32m━━━━━━━━━━━━━━━━━━━━\u001b[0m\u001b[37m\u001b[0m \u001b[1m2s\u001b[0m 152ms/step - acc: 0.9112 - loss: 0.1758 - val_acc: 0.7321 - val_loss: 0.3799\nEpoch 18/70\n\u001b[1m11/11\u001b[0m \u001b[32m━━━━━━━━━━━━━━━━━━━━\u001b[0m\u001b[37m\u001b[0m \u001b[1m2s\u001b[0m 153ms/step - acc: 0.9172 - loss: 0.1536 - val_acc: 0.7560 - val_loss: 0.3700\nEpoch 19/70\n\u001b[1m11/11\u001b[0m \u001b[32m━━━━━━━━━━━━━━━━━━━━\u001b[0m\u001b[37m\u001b[0m \u001b[1m2s\u001b[0m 154ms/step - acc: 0.9400 - loss: 0.1435 - val_acc: 0.7381 - val_loss: 0.3938\nEpoch 20/70\n\u001b[1m11/11\u001b[0m \u001b[32m━━━━━━━━━━━━━━━━━━━━\u001b[0m\u001b[37m\u001b[0m \u001b[1m2s\u001b[0m 154ms/step - acc: 0.9580 - loss: 0.1126 - val_acc: 0.7738 - val_loss: 0.3916\nEpoch 21/70\n\u001b[1m11/11\u001b[0m \u001b[32m━━━━━━━━━━━━━━━━━━━━\u001b[0m\u001b[37m\u001b[0m \u001b[1m2s\u001b[0m 156ms/step - acc: 0.9542 - loss: 0.1061 - val_acc: 0.7917 - val_loss: 0.4041\nEpoch 1/70\n\u001b[1m12/12\u001b[0m \u001b[32m━━━━━━━━━━━━━━━━━━━━\u001b[0m\u001b[37m\u001b[0m \u001b[1m7s\u001b[0m 196ms/step - acc: 0.2982 - loss: 0.6856 - val_acc: 0.5200 - val_loss: 0.6185\nEpoch 2/70\n\u001b[1m12/12\u001b[0m \u001b[32m━━━━━━━━━━━━━━━━━━━━\u001b[0m\u001b[37m\u001b[0m \u001b[1m2s\u001b[0m 156ms/step - acc: 0.4867 - loss: 0.6166 - val_acc: 0.5050 - val_loss: 0.5998\nEpoch 3/70\n\u001b[1m12/12\u001b[0m \u001b[32m━━━━━━━━━━━━━━━━━━━━\u001b[0m\u001b[37m\u001b[0m \u001b[1m2s\u001b[0m 157ms/step - acc: 0.5006 - loss: 0.6008 - val_acc: 0.5050 - val_loss: 0.5944\nEpoch 4/70\n\u001b[1m12/12\u001b[0m \u001b[32m━━━━━━━━━━━━━━━━━━━━\u001b[0m\u001b[37m\u001b[0m \u001b[1m2s\u001b[0m 159ms/step - acc: 0.4984 - loss: 0.5949 - val_acc: 0.5050 - val_loss: 0.5828\nEpoch 5/70\n\u001b[1m12/12\u001b[0m \u001b[32m━━━━━━━━━━━━━━━━━━━━\u001b[0m\u001b[37m\u001b[0m \u001b[1m2s\u001b[0m 160ms/step - acc: 0.4980 - loss: 0.5826 - val_acc: 0.5300 - val_loss: 0.5672\nEpoch 6/70\n\u001b[1m12/12\u001b[0m \u001b[32m━━━━━━━━━━━━━━━━━━━━\u001b[0m\u001b[37m\u001b[0m \u001b[1m2s\u001b[0m 161ms/step - acc: 0.5000 - loss: 0.5697 - val_acc: 0.5550 - val_loss: 0.5459\nEpoch 7/70\n\u001b[1m12/12\u001b[0m \u001b[32m━━━━━━━━━━━━━━━━━━━━\u001b[0m\u001b[37m\u001b[0m \u001b[1m2s\u001b[0m 163ms/step - acc: 0.5825 - loss: 0.5402 - val_acc: 0.5750 - val_loss: 0.5390\nEpoch 8/70\n\u001b[1m12/12\u001b[0m \u001b[32m━━━━━━━━━━━━━━━━━━━━\u001b[0m\u001b[37m\u001b[0m \u001b[1m2s\u001b[0m 163ms/step - acc: 0.6283 - loss: 0.5050 - val_acc: 0.6400 - val_loss: 0.5161\nEpoch 9/70\n\u001b[1m12/12\u001b[0m \u001b[32m━━━━━━━━━━━━━━━━━━━━\u001b[0m\u001b[37m\u001b[0m \u001b[1m2s\u001b[0m 166ms/step - acc: 0.6641 - loss: 0.4773 - val_acc: 0.6500 - val_loss: 0.5020\nEpoch 10/70\n\u001b[1m12/12\u001b[0m \u001b[32m━━━━━━━━━━━━━━━━━━━━\u001b[0m\u001b[37m\u001b[0m \u001b[1m2s\u001b[0m 163ms/step - acc: 0.7041 - loss: 0.4378 - val_acc: 0.6500 - val_loss: 0.4964\nEpoch 11/70\n\u001b[1m12/12\u001b[0m \u001b[32m━━━━━━━━━━━━━━━━━━━━\u001b[0m\u001b[37m\u001b[0m \u001b[1m2s\u001b[0m 166ms/step - acc: 0.7311 - loss: 0.4195 - val_acc: 0.6500 - val_loss: 0.5015\nEpoch 12/70\n\u001b[1m12/12\u001b[0m \u001b[32m━━━━━━━━━━━━━━━━━━━━\u001b[0m\u001b[37m\u001b[0m \u001b[1m2s\u001b[0m 167ms/step - acc: 0.7508 - loss: 0.3931 - val_acc: 0.6600 - val_loss: 0.4986\nEpoch 13/70\n\u001b[1m12/12\u001b[0m \u001b[32m━━━━━━━━━━━━━━━━━━━━\u001b[0m\u001b[37m\u001b[0m \u001b[1m2s\u001b[0m 166ms/step - acc: 0.7786 - loss: 0.3590 - val_acc: 0.6400 - val_loss: 0.5072\nEpoch 1/70\n\u001b[1m10/10\u001b[0m \u001b[32m━━━━━━━━━━━━━━━━━━━━\u001b[0m\u001b[37m\u001b[0m \u001b[1m7s\u001b[0m 205ms/step - acc: 0.3220 - loss: 0.6906 - val_acc: 0.5333 - val_loss: 0.6251\nEpoch 2/70\n\u001b[1m10/10\u001b[0m \u001b[32m━━━━━━━━━━━━━━━━━━━━\u001b[0m\u001b[37m\u001b[0m \u001b[1m2s\u001b[0m 159ms/step - acc: 0.5053 - loss: 0.6204 - val_acc: 0.4933 - val_loss: 0.5842\nEpoch 3/70\n\u001b[1m10/10\u001b[0m \u001b[32m━━━━━━━━━━━━━━━━━━━━\u001b[0m\u001b[37m\u001b[0m \u001b[1m2s\u001b[0m 161ms/step - acc: 0.5001 - loss: 0.5915 - val_acc: 0.5600 - val_loss: 0.5659\nEpoch 4/70\n\u001b[1m10/10\u001b[0m \u001b[32m━━━━━━━━━━━━━━━━━━━━\u001b[0m\u001b[37m\u001b[0m \u001b[1m2s\u001b[0m 161ms/step - acc: 0.5512 - loss: 0.5781 - val_acc: 0.6200 - val_loss: 0.5447\nEpoch 5/70\n\u001b[1m10/10\u001b[0m \u001b[32m━━━━━━━━━━━━━━━━━━━━\u001b[0m\u001b[37m\u001b[0m \u001b[1m2s\u001b[0m 162ms/step - acc: 0.5974 - loss: 0.5577 - val_acc: 0.6333 - val_loss: 0.5270\nEpoch 6/70\n\u001b[1m10/10\u001b[0m \u001b[32m━━━━━━━━━━━━━━━━━━━━\u001b[0m\u001b[37m\u001b[0m \u001b[1m2s\u001b[0m 164ms/step - acc: 0.5789 - loss: 0.5406 - val_acc: 0.6333 - val_loss: 0.5093\nEpoch 7/70\n\u001b[1m10/10\u001b[0m \u001b[32m━━━━━━━━━━━━━━━━━━━━\u001b[0m\u001b[37m\u001b[0m \u001b[1m2s\u001b[0m 164ms/step - acc: 0.6049 - loss: 0.5240 - val_acc: 0.6600 - val_loss: 0.4889\nEpoch 8/70\n\u001b[1m10/10\u001b[0m \u001b[32m━━━━━━━━━━━━━━━━━━━━\u001b[0m\u001b[37m\u001b[0m \u001b[1m2s\u001b[0m 166ms/step - acc: 0.6241 - loss: 0.4962 - val_acc: 0.6467 - val_loss: 0.4716\nEpoch 9/70\n\u001b[1m10/10\u001b[0m \u001b[32m━━━━━━━━━━━━━━━━━━━━\u001b[0m\u001b[37m\u001b[0m \u001b[1m2s\u001b[0m 166ms/step - acc: 0.6662 - loss: 0.4686 - val_acc: 0.6600 - val_loss: 0.4499\nEpoch 10/70\n\u001b[1m10/10\u001b[0m \u001b[32m━━━━━━━━━━━━━━━━━━━━\u001b[0m\u001b[37m\u001b[0m \u001b[1m2s\u001b[0m 166ms/step - acc: 0.6884 - loss: 0.4507 - val_acc: 0.6600 - val_loss: 0.4421\nEpoch 11/70\n\u001b[1m10/10\u001b[0m \u001b[32m━━━━━━━━━━━━━━━━━━━━\u001b[0m\u001b[37m\u001b[0m \u001b[1m2s\u001b[0m 166ms/step - acc: 0.7064 - loss: 0.4311 - val_acc: 0.6467 - val_loss: 0.4439\nEpoch 12/70\n\u001b[1m10/10\u001b[0m \u001b[32m━━━━━━━━━━━━━━━━━━━━\u001b[0m\u001b[37m\u001b[0m \u001b[1m2s\u001b[0m 167ms/step - acc: 0.7438 - loss: 0.3865 - val_acc: 0.6933 - val_loss: 0.4113\nEpoch 13/70\n\u001b[1m10/10\u001b[0m \u001b[32m━━━━━━━━━━━━━━━━━━━━\u001b[0m\u001b[37m\u001b[0m \u001b[1m2s\u001b[0m 167ms/step - acc: 0.7721 - loss: 0.3592 - val_acc: 0.7267 - val_loss: 0.3981\nEpoch 14/70\n\u001b[1m10/10\u001b[0m \u001b[32m━━━━━━━━━━━━━━━━━━━━\u001b[0m\u001b[37m\u001b[0m \u001b[1m2s\u001b[0m 167ms/step - acc: 0.8085 - loss: 0.3278 - val_acc: 0.7467 - val_loss: 0.3903\nEpoch 15/70\n\u001b[1m10/10\u001b[0m \u001b[32m━━━━━━━━━━━━━━━━━━━━\u001b[0m\u001b[37m\u001b[0m \u001b[1m2s\u001b[0m 167ms/step - acc: 0.8513 - loss: 0.2830 - val_acc: 0.7533 - val_loss: 0.3904\nEpoch 16/70\n\u001b[1m10/10\u001b[0m \u001b[32m━━━━━━━━━━━━━━━━━━━━\u001b[0m\u001b[37m\u001b[0m \u001b[1m2s\u001b[0m 167ms/step - acc: 0.8581 - loss: 0.2638 - val_acc: 0.7400 - val_loss: 0.3814\nEpoch 17/70\n\u001b[1m10/10\u001b[0m \u001b[32m━━━━━━━━━━━━━━━━━━━━\u001b[0m\u001b[37m\u001b[0m \u001b[1m2s\u001b[0m 167ms/step - acc: 0.8777 - loss: 0.2454 - val_acc: 0.7333 - val_loss: 0.3885\nEpoch 18/70\n\u001b[1m10/10\u001b[0m \u001b[32m━━━━━━━━━━━━━━━━━━━━\u001b[0m\u001b[37m\u001b[0m \u001b[1m2s\u001b[0m 167ms/step - acc: 0.8949 - loss: 0.2083 - val_acc: 0.7400 - val_loss: 0.4062\nEpoch 19/70\n\u001b[1m10/10\u001b[0m \u001b[32m━━━━━━━━━━━━━━━━━━━━\u001b[0m\u001b[37m\u001b[0m \u001b[1m2s\u001b[0m 167ms/step - acc: 0.9056 - loss: 0.1867 - val_acc: 0.7400 - val_loss: 0.4109\nEpoch 1/70\n\u001b[1m8/8\u001b[0m \u001b[32m━━━━━━━━━━━━━━━━━━━━\u001b[0m\u001b[37m\u001b[0m \u001b[1m6s\u001b[0m 223ms/step - acc: 0.3585 - loss: 0.6769 - val_acc: 0.3429 - val_loss: 0.6422\nEpoch 2/70\n\u001b[1m8/8\u001b[0m \u001b[32m━━━━━━━━━━━━━━━━━━━━\u001b[0m\u001b[37m\u001b[0m \u001b[1m1s\u001b[0m 160ms/step - acc: 0.4348 - loss: 0.6334 - val_acc: 0.4500 - val_loss: 0.6121\nEpoch 3/70\n\u001b[1m8/8\u001b[0m \u001b[32m━━━━━━━━━━━━━━━━━━━━\u001b[0m\u001b[37m\u001b[0m \u001b[1m1s\u001b[0m 161ms/step - acc: 0.5072 - loss: 0.6058 - val_acc: 0.5714 - val_loss: 0.5749\nEpoch 4/70\n\u001b[1m8/8\u001b[0m \u001b[32m━━━━━━━━━━━━━━━━━━━━\u001b[0m\u001b[37m\u001b[0m \u001b[1m1s\u001b[0m 162ms/step - acc: 0.5990 - loss: 0.5744 - val_acc: 0.5714 - val_loss: 0.5330\nEpoch 5/70\n\u001b[1m8/8\u001b[0m \u001b[32m━━━━━━━━━━━━━━━━━━━━\u001b[0m\u001b[37m\u001b[0m \u001b[1m1s\u001b[0m 161ms/step - acc: 0.5966 - loss: 0.5409 - val_acc: 0.6714 - val_loss: 0.4917\nEpoch 6/70\n\u001b[1m8/8\u001b[0m \u001b[32m━━━━━━━━━━━━━━━━━━━━\u001b[0m\u001b[37m\u001b[0m \u001b[1m1s\u001b[0m 163ms/step - acc: 0.6886 - loss: 0.4945 - val_acc: 0.7714 - val_loss: 0.4498\nEpoch 7/70\n\u001b[1m8/8\u001b[0m \u001b[32m━━━━━━━━━━━━━━━━━━━━\u001b[0m\u001b[37m\u001b[0m \u001b[1m1s\u001b[0m 162ms/step - acc: 0.7226 - loss: 0.4542 - val_acc: 0.8000 - val_loss: 0.4144\nEpoch 8/70\n\u001b[1m8/8\u001b[0m \u001b[32m━━━━━━━━━━━━━━━━━━━━\u001b[0m\u001b[37m\u001b[0m \u001b[1m1s\u001b[0m 163ms/step - acc: 0.7949 - loss: 0.4097 - val_acc: 0.7857 - val_loss: 0.3877\nEpoch 9/70\n\u001b[1m8/8\u001b[0m \u001b[32m━━━━━━━━━━━━━━━━━━━━\u001b[0m\u001b[37m\u001b[0m \u001b[1m1s\u001b[0m 164ms/step - acc: 0.7776 - loss: 0.3893 - val_acc: 0.8000 - val_loss: 0.3644\nEpoch 10/70\n\u001b[1m8/8\u001b[0m \u001b[32m━━━━━━━━━━━━━━━━━━━━\u001b[0m\u001b[37m\u001b[0m \u001b[1m1s\u001b[0m 164ms/step - acc: 0.8262 - loss: 0.3390 - val_acc: 0.8000 - val_loss: 0.3495\nEpoch 11/70\n\u001b[1m8/8\u001b[0m \u001b[32m━━━━━━━━━━━━━━━━━━━━\u001b[0m\u001b[37m\u001b[0m \u001b[1m1s\u001b[0m 164ms/step - acc: 0.8390 - loss: 0.3220 - val_acc: 0.8000 - val_loss: 0.3328\nEpoch 12/70\n\u001b[1m8/8\u001b[0m \u001b[32m━━━━━━━━━━━━━━━━━━━━\u001b[0m\u001b[37m\u001b[0m \u001b[1m1s\u001b[0m 167ms/step - acc: 0.8583 - loss: 0.2771 - val_acc: 0.8143 - val_loss: 0.3251\nEpoch 13/70\n\u001b[1m8/8\u001b[0m \u001b[32m━━━━━━━━━━━━━━━━━━━━\u001b[0m\u001b[37m\u001b[0m \u001b[1m1s\u001b[0m 168ms/step - acc: 0.8744 - loss: 0.2557 - val_acc: 0.8071 - val_loss: 0.3186\nEpoch 14/70\n\u001b[1m8/8\u001b[0m \u001b[32m━━━━━━━━━━━━━━━━━━━━\u001b[0m\u001b[37m\u001b[0m \u001b[1m1s\u001b[0m 167ms/step - acc: 0.8597 - loss: 0.2437 - val_acc: 0.8286 - val_loss: 0.3064\nEpoch 15/70\n\u001b[1m8/8\u001b[0m \u001b[32m━━━━━━━━━━━━━━━━━━━━\u001b[0m\u001b[37m\u001b[0m \u001b[1m1s\u001b[0m 169ms/step - acc: 0.9040 - loss: 0.2052 - val_acc: 0.8286 - val_loss: 0.3083\nEpoch 16/70\n\u001b[1m8/8\u001b[0m \u001b[32m━━━━━━━━━━━━━━━━━━━━\u001b[0m\u001b[37m\u001b[0m \u001b[1m1s\u001b[0m 170ms/step - acc: 0.9102 - loss: 0.1898 - val_acc: 0.8071 - val_loss: 0.3108\nEpoch 17/70\n\u001b[1m8/8\u001b[0m \u001b[32m━━━━━━━━━━━━━━━━━━━━\u001b[0m\u001b[37m\u001b[0m \u001b[1m1s\u001b[0m 172ms/step - acc: 0.9347 - loss: 0.1611 - val_acc: 0.8286 - val_loss: 0.3165\n",
          "output_type": "stream"
        }
      ],
      "execution_count": null
    },
    {
      "cell_type": "code",
      "source": [
        "# load model\n",
        "sentiment_model = {}\n",
        "for aspect in lst_aspect:\n",
        "  sentiment_model[aspect] = keras.models.load_model(f'{path_model}/BiLSTM_BiGRU_CONV/stl_BiLSTM_BiGRU_CONV_polarity_{aspect}.h5')"
      ],
      "metadata": {
        "colab": {
          "base_uri": "https://localhost:8080/"
        },
        "id": "WSu9eWSDRcX-",
        "outputId": "644cce97-99ae-433a-f8cc-e1b9c0238c6c"
      },
      "outputs": [
        {
          "name": "stderr",
          "output_type": "stream",
          "text": [
            "WARNING:absl:Compiled the loaded model, but the compiled metrics have yet to be built. `model.compile_metrics` will be empty until you train or evaluate the model.\n",
            "WARNING:absl:Compiled the loaded model, but the compiled metrics have yet to be built. `model.compile_metrics` will be empty until you train or evaluate the model.\n",
            "WARNING:absl:Compiled the loaded model, but the compiled metrics have yet to be built. `model.compile_metrics` will be empty until you train or evaluate the model.\n",
            "WARNING:absl:Compiled the loaded model, but the compiled metrics have yet to be built. `model.compile_metrics` will be empty until you train or evaluate the model.\n"
          ]
        }
      ],
      "execution_count": null
    },
    {
      "cell_type": "code",
      "source": [
        "# predict\n",
        "df_sentiment_train_pred = {}\n",
        "df_sentiment_train_true_ = {}\n",
        "\n",
        "df_sentiment_val_true_ = {}\n",
        "df_sentiment_val_pred = {}\n",
        "\n",
        "df_sentiment_test_true_ = {}\n",
        "df_sentiment_test_pred = {}\n",
        "\n",
        "\n",
        "# for aspect in lst_aspect:\n",
        "for aspect in lst_aspect:\n",
        "  pred_sentiment_train = sentiment_model[aspect].predict(padded_sentiment_train[aspect])\n",
        "  pred_sentiment_val = sentiment_model[aspect].predict(padded_sentiment_val[aspect])\n",
        "  pred_sentiment_test = sentiment_model[aspect].predict(padded_sentiment_test[aspect])\n",
        "\n",
        "  df_sentiment_train_pred[aspect] = np.argmax(pred_sentiment_train, axis=1)\n",
        "  df_sentiment_train_true_[aspect] = np.argmax(label_sentiment_train[aspect], axis = 1)\n",
        "\n",
        "  df_sentiment_val_pred[aspect] = np.argmax(pred_sentiment_val, axis=1)\n",
        "  df_sentiment_val_true_[aspect] = np.argmax(label_sentiment_val[aspect], axis = 1)\n",
        "\n",
        "  df_sentiment_test_pred[aspect] = np.argmax(pred_sentiment_test, axis=1)\n",
        "  df_sentiment_test_true_[aspect] = np.argmax(label_sentiment_test[aspect], axis=1)\n",
        "\n",
        "sentiment_result_bilstm_bigru_conv = {}\n",
        "# for aspect in lst_aspect:\n",
        "for aspect in lst_aspect:\n",
        "    sentiment_result_bilstm_bigru_conv[aspect] = classification_report(df_sentiment_test_true_[aspect].tolist(), df_sentiment_test_pred[aspect].tolist())\n",
        "    print(sentiment_result_bilstm_bigru_conv[aspect])"
      ],
      "metadata": {
        "colab": {
          "base_uri": "https://localhost:8080/"
        },
        "id": "n0_XdtZER3zE",
        "outputId": "c299e17f-92b0-468e-9aaa-617b84b6df13",
        "trusted": true,
        "execution": {
          "iopub.status.busy": "2024-12-16T03:45:25.448970Z",
          "iopub.execute_input": "2024-12-16T03:45:25.449690Z",
          "iopub.status.idle": "2024-12-16T03:45:29.473038Z",
          "shell.execute_reply.started": "2024-12-16T03:45:25.449655Z",
          "shell.execute_reply": "2024-12-16T03:45:29.472123Z"
        }
      },
      "outputs": [
        {
          "name": "stdout",
          "text": "\u001b[1m42/42\u001b[0m \u001b[32m━━━━━━━━━━━━━━━━━━━━\u001b[0m\u001b[37m\u001b[0m \u001b[1m1s\u001b[0m 19ms/step\n\u001b[1m6/6\u001b[0m \u001b[32m━━━━━━━━━━━━━━━━━━━━\u001b[0m\u001b[37m\u001b[0m \u001b[1m0s\u001b[0m 15ms/step\n\u001b[1m6/6\u001b[0m \u001b[32m━━━━━━━━━━━━━━━━━━━━\u001b[0m\u001b[37m\u001b[0m \u001b[1m0s\u001b[0m 15ms/step\n\u001b[1m47/47\u001b[0m \u001b[32m━━━━━━━━━━━━━━━━━━━━\u001b[0m\u001b[37m\u001b[0m \u001b[1m1s\u001b[0m 16ms/step\n\u001b[1m7/7\u001b[0m \u001b[32m━━━━━━━━━━━━━━━━━━━━\u001b[0m\u001b[37m\u001b[0m \u001b[1m0s\u001b[0m 16ms/step\n\u001b[1m7/7\u001b[0m \u001b[32m━━━━━━━━━━━━━━━━━━━━\u001b[0m\u001b[37m\u001b[0m \u001b[1m0s\u001b[0m 15ms/step\n\u001b[1m39/39\u001b[0m \u001b[32m━━━━━━━━━━━━━━━━━━━━\u001b[0m\u001b[37m\u001b[0m \u001b[1m1s\u001b[0m 16ms/step\n\u001b[1m5/5\u001b[0m \u001b[32m━━━━━━━━━━━━━━━━━━━━\u001b[0m\u001b[37m\u001b[0m \u001b[1m0s\u001b[0m 16ms/step\n\u001b[1m6/6\u001b[0m \u001b[32m━━━━━━━━━━━━━━━━━━━━\u001b[0m\u001b[37m\u001b[0m \u001b[1m0s\u001b[0m 15ms/step\n\u001b[1m32/32\u001b[0m \u001b[32m━━━━━━━━━━━━━━━━━━━━\u001b[0m\u001b[37m\u001b[0m \u001b[1m1s\u001b[0m 16ms/step\n\u001b[1m5/5\u001b[0m \u001b[32m━━━━━━━━━━━━━━━━━━━━\u001b[0m\u001b[37m\u001b[0m \u001b[1m0s\u001b[0m 15ms/step\n\u001b[1m4/4\u001b[0m \u001b[32m━━━━━━━━━━━━━━━━━━━━\u001b[0m\u001b[37m\u001b[0m \u001b[1m0s\u001b[0m 16ms/step\n              precision    recall  f1-score   support\n\n           0       0.76      0.63      0.69        54\n           1       0.45      0.41      0.43        22\n           2       0.73      0.82      0.77        94\n\n    accuracy                           0.71       170\n   macro avg       0.65      0.62      0.63       170\nweighted avg       0.70      0.71      0.70       170\n\n              precision    recall  f1-score   support\n\n           0       0.25      0.35      0.29        40\n           1       0.76      0.47      0.58        60\n           2       0.73      0.77      0.75       104\n\n    accuracy                           0.60       204\n   macro avg       0.58      0.53      0.54       204\nweighted avg       0.64      0.60      0.61       204\n\n              precision    recall  f1-score   support\n\n           0       0.60      0.53      0.57        60\n           1       0.32      0.35      0.33        26\n           2       0.71      0.76      0.73        82\n\n    accuracy                           0.61       168\n   macro avg       0.55      0.55      0.54       168\nweighted avg       0.61      0.61      0.61       168\n\n              precision    recall  f1-score   support\n\n           0       0.84      0.80      0.82        40\n           1       0.85      0.92      0.89        38\n           2       0.88      0.86      0.87        49\n\n    accuracy                           0.86       127\n   macro avg       0.86      0.86      0.86       127\nweighted avg       0.86      0.86      0.86       127\n\n",
          "output_type": "stream"
        }
      ],
      "execution_count": null
    }
  ]
}